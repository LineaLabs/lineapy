{
 "cells": [
  {
   "cell_type": "markdown",
   "metadata": {},
   "source": [
    "[![Open in Colab](https://colab.research.google.com/assets/colab-badge.svg)](https://bit.ly/3SJewuO)"
   ]
  },
  {
   "cell_type": "markdown",
   "metadata": {},
   "source": [
    "# Creating a Pipeline with LineaPy"
   ]
  },
  {
   "cell_type": "markdown",
   "metadata": {},
   "source": [
    "**Table of Contents**\n",
    "\n",
    "- [Intro](#Intro)\n",
    "- [Demo](#Demo)\n",
    "    - [Exploration and Pre-processing](#Exploration-and-Pre-processing)\n",
    "    - [Modeling](#Modeling)\n",
    "    - [Pipeline Building](#Pipeline-Building)\n",
    "- [Orchestration Frameworks Supported](#Orchestration-Frameworks-Supported)\n",
    "    - [Airflow](#Airflow)\n",
    "    - [Argo](#Argo)\n",
    "    - [Kubeflow](#Kubeflow)\n",
    "    - [Ray](#Ray)\n",
    "    - [DVC](#DVC)\n",
    "- [Recap](#Recap)"
   ]
  },
  {
   "cell_type": "markdown",
   "metadata": {},
   "source": [
    "## Intro"
   ]
  },
  {
   "cell_type": "markdown",
   "metadata": {},
   "source": [
    "### Scenario\n",
    "\n",
    "As notebooks become more mature, they may get used like pipelines. For instance, notebooks that do the following things:\n",
    "\n",
    "* Process latest data and update dashboards/graphs/charts/reports\n",
    "* Preprocess new data and dump it to the filesystem or database for downstream model development\n",
    "* Create updated versions of models using latest data\n",
    "* Run inference on new data using standard model\n",
    "\n",
    "may be expected to be re-executed as a pipeline on a regular or ad-hoc basis.\n",
    "\n",
    "However, you may not have the proper engineering support to set up these pipelines for production."
   ]
  },
  {
   "cell_type": "markdown",
   "metadata": {},
   "source": [
    "### What might happen next?\n",
    "\n",
    "If this is the case, any of the following may happen:\n",
    "\n",
    "* You spend a lot of time copying and pasting and cleaning your code to make your pipeline work in orchestration systems or job schedulers (cron, Apache Airflow, Argo, Kubeflow, DVC, Ray, etc).\n",
    "* It takes forever to make your pipeline work and you end up running your pipelines manually whenever you need to or get asked to.\n",
    "* Your runtime environment is changed due to other experiments you are running and your pipeline is no longer working.\n",
    "* You make some changes to your pipeline and now you find out you need to restart the above processes again.\n",
    "\n",
    "As more notebooks and pipelines need to be maintained, data scientists will need to spend more time on the operation side to make sure every notebook is running at the right time successfully. \n",
    "This operational burden will consume a lot of time from the data scientist, which decreases productivity and innovation."
   ]
  },
  {
   "cell_type": "markdown",
   "metadata": {},
   "source": [
    "### How can LineaPy help here?\n",
    "\n",
    "LineaPy can help to set up and maintain pipelines with minimal effort.\n",
    "\n",
    "```\n",
    "import lineapy\n",
    "\n",
    "........................\n",
    ".\n",
    ". your original notebook\n",
    ". \n",
    "........................\n",
    "\n",
    "lineapy.save(object, 'artifact name')\n",
    "lineapy.to_pipeline(['artifact name', 'other artifact name', ... ], framework, pipeline_name, output_dir)\n",
    "```\n",
    " \n",
    "With just these three lines of code, LineaPy enables data scientists to produce runnable pipelines.\n",
    "For some orchestration systems, like Apache Airflow, LineaPy is even able to upload the runnable pipeline without any manual interaction.\n",
    "\n",
    "The rest of this notebook will use a concrete example to walk you through how this can be done."
   ]
  },
  {
   "cell_type": "markdown",
   "metadata": {},
   "source": [
    "## Demo"
   ]
  },
  {
   "cell_type": "markdown",
   "metadata": {},
   "source": [
    "<div class=\"admonition info\" style=\"background:#F0FAFA\">\n",
    "    <p class=\"admonition-title\"><b>Info</b></p>\n",
    "    <p>\n",
    "        If you encounter issues you cannot resolve, simply ask in our <a href=\"https://join.slack.com/t/lineacommunity/shared_invite/zt-18kizfn3b-1Qu_HDT3ahGudnAwoFAw9Q\">Slack community</a>'s <code>#support</code> channel. We are always happy and ready to help you!\n",
    "    </p>\n",
    "</div>"
   ]
  },
  {
   "cell_type": "markdown",
   "metadata": {},
   "source": [
    "<div class=\"admonition note\" style=\"background:#F0F4FA\">\n",
    "    <p class=\"admonition-title\"><b>Note</b></p>\n",
    "    <p>\n",
    "        You can ignore <code># NBVAL_*</code> comments in certain cell blocks. They are for passing unit tests only, which we do to make sure the examples are always functional as we update the codebase.\n",
    "    </p>\n",
    "</div>"
   ]
  },
  {
   "cell_type": "code",
   "execution_count": 1,
   "metadata": {},
   "outputs": [],
   "source": [
    "\n",
    "%%capture\n",
    "! pip -q install lineapy~=0.2 scikit-learn pandas matplotlib"
   ]
  },
  {
   "cell_type": "code",
   "execution_count": 2,
   "metadata": {},
   "outputs": [
    {
     "name": "stdout",
     "output_type": "stream",
     "text": [
      "The lineapy extension is already loaded. To reload it, use:\n",
      "  %reload_ext lineapy\n"
     ]
    }
   ],
   "source": [
    "\n",
    "%load_ext lineapy"
   ]
  },
  {
   "cell_type": "code",
   "execution_count": 3,
   "metadata": {},
   "outputs": [],
   "source": [
    "\n",
    "\n",
    "import os\n",
    "import lineapy\n",
    "import pandas as pd\n",
    "import matplotlib.pyplot as plt\n",
    "from sklearn.metrics import classification_report\n",
    "from sklearn.linear_model import LogisticRegression\n",
    "from sklearn.model_selection import train_test_split\n",
    "\n",
    "lineapy.tag(\"Pipeline End-to-End Demo\")"
   ]
  },
  {
   "cell_type": "markdown",
   "metadata": {},
   "source": [
    "### Exploration and Pre-processing"
   ]
  },
  {
   "cell_type": "markdown",
   "metadata": {},
   "source": [
    "We are a botanist working in an ecology lab, and we recently obtained a data set to explore. Let's see what it contains."
   ]
  },
  {
   "cell_type": "code",
   "execution_count": 4,
   "metadata": {},
   "outputs": [],
   "source": [
    "# Load data\n",
    "url = \"https://raw.githubusercontent.com/LineaLabs/lineapy/main/examples/tutorials/data/iris.csv\"\n",
    "df = pd.read_csv(url)"
   ]
  },
  {
   "cell_type": "code",
   "execution_count": 5,
   "metadata": {},
   "outputs": [
    {
     "data": {
      "text/html": [
       "<div>\n",
       "<style scoped>\n",
       "    .dataframe tbody tr th:only-of-type {\n",
       "        vertical-align: middle;\n",
       "    }\n",
       "\n",
       "    .dataframe tbody tr th {\n",
       "        vertical-align: top;\n",
       "    }\n",
       "\n",
       "    .dataframe thead th {\n",
       "        text-align: right;\n",
       "    }\n",
       "</style>\n",
       "<table border=\"1\" class=\"dataframe\">\n",
       "  <thead>\n",
       "    <tr style=\"text-align: right;\">\n",
       "      <th></th>\n",
       "      <th>sepal.length</th>\n",
       "      <th>sepal.width</th>\n",
       "      <th>petal.length</th>\n",
       "      <th>petal.width</th>\n",
       "      <th>variety</th>\n",
       "    </tr>\n",
       "  </thead>\n",
       "  <tbody>\n",
       "    <tr>\n",
       "      <th>0</th>\n",
       "      <td>5.1</td>\n",
       "      <td>3.5</td>\n",
       "      <td>1.4</td>\n",
       "      <td>0.2</td>\n",
       "      <td>Setosa</td>\n",
       "    </tr>\n",
       "    <tr>\n",
       "      <th>1</th>\n",
       "      <td>4.9</td>\n",
       "      <td>3.0</td>\n",
       "      <td>1.4</td>\n",
       "      <td>0.2</td>\n",
       "      <td>Setosa</td>\n",
       "    </tr>\n",
       "    <tr>\n",
       "      <th>2</th>\n",
       "      <td>4.7</td>\n",
       "      <td>3.2</td>\n",
       "      <td>1.3</td>\n",
       "      <td>0.2</td>\n",
       "      <td>Setosa</td>\n",
       "    </tr>\n",
       "    <tr>\n",
       "      <th>3</th>\n",
       "      <td>4.6</td>\n",
       "      <td>3.1</td>\n",
       "      <td>1.5</td>\n",
       "      <td>0.2</td>\n",
       "      <td>Setosa</td>\n",
       "    </tr>\n",
       "    <tr>\n",
       "      <th>4</th>\n",
       "      <td>5.0</td>\n",
       "      <td>3.6</td>\n",
       "      <td>1.4</td>\n",
       "      <td>0.2</td>\n",
       "      <td>Setosa</td>\n",
       "    </tr>\n",
       "    <tr>\n",
       "      <th>...</th>\n",
       "      <td>...</td>\n",
       "      <td>...</td>\n",
       "      <td>...</td>\n",
       "      <td>...</td>\n",
       "      <td>...</td>\n",
       "    </tr>\n",
       "    <tr>\n",
       "      <th>145</th>\n",
       "      <td>6.7</td>\n",
       "      <td>3.0</td>\n",
       "      <td>5.2</td>\n",
       "      <td>2.3</td>\n",
       "      <td>Virginica</td>\n",
       "    </tr>\n",
       "    <tr>\n",
       "      <th>146</th>\n",
       "      <td>6.3</td>\n",
       "      <td>2.5</td>\n",
       "      <td>5.0</td>\n",
       "      <td>1.9</td>\n",
       "      <td>Virginica</td>\n",
       "    </tr>\n",
       "    <tr>\n",
       "      <th>147</th>\n",
       "      <td>6.5</td>\n",
       "      <td>3.0</td>\n",
       "      <td>5.2</td>\n",
       "      <td>2.0</td>\n",
       "      <td>Virginica</td>\n",
       "    </tr>\n",
       "    <tr>\n",
       "      <th>148</th>\n",
       "      <td>6.2</td>\n",
       "      <td>3.4</td>\n",
       "      <td>5.4</td>\n",
       "      <td>2.3</td>\n",
       "      <td>Virginica</td>\n",
       "    </tr>\n",
       "    <tr>\n",
       "      <th>149</th>\n",
       "      <td>5.9</td>\n",
       "      <td>3.0</td>\n",
       "      <td>5.1</td>\n",
       "      <td>1.8</td>\n",
       "      <td>Virginica</td>\n",
       "    </tr>\n",
       "  </tbody>\n",
       "</table>\n",
       "<p>150 rows × 5 columns</p>\n",
       "</div>"
      ],
      "text/plain": [
       "     sepal.length  sepal.width  petal.length  petal.width    variety\n",
       "0             5.1          3.5           1.4          0.2     Setosa\n",
       "1             4.9          3.0           1.4          0.2     Setosa\n",
       "2             4.7          3.2           1.3          0.2     Setosa\n",
       "3             4.6          3.1           1.5          0.2     Setosa\n",
       "4             5.0          3.6           1.4          0.2     Setosa\n",
       "..            ...          ...           ...          ...        ...\n",
       "145           6.7          3.0           5.2          2.3  Virginica\n",
       "146           6.3          2.5           5.0          1.9  Virginica\n",
       "147           6.5          3.0           5.2          2.0  Virginica\n",
       "148           6.2          3.4           5.4          2.3  Virginica\n",
       "149           5.9          3.0           5.1          1.8  Virginica\n",
       "\n",
       "[150 rows x 5 columns]"
      ]
     },
     "execution_count": 5,
     "metadata": {},
     "output_type": "execute_result"
    }
   ],
   "source": [
    "# View data\n",
    "df"
   ]
  },
  {
   "cell_type": "markdown",
   "metadata": {},
   "source": [
    "It is simple data that contains different iris species and their physical measurements. Our common sense dictates that petal length and width may have an association. Let's quickly check."
   ]
  },
  {
   "cell_type": "code",
   "execution_count": 6,
   "metadata": {},
   "outputs": [
    {
     "data": {
      "image/png": "[encoded data removed]",
      "text/plain": [
       "<Figure size 640x480 with 1 Axes>"
      ]
     },
     "metadata": {},
     "output_type": "display_data"
    }
   ],
   "source": [
    "\n",
    "\n",
    "# Plot petal vs. sepal width\n",
    "df.plot.scatter(\"petal.length\", \"petal.width\")\n",
    "plt.show()"
   ]
  },
  {
   "cell_type": "markdown",
   "metadata": {},
   "source": [
    "We visually confirm that there is a strong positive relationship between petal length and width.\n",
    "\n",
    "More interestingly, we see a distinct cluster of observations at the lower left side fof the plot, which suggests that these observations may correspond to a specific species. Let's plot observations by species."
   ]
  },
  {
   "cell_type": "code",
   "execution_count": 7,
   "metadata": {},
   "outputs": [
    {
     "data": {
      "text/plain": [
       "Setosa        50\n",
       "Versicolor    50\n",
       "Virginica     50\n",
       "Name: variety, dtype: int64"
      ]
     },
     "execution_count": 7,
     "metadata": {},
     "output_type": "execute_result"
    }
   ],
   "source": [
    "# Check species and their counts\n",
    "df[\"variety\"].value_counts()"
   ]
  },
  {
   "cell_type": "code",
   "execution_count": 8,
   "metadata": {},
   "outputs": [
    {
     "data": {
      "image/png": "[encoded data removed]",
      "text/plain": [
       "<Figure size 640x480 with 1 Axes>"
      ]
     },
     "metadata": {},
     "output_type": "display_data"
    }
   ],
   "source": [
    "\n",
    "\n",
    "# Map each species to a color\n",
    "color_map = {\"Setosa\": \"green\", \"Versicolor\": \"blue\", \"Virginica\": \"red\"}\n",
    "df[\"variety_color\"] = df[\"variety\"].map(color_map)\n",
    "\n",
    "# Plot petal length vs. width by species\n",
    "df.plot.scatter(\"petal.length\", \"petal.width\", c=\"variety_color\")\n",
    "plt.show()"
   ]
  },
  {
   "cell_type": "markdown",
   "metadata": {},
   "source": [
    "We indeed confirm that each species forms a quite distinct cluster based on petal traits.\n",
    "\n",
    "To make our analysis more interesting, let's try some formal modeling, where we will try to identify the species of a given iris based on its petal traits."
   ]
  },
  {
   "cell_type": "code",
   "execution_count": 9,
   "metadata": {},
   "outputs": [],
   "source": [
    "# For modeling, map each species to a number\n",
    "num_map = {\"Setosa\": 0, \"Versicolor\": 1, \"Virginica\": 2}\n",
    "df[\"variety_num\"] = df[\"variety\"].map(num_map)"
   ]
  },
  {
   "cell_type": "code",
   "execution_count": 10,
   "metadata": {},
   "outputs": [
    {
     "data": {
      "text/html": [
       "<div>\n",
       "<style scoped>\n",
       "    .dataframe tbody tr th:only-of-type {\n",
       "        vertical-align: middle;\n",
       "    }\n",
       "\n",
       "    .dataframe tbody tr th {\n",
       "        vertical-align: top;\n",
       "    }\n",
       "\n",
       "    .dataframe thead th {\n",
       "        text-align: right;\n",
       "    }\n",
       "</style>\n",
       "<table border=\"1\" class=\"dataframe\">\n",
       "  <thead>\n",
       "    <tr style=\"text-align: right;\">\n",
       "      <th></th>\n",
       "      <th>sepal.length</th>\n",
       "      <th>sepal.width</th>\n",
       "      <th>petal.length</th>\n",
       "      <th>petal.width</th>\n",
       "      <th>variety</th>\n",
       "      <th>variety_color</th>\n",
       "      <th>variety_num</th>\n",
       "    </tr>\n",
       "  </thead>\n",
       "  <tbody>\n",
       "    <tr>\n",
       "      <th>0</th>\n",
       "      <td>5.1</td>\n",
       "      <td>3.5</td>\n",
       "      <td>1.4</td>\n",
       "      <td>0.2</td>\n",
       "      <td>Setosa</td>\n",
       "      <td>green</td>\n",
       "      <td>0</td>\n",
       "    </tr>\n",
       "    <tr>\n",
       "      <th>1</th>\n",
       "      <td>4.9</td>\n",
       "      <td>3.0</td>\n",
       "      <td>1.4</td>\n",
       "      <td>0.2</td>\n",
       "      <td>Setosa</td>\n",
       "      <td>green</td>\n",
       "      <td>0</td>\n",
       "    </tr>\n",
       "    <tr>\n",
       "      <th>2</th>\n",
       "      <td>4.7</td>\n",
       "      <td>3.2</td>\n",
       "      <td>1.3</td>\n",
       "      <td>0.2</td>\n",
       "      <td>Setosa</td>\n",
       "      <td>green</td>\n",
       "      <td>0</td>\n",
       "    </tr>\n",
       "    <tr>\n",
       "      <th>3</th>\n",
       "      <td>4.6</td>\n",
       "      <td>3.1</td>\n",
       "      <td>1.5</td>\n",
       "      <td>0.2</td>\n",
       "      <td>Setosa</td>\n",
       "      <td>green</td>\n",
       "      <td>0</td>\n",
       "    </tr>\n",
       "    <tr>\n",
       "      <th>4</th>\n",
       "      <td>5.0</td>\n",
       "      <td>3.6</td>\n",
       "      <td>1.4</td>\n",
       "      <td>0.2</td>\n",
       "      <td>Setosa</td>\n",
       "      <td>green</td>\n",
       "      <td>0</td>\n",
       "    </tr>\n",
       "    <tr>\n",
       "      <th>...</th>\n",
       "      <td>...</td>\n",
       "      <td>...</td>\n",
       "      <td>...</td>\n",
       "      <td>...</td>\n",
       "      <td>...</td>\n",
       "      <td>...</td>\n",
       "      <td>...</td>\n",
       "    </tr>\n",
       "    <tr>\n",
       "      <th>145</th>\n",
       "      <td>6.7</td>\n",
       "      <td>3.0</td>\n",
       "      <td>5.2</td>\n",
       "      <td>2.3</td>\n",
       "      <td>Virginica</td>\n",
       "      <td>red</td>\n",
       "      <td>2</td>\n",
       "    </tr>\n",
       "    <tr>\n",
       "      <th>146</th>\n",
       "      <td>6.3</td>\n",
       "      <td>2.5</td>\n",
       "      <td>5.0</td>\n",
       "      <td>1.9</td>\n",
       "      <td>Virginica</td>\n",
       "      <td>red</td>\n",
       "      <td>2</td>\n",
       "    </tr>\n",
       "    <tr>\n",
       "      <th>147</th>\n",
       "      <td>6.5</td>\n",
       "      <td>3.0</td>\n",
       "      <td>5.2</td>\n",
       "      <td>2.0</td>\n",
       "      <td>Virginica</td>\n",
       "      <td>red</td>\n",
       "      <td>2</td>\n",
       "    </tr>\n",
       "    <tr>\n",
       "      <th>148</th>\n",
       "      <td>6.2</td>\n",
       "      <td>3.4</td>\n",
       "      <td>5.4</td>\n",
       "      <td>2.3</td>\n",
       "      <td>Virginica</td>\n",
       "      <td>red</td>\n",
       "      <td>2</td>\n",
       "    </tr>\n",
       "    <tr>\n",
       "      <th>149</th>\n",
       "      <td>5.9</td>\n",
       "      <td>3.0</td>\n",
       "      <td>5.1</td>\n",
       "      <td>1.8</td>\n",
       "      <td>Virginica</td>\n",
       "      <td>red</td>\n",
       "      <td>2</td>\n",
       "    </tr>\n",
       "  </tbody>\n",
       "</table>\n",
       "<p>150 rows × 7 columns</p>\n",
       "</div>"
      ],
      "text/plain": [
       "     sepal.length  sepal.width  petal.length  petal.width    variety  \\\n",
       "0             5.1          3.5           1.4          0.2     Setosa   \n",
       "1             4.9          3.0           1.4          0.2     Setosa   \n",
       "2             4.7          3.2           1.3          0.2     Setosa   \n",
       "3             4.6          3.1           1.5          0.2     Setosa   \n",
       "4             5.0          3.6           1.4          0.2     Setosa   \n",
       "..            ...          ...           ...          ...        ...   \n",
       "145           6.7          3.0           5.2          2.3  Virginica   \n",
       "146           6.3          2.5           5.0          1.9  Virginica   \n",
       "147           6.5          3.0           5.2          2.0  Virginica   \n",
       "148           6.2          3.4           5.4          2.3  Virginica   \n",
       "149           5.9          3.0           5.1          1.8  Virginica   \n",
       "\n",
       "    variety_color  variety_num  \n",
       "0           green            0  \n",
       "1           green            0  \n",
       "2           green            0  \n",
       "3           green            0  \n",
       "4           green            0  \n",
       "..            ...          ...  \n",
       "145           red            2  \n",
       "146           red            2  \n",
       "147           red            2  \n",
       "148           red            2  \n",
       "149           red            2  \n",
       "\n",
       "[150 rows x 7 columns]"
      ]
     },
     "execution_count": 10,
     "metadata": {},
     "output_type": "execute_result"
    }
   ],
   "source": [
    "# View data\n",
    "df"
   ]
  },
  {
   "cell_type": "markdown",
   "metadata": {},
   "source": [
    "Let's store the pre-processed data as an artifact since we may want to reuse/recompute it later."
   ]
  },
  {
   "cell_type": "code",
   "execution_count": 11,
   "metadata": {},
   "outputs": [
    {
     "data": {
      "text/plain": [
       "LineaArtifact(name='iris_preprocessed', _version=3)"
      ]
     },
     "execution_count": 11,
     "metadata": {},
     "output_type": "execute_result"
    }
   ],
   "source": [
    "\n",
    "\n",
    "# Save side effects as an artifact\n",
    "lineapy.save(df, \"iris_preprocessed\")"
   ]
  },
  {
   "cell_type": "markdown",
   "metadata": {},
   "source": [
    "<div class=\"admonition info\" style=\"background:#F0FAFA\">\n",
    "    <p class=\"admonition-title\"><b>Info</b></p>\n",
    "    <p>\n",
    "        In LineaPy, an artifact is both code and value. That is, when storing an artifact, LineaPy not only records the state (i.e., value) of the variable but also traces and saves all relevant operations leading to this state &mdash; as code. Such a complete development history or *lineage* then allows LineaPy to fully reproduce the given artifact. Learn more about LineaPy artifacts <a href=\"https://docs.lineapy.org/latest/tutorials/01_using_artifacts/\">here</a>.\n",
    "    </p>\n",
    "</div>"
   ]
  },
  {
   "cell_type": "markdown",
   "metadata": {},
   "source": [
    "### Modeling"
   ]
  },
  {
   "cell_type": "markdown",
   "metadata": {},
   "source": [
    "For model building and evaluation, we need to split the data into training and test sets."
   ]
  },
  {
   "cell_type": "code",
   "execution_count": 12,
   "metadata": {},
   "outputs": [],
   "source": [
    "# Identify predictor and outcome variables\n",
    "X = df[[\"petal.length\", \"petal.width\"]]\n",
    "y = df[\"variety_num\"]\n",
    "\n",
    "# Specify parameters of data split\n",
    "test_size = 0.33\n",
    "random_state = 42\n",
    "\n",
    "# Split the data\n",
    "split_samples = train_test_split(X, y, test_size=test_size, random_state=random_state)\n",
    "X_train = split_samples[0]\n",
    "X_test = split_samples[1]\n",
    "y_train = split_samples[2]\n",
    "y_test = split_samples[3]"
   ]
  },
  {
   "cell_type": "markdown",
   "metadata": {},
   "source": [
    "With the data split, we can now proceed to model training. Ours is a classification problem, so we can use multinomial logistic regression."
   ]
  },
  {
   "cell_type": "code",
   "execution_count": 13,
   "metadata": {},
   "outputs": [
    {
     "data": {
      "text/plain": [
       "LogisticRegression(multi_class='multinomial')"
      ]
     },
     "execution_count": 13,
     "metadata": {},
     "output_type": "execute_result"
    }
   ],
   "source": [
    "\n",
    "\n",
    "# Initiate the model\n",
    "mod = LogisticRegression(multi_class=\"multinomial\")\n",
    "\n",
    "# Fit the model\n",
    "mod.fit(X_train, y_train)"
   ]
  },
  {
   "cell_type": "markdown",
   "metadata": {},
   "source": [
    "Let's examine the model's accuracy, first on the training data and then on the test data."
   ]
  },
  {
   "cell_type": "code",
   "execution_count": 14,
   "metadata": {},
   "outputs": [
    {
     "name": "stdout",
     "output_type": "stream",
     "text": [
      "              precision    recall  f1-score   support\n",
      "\n",
      "           0      1.000     1.000     1.000        31\n",
      "           1      0.941     0.914     0.928        35\n",
      "           2      0.914     0.941     0.928        34\n",
      "\n",
      "    accuracy                          0.950       100\n",
      "   macro avg      0.952     0.952     0.952       100\n",
      "weighted avg      0.950     0.950     0.950       100\n",
      "\n"
     ]
    }
   ],
   "source": [
    "\n",
    "\n",
    "# Examine model accuracy on training data\n",
    "y_train_pred = mod.predict(X_train)\n",
    "mod_eval_train = classification_report(y_train, y_train_pred, digits=3)\n",
    "print(mod_eval_train)"
   ]
  },
  {
   "cell_type": "code",
   "execution_count": 15,
   "metadata": {},
   "outputs": [
    {
     "name": "stdout",
     "output_type": "stream",
     "text": [
      "              precision    recall  f1-score   support\n",
      "\n",
      "           0      1.000     1.000     1.000        19\n",
      "           1      1.000     1.000     1.000        15\n",
      "           2      1.000     1.000     1.000        16\n",
      "\n",
      "    accuracy                          1.000        50\n",
      "   macro avg      1.000     1.000     1.000        50\n",
      "weighted avg      1.000     1.000     1.000        50\n",
      "\n"
     ]
    }
   ],
   "source": [
    "\n",
    "\n",
    "# Examine model accuracy on test data\n",
    "y_test_pred = mod.predict(X_test)\n",
    "mod_eval_test = classification_report(y_test, y_test_pred, digits=3)\n",
    "print(mod_eval_test)"
   ]
  },
  {
   "cell_type": "markdown",
   "metadata": {},
   "source": [
    "Overall, results indicate our model is very accurate with all correct predictions on the test data!\n",
    "\n",
    "We are quite content with the model, so let's save it as an artifact."
   ]
  },
  {
   "cell_type": "code",
   "execution_count": 16,
   "metadata": {},
   "outputs": [
    {
     "data": {
      "text/plain": [
       "LineaArtifact(name='iris_model', _version=3)"
      ]
     },
     "execution_count": 16,
     "metadata": {},
     "output_type": "execute_result"
    }
   ],
   "source": [
    "\n",
    "\n",
    "# Save the fitted model as an artifact\n",
    "lineapy.save(mod, \"iris_model\")"
   ]
  },
  {
   "cell_type": "markdown",
   "metadata": {},
   "source": [
    "Let's also save the model evaluation result so we can reference it later as needed. For instance, this information may help model comparison and selection."
   ]
  },
  {
   "cell_type": "code",
   "execution_count": 17,
   "metadata": {},
   "outputs": [
    {
     "data": {
      "text/plain": [
       "LineaArtifact(name='iris_model_evaluation', _version=3)"
      ]
     },
     "execution_count": 17,
     "metadata": {},
     "output_type": "execute_result"
    }
   ],
   "source": [
    "\n",
    "\n",
    "# Save the model evaluation result as an artifact\n",
    "lineapy.save(mod_eval_test, \"iris_model_evaluation\")"
   ]
  },
  {
   "cell_type": "markdown",
   "metadata": {},
   "source": [
    "### Pipeline Building"
   ]
  },
  {
   "cell_type": "markdown",
   "metadata": {},
   "source": [
    "Say we expect rerunning the above processes again in the future. For instance, our source data (`iris.csv`) may get new observations added. Or, we may want to train the model with a different source data. Or, we may want to train the model with a different randomization setup (i.e., different `random_state`). For these, we can simply update and rerun our original development scripts/notebooks, of course. However, this is a brittle process that's prone to errors, so we may want to instead set up a proper pipeline.\n",
    "\n",
    "Normally, this would involve finding our old code, cleaning it up, and transforming it into a deployable pipeline &mdash; all manually. Thankfully, we had already captured the relevant development history across LineaPy artifacts, so, for us, building a pipeline reduces to “stitching” these artifacts, like so:"
   ]
  },
  {
   "cell_type": "code",
   "execution_count": 18,
   "metadata": {},
   "outputs": [
    {
     "name": "stderr",
     "output_type": "stream",
     "text": [
      "Generated module file: pipeline_example_script/iris_pipeline_module.py                                                                                                            \n",
      "Generated requirements file: pipeline_example_script/iris_pipeline_requirements.txt                                                                                               \n",
      "Generated Docker file: pipeline_example_script/iris_pipeline_Dockerfile                                                                                                           \n"
     ]
    },
    {
     "data": {
      "text/plain": [
       "PosixPath('pipeline_example_script')"
      ]
     },
     "execution_count": 18,
     "metadata": {},
     "output_type": "execute_result"
    }
   ],
   "source": [
    "\n",
    "\n",
    "# Build an pipeline using artifacts\n",
    "lineapy.to_pipeline(\n",
    "    pipeline_name=\"iris_pipeline\",\n",
    "    artifacts=[\"iris_preprocessed\", \"iris_model\", \"iris_model_evaluation\"],\n",
    "    dependencies={\n",
    "        \"iris_model_evaluation\": {\"iris_model\"},\n",
    "        \"iris_model\": {\"iris_preprocessed\"}\n",
    "    },\n",
    "    input_parameters=[\"url\", \"test_size\", \"random_state\"],\n",
    "    output_dir=\"./pipeline_example_script/\",\n",
    "    framework=\"SCRIPT\",\n",
    ")"
   ]
  },
  {
   "cell_type": "markdown",
   "metadata": {},
   "source": [
    "where\n",
    "\n",
    "- `artifacts` is the list of artifact names to be used for the pipeline\n",
    "- `pipeline_name` is the name of the pipeline\n",
    "- `dependencies` is the dependency graph among artifacts\n",
    "    - If artifact A depends on artifacts B and C, then the graph is specified as ```{ A: { B, C } }```\n",
    "    - If A depends on B and B depends on C, then the graph is specified as ```{ A: { B }, B: { C } }```\n",
    "- `input_parameters` is the list of variable names (in the code) to be turned into tunable parameters of the pipeline\n",
    "- `output_dir` is the location to put the files for running the pipeline\n",
    "- `framework` is the name of orchestration framework to use\n",
    "    - LineaPy currently supports `\"AIRFLOW\"`, `\"ARGO\"`, `\"DVC\"`, `\"KUBEFLOW\"`, `\"RAY\"`, and `\"SCRIPT\"`\n",
    "    - If `\"SCRIPT\"`, it will generate files that can run the pipeline as a Python script\n",
    "    - For all other options, it will generate files that are used to run the pipeline in the  orchestration framework specified. "
   ]
  },
  {
   "cell_type": "markdown",
   "metadata": {},
   "source": [
    "In this section, our chosen framework is `\"SCRIPT\"`, so the API call above generates several files including:"
   ]
  },
  {
   "cell_type": "code",
   "execution_count": 19,
   "metadata": {},
   "outputs": [
    {
     "data": {
      "text/plain": [
       "['iris_pipeline_Dockerfile',\n",
       " 'iris_pipeline_module.py',\n",
       " 'iris_pipeline_requirements.txt']"
      ]
     },
     "execution_count": 19,
     "metadata": {},
     "output_type": "execute_result"
    }
   ],
   "source": [
    "\n",
    "\n",
    "# Check the generated files for running the pipeline\n",
    "os.listdir(\"./pipeline_example_script/\")"
   ]
  },
  {
   "cell_type": "markdown",
   "metadata": {},
   "source": [
    "where\n",
    "\n",
    "- `[pipeline_name]_module.py` contains the artifact code packaged as a function module\n",
    "- `[pipeline_name]_requirements.txt` lists any package dependencies for running the pipeline\n",
    "- `[pipeline_name]_Dockerfile` contains commands to set up the environment to run the pipeline"
   ]
  },
  {
   "cell_type": "markdown",
   "metadata": {},
   "source": [
    "#### Module File"
   ]
  },
  {
   "cell_type": "markdown",
   "metadata": {},
   "source": [
    "The module file contains the bulk of the user code original user code, but broken down into modularized functions. Taking a closer look at the module file, `iris_pipeline_module.py`:"
   ]
  },
  {
   "cell_type": "code",
   "execution_count": 20,
   "metadata": {},
   "outputs": [],
   "source": [
    "# Uncomment and run next line to view full file content\n",
    "# %cat ./pipeline_example_script/iris_pipeline_module.py"
   ]
  },
  {
   "cell_type": "markdown",
   "metadata": {},
   "source": [
    "Select output from `./pipeline_example_script/iris_pipeline_module.py`\n",
    "```python\n",
    "[...]\n",
    "\n",
    "def get_iris_preprocessed(url):\n",
    "    df = pd.read_csv(url)\n",
    "    color_map = {\"Setosa\": \"green\", \"Versicolor\": \"blue\", \"Virginica\": \"red\"}\n",
    "    df[\"variety_color\"] = df[\"variety\"].map(color_map)\n",
    "    num_map = {\"Setosa\": 0, \"Versicolor\": 1, \"Virginica\": 2}\n",
    "    df[\"variety_num\"] = df[\"variety\"].map(num_map)\n",
    "    return df\n",
    "\n",
    "\n",
    "def get_split_samples_for_artifact_iris_model_and_downstream(\n",
    "    df, random_state, test_size\n",
    "):\n",
    "    X = df[[\"petal.length\", \"petal.width\"]]\n",
    "    y = df[\"variety_num\"]\n",
    "    split_samples = train_test_split(\n",
    "        X, y, test_size=test_size, random_state=random_state\n",
    "    )\n",
    "    return split_samples\n",
    "\n",
    "\n",
    "def get_iris_model(split_samples):\n",
    "    X_train = split_samples[0]\n",
    "    y_train = split_samples[2]\n",
    "    mod = LogisticRegression(multi_class=\"multinomial\")\n",
    "    mod.fit(X_train, y_train)\n",
    "    return mod\n",
    "\n",
    "\n",
    "def get_iris_model_evaluation(mod, split_samples):\n",
    "    X_test = split_samples[1]\n",
    "    y_test = split_samples[3]\n",
    "    y_test_pred = mod.predict(X_test)\n",
    "    mod_eval_test = classification_report(y_test, y_test_pred, digits=3)\n",
    "    return mod_eval_test\n",
    "\n",
    "[...]\n",
    "```"
   ]
  },
  {
   "cell_type": "markdown",
   "metadata": {},
   "source": [
    "We can see that LineaPy used artifacts to automatically 1) clean up their code to retain only essential operations and 2) package the cleaned-up code into importable functions. For instance, we see that `get_iris_preprocessed()` can re-calculate the `iris_preprocessed` artifact, but in a more succinct way (e.g., irrelevant plotting code is now gone).\n",
    "\n",
    "Note that some function signatures have parameters (e.g., `def get_iris_preprocessed(url)`), and this is to support the [pipeline parametrization](https://docs.lineapy.org/latest/guides/usage/pipeline-parametrization) we requested during our pipeline API call earlier.\n",
    "\n",
    "Note also that LineaPy has smartly identified the \"common\" computation between `iris_model` and `iris_model_evaluation` artifacts, which has been automatically factored out into its own function, i.e., `get_split_samples_for_artifact_iris_model_and_downstream()`; if this were a step involving a heavy computation, the current modularization would have saved much time and resource. This way, LineaPy minimizes duplicate processes in a pipeline, making it more efficient to run."
   ]
  },
  {
   "cell_type": "markdown",
   "metadata": {},
   "source": [
    "<div class=\"admonition info\" style=\"background:#F0FAFA\">\n",
    "    <p class=\"admonition-title\"><b>Info</b></p>\n",
    "    <p>\n",
    "        In case you are wondering how LineaPy does this \"magic\": LineaPy represents user's code as a graph, where each node is a certain execution (e.g., variable assignment). Thanks to this graph representation, LineaPy can traverse user's code to identify dependency relations between parts of the code, which is the basis for code cleanup as well as \"smart\" refactoring (i.e., factoring out common code blocks between artifacts into a separate function). For illustration, the following shows an example of how user's code may map onto LineaPy's graph representation:\n",
    "    </p>\n",
    "    <img src=\"https://linea-docs-assets.s3.us-west-1.amazonaws.com/code_visavis_graph_example.png\" alt=\"code_visavis_graph\" style=\"padding:10px\">\n",
    "    <p>\n",
    "        As shown, <code>agg_df</code> (red) and <code>summary_df</code> (blue) share a common set of operations (green), so LineaPy will detect this overlap and factor it out into a separate function during code refactor.\n",
    "    </p>\n",
    "</div>"
   ]
  },
  {
   "cell_type": "markdown",
   "metadata": {},
   "source": [
    "#### Requirements File"
   ]
  },
  {
   "cell_type": "markdown",
   "metadata": {},
   "source": [
    "To ensure that the code runs as it did during development, `iris_pipeline_requirements.txt` has captured the relevant package dependencies, like so:"
   ]
  },
  {
   "cell_type": "code",
   "execution_count": 21,
   "metadata": {},
   "outputs": [
    {
     "name": "stdout",
     "output_type": "stream",
     "text": [
      "pandas==1.3.5\n",
      "scikit-learn==1.0.2"
     ]
    }
   ],
   "source": [
    "\n",
    "%cat ./pipeline_example_script/iris_pipeline_requirements.txt"
   ]
  },
  {
   "cell_type": "markdown",
   "metadata": {},
   "source": [
    "Note that this list is much shorter than all imports that we did during development (e.g., it does not include `matplotlib`). This is because LineaPy has identified and kept necessary package dependencies only, hence making the setup as lean and efficient as possible."
   ]
  },
  {
   "cell_type": "markdown",
   "metadata": {},
   "source": [
    "#### Other Files"
   ]
  },
  {
   "cell_type": "markdown",
   "metadata": {},
   "source": [
    "In the following sections, we will be going through more details for each of the other orchestration frameworks Lineapy supports. We'll take a deep dive into the framework specific differences, and some tips on how to quickly setup and run the pipelines generated in this demo."
   ]
  },
  {
   "cell_type": "markdown",
   "metadata": {},
   "source": [
    "### Orchestration Frameworks Supported"
   ]
  },
  {
   "cell_type": "markdown",
   "metadata": {},
   "source": [
    "#### Airflow\n"
   ]
  },
  {
   "cell_type": "markdown",
   "metadata": {},
   "source": [
    "Pipelines that can be submitted to [Airflow](https://airflow.apache.org/) can be generated by changing the `FRAMEWORK` option in `to_pipeline` to `\"AIRFLOW\"`. For Airflow, this will generate the module file and requirements file as before. However, the dag file and Dockerfile have major changes."
   ]
  },
  {
   "cell_type": "code",
   "execution_count": 22,
   "metadata": {},
   "outputs": [
    {
     "name": "stderr",
     "output_type": "stream",
     "text": [
      "Generated module file: pipeline_example_airflow/iris_pipeline_module.py                                                                                                           \n",
      "Generated requirements file: pipeline_example_airflow/iris_pipeline_requirements.txt                                                                                              \n",
      "Generated DAG file: pipeline_example_airflow/iris_pipeline_dag.py                                                                                                                 \n",
      "Generated Docker file: pipeline_example_airflow/iris_pipeline_Dockerfile                                                                                                          \n"
     ]
    }
   ],
   "source": [
    "\n",
    "\n",
    "# Build an pipeline using artifacts\n",
    "airflow_dir = lineapy.to_pipeline(\n",
    "    pipeline_name=\"iris_pipeline\",\n",
    "    artifacts=[\"iris_preprocessed\", \"iris_model\", \"iris_model_evaluation\"],\n",
    "    dependencies={\n",
    "        \"iris_model_evaluation\": {\"iris_model\"},\n",
    "        \"iris_model\": {\"iris_preprocessed\"}\n",
    "    },\n",
    "    input_parameters=[\"url\", \"test_size\", \"random_state\"],\n",
    "    output_dir=\"./pipeline_example_airflow/\",\n",
    "    framework=\"AIRFLOW\",\n",
    ")"
   ]
  },
  {
   "cell_type": "markdown",
   "metadata": {},
   "source": [
    "##### Airflow Dag file"
   ]
  },
  {
   "cell_type": "markdown",
   "metadata": {},
   "source": [
    "The functions in the module file are not directly runnable in airflow as is, so Lineapy creates a DAG file `iris_pipeline_dag.py` that Airflow understands and then imports and uses the functions in the module file to compose an Airflow DAG."
   ]
  },
  {
   "cell_type": "code",
   "execution_count": 23,
   "metadata": {},
   "outputs": [],
   "source": [
    "# Uncomment and run next line to view full file content\n",
    "# %cat ./pipeline_example_airflow/iris_pipeline_dag.py"
   ]
  },
  {
   "cell_type": "markdown",
   "metadata": {},
   "source": [
    "Select output from `./pipeline_example_airflow/iris_pipeline_dag.py`\n",
    "```python\n",
    "[...]\n",
    "\n",
    "import iris_pipeline_module\n",
    "\n",
    "[...]\n",
    "\n",
    "def task_iris_preprocessed(url):\n",
    "\n",
    "    url = str(url)\n",
    "\n",
    "    df = iris_pipeline_module.get_iris_preprocessed(url)\n",
    "\n",
    "    pickle.dump(df, open(\"/tmp/iris_pipeline/variable_df.pickle\", \"wb\"))\n",
    "\n",
    "\n",
    "def task_split_samples_for_artifact_iris_model_and_downstream(random_state, test_size):\n",
    "\n",
    "    random_state = int(random_state)\n",
    "\n",
    "    test_size = float(test_size)\n",
    "\n",
    "    df = pickle.load(open(\"/tmp/iris_pipeline/variable_df.pickle\", \"rb\"))\n",
    "\n",
    "    split_samples = (\n",
    "        iris_pipeline_module.get_split_samples_for_artifact_iris_model_and_downstream(\n",
    "            df, random_state, test_size\n",
    "        )\n",
    "    )\n",
    "\n",
    "    pickle.dump(\n",
    "        split_samples, open(\"/tmp/iris_pipeline/variable_split_samples.pickle\", \"wb\")\n",
    "    )\n",
    "\n",
    "[...]\n",
    "\n",
    "default_dag_args = {\n",
    "    \"owner\": \"airflow\",\n",
    "    \"retries\": 2,\n",
    "    \"start_date\": days_ago(1),\n",
    "    \"params\": {\n",
    "        \"url\": \"https://raw.githubusercontent.com/LineaLabs/lineapy/main/examples/tutorials/data/iris.csv\",\n",
    "        \"test_size\": 0.33,\n",
    "        \"random_state\": 42,\n",
    "    },\n",
    "}\n",
    "\n",
    "with DAG(\n",
    "    dag_id=\"iris_pipeline_dag\",\n",
    "    schedule_interval=\"*/15 * * * *\",\n",
    "    max_active_runs=1,\n",
    "    catchup=False,\n",
    "    default_args=default_dag_args,\n",
    ") as dag:\n",
    "\n",
    "    [...]\n",
    "\n",
    "    iris_preprocessed = PythonOperator(\n",
    "        task_id=\"iris_preprocessed_task\",\n",
    "        python_callable=task_iris_preprocessed,\n",
    "        op_kwargs={\"url\": \"{{ params.url }}\"},\n",
    "    )\n",
    "\n",
    "    split_samples_for_artifact_iris_model_and_downstream = PythonOperator(\n",
    "        task_id=\"split_samples_for_artifact_iris_model_and_downstream_task\",\n",
    "        python_callable=task_split_samples_for_artifact_iris_model_and_downstream,\n",
    "        op_kwargs={\n",
    "            \"random_state\": \"{{ params.random_state }}\",\n",
    "            \"test_size\": \"{{ params.test_size }}\",\n",
    "        },\n",
    "    )\n",
    "\n",
    "    [...]\n",
    "\n",
    "    iris_preprocessed >> split_samples_for_artifact_iris_model_and_downstream\n",
    "\n",
    "    [...]\n",
    "```"
   ]
  },
  {
   "cell_type": "markdown",
   "metadata": {},
   "source": [
    "As shown, the DAG file defines \"tasks\" (e.g., `iris_preprocessed_task`) using functions from the module file, and then puts them together into an executable graph (dependency relationships are expressed through `>>`).\n",
    "\n",
    "Note that these tasks in the DAG file also reflect our requested pipeline parameters (e.g., `url`), which will eventually allow us to run the pipeline with different values."
   ]
  },
  {
   "cell_type": "markdown",
   "metadata": {},
   "source": [
    "##### Airflow Dockerfile"
   ]
  },
  {
   "cell_type": "markdown",
   "metadata": {},
   "source": [
    "The Dockerfile `iris_pipeline_Dockerfile` further facilitates pipeline execution by containerizing/automating environment setup and launch."
   ]
  },
  {
   "cell_type": "code",
   "execution_count": 24,
   "metadata": {},
   "outputs": [
    {
     "name": "stdout",
     "output_type": "stream",
     "text": [
      "FROM apache/airflow:latest-python3.9\n",
      "\n",
      "RUN mkdir /tmp/installers\n",
      "WORKDIR /tmp/installers\n",
      "\n",
      "# copy all the requirements to run the current dag\n",
      "COPY ./iris_pipeline_requirements.txt ./\n",
      "# install the required libs\n",
      "RUN pip install -r ./iris_pipeline_requirements.txt\n",
      "\n",
      "WORKDIR /opt/airflow/dags\n",
      "COPY ./iris_pipeline_module.py ./\n",
      "COPY ./iris_pipeline_dag.py ./\n",
      "\n",
      "WORKDIR /opt/airflow\n",
      "\n",
      "CMD [ \"standalone\" ]"
     ]
    }
   ],
   "source": [
    "\n",
    "%cat ./pipeline_example_airflow/iris_pipeline_Dockerfile"
   ]
  },
  {
   "cell_type": "markdown",
   "metadata": {},
   "source": [
    "##### Running Airflow Dags"
   ]
  },
  {
   "cell_type": "markdown",
   "metadata": {},
   "source": [
    "With these automatically generated files, we can quickly test running the pipeline locally. First, we run the following command to build a Docker image:\n",
    "\n",
    "```bash\n",
    "docker build -t [image_name] . -f iris_pipeline_Dockerfile\n",
    "```\n",
    "\n",
    "where `[image_name]` is the image name of our choice."
   ]
  },
  {
   "cell_type": "markdown",
   "metadata": {},
   "source": [
    "We then stand up a container instance with the following command:\n",
    "\n",
    "```bash\n",
    "docker run -it -p 8080:8080 [image_name]\n",
    "```\n",
    "\n",
    "In the current example where we set `framework=\"AIRFLOW\"`, this will result in an Airflow instance with an executable DAG in it."
   ]
  },
  {
   "cell_type": "markdown",
   "metadata": {},
   "source": [
    "#### Argo"
   ]
  },
  {
   "cell_type": "markdown",
   "metadata": {},
   "source": [
    "Pipelines that can be submitted to [Argo Workflows](https://argoproj.github.io/argo-workflows/) can be generated by changing the `FRAMEWORK` option in `to_pipeline` to `\"ARGO\"`. For Argo, this will generate the module file and requirements file as before. However, the dag file and Dockerfile have major changes. "
   ]
  },
  {
   "cell_type": "code",
   "execution_count": 25,
   "metadata": {},
   "outputs": [
    {
     "name": "stderr",
     "output_type": "stream",
     "text": [
      "Generated module file: pipeline_example_argo/iris_pipeline_module.py                                                                                                              \n",
      "Generated requirements file: pipeline_example_argo/iris_pipeline_requirements.txt                                                                                                 \n",
      "Generated DAG file: pipeline_example_argo/iris_pipeline_dag.py                                                                                                                    \n",
      "Generated Docker file: pipeline_example_argo/iris_pipeline_Dockerfile                                                                                                             \n"
     ]
    }
   ],
   "source": [
    "\n",
    "\n",
    "# Build an ARGO pipeline using artifacts\n",
    "argo_dir = lineapy.to_pipeline(\n",
    "    pipeline_name=\"iris_pipeline\",\n",
    "    artifacts=[\"iris_preprocessed\", \"iris_model\", \"iris_model_evaluation\"],\n",
    "    dependencies={\n",
    "        \"iris_model_evaluation\": {\"iris_model\"},\n",
    "        \"iris_model\": {\"iris_preprocessed\"}\n",
    "    },\n",
    "    input_parameters=[\"url\", \"test_size\", \"random_state\"],\n",
    "    output_dir=\"./pipeline_example_argo/\",\n",
    "    framework=\"ARGO\",\n",
    ")"
   ]
  },
  {
   "cell_type": "markdown",
   "metadata": {},
   "source": [
    "##### Argo Dag file"
   ]
  },
  {
   "cell_type": "markdown",
   "metadata": {},
   "source": [
    "The dag file generated in Argo is a python file that uses [Hera](https://github.com/argoproj-labs/hera-workflows), a Python SDK for constructing and submitting Argo Workflows. \n",
    "\n",
    "The dag creates a Hera Workflow and associated WorkflowService so the DAG can be submitted. Tasks are also generated that call their respective functions in the module file. Notice that the task outputs are defined as [Artifacts](https://argoproj.github.io/argo-workflows/walk-through/artifacts/) (not the same as Linea Artifacts), which will end up being stored in the Argo Artifact Repository. \n",
    "\n",
    "Since Argo is a Kubernetes based orchestration engine, the generated tasks are meant to be run in pods. The DAG file also specifies that the image that should be used to build the containers running in the pod is `iris_pipeline:lineapy`."
   ]
  },
  {
   "cell_type": "code",
   "execution_count": 26,
   "metadata": {},
   "outputs": [],
   "source": [
    "\n",
    "\n",
    "# Uncomment and run next line to view full file content\n",
    "# %cat ./pipeline_example_argo/iris_pipeline_dag.py"
   ]
  },
  {
   "cell_type": "markdown",
   "metadata": {},
   "source": [
    "Select output from `./pipeline_example_argo/iris_pipeline_dag.py`\n",
    "```python\n",
    "[...]\n",
    "\n",
    "from hera import Artifact, ImagePullPolicy, set_global_task_image\n",
    "from hera.task import Task\n",
    "from hera.workflow import Workflow\n",
    "from hera.workflow_service import WorkflowService\n",
    "\n",
    "[...]\n",
    "\n",
    "def task_run_session_including_iris_preprocessed(url, test_size, random_state):\n",
    "\n",
    "    [...]\n",
    "    artifacts = iris_pipeline_module.run_session_including_iris_preprocessed(\n",
    "        url, test_size, random_state\n",
    "    )\n",
    "    [...]\n",
    "\n",
    "    \n",
    "ws = WorkflowService(\n",
    "    host=\"https://localhost:2746\",\n",
    "    verify_ssl=False,\n",
    "    token=get_sa_token(\"argo\", \"argo\", os.path.expanduser(\"~/.kube/config\")),\n",
    "    namespace=\"argo\",\n",
    ")\n",
    "\n",
    "with Workflow(\"iris-pipeline\", service=ws) as w:\n",
    "\n",
    "    set_global_task_image(\"iris_pipeline:lineapy\")\n",
    "\n",
    "    run_session_including_iris_preprocessed = Task(\n",
    "        \"run-session-including-iris-preprocessed\",\n",
    "        task_run_session_including_iris_preprocessed,\n",
    "        [\n",
    "            {\n",
    "                \"url\": \"https://raw.githubusercontent.com/LineaLabs/lineapy/main/examples/tutorials/data/iris.csv\",\n",
    "                \"test_size\": \"0.33\",\n",
    "                \"random_state\": \"42\",\n",
    "            }\n",
    "        ],\n",
    "        image_pull_policy=ImagePullPolicy.Never,\n",
    "        outputs=[\n",
    "            Artifact(\n",
    "                \"iris_preprocessed\",\n",
    "                \"/tmp/iris_pipeline/variable_iris_preprocessed.pickle\",\n",
    "            ),\n",
    "            Artifact(\n",
    "                \"iris_model\",\n",
    "                \"/tmp/iris_pipeline/variable_iris_model.pickle\",\n",
    "            ),\n",
    "            Artifact(\n",
    "                \"iris_model_evaluation\",\n",
    "                \"/tmp/iris_pipeline/variable_iris_model_evaluation.pickle\",\n",
    "            ),\n",
    "        ],\n",
    "    )\n",
    "\n",
    "    [...]\n",
    "\n",
    "w.create()\n",
    "```"
   ]
  },
  {
   "cell_type": "markdown",
   "metadata": {},
   "source": [
    "##### Argo Dockerfile"
   ]
  },
  {
   "cell_type": "markdown",
   "metadata": {},
   "source": [
    "In Argo, the Dockerfile is used to build the image `iris_pipeline:lineapy` and does not run Argo itself. Note the comments on how to build the Dockerfile at the top of the file. This will make sure that the pods running each Task have the right dependencies and toolchain. \n",
    "\n",
    "Make sure that after building the Dockerfile it is pushed to an image repository that can be accessed by the Argo cluster."
   ]
  },
  {
   "cell_type": "code",
   "execution_count": 27,
   "metadata": {},
   "outputs": [
    {
     "name": "stdout",
     "output_type": "stream",
     "text": [
      "# Be sure to build this docker file with the following command\n",
      "# docker build -t iris_pipeline:lineapy -f iris_pipeline_Dockerfile .\n",
      "\n",
      "FROM python:3.9\n",
      "\n",
      "RUN mkdir /tmp/installers\n",
      "WORKDIR /tmp/installers\n",
      "\n",
      "# Copy all the requirements to run current DAG\n",
      "COPY ./iris_pipeline_requirements.txt ./\n",
      "\n",
      "# Install required libs\n",
      "RUN pip install -r ./iris_pipeline_requirements.txt\n",
      "\n",
      "WORKDIR /opt/argo/dags\n"
     ]
    }
   ],
   "source": [
    "\n",
    "\n",
    "!head -n 15 ./pipeline_example_argo/iris_pipeline_DOCKERFILE"
   ]
  },
  {
   "cell_type": "markdown",
   "metadata": {},
   "source": [
    "##### Running Argo Pipelines"
   ]
  },
  {
   "cell_type": "markdown",
   "metadata": {},
   "source": [
    "The argo examples generated can also be tested locally. To spin up a standalone instance of Argo, make sure to have a kubernetes instance, then run the following commands adapted from the [Argo Quickstart Guide](https://argoproj.github.io/argo-workflows/quick-start/).\n",
    "\n",
    "Create the namespace and deploy argo from their quickstart yaml.\n",
    "```bash\n",
    "kubectl create ns argo\n",
    "kubectl apply -n argo -f https://raw.githubusercontent.com/argoproj/argo-workflows/master/manifests/quick-start-postgres.yaml\n",
    "```\n",
    "Patch the authentication mode to be server side\n",
    "```bash\n",
    "kubectl patch deployment \\\n",
    "  argo-server \\\n",
    "  --namespace argo \\\n",
    "  --type='json' \\\n",
    "  -p='[{\"op\": \"replace\", \"path\": \"/spec/template/spec/containers/0/args\", \"value\": [\n",
    "  \"server\",\n",
    "  \"--auth-mode=server\"\n",
    "]}]'\n",
    "```\n",
    "Port forward the argo deployment\n",
    "```bash\n",
    "kubectl -n argo port-forward deployment/argo-server 2746:2746\n",
    "```\n",
    "\n",
    "After following these steps, the argo UI should be visible on `localhost:2746`. \n",
    "\n",
    "To submit the pipeline, make sure to build the dockerfile using the instructions in the Dockerfile. Then simply run the dag file using \n",
    "\n",
    "```bash\n",
    "python ./pipeline_example_argo/iris_pipeline_dag.py\n",
    "```"
   ]
  },
  {
   "cell_type": "markdown",
   "metadata": {},
   "source": [
    "#### Kubeflow"
   ]
  },
  {
   "cell_type": "markdown",
   "metadata": {},
   "source": [
    "Pipelines that can be submitted to [Kubeflow Pipelines](https://www.kubeflow.org/docs/components/pipelines/v1/introduction/) can be generated by changing the `FRAMEWORK` option in `to_pipeline` to `\"KUBEFLOW\"`. For Kubeflow, this will generate the module file and requirements file as before. However, the dag file and Dockerfile have major changes. "
   ]
  },
  {
   "cell_type": "code",
   "execution_count": 28,
   "metadata": {},
   "outputs": [
    {
     "name": "stderr",
     "output_type": "stream",
     "text": [
      "Generated module file: pipeline_example_kubeflow/iris_pipeline_module.py                                                                                                          \n",
      "Generated requirements file: pipeline_example_kubeflow/iris_pipeline_requirements.txt                                                                                             \n",
      "Generated DAG file: pipeline_example_kubeflow/iris_pipeline_dag.py                                                                                                                \n",
      "Generated Docker file: pipeline_example_kubeflow/iris_pipeline_Dockerfile                                                                                                         \n"
     ]
    }
   ],
   "source": [
    "\n",
    "\n",
    "# Build a KUBEFLOW pipeline using artifacts\n",
    "kubeflow_dir = lineapy.to_pipeline(\n",
    "    pipeline_name=\"iris_pipeline\",\n",
    "    artifacts=[\"iris_preprocessed\", \"iris_model\", \"iris_model_evaluation\"],\n",
    "    dependencies={\n",
    "        \"iris_model_evaluation\": {\"iris_model\"},\n",
    "        \"iris_model\": {\"iris_preprocessed\"}\n",
    "    },\n",
    "    input_parameters=[\"url\", \"test_size\", \"random_state\"],\n",
    "    output_dir=\"./pipeline_example_kubeflow/\",\n",
    "    framework=\"KUBEFLOW\",\n",
    ")"
   ]
  },
  {
   "cell_type": "markdown",
   "metadata": {},
   "source": [
    "##### Kubeflow Dag file"
   ]
  },
  {
   "cell_type": "markdown",
   "metadata": {},
   "source": [
    "The dag file generated in Kubeflow is a python file using Kubeflow Pipelines SDK `kfp`. \n",
    "\n",
    "In Kubeflow, a function is created for each task that refers back to the generated module file. However, for Kubeflow, this function must first be turned into a component through `create_component_from_func`, which itself can then be turned into a task by calling the component with the desired inputs and outputs specified in the pipeline definition.\n",
    "\n",
    "Since Kubeflow is a Kubernetes based orchestration engine, the generated tasks are meant to be run in pods. Each component also specifies that the image that should be used to build the container running in the pod is `iris_pipeline:lineapy`."
   ]
  },
  {
   "cell_type": "code",
   "execution_count": 29,
   "metadata": {},
   "outputs": [],
   "source": [
    "\n",
    "\n",
    "# Uncomment and run next line to view full file content\n",
    "# %cat ./pipeline_example_kubeflow/iris_pipeline_dag.py"
   ]
  },
  {
   "cell_type": "markdown",
   "metadata": {},
   "source": [
    "Select output from `./pipeline_example_kubeflow/iris_pipeline_dag.py`\n",
    "```python\n",
    "import kfp\n",
    "from kfp.components import create_component_from_func\n",
    "\n",
    "\n",
    "def task_iris_preprocessed(url, variable_df_path: kfp.components.OutputPath(str)):\n",
    "    [...]\n",
    "\n",
    "def task_split_samples_for_artifact_iris_model_and_downstream(\n",
    "    random_state,\n",
    "    test_size,\n",
    "    variable_df_path: kfp.components.InputPath(str),\n",
    "    variable_split_samples_path: kfp.components.OutputPath(str),\n",
    "):\n",
    "    [...]\n",
    "\n",
    "\n",
    "def task_iris_model(\n",
    "    variable_split_samples_path: kfp.components.InputPath(str),\n",
    "    variable_mod_path: kfp.components.OutputPath(str),\n",
    "):\n",
    "    import pathlib\n",
    "    import pickle\n",
    "\n",
    "    import iris_pipeline_module\n",
    "\n",
    "    split_samples = pickle.load(open(variable_split_samples_path, \"rb\"))\n",
    "\n",
    "    mod = iris_pipeline_module.get_iris_model(split_samples)\n",
    "\n",
    "    pickle.dump(mod, open(variable_mod_path, \"wb\"))\n",
    "\n",
    "\n",
    "def task_iris_model_evaluation(\n",
    "    variable_mod_path: kfp.components.InputPath(str),\n",
    "    variable_split_samples_path: kfp.components.InputPath(str),\n",
    "    variable_mod_eval_test_path: kfp.components.OutputPath(str),\n",
    "):\n",
    "    [...]\n",
    "\n",
    "[...]\n",
    "\n",
    "iris_preprocessed_component = create_component_from_func(\n",
    "    task_iris_preprocessed, base_image=\"iris_pipeline:lineapy\"\n",
    ")\n",
    "\n",
    "split_samples_for_artifact_iris_model_and_downstream_component = (\n",
    "    create_component_from_func(\n",
    "        task_split_samples_for_artifact_iris_model_and_downstream,\n",
    "        base_image=\"iris_pipeline:lineapy\",\n",
    "    )\n",
    ")\n",
    "\n",
    "iris_model_component = create_component_from_func(\n",
    "    task_iris_model, base_image=\"iris_pipeline:lineapy\"\n",
    ")\n",
    "\n",
    "iris_model_evaluation_component = create_component_from_func(\n",
    "    task_iris_model_evaluation, base_image=\"iris_pipeline:lineapy\"\n",
    ")\n",
    "\n",
    "[...]\n",
    "\n",
    "client = kfp.Client(host=\"http://localhost:3000\")\n",
    "\n",
    "\n",
    "@kfp.dsl.pipeline(\n",
    "    name=\"iris_pipeline_dag\",\n",
    ")\n",
    "def iris_pipeline(url, test_size, random_state):\n",
    "\n",
    "    task_iris_preprocessed = iris_preprocessed_component(url)\n",
    "    task_split_samples_for_artifact_iris_model_and_downstream = (\n",
    "        split_samples_for_artifact_iris_model_and_downstream_component(\n",
    "            random_state, test_size, task_iris_preprocessed.outputs[\"variable_df\"]\n",
    "        )\n",
    "    )\n",
    "    task_iris_model = iris_model_component(\n",
    "        task_split_samples_for_artifact_iris_model_and_downstream.outputs[\n",
    "            \"variable_split_samples\"\n",
    "        ]\n",
    "    )\n",
    "    task_iris_model_evaluation = iris_model_evaluation_component(\n",
    "        task_iris_model.outputs[\"variable_mod\"],\n",
    "        task_split_samples_for_artifact_iris_model_and_downstream.outputs[\n",
    "            \"variable_split_samples\"\n",
    "        ],\n",
    "    )\n",
    "\n",
    "    task_iris_model.after(task_split_samples_for_artifact_iris_model_and_downstream)\n",
    "\n",
    "    task_iris_model_evaluation.after(task_iris_model)\n",
    "\n",
    "    task_iris_model_evaluation.after(\n",
    "        task_split_samples_for_artifact_iris_model_and_downstream\n",
    "    )\n",
    "\n",
    "    task_iris_preprocessed.after(task_setup)\n",
    "\n",
    "    task_split_samples_for_artifact_iris_model_and_downstream.after(\n",
    "        task_iris_preprocessed\n",
    "    )\n",
    "\n",
    "    task_teardown.after(task_iris_model_evaluation)\n",
    "\n",
    "\n",
    "pipeline_arguments = {\n",
    "    \"url\": \"https://raw.githubusercontent.com/LineaLabs/lineapy/main/examples/tutorials/data/iris.csv\",\n",
    "    \"test_size\": 0.33,\n",
    "    \"random_state\": 42,\n",
    "}\n",
    "\n",
    "client.create_run_from_pipeline_func(iris_pipeline, arguments=pipeline_arguments)\n",
    "```"
   ]
  },
  {
   "cell_type": "markdown",
   "metadata": {},
   "source": [
    "##### Kubeflow Dockerfile"
   ]
  },
  {
   "cell_type": "markdown",
   "metadata": {},
   "source": [
    "In Kubeflow, the Dockerfile is used to build the image `iris_pipeline:lineapy` and does not run Kubeflow itself. Note the comments on how to build the Dockerfile at the top of the file. This will make sure that the pods running each Task have the right dependencies and toolchain. \n",
    "\n",
    "Make sure that after building the Dockerfile it is uploaded to an image repository that can be accessed by the Kubeflow cluster."
   ]
  },
  {
   "cell_type": "code",
   "execution_count": 30,
   "metadata": {},
   "outputs": [
    {
     "name": "stdout",
     "output_type": "stream",
     "text": [
      "# Be sure to build this docker file with the following command\n",
      "# docker build -t iris_pipeline:lineapy -f iris_pipeline_Dockerfile .\n",
      "\n",
      "FROM python:3.9\n",
      "\n",
      "RUN mkdir /tmp/installers\n",
      "WORKDIR /tmp/installers\n",
      "\n",
      "# Copy all the requirements to run current DAG\n",
      "COPY ./iris_pipeline_requirements.txt ./\n",
      "\n",
      "# Install kubeflow python sdk\n",
      "RUN apt update\n",
      "RUN pip install kfp\n",
      "\n",
      "# Install required libs\n",
      "RUN pip install -r ./iris_pipeline_requirements.txt\n",
      "\n",
      "WORKDIR /home\n",
      "COPY ./iris_pipeline_module.py ./\n"
     ]
    }
   ],
   "source": [
    "\n",
    "\n",
    "!head -n 20 ./pipeline_example_kubeflow/iris_pipeline_DOCKERFILE"
   ]
  },
  {
   "cell_type": "markdown",
   "metadata": {},
   "source": [
    "##### Running Kubeflow Pipelines"
   ]
  },
  {
   "cell_type": "markdown",
   "metadata": {},
   "source": [
    "The kubeflow examples generated can also be tested locally. To spin up a standalone instance of Kubeflow make sure to have a kubernetes instance, then run the following commands adapted from the [Standalone Deployment Setup Guide](https://www.kubeflow.org/docs/components/pipelines/v1/installation/standalone-deployment/).\n",
    "\n",
    "Create the namespace and deploy kubeflow from their manifests.\n",
    "```bash\n",
    "kubectl create ns kubeflow\n",
    "\n",
    "kubectl apply -n kubeflow -k \"github.com/kubeflow/pipelines/manifests/kustomize/cluster-scoped-resources?ref=1.8.5\"\n",
    "kubectl wait --for condition=established --timeout=60s crd/applications.app.k8s.io\n",
    "kubectl apply -n kubeflow -k \"github.com/kubeflow/pipelines/manifests/kustomize/env/platform-agnostic-pns?ref=1.8.5\"\n",
    "```\n",
    "\n",
    "Port forward the kubeflow deployment\n",
    "```bash\n",
    "kubectl port-forward -n kubeflow svc/ml-pipeline-ui 3000:80\n",
    "```\n",
    "\n",
    "After following these steps, the kubeflow UI should be visible on `localhost:3000`. \n",
    "\n",
    "To submit the pipeline, make sure to build the dockerfile using the instructions in the Dockerfile. Then simply run the dag file using \n",
    "\n",
    "```bash\n",
    "python ./pipeline_example_kubeflow/iris_pipeline_dag.py\n",
    "```"
   ]
  },
  {
   "cell_type": "markdown",
   "metadata": {},
   "source": [
    "#### Ray"
   ]
  },
  {
   "cell_type": "markdown",
   "metadata": {},
   "source": [
    "Pipelines that can be submitted to [Ray Workflows](https://docs.ray.io/en/latest/workflows/index.html) can be generated by changing the `FRAMEWORK` option in `to_pipeline` to `\"RAY\"`."
   ]
  },
  {
   "cell_type": "code",
   "execution_count": 31,
   "metadata": {},
   "outputs": [
    {
     "name": "stderr",
     "output_type": "stream",
     "text": [
      "Generated module file: pipeline_example_ray/iris_pipeline_module.py                                                                                                               \n",
      "Generated requirements file: pipeline_example_ray/iris_pipeline_requirements.txt                                                                                                  \n",
      "Generated DAG file: pipeline_example_ray/iris_pipeline_dag.py                                                                                                                     \n",
      "Generated Docker file: pipeline_example_ray/iris_pipeline_Dockerfile                                                                                                              \n"
     ]
    }
   ],
   "source": [
    "\n",
    "\n",
    "# Build an RAY workflow using artifacts\n",
    "ray_dir = lineapy.to_pipeline(\n",
    "    pipeline_name=\"iris_pipeline\",\n",
    "    artifacts=[\"iris_preprocessed\", \"iris_model\", \"iris_model_evaluation\"],\n",
    "    dependencies={\n",
    "        \"iris_model_evaluation\": {\"iris_model\"},\n",
    "        \"iris_model\": {\"iris_preprocessed\"}\n",
    "    },\n",
    "    input_parameters=[\"url\", \"test_size\", \"random_state\"],\n",
    "    output_dir=\"./pipeline_example_ray/\",\n",
    "    framework=\"RAY\",\n",
    ")"
   ]
  },
  {
   "cell_type": "markdown",
   "metadata": {},
   "source": [
    "##### Ray Dag file"
   ]
  },
  {
   "cell_type": "markdown",
   "metadata": {},
   "source": [
    "The dag file generated in Ray is a python file. \n",
    "\n",
    "As with other frameworks, function are created that refers back to the generated module file. These are decorated with `ray.remote` so that they are recognized as Ray tasks.\n",
    "\n",
    "The functions are then connected together using `.bind()` and the \"sink\" or last task is used to define the whole workflow which can be run through `ray.workflow.run`. "
   ]
  },
  {
   "cell_type": "code",
   "execution_count": 32,
   "metadata": {},
   "outputs": [
    {
     "name": "stdout",
     "output_type": "stream",
     "text": [
      "import pathlib\n",
      "import pickle\n",
      "\n",
      "import iris_pipeline_module\n",
      "import ray\n",
      "from packaging import version\n",
      "\n",
      "ray.init(runtime_env={\"working_dir\": \".\"}, storage=\"/tmp\")\n",
      "\n",
      "\n",
      "@ray.remote\n",
      "def task_iris_preprocessed(url):\n",
      "\n",
      "    url = str(url)\n",
      "\n",
      "    df = iris_pipeline_module.get_iris_preprocessed(url)\n",
      "\n",
      "    return df\n",
      "\n",
      "\n",
      "@ray.remote\n",
      "def task_split_samples_for_artifact_iris_model_and_downstream(\n",
      "    random_state, test_size, df\n",
      "):\n",
      "\n",
      "    random_state = int(random_state)\n",
      "\n",
      "    test_size = float(test_size)\n",
      "\n",
      "    split_samples = (\n",
      "        iris_pipeline_module.get_split_samples_for_artifact_iris_model_and_downstream(\n",
      "            df, random_state, test_size\n",
      "        )\n",
      "    )\n",
      "\n",
      "    return split_samples\n",
      "\n",
      "\n",
      "@ray.remote\n",
      "def task_iris_model(split_samples):\n",
      "\n",
      "    mod = iris_pipeline_module.get_iris_model(split_samples)\n",
      "\n",
      "    return mod\n",
      "\n",
      "\n",
      "@ray.remote\n",
      "def task_iris_model_evaluation(mod, split_samples):\n",
      "\n",
      "    mod_eval_test = iris_pipeline_module.get_iris_model_evaluation(mod, split_samples)\n",
      "\n",
      "    return mod_eval_test\n",
      "\n",
      "\n",
      "# Specify argument values for your pipeline run.\n",
      "pipeline_arguments = {\n",
      "    \"url\": \"https://raw.githubusercontent.com/LineaLabs/lineapy/main/examples/tutorials/data/iris.csv\",\n",
      "    \"test_size\": 0.33,\n",
      "    \"random_state\": 42,\n",
      "}\n",
      "\n",
      "df = task_iris_preprocessed.bind(pipeline_arguments[\"url\"])\n",
      "split_samples = task_split_samples_for_artifact_iris_model_and_downstream.bind(\n",
      "    pipeline_arguments[\"random_state\"], pipeline_arguments[\"test_size\"], df\n",
      ")\n",
      "mod = task_iris_model.bind(split_samples)\n",
      "mod_eval_test = task_iris_model_evaluation.bind(mod, split_samples)\n",
      "\n",
      "if version.parse(ray.__version__) < version.parse(\"2.0\"):\n",
      "    raise RuntimeError(\n",
      "        f\"Ray Workflows requires version >2.0 but {ray.__version__} was found\"\n",
      "    )\n",
      "ray.workflow.run(mod_eval_test)\n"
     ]
    }
   ],
   "source": [
    "\n",
    "\n",
    "%cat ./pipeline_example_ray/iris_pipeline_dag.py"
   ]
  },
  {
   "cell_type": "markdown",
   "metadata": {},
   "source": [
    "##### Ray Dockerfile & Running Ray Workflows"
   ]
  },
  {
   "cell_type": "markdown",
   "metadata": {},
   "source": [
    "The Dockerfile for Ray installs ray and the dependencies needed to run the workflow. No additional setup is needed, simply running the dag file using `python iris_pipeline_dag.py` will run the DAG. "
   ]
  },
  {
   "cell_type": "code",
   "execution_count": 33,
   "metadata": {},
   "outputs": [
    {
     "name": "stdout",
     "output_type": "stream",
     "text": [
      "FROM python:3.9\n",
      "\n",
      "RUN mkdir /tmp/installers\n",
      "WORKDIR /tmp/installers\n",
      "\n",
      "# Copy all the requirements to run current DAG\n",
      "COPY ./iris_pipeline_requirements.txt ./\n",
      "\n",
      "# Install ray\n",
      "RUN apt update\n",
      "RUN pip install ray\n",
      "\n",
      "# Install required libs\n",
      "RUN pip install -r ./iris_pipeline_requirements.txt\n",
      "\n",
      "WORKDIR /home\n",
      "COPY ./iris_pipeline_module.py ./\n",
      "COPY ./iris_pipeline_dag.py ./\n"
     ]
    }
   ],
   "source": [
    "\n",
    "\n",
    "%cat ./pipeline_example_ray/iris_pipeline_DOCKERFILE"
   ]
  },
  {
   "cell_type": "markdown",
   "metadata": {},
   "source": [
    "##### Using Ray Remote API"
   ]
  },
  {
   "cell_type": "markdown",
   "metadata": {},
   "source": [
    "The Lineapy Ray integration also supports generating Ray tasks using the usual remote API. To switch to this older Ray API, simply specify `\"use_workflows\": False` in the `pipeline_dag_config`. "
   ]
  },
  {
   "cell_type": "code",
   "execution_count": 34,
   "metadata": {},
   "outputs": [
    {
     "name": "stderr",
     "output_type": "stream",
     "text": [
      "Generated module file: pipeline_example_ray/iris_pipeline_module.py                                                                                                               \n",
      "Generated requirements file: pipeline_example_ray/iris_pipeline_requirements.txt                                                                                                  \n",
      "Generated DAG file: pipeline_example_ray/iris_pipeline_dag.py                                                                                                                     \n",
      "Generated Docker file: pipeline_example_ray/iris_pipeline_Dockerfile                                                                                                              \n"
     ]
    }
   ],
   "source": [
    "\n",
    "\n",
    "# Build an RAY workflow using artifacts\n",
    "ray_dir = lineapy.to_pipeline(\n",
    "    pipeline_name=\"iris_pipeline\",\n",
    "    artifacts=[\"iris_preprocessed\", \"iris_model\", \"iris_model_evaluation\"],\n",
    "    dependencies={\n",
    "        \"iris_model_evaluation\": {\"iris_model\"},\n",
    "        \"iris_model\": {\"iris_preprocessed\"}\n",
    "    },\n",
    "    pipeline_dag_config={\"use_workflows\": False},\n",
    "    input_parameters=[\"url\", \"test_size\", \"random_state\"],\n",
    "    output_dir=\"./pipeline_example_ray/\",\n",
    "    framework=\"RAY\",\n",
    ")"
   ]
  },
  {
   "cell_type": "markdown",
   "metadata": {},
   "source": [
    "#### DVC"
   ]
  },
  {
   "cell_type": "markdown",
   "metadata": {},
   "source": [
    "Pipelines that can be run using [DVC Pipelines](https://dvc.org/doc/start/data-management/data-pipelines/) can be generated by changing the `FRAMEWORK` option in `to_pipeline` to `\"DVC\"`. For DVC, this will generate the module file and requirements file as before. However, the dag files will see major changes as DVC is a yaml based orchestration framework.  "
   ]
  },
  {
   "cell_type": "code",
   "execution_count": 35,
   "metadata": {},
   "outputs": [
    {
     "name": "stderr",
     "output_type": "stream",
     "text": [
      "Generated module file: pipeline_example_dvc/iris_pipeline_module.py                                                                                                               \n",
      "Generated requirements file: pipeline_example_dvc/iris_pipeline_requirements.txt                                                                                                  \n",
      "Generated DAG file: pipeline_example_dvc/params.yaml                                                                                                                              \n",
      "Generated DAG file: pipeline_example_dvc/task_iris_preprocessed.py                                                                                                                \n",
      "Generated DAG file: pipeline_example_dvc/task_split_samples_for_artifact_iris_model_and_downstream.py                                                                             \n",
      "Generated DAG file: pipeline_example_dvc/task_iris_model.py                                                                                                                       \n",
      "Generated DAG file: pipeline_example_dvc/task_iris_model_evaluation.py                                                                                                            \n",
      "Generated DAG file: pipeline_example_dvc/dvc.yaml                                                                                                                                 \n",
      "Generated Docker file: pipeline_example_dvc/iris_pipeline_Dockerfile                                                                                                              \n"
     ]
    }
   ],
   "source": [
    "\n",
    "\n",
    "# Build an DVC pipeline using artifacts\n",
    "dvc_dir = lineapy.to_pipeline(\n",
    "    pipeline_name=\"iris_pipeline\",\n",
    "    artifacts=[\"iris_preprocessed\", \"iris_model\", \"iris_model_evaluation\"],\n",
    "    dependencies={\n",
    "        \"iris_model_evaluation\": {\"iris_model\"},\n",
    "        \"iris_model\": {\"iris_preprocessed\"}\n",
    "    },\n",
    "    input_parameters=[\"url\", \"test_size\", \"random_state\"],\n",
    "    output_dir=\"./pipeline_example_dvc/\",\n",
    "    framework=\"DVC\",\n",
    ")"
   ]
  },
  {
   "cell_type": "markdown",
   "metadata": {},
   "source": [
    "##### DVC Dag file"
   ]
  },
  {
   "cell_type": "markdown",
   "metadata": {},
   "source": [
    "The dag file generated in DVC is a yaml file that must be named `dvc.yaml`.  \n",
    "\n",
    "Unlike other frameworks, DVC works best when each stage is defined separately in its own file. The main `dvc.yaml` file defines the stages and which file should be run for each stage along with input and output dependencies."
   ]
  },
  {
   "cell_type": "code",
   "execution_count": 36,
   "metadata": {},
   "outputs": [
    {
     "name": "stdout",
     "output_type": "stream",
     "text": [
      "stages:\n",
      "\n",
      "    iris_preprocessed:\n",
      "        cmd: python task_iris_preprocessed.py\n",
      "        deps:\n",
      "            - iris_pipeline_module.py\n",
      "            - task_iris_preprocessed.py\n",
      "        outs:\n",
      "            - df.pickle\n",
      "\n",
      "    split_samples_for_artifact_iris_model_and_downstream:\n",
      "        cmd: python task_split_samples_for_artifact_iris_model_and_downstream.py\n",
      "        deps:\n",
      "            - iris_pipeline_module.py\n",
      "            - task_split_samples_for_artifact_iris_model_and_downstream.py\n",
      "            - df.pickle\n",
      "        outs:\n",
      "            - split_samples.pickle\n",
      "\n",
      "    iris_model:\n",
      "        cmd: python task_iris_model.py\n",
      "        deps:\n",
      "            - iris_pipeline_module.py\n",
      "            - task_iris_model.py\n",
      "            - split_samples.pickle\n",
      "        outs:\n",
      "            - mod.pickle\n",
      "\n",
      "    iris_model_evaluation:\n",
      "        cmd: python task_iris_model_evaluation.py\n",
      "        deps:\n",
      "            - iris_pipeline_module.py\n",
      "            - task_iris_model_evaluation.py\n",
      "            - mod.pickle\n",
      "            - split_samples.pickle\n",
      "        outs:\n",
      "            - mod_eval_test.pickle\n",
      "\n"
     ]
    }
   ],
   "source": [
    "\n",
    "\n",
    "%cat ./pipeline_example_dvc/dvc.yaml"
   ]
  },
  {
   "cell_type": "markdown",
   "metadata": {},
   "source": [
    "##### DVC task files"
   ]
  },
  {
   "cell_type": "markdown",
   "metadata": {},
   "source": [
    "Taking a look at an individual task file reveals that each is defined in a similar manner to the tasks in other frameworks, but each file now only contains the function for one task along with a main block so that the file can be run. "
   ]
  },
  {
   "cell_type": "code",
   "execution_count": 37,
   "metadata": {},
   "outputs": [
    {
     "name": "stdout",
     "output_type": "stream",
     "text": [
      "import pickle\n",
      "\n",
      "import dvc.api\n",
      "import iris_pipeline_module\n",
      "\n",
      "\n",
      "def task_iris_preprocessed(url):\n",
      "\n",
      "    url = str(url)\n",
      "\n",
      "    df = iris_pipeline_module.get_iris_preprocessed(url)\n",
      "\n",
      "    pickle.dump(df, open(\"df.pickle\", \"wb\"))\n",
      "\n",
      "\n",
      "if __name__ == \"__main__\":\n",
      "    url = dvc.api.params_show()[\"url\"]\n",
      "    task_iris_preprocessed(url)\n"
     ]
    }
   ],
   "source": [
    "\n",
    "\n",
    "%cat ./pipeline_example_dvc/task_iris_preprocessed.py"
   ]
  },
  {
   "cell_type": "markdown",
   "metadata": {},
   "source": [
    "##### DVC parameters file"
   ]
  },
  {
   "cell_type": "markdown",
   "metadata": {},
   "source": [
    "DVC also requires that parameters be defined in their own `params.yaml` file, which is also generated by Lineapy."
   ]
  },
  {
   "cell_type": "code",
   "execution_count": 38,
   "metadata": {},
   "outputs": [
    {
     "name": "stdout",
     "output_type": "stream",
     "text": [
      "url: https://raw.githubusercontent.com/LineaLabs/lineapy/main/examples/tutorials/data/iris.csv\n",
      "test_size: 0.33\n",
      "random_state: 42\n"
     ]
    }
   ],
   "source": [
    "\n",
    "\n",
    "%cat ./pipeline_example_dvc/params.yaml"
   ]
  },
  {
   "cell_type": "markdown",
   "metadata": {},
   "source": [
    "##### DVC Dockerfile & Running DVC pipelines"
   ]
  },
  {
   "cell_type": "markdown",
   "metadata": {},
   "source": [
    "Finally, the Dockerfile for DVC installs dvc, all the task dependencies, and sets up the working directory as a dvc repository. This allows the DAG to be run using a `dvc repro` command."
   ]
  },
  {
   "cell_type": "code",
   "execution_count": 39,
   "metadata": {},
   "outputs": [
    {
     "name": "stdout",
     "output_type": "stream",
     "text": [
      "FROM python:3.9\n",
      "\n",
      "RUN mkdir /tmp/installers\n",
      "WORKDIR /tmp/installers\n",
      "\n",
      "# Copy all the requirements to run current DAG\n",
      "COPY ./iris_pipeline_requirements.txt ./\n",
      "\n",
      "# Install git and dvc\n",
      "RUN apt update\n",
      "RUN apt install -y git\n",
      "RUN pip install dvc\n",
      "\n",
      "# Install required libs\n",
      "RUN pip install -r ./iris_pipeline_requirements.txt\n",
      "\n",
      "WORKDIR /home\n",
      "COPY . .\n",
      "\n",
      "# Initialize workdir as a dvc repo\n",
      "RUN git init\n",
      "RUN dvc init\n",
      "\n",
      "ENTRYPOINT [ \"dvc\", \"repro\", \"run_all_sessions\"]"
     ]
    }
   ],
   "source": [
    "\n",
    "\n",
    "%cat ./pipeline_example_dvc/iris_pipeline_Dockerfile"
   ]
  },
  {
   "cell_type": "markdown",
   "metadata": {},
   "source": [
    "## Recap"
   ]
  },
  {
   "cell_type": "markdown",
   "metadata": {},
   "source": [
    "Data science workflows revolve around building and refining pipelines, i.e. series of processes that transform data into useful information/product. Traditionally, this is often manual and time-consuming work as data scientists (or other engineers) need to clean up messy development code and transform it into deployable scripts for the target system (e.g., Airflow). This tutorial demonstrated that LineaPy, having the complete development process stored in artifacts, can automate such code transformation, accelerating transition from development to production."
   ]
  },
  {
   "cell_type": "markdown",
   "metadata": {},
   "source": [
    "<div class=\"admonition info\" style=\"background:#F0FAFA\">\n",
    "    <p class=\"admonition-title\"><b>Info</b></p>\n",
    "    <p>\n",
    "        If you want to learn more about LineaPy's pipeline support, check out the project <a href=\"https://docs.lineapy.org/latest/guides/usage/pipeline-building/\">documentation</a>.\n",
    "    </p>\n",
    "</div>"
   ]
  }
 ],
 "metadata": {
  "colab": {
    "collapsed_sections": [],
    "name": "02_pipeline_building.ipynb",
    "provenance": []
  },
  "kernelspec": {
   "display_name": "Python 3 (ipykernel)",
   "language": "python",
   "name": "python3"
  },
  "language_info": {
   "codemirror_mode": {
    "name": "ipython",
    "version": 3
   },
   "file_extension": ".py",
   "mimetype": "text/x-python",
   "name": "python",
   "nbconvert_exporter": "python",
   "pygments_lexer": "ipython3",
   "version": "3.9.12"
  },
  "vscode": {
   "interpreter": {
    "hash": "7b13a91c030603db07ad54ba4f9266c0e4bd5a63bc20907813ff665f2d224783"
   }
  }
 },
 "nbformat": 4,
 "nbformat_minor": 4
}
