{
    "cells": [
        {
            "cell_type": "markdown",
            "metadata": {},
            "source": [
                "<p align=\"center\">\n",
                "    <a href=\"https://bit.ly/3SJewuO\"><img src=\"https://colab.research.google.com/assets/colab-badge.svg\" alt=\"Open in Colab\"/></a>\n",
                "</p>"
            ]
        },
        {
            "cell_type": "markdown",
            "metadata": {},
            "source": [
                "<div class=\"alert alert-info\">\n",
                "\n",
                "If you encounter issues you cannot resolve, simply ask in our [Slack community](https://join.slack.com/t/lineacommunity/shared_invite/zt-18kizfn3b-1Qu_HDT3ahGudnAwoFAw9Q)'s `#support` channel. We are always happy and ready to help you!\n",
                "\n",
                "</div>"
            ]
        },
        {
            "cell_type": "markdown",
            "metadata": {},
            "source": [
                "Let's install and load LineaPy, along with other packages."
            ]
        },
        {
            "cell_type": "code",
            "execution_count": null,
            "metadata": {},
            "outputs": [],
            "source": [
                "\n",
                "%%capture\n",
                "!pip -q install lineapy~=0.2 scikit-learn pandas matplotlib"
            ]
        },
        {
            "cell_type": "code",
            "execution_count": 1,
            "metadata": {},
            "outputs": [
                {
                    "name": "stderr",
                    "output_type": "stream",
                    "text": [
                        "Folder /home/mingjerli/.lineapy does not exist. Creating a new one.\n",
                        "Folder /home/mingjerli/.lineapy/linea_pickles does not exist. Creating a new one.\n",
                        "Folder /home/mingjerli/.lineapy/custom-annotations does not exist. Creating a new one.\n"
                    ]
                }
            ],
            "source": [
                "\n",
                "%load_ext lineapy"
            ]
        },
        {
            "cell_type": "code",
            "execution_count": 2,
            "metadata": {
                "id": "pK9HKAGvpiuo"
            },
            "outputs": [],
            "source": [
                "import lineapy\n",
                "lineapy.tag(\"Create a Pipeline demo\")"
            ]
        },
        {
            "cell_type": "markdown",
            "metadata": {},
            "source": [
                "# Use LineaPy to Create a Simple ML/Data Pipeline"
            ]
        },
        {
            "cell_type": "markdown",
            "metadata": {},
            "source": [
                "## Scenario\n",
                "\n",
                "As notebooks become more mature, they may get used like pipelines. For instance, notebooks that do the following things:\n",
                "\n",
                "* Process latest data and update dashboards/graphs/charts/reports\n",
                "* Preprocess new data and dump it to the filesystem for downstream model development\n",
                "* Create updated versions of models using latest data\n",
                "* Run inference on new data using standard model\n",
                "\n",
                "may be expected to be re-executed as a pipeline on a regular or ad-hoc basis.\n",
                "\n",
                "However, you may not have the proper engineering support to set up these pipelines for production."
            ]
        },
        {
            "cell_type": "markdown",
            "metadata": {},
            "source": [
                "## What might happen next?\n",
                "\n",
                "If this is the case, any of the following may happen:\n",
                "\n",
                "* You spend a lot of time copying and pasting and cleaning your code to make your pipeline work in orchestration systems or job schedulers (cron, Apache Airflow, Prefect, etc.).\n",
                "* It takes forever to make your pipeline work and you end up running your pipelines manually whenever you need to (or get asked to).\n",
                "* Your runtime environment is changed due to other experiments you are running and your pipeline is no longer working.\n",
                "* You make some changes to your pipeline and now you find out you need to restart the above processes again.\n",
                "\n",
                "As more notebooks and pipelines need to be maintained, data scientists will need to spend more time on the operation side to make sure every notebook is running at the right time successfully. \n",
                "This operational burden will consume a lot of time from the data scientist, which decreases productivity and innovation."
            ]
        },
        {
            "cell_type": "markdown",
            "metadata": {},
            "source": [
                "## How can LineaPy help here?\n",
                "\n",
                "LineaPy can help to set up and maintain pipelines with minimal effort.\n",
                "\n",
                "```\n",
                "import lineapy\n",
                "\n",
                "........................\n",
                ".\n",
                ". your original notebook\n",
                ". \n",
                "........................\n",
                "\n",
                "lineapy.save(object, 'artifact name')\n",
                "lineapy.to_pipeline(['artifact name', 'other artifact name', ... ], framework, pipeline_name, output_dir)\n",
                "\n",
                "```\n",
                " \n",
                "With just these three lines of code, LineaPy enables data scientists to produce runnable pipelines.\n",
                "For some orchestration systems, like Apache Airflow, LineaPy is even able to upload the runnable pipeline without any manual interaction."
            ]
        },
        {
            "cell_type": "markdown",
            "metadata": {},
            "source": [
                "## What will we learn in the rest of the notebook?\n",
                "\n",
                "In this demo, we are going to load two datasets and perform some operations reflective of data processing work.\n",
                "During this process, we will create two LineaPy artifacts (read more about them [here](https://docs.lineapy.org/en/latest/fundamentals/concepts.html#artifact)) and then create one pipeline that produces both artifacts at once.\n",
                "\n",
                "In the end, we will:\n",
                "\n",
                "* Demonstrate how to use the `to_pipeline()` method to:\n",
                "  * Create a native pipeline as a Python script and how to set it up in crontab.\n",
                "  * Create a native Airflow DAG that can populate in the Airflow DAG folder, which can be picked up by the Airflow scheduler seamlessly.\n",
                "* Investigate the `requirement.txt` output file to validate that LineaPy has saved the module dependency for the pipeline.\n",
                "\n",
                "In sum, this demo will show that LineaPy can help data scientists save time on pipeline building/management and focus more on what they are best at: generating insights with features created by the pipelines."
            ]
        },
        {
            "cell_type": "markdown",
            "metadata": {},
            "source": [
                "## Demo"
            ]
        },
        {
            "cell_type": "markdown",
            "metadata": {},
            "source": [
                "### A simple data pipeline with two artifacts\n",
                "\n",
                "In the example below, we will create two artifacts representing typical development steps in data science:\n",
                "\n",
                "1. Model training\n",
                "2. Making predictions\n",
                "\n",
                "We will then create a pipeline that combines both steps."
            ]
        },
        {
            "cell_type": "code",
            "execution_count": 3,
            "metadata": {},
            "outputs": [],
            "source": [
                "import pandas as pd\n",
                "import matplotlib.pyplot as plt\n",
                "from sklearn.linear_model import LinearRegression"
            ]
        },
        {
            "cell_type": "markdown",
            "metadata": {},
            "source": [
                "#### Model training"
            ]
        },
        {
            "cell_type": "code",
            "execution_count": 4,
            "metadata": {},
            "outputs": [
                {
                    "data": {
                        "text/html": [
                            "<div>\n",
                            "<style scoped>\n",
                            "    .dataframe tbody tr th:only-of-type {\n",
                            "        vertical-align: middle;\n",
                            "    }\n",
                            "\n",
                            "    .dataframe tbody tr th {\n",
                            "        vertical-align: top;\n",
                            "    }\n",
                            "\n",
                            "    .dataframe thead th {\n",
                            "        text-align: right;\n",
                            "    }\n",
                            "</style>\n",
                            "<table border=\"1\" class=\"dataframe\">\n",
                            "  <thead>\n",
                            "    <tr style=\"text-align: right;\">\n",
                            "      <th></th>\n",
                            "      <th>sepal.length</th>\n",
                            "      <th>sepal.width</th>\n",
                            "      <th>petal.length</th>\n",
                            "      <th>petal.width</th>\n",
                            "      <th>variety</th>\n",
                            "    </tr>\n",
                            "  </thead>\n",
                            "  <tbody>\n",
                            "    <tr>\n",
                            "      <th>0</th>\n",
                            "      <td>5.1</td>\n",
                            "      <td>3.5</td>\n",
                            "      <td>1.4</td>\n",
                            "      <td>0.2</td>\n",
                            "      <td>Setosa</td>\n",
                            "    </tr>\n",
                            "    <tr>\n",
                            "      <th>1</th>\n",
                            "      <td>4.9</td>\n",
                            "      <td>3.0</td>\n",
                            "      <td>1.4</td>\n",
                            "      <td>0.2</td>\n",
                            "      <td>Setosa</td>\n",
                            "    </tr>\n",
                            "    <tr>\n",
                            "      <th>2</th>\n",
                            "      <td>4.7</td>\n",
                            "      <td>3.2</td>\n",
                            "      <td>1.3</td>\n",
                            "      <td>0.2</td>\n",
                            "      <td>Setosa</td>\n",
                            "    </tr>\n",
                            "    <tr>\n",
                            "      <th>3</th>\n",
                            "      <td>4.6</td>\n",
                            "      <td>3.1</td>\n",
                            "      <td>1.5</td>\n",
                            "      <td>0.2</td>\n",
                            "      <td>Setosa</td>\n",
                            "    </tr>\n",
                            "    <tr>\n",
                            "      <th>4</th>\n",
                            "      <td>5.0</td>\n",
                            "      <td>3.6</td>\n",
                            "      <td>1.4</td>\n",
                            "      <td>0.2</td>\n",
                            "      <td>Setosa</td>\n",
                            "    </tr>\n",
                            "    <tr>\n",
                            "      <th>...</th>\n",
                            "      <td>...</td>\n",
                            "      <td>...</td>\n",
                            "      <td>...</td>\n",
                            "      <td>...</td>\n",
                            "      <td>...</td>\n",
                            "    </tr>\n",
                            "    <tr>\n",
                            "      <th>145</th>\n",
                            "      <td>6.7</td>\n",
                            "      <td>3.0</td>\n",
                            "      <td>5.2</td>\n",
                            "      <td>2.3</td>\n",
                            "      <td>Virginica</td>\n",
                            "    </tr>\n",
                            "    <tr>\n",
                            "      <th>146</th>\n",
                            "      <td>6.3</td>\n",
                            "      <td>2.5</td>\n",
                            "      <td>5.0</td>\n",
                            "      <td>1.9</td>\n",
                            "      <td>Virginica</td>\n",
                            "    </tr>\n",
                            "    <tr>\n",
                            "      <th>147</th>\n",
                            "      <td>6.5</td>\n",
                            "      <td>3.0</td>\n",
                            "      <td>5.2</td>\n",
                            "      <td>2.0</td>\n",
                            "      <td>Virginica</td>\n",
                            "    </tr>\n",
                            "    <tr>\n",
                            "      <th>148</th>\n",
                            "      <td>6.2</td>\n",
                            "      <td>3.4</td>\n",
                            "      <td>5.4</td>\n",
                            "      <td>2.3</td>\n",
                            "      <td>Virginica</td>\n",
                            "    </tr>\n",
                            "    <tr>\n",
                            "      <th>149</th>\n",
                            "      <td>5.9</td>\n",
                            "      <td>3.0</td>\n",
                            "      <td>5.1</td>\n",
                            "      <td>1.8</td>\n",
                            "      <td>Virginica</td>\n",
                            "    </tr>\n",
                            "  </tbody>\n",
                            "</table>\n",
                            "<p>150 rows × 5 columns</p>\n",
                            "</div>"
                        ],
                        "text/plain": [
                            "     sepal.length  sepal.width  petal.length  petal.width    variety\n",
                            "0             5.1          3.5           1.4          0.2     Setosa\n",
                            "1             4.9          3.0           1.4          0.2     Setosa\n",
                            "2             4.7          3.2           1.3          0.2     Setosa\n",
                            "3             4.6          3.1           1.5          0.2     Setosa\n",
                            "4             5.0          3.6           1.4          0.2     Setosa\n",
                            "..            ...          ...           ...          ...        ...\n",
                            "145           6.7          3.0           5.2          2.3  Virginica\n",
                            "146           6.3          2.5           5.0          1.9  Virginica\n",
                            "147           6.5          3.0           5.2          2.0  Virginica\n",
                            "148           6.2          3.4           5.4          2.3  Virginica\n",
                            "149           5.9          3.0           5.1          1.8  Virginica\n",
                            "\n",
                            "[150 rows x 5 columns]"
                        ]
                    },
                    "execution_count": 4,
                    "metadata": {},
                    "output_type": "execute_result"
                }
            ],
            "source": [
                "# Load train data\n",
                "url1 = \"https://raw.githubusercontent.com/LineaLabs/lineapy/main/examples/tutorials/data/iris.csv\"\n",
                "train_df = pd.read_csv(url1)\n",
                "train_df"
            ]
        },
        {
            "cell_type": "code",
            "execution_count": 5,
            "metadata": {},
            "outputs": [
                {
                    "data": {
                        "image/png": "[encoded data removed]",
                        "text/plain": [
                            "<Figure size 432x288 with 1 Axes>"
                        ]
                    },
                    "metadata": {
                        "needs_background": "light"
                    },
                    "output_type": "display_data"
                }
            ],
            "source": [
                "\n",
                "# Plot data\n",
                "train_df.plot.scatter(\"petal.width\", \"petal.length\")\n",
                "plt.show()"
            ]
        },
        {
            "cell_type": "code",
            "execution_count": 6,
            "metadata": {},
            "outputs": [],
            "source": [
                "# Initiate the model\n",
                "mod = LinearRegression()"
            ]
        },
        {
            "cell_type": "code",
            "execution_count": 7,
            "metadata": {},
            "outputs": [
                {
                    "data": {
                        "text/plain": [
                            "LinearRegression()"
                        ]
                    },
                    "execution_count": 7,
                    "metadata": {},
                    "output_type": "execute_result"
                }
            ],
            "source": [
                "# Fit the model\n",
                "mod.fit(\n",
                "    X=train_df[[\"petal.width\"]],\n",
                "    y=train_df[\"petal.length\"],\n",
                ")"
            ]
        },
        {
            "cell_type": "code",
            "execution_count": 8,
            "metadata": {},
            "outputs": [
                {
                    "data": {
                        "text/plain": [
                            "LineaArtifact(name='iris_model', _version=0)"
                        ]
                    },
                    "execution_count": 8,
                    "metadata": {},
                    "output_type": "execute_result"
                }
            ],
            "source": [
                "\n",
                "# Save the fitted model as an artifact\n",
                "lineapy.save(mod, \"iris_model\")"
            ]
        },
        {
            "cell_type": "markdown",
            "metadata": {},
            "source": [
                "#### Making predictions"
            ]
        },
        {
            "cell_type": "code",
            "execution_count": 9,
            "metadata": {},
            "outputs": [
                {
                    "data": {
                        "text/html": [
                            "<div>\n",
                            "<style scoped>\n",
                            "    .dataframe tbody tr th:only-of-type {\n",
                            "        vertical-align: middle;\n",
                            "    }\n",
                            "\n",
                            "    .dataframe tbody tr th {\n",
                            "        vertical-align: top;\n",
                            "    }\n",
                            "\n",
                            "    .dataframe thead th {\n",
                            "        text-align: right;\n",
                            "    }\n",
                            "</style>\n",
                            "<table border=\"1\" class=\"dataframe\">\n",
                            "  <thead>\n",
                            "    <tr style=\"text-align: right;\">\n",
                            "      <th></th>\n",
                            "      <th>sepal.length</th>\n",
                            "      <th>sepal.width</th>\n",
                            "      <th>petal.length</th>\n",
                            "      <th>petal.width</th>\n",
                            "      <th>variety</th>\n",
                            "    </tr>\n",
                            "  </thead>\n",
                            "  <tbody>\n",
                            "    <tr>\n",
                            "      <th>0</th>\n",
                            "      <td>5.1</td>\n",
                            "      <td>3.5</td>\n",
                            "      <td>1.4</td>\n",
                            "      <td>0.2</td>\n",
                            "      <td>Setosa</td>\n",
                            "    </tr>\n",
                            "    <tr>\n",
                            "      <th>1</th>\n",
                            "      <td>4.9</td>\n",
                            "      <td>3.0</td>\n",
                            "      <td>1.4</td>\n",
                            "      <td>0.2</td>\n",
                            "      <td>Setosa</td>\n",
                            "    </tr>\n",
                            "    <tr>\n",
                            "      <th>2</th>\n",
                            "      <td>4.7</td>\n",
                            "      <td>3.2</td>\n",
                            "      <td>1.3</td>\n",
                            "      <td>0.2</td>\n",
                            "      <td>Setosa</td>\n",
                            "    </tr>\n",
                            "    <tr>\n",
                            "      <th>3</th>\n",
                            "      <td>4.6</td>\n",
                            "      <td>3.1</td>\n",
                            "      <td>1.5</td>\n",
                            "      <td>0.2</td>\n",
                            "      <td>Setosa</td>\n",
                            "    </tr>\n",
                            "    <tr>\n",
                            "      <th>4</th>\n",
                            "      <td>5.0</td>\n",
                            "      <td>3.6</td>\n",
                            "      <td>1.4</td>\n",
                            "      <td>0.2</td>\n",
                            "      <td>Setosa</td>\n",
                            "    </tr>\n",
                            "    <tr>\n",
                            "      <th>...</th>\n",
                            "      <td>...</td>\n",
                            "      <td>...</td>\n",
                            "      <td>...</td>\n",
                            "      <td>...</td>\n",
                            "      <td>...</td>\n",
                            "    </tr>\n",
                            "    <tr>\n",
                            "      <th>145</th>\n",
                            "      <td>6.7</td>\n",
                            "      <td>3.0</td>\n",
                            "      <td>5.2</td>\n",
                            "      <td>2.3</td>\n",
                            "      <td>Virginica</td>\n",
                            "    </tr>\n",
                            "    <tr>\n",
                            "      <th>146</th>\n",
                            "      <td>6.3</td>\n",
                            "      <td>2.5</td>\n",
                            "      <td>5.0</td>\n",
                            "      <td>1.9</td>\n",
                            "      <td>Virginica</td>\n",
                            "    </tr>\n",
                            "    <tr>\n",
                            "      <th>147</th>\n",
                            "      <td>6.5</td>\n",
                            "      <td>3.0</td>\n",
                            "      <td>5.2</td>\n",
                            "      <td>2.0</td>\n",
                            "      <td>Virginica</td>\n",
                            "    </tr>\n",
                            "    <tr>\n",
                            "      <th>148</th>\n",
                            "      <td>6.2</td>\n",
                            "      <td>3.4</td>\n",
                            "      <td>5.4</td>\n",
                            "      <td>2.3</td>\n",
                            "      <td>Virginica</td>\n",
                            "    </tr>\n",
                            "    <tr>\n",
                            "      <th>149</th>\n",
                            "      <td>5.9</td>\n",
                            "      <td>3.0</td>\n",
                            "      <td>5.1</td>\n",
                            "      <td>1.8</td>\n",
                            "      <td>Virginica</td>\n",
                            "    </tr>\n",
                            "  </tbody>\n",
                            "</table>\n",
                            "<p>150 rows × 5 columns</p>\n",
                            "</div>"
                        ],
                        "text/plain": [
                            "     sepal.length  sepal.width  petal.length  petal.width    variety\n",
                            "0             5.1          3.5           1.4          0.2     Setosa\n",
                            "1             4.9          3.0           1.4          0.2     Setosa\n",
                            "2             4.7          3.2           1.3          0.2     Setosa\n",
                            "3             4.6          3.1           1.5          0.2     Setosa\n",
                            "4             5.0          3.6           1.4          0.2     Setosa\n",
                            "..            ...          ...           ...          ...        ...\n",
                            "145           6.7          3.0           5.2          2.3  Virginica\n",
                            "146           6.3          2.5           5.0          1.9  Virginica\n",
                            "147           6.5          3.0           5.2          2.0  Virginica\n",
                            "148           6.2          3.4           5.4          2.3  Virginica\n",
                            "149           5.9          3.0           5.1          1.8  Virginica\n",
                            "\n",
                            "[150 rows x 5 columns]"
                        ]
                    },
                    "execution_count": 9,
                    "metadata": {},
                    "output_type": "execute_result"
                }
            ],
            "source": [
                "# Load data to predict\n",
                "url2 = \"https://raw.githubusercontent.com/LineaLabs/lineapy/main/examples/tutorials/data/iris.csv\"\n",
                "pred_df = pd.read_csv(url2)\n",
                "pred_df"
            ]
        },
        {
            "cell_type": "code",
            "execution_count": 10,
            "metadata": {},
            "outputs": [],
            "source": [
                "# Make predictions\n",
                "petal_length_pred = mod.predict(X=pred_df[[\"petal.width\"]])"
            ]
        },
        {
            "cell_type": "code",
            "execution_count": 11,
            "metadata": {},
            "outputs": [
                {
                    "data": {
                        "text/plain": [
                            "LineaArtifact(name='iris_petal_length_pred', _version=0)"
                        ]
                    },
                    "execution_count": 11,
                    "metadata": {},
                    "output_type": "execute_result"
                }
            ],
            "source": [
                "\n",
                "# Save the predictions\n",
                "lineapy.save(petal_length_pred, \"iris_petal_length_pred\")"
            ]
        },
        {
            "cell_type": "markdown",
            "metadata": {
                "id": "7KLg5ziJ3yw2"
            },
            "source": [
                "### Create a pipeline from artifacts"
            ]
        },
        {
            "cell_type": "code",
            "execution_count": 12,
            "metadata": {
                "colab": {
                    "base_uri": "https://localhost:8080/",
                    "height": 135
                },
                "id": "3czXCWyRsMR_",
                "outputId": "ebd13062-06e4-42eb-9c30-8614ce58e3f8"
            },
            "outputs": [
                {
                    "name": "stderr",
                    "output_type": "stream",
                    "text": [
                        "Generated module file: python_script/demo_script_pipeline_module.py             \n",
                        "Generated requirements file: python_script/demo_script_pipeline_requirements.txt\n",
                        "Generated Docker file: python_script/demo_script_pipeline_Dockerfile            \n"
                    ]
                },
                {
                    "data": {
                        "text/plain": [
                            "PosixPath('python_script')"
                        ]
                    },
                    "execution_count": 12,
                    "metadata": {},
                    "output_type": "execute_result"
                }
            ],
            "source": [
                "\n",
                "lineapy.to_pipeline(\n",
                "    artifacts=[\"iris_model\", \"iris_petal_length_pred\"],\n",
                "    framework=\"SCRIPT\",\n",
                "    dependencies={\"iris_petal_length_pred\": {\"iris_model\"}},\n",
                "    input_parameters=[\"url1\", \"url2\"],  # Specify variables to parametrize\n",
                "    pipeline_name=\"demo_script_pipeline\",\n",
                "    output_dir=\"./python_script/\",\n",
                ")"
            ]
        },
        {
            "cell_type": "markdown",
            "metadata": {
                "id": "zycyCIokyZyd"
            },
            "source": [
                "### Validate the `to_pipeline()` output"
            ]
        },
        {
            "cell_type": "code",
            "execution_count": 13,
            "metadata": {
                "colab": {
                    "base_uri": "https://localhost:8080/"
                },
                "id": "X9k6hKmxykaA",
                "outputId": "5f9fa78f-ce97-4b2b-bfff-9a2e31242552"
            },
            "outputs": [
                {
                    "name": "stdout",
                    "output_type": "stream",
                    "text": [
                        "--------------------------------------------------------------------\n",
                        "validate lineapy has created all pipeline required files\n",
                        "--------------------------------------------------------------------\n",
                        "total 16K\n",
                        "drwxrwxr-x 2 mingjerli mingjerli 4.0K Sep 29 14:26 __pycache__\n",
                        "-rw-rw-r-- 1 mingjerli mingjerli 2.1K Sep 29 15:52 demo_script_pipeline_module.py\n",
                        "-rw-rw-r-- 1 mingjerli mingjerli   59 Sep 29 15:52 demo_script_pipeline_requirements.txt\n",
                        "-rw-rw-r-- 1 mingjerli mingjerli  335 Sep 29 15:52 demo_script_pipeline_Dockerfile\n",
                        "\n",
                        "\n",
                        "--------------------------------------------------------------------\n",
                        "python module: demo_script_pipeline_module.py\n",
                        "--------------------------------------------------------------------\n",
                        "import argparse\n",
                        "\n",
                        "import pandas as pd\n",
                        "from sklearn.linear_model import LinearRegression\n",
                        "\n",
                        "\n",
                        "def get_iris_model(url1):\n",
                        "    train_df = pd.read_csv(url1)\n",
                        "    mod = LinearRegression()\n",
                        "    mod.fit(\n",
                        "        X=train_df[[\"petal.width\"]],\n",
                        "        y=train_df[\"petal.length\"],\n",
                        "    )\n",
                        "    return mod\n",
                        "\n",
                        "\n",
                        "def get_iris_petal_length_pred(mod, url2):\n",
                        "    pred_df = pd.read_csv(url2)\n",
                        "    petal_length_pred = mod.predict(X=pred_df[[\"petal.width\"]])\n",
                        "    return petal_length_pred\n",
                        "\n",
                        "\n",
                        "def run_session_including_iris_model(\n",
                        "    url1=\"https://raw.githubusercontent.com/LineaLabs/lineapy/main/examples/tutorials/data/iris.csv\",\n",
                        "    url2=\"https://raw.githubusercontent.com/LineaLabs/lineapy/main/examples/tutorials/data/iris.csv\",\n",
                        "):\n",
                        "    # Given multiple artifacts, we need to save each right after\n",
                        "    # its calculation to protect from any irrelevant downstream\n",
                        "    # mutations (e.g., inside other artifact calculations)\n",
                        "    import copy\n",
                        "\n",
                        "    artifacts = dict()\n",
                        "    mod = get_iris_model(url1)\n",
                        "    artifacts[\"iris_model\"] = copy.deepcopy(mod)\n",
                        "    petal_length_pred = get_iris_petal_length_pred(mod, url2)\n",
                        "    artifacts[\"iris_petal_length_pred\"] = copy.deepcopy(petal_length_pred)\n",
                        "    return artifacts\n",
                        "\n",
                        "\n",
                        "def run_all_sessions(\n",
                        "    url1=\"https://raw.githubusercontent.com/LineaLabs/lineapy/main/examples/tutorials/data/iris.csv\",\n",
                        "    url2=\"https://raw.githubusercontent.com/LineaLabs/lineapy/main/examples/tutorials/data/iris.csv\",\n",
                        "):\n",
                        "    artifacts = dict()\n",
                        "    artifacts.update(run_session_including_iris_model(url1, url2))\n",
                        "    return artifacts\n",
                        "\n",
                        "\n",
                        "if __name__ == \"__main__\":\n",
                        "    # Edit this section to customize the behavior of artifacts\n",
                        "    parser = argparse.ArgumentParser()\n",
                        "    parser.add_argument(\n",
                        "        \"--url1\",\n",
                        "        type=str,\n",
                        "        default=\"https://raw.githubusercontent.com/LineaLabs/lineapy/main/examples/tutorials/data/iris.csv\",\n",
                        "    )\n",
                        "    parser.add_argument(\n",
                        "        \"--url2\",\n",
                        "        type=str,\n",
                        "        default=\"https://raw.githubusercontent.com/LineaLabs/lineapy/main/examples/tutorials/data/iris.csv\",\n",
                        "    )\n",
                        "    args = parser.parse_args()\n",
                        "    artifacts = run_all_sessions(\n",
                        "        url1=args.url1,\n",
                        "        url2=args.url2,\n",
                        "    )\n",
                        "    print(artifacts)\n",
                        "\n",
                        "\n",
                        "--------------------------------------------------------------------\n",
                        "module requirement: demo_script_pipeline_requirements.txt\n",
                        "--------------------------------------------------------------------\n",
                        "lineapy\n",
                        "pandas==1.3.5\n",
                        "matplotlib==3.5.1\n",
                        "scikit-learn==1.0.2"
                    ]
                }
            ],
            "source": [
                "\n",
                "%%sh\n",
                "echo '--------------------------------------------------------------------'\n",
                "echo 'validate lineapy has created all pipeline required files'\n",
                "echo '--------------------------------------------------------------------'\n",
                "ls -ltrh python_script\n",
                "echo '\\n'\n",
                "echo '--------------------------------------------------------------------'\n",
                "echo 'python module: demo_script_pipeline_module.py'\n",
                "echo '--------------------------------------------------------------------'\n",
                "cat python_script/demo_script_pipeline_module.py\n",
                "echo '\\n'\n",
                "echo '--------------------------------------------------------------------'\n",
                "echo 'module requirement: demo_script_pipeline_requirements.txt'\n",
                "echo '--------------------------------------------------------------------'\n",
                "cat python_script/demo_script_pipeline_requirements.txt"
            ]
        },
        {
            "cell_type": "markdown",
            "metadata": {
                "id": "znkJliRd0w1v"
            },
            "source": [
                "### Execute the pipeline from the command line\n",
                " \n",
                "We can re-execute the pipeline via python CLI directly.\n",
                " \n",
                "```bash\n",
                "python python_script/demo_script_pipeline_script_module.py\n",
                "```\n",
                "\n",
                "Since the pipeline has been parametrized, we can tune the parameters if desired. For instance, to make predictions on a different data set, we can run the following:\n",
                "\n",
                "```bash\n",
                "python python_script/demo_script_pipeline_script_module.py --url2=[NEW-DATA-URL]\n",
                "```\n",
                "\n",
                "If we need to recover the python environment, we can always run\n",
                " \n",
                "```bash\n",
                "pip install -r python_script/demo_script_pipeline_requirements.txt\n",
                "```\n",
                " \n",
                "to recover the original environment.\n",
                " \n",
                "#### Setup a cron job\n",
                " \n",
                "We can use crontab to schedule the pipeline by following the command (to run every hour)\n",
                " \n",
                "```bash\n",
                "crontab - \"0 * * * * python python_script/demo_script_pipeline_script_module.py\"\n",
                "```\n",
                " \n",
                "Note that you need to make sure that you are using the correct python environment and modify the path as the absolute path to the dag file."
            ]
        },
        {
            "cell_type": "markdown",
            "metadata": {},
            "source": [
                "### Create an Airflow pipeline\n",
                "\n",
                "Note that, if you set the `output_dir` to your Airflow dag folder, your Airflow can pick up the dag seamlessly.\n",
                "Of course, if you want to make sure the dag generated by LineaPy is reasonable or you want to add something (e.g., logging), you can make a change on the side and manually move the dag to your dag folder."
            ]
        },
        {
            "cell_type": "code",
            "execution_count": 14,
            "metadata": {
                "colab": {
                    "base_uri": "https://localhost:8080/",
                    "height": 135
                },
                "id": "hiDOXXBy1WG7",
                "outputId": "e613fc58-8d7e-4121-8a35-b1fddc884720"
            },
            "outputs": [
                {
                    "name": "stderr",
                    "output_type": "stream",
                    "text": [
                        "Generated module file: airflow_pipeline/demo_airflow_pipeline_module.py         \n",
                        "Generated requirements file:                                                    \n",
                        "airflow_pipeline/demo_airflow_pipeline_requirements.txt                         \n",
                        "Generated DAG file: airflow_pipeline/demo_airflow_pipeline_dag.py               \n",
                        "Generated Docker file: airflow_pipeline/demo_airflow_pipeline_Dockerfile        \n"
                    ]
                },
                {
                    "data": {
                        "text/plain": [
                            "PosixPath('airflow_pipeline')"
                        ]
                    },
                    "execution_count": 14,
                    "metadata": {},
                    "output_type": "execute_result"
                }
            ],
            "source": [
                "\n",
                "lineapy.to_pipeline(\n",
                "    artifacts=[\"iris_model\", \"iris_petal_length_pred\"],\n",
                "    framework=\"AIRFLOW\",\n",
                "    dependencies={\"iris_petal_length_pred\": {\"iris_model\"}},\n",
                "    input_parameters=[\"url1\", \"url2\"],  # Specify variables to parametrize\n",
                "    pipeline_name=\"demo_airflow_pipeline\",\n",
                "    output_dir=\"./airflow_pipeline/\",\n",
                ")"
            ]
        },
        {
            "cell_type": "code",
            "execution_count": 15,
            "metadata": {
                "colab": {
                    "base_uri": "https://localhost:8080/"
                },
                "id": "UL4DISXG1cEh",
                "outputId": "7be45a52-a2a1-423e-c4ae-40920e0e17bc"
            },
            "outputs": [
                {
                    "name": "stdout",
                    "output_type": "stream",
                    "text": [
                        "--------------------------------------------------------------------\n",
                        "validate lineapy has created all pipeline required files\n",
                        "--------------------------------------------------------------------\n",
                        "total 20K\n",
                        "drwxrwxr-x 2 mingjerli mingjerli 4.0K Sep 29 14:26 __pycache__\n",
                        "-rw-rw-r-- 1 mingjerli mingjerli 2.1K Sep 29 15:52 demo_airflow_pipeline_module.py\n",
                        "-rw-rw-r-- 1 mingjerli mingjerli   59 Sep 29 15:52 demo_airflow_pipeline_requirements.txt\n",
                        "-rw-rw-r-- 1 mingjerli mingjerli  356 Sep 29 15:52 demo_airflow_pipeline_Dockerfile\n",
                        "-rw-rw-r-- 1 mingjerli mingjerli 2.3K Sep 29 15:52 demo_airflow_pipeline_dag.py\n",
                        "\n",
                        "\n",
                        "--------------------------------------------------------------------\n",
                        "python module: demo_airflow_pipeline_module\n",
                        "--------------------------------------------------------------------\n",
                        "import argparse\n",
                        "\n",
                        "import pandas as pd\n",
                        "from sklearn.linear_model import LinearRegression\n",
                        "\n",
                        "\n",
                        "def get_iris_model(url1):\n",
                        "    train_df = pd.read_csv(url1)\n",
                        "    mod = LinearRegression()\n",
                        "    mod.fit(\n",
                        "        X=train_df[[\"petal.width\"]],\n",
                        "        y=train_df[\"petal.length\"],\n",
                        "    )\n",
                        "    return mod\n",
                        "\n",
                        "\n",
                        "def get_iris_petal_length_pred(mod, url2):\n",
                        "    pred_df = pd.read_csv(url2)\n",
                        "    petal_length_pred = mod.predict(X=pred_df[[\"petal.width\"]])\n",
                        "    return petal_length_pred\n",
                        "\n",
                        "\n",
                        "def run_session_including_iris_model(\n",
                        "    url1=\"https://raw.githubusercontent.com/LineaLabs/lineapy/main/examples/tutorials/data/iris.csv\",\n",
                        "    url2=\"https://raw.githubusercontent.com/LineaLabs/lineapy/main/examples/tutorials/data/iris.csv\",\n",
                        "):\n",
                        "    # Given multiple artifacts, we need to save each right after\n",
                        "    # its calculation to protect from any irrelevant downstream\n",
                        "    # mutations (e.g., inside other artifact calculations)\n",
                        "    import copy\n",
                        "\n",
                        "    artifacts = dict()\n",
                        "    mod = get_iris_model(url1)\n",
                        "    artifacts[\"iris_model\"] = copy.deepcopy(mod)\n",
                        "    petal_length_pred = get_iris_petal_length_pred(mod, url2)\n",
                        "    artifacts[\"iris_petal_length_pred\"] = copy.deepcopy(petal_length_pred)\n",
                        "    return artifacts\n",
                        "\n",
                        "\n",
                        "def run_all_sessions(\n",
                        "    url1=\"https://raw.githubusercontent.com/LineaLabs/lineapy/main/examples/tutorials/data/iris.csv\",\n",
                        "    url2=\"https://raw.githubusercontent.com/LineaLabs/lineapy/main/examples/tutorials/data/iris.csv\",\n",
                        "):\n",
                        "    artifacts = dict()\n",
                        "    artifacts.update(run_session_including_iris_model(url1, url2))\n",
                        "    return artifacts\n",
                        "\n",
                        "\n",
                        "if __name__ == \"__main__\":\n",
                        "    # Edit this section to customize the behavior of artifacts\n",
                        "    parser = argparse.ArgumentParser()\n",
                        "    parser.add_argument(\n",
                        "        \"--url1\",\n",
                        "        type=str,\n",
                        "        default=\"https://raw.githubusercontent.com/LineaLabs/lineapy/main/examples/tutorials/data/iris.csv\",\n",
                        "    )\n",
                        "    parser.add_argument(\n",
                        "        \"--url2\",\n",
                        "        type=str,\n",
                        "        default=\"https://raw.githubusercontent.com/LineaLabs/lineapy/main/examples/tutorials/data/iris.csv\",\n",
                        "    )\n",
                        "    args = parser.parse_args()\n",
                        "    artifacts = run_all_sessions(\n",
                        "        url1=args.url1,\n",
                        "        url2=args.url2,\n",
                        "    )\n",
                        "    print(artifacts)\n",
                        "\n",
                        "\n",
                        "--------------------------------------------------------------------\n",
                        "pipeline script: demo_airflow_pipeline_dag\n",
                        "--------------------------------------------------------------------\n",
                        "import pathlib\n",
                        "import pickle\n",
                        "\n",
                        "import demo_airflow_pipeline_module\n",
                        "from airflow import DAG\n",
                        "from airflow.operators.python_operator import PythonOperator\n",
                        "from airflow.utils.dates import days_ago\n",
                        "\n",
                        "\n",
                        "def dag_setup():\n",
                        "    pickle_folder = pathlib.Path(\"/tmp\").joinpath(\"demo_airflow_pipeline\")\n",
                        "    if not pickle_folder.exists():\n",
                        "        pickle_folder.mkdir()\n",
                        "\n",
                        "\n",
                        "def dag_teardown():\n",
                        "    pickle_files = (\n",
                        "        pathlib.Path(\"/tmp\").joinpath(\"demo_airflow_pipeline\").glob(\"*.pickle\")\n",
                        "    )\n",
                        "    for f in pickle_files:\n",
                        "        f.unlink()\n",
                        "\n",
                        "\n",
                        "def task_iris_model(url1):\n",
                        "\n",
                        "    url1 = str(url1)\n",
                        "\n",
                        "    mod = demo_airflow_pipeline_module.get_iris_model(url1)\n",
                        "\n",
                        "    pickle.dump(mod, open(\"/tmp/demo_airflow_pipeline/variable_mod.pickle\", \"wb\"))\n",
                        "\n",
                        "\n",
                        "def task_iris_petal_length_pred(url2):\n",
                        "\n",
                        "    url2 = str(url2)\n",
                        "\n",
                        "    mod = pickle.load(open(\"/tmp/demo_airflow_pipeline/variable_mod.pickle\", \"rb\"))\n",
                        "\n",
                        "    petal_length_pred = demo_airflow_pipeline_module.get_iris_petal_length_pred(\n",
                        "        mod, url2\n",
                        "    )\n",
                        "\n",
                        "    pickle.dump(\n",
                        "        petal_length_pred,\n",
                        "        open(\"/tmp/demo_airflow_pipeline/variable_petal_length_pred.pickle\", \"wb\"),\n",
                        "    )\n",
                        "\n",
                        "\n",
                        "default_dag_args = {\n",
                        "    \"owner\": \"airflow\",\n",
                        "    \"retries\": 2,\n",
                        "    \"start_date\": days_ago(1),\n",
                        "    \"params\": {\n",
                        "        \"url1\": \"https://raw.githubusercontent.com/LineaLabs/lineapy/main/examples/tutorials/data/iris.csv\",\n",
                        "        \"url2\": \"https://raw.githubusercontent.com/LineaLabs/lineapy/main/examples/tutorials/data/iris.csv\",\n",
                        "    },\n",
                        "}\n",
                        "\n",
                        "with DAG(\n",
                        "    dag_id=\"demo_airflow_pipeline_dag\",\n",
                        "    schedule_interval=\"*/15 * * * *\",\n",
                        "    max_active_runs=1,\n",
                        "    catchup=False,\n",
                        "    default_args=default_dag_args,\n",
                        ") as dag:\n",
                        "\n",
                        "    setup = PythonOperator(\n",
                        "        task_id=\"dag_setup\",\n",
                        "        python_callable=dag_setup,\n",
                        "    )\n",
                        "\n",
                        "    teardown = PythonOperator(\n",
                        "        task_id=\"dag_teardown\",\n",
                        "        python_callable=dag_teardown,\n",
                        "    )\n",
                        "\n",
                        "    iris_model = PythonOperator(\n",
                        "        task_id=\"iris_model_task\",\n",
                        "        python_callable=task_iris_model,\n",
                        "        op_kwargs={\"url1\": \"{{ params.url1 }}\"},\n",
                        "    )\n",
                        "\n",
                        "    iris_petal_length_pred = PythonOperator(\n",
                        "        task_id=\"iris_petal_length_pred_task\",\n",
                        "        python_callable=task_iris_petal_length_pred,\n",
                        "        op_kwargs={\"url2\": \"{{ params.url2 }}\"},\n",
                        "    )\n",
                        "\n",
                        "    iris_model >> iris_petal_length_pred\n",
                        "\n",
                        "    setup >> iris_model\n",
                        "\n",
                        "    iris_petal_length_pred >> teardown\n"
                    ]
                }
            ],
            "source": [
                "\n",
                "%%sh\n",
                "echo '--------------------------------------------------------------------'\n",
                "echo 'validate lineapy has created all pipeline required files'\n",
                "echo '--------------------------------------------------------------------'\n",
                "ls -ltrh airflow_pipeline\n",
                "echo '\\n'\n",
                "echo '--------------------------------------------------------------------'\n",
                "echo 'python module: demo_airflow_pipeline_module'\n",
                "echo '--------------------------------------------------------------------'\n",
                "cat airflow_pipeline/demo_airflow_pipeline_module.py\n",
                "echo '\\n'\n",
                "echo '--------------------------------------------------------------------'\n",
                "echo 'pipeline script: demo_airflow_pipeline_dag'\n",
                "echo '--------------------------------------------------------------------'\n",
                "cat airflow_pipeline/demo_airflow_pipeline_dag.py"
            ]
        },
        {
            "cell_type": "markdown",
            "metadata": {
                "id": "yBWTqxpQf8eZ"
            },
            "source": [
                "## Recap"
            ]
        },
        {
            "cell_type": "markdown",
            "metadata": {
                "id": "UNPKfp28UIFs"
            },
            "source": [
                "We have demonstrated that LineaPy can easily create and update your pipeline and make sure it is reproducible.\n",
                "This should save a lot of time for data scientist from pipeline operation time.\n",
                "\n",
                "To learn more about LineaPy, check out the project [documentation](https://docs.lineapy.org/en/latest/index.html)."
            ]
        }
    ],
    "metadata": {
        "colab": {
            "collapsed_sections": [],
            "name": "Scenario - create pipeline with LineaPy ",
            "provenance": []
        },
        "kernelspec": {
            "display_name": "Python 3.9.7 ('py39')",
            "language": "python",
            "name": "python3"
        },
        "language_info": {
            "codemirror_mode": {
                "name": "ipython",
                "version": 3
            },
            "file_extension": ".py",
            "mimetype": "text/x-python",
            "name": "python",
            "nbconvert_exporter": "python",
            "pygments_lexer": "ipython3",
            "version": "3.9.7"
        },
        "vscode": {
            "interpreter": {
                "hash": "7b13a91c030603db07ad54ba4f9266c0e4bd5a63bc20907813ff665f2d224783"
            }
        }
    },
    "nbformat": 4,
    "nbformat_minor": 4
}
