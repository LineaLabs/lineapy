{
    "cells": [
        {
            "cell_type": "code",
            "execution_count": 1,
            "id": "14d81963",
            "metadata": {
                "execution": {
                    "iopub.execute_input": "2021-11-15T19:48:42.726049Z",
                    "iopub.status.busy": "2021-11-15T19:48:42.725353Z",
                    "iopub.status.idle": "2021-11-15T19:48:42.759015Z",
                    "shell.execute_reply": "2021-11-15T19:48:42.759400Z"
                },
                "tags": []
            },
            "outputs": [],
            "source": [
                "x = 1"
            ]
        },
        {
            "cell_type": "code",
            "execution_count": 2,
            "id": "06ac3074-0510-43fe-86d2-84101db99956",
            "metadata": {
                "execution": {
                    "iopub.execute_input": "2021-11-15T19:48:42.762723Z",
                    "iopub.status.busy": "2021-11-15T19:48:42.762145Z",
                    "iopub.status.idle": "2021-11-15T19:48:43.078020Z",
                    "shell.execute_reply": "2021-11-15T19:48:43.078437Z"
                },
                "tags": []
            },
            "outputs": [
                {
                    "data": {
                        "text/html": [
                            "\n",
                            "            <div class=\"svg_container\">\n",
                            "                <style>\n",
                            "                    .svg_container SVG {\n",
                            "                        width: 100%;\n",
                            "                        height: 100%;\n",
                            "                    }\n",
                            "                </style>\n",
                            "                <script src=\"https://bumbu.me/svg-pan-zoom/dist/svg-pan-zoom.min.js\"></script>\n",
                            "                <script type=\"text/javascript\">\n",
                            "                    var scriptTag = document.scripts[document.scripts.length - 1];\n",
                            "                    var parentTag = scriptTag.parentNode;\n",
                            "                    var svg_el = parentTag.querySelector(\".svg_container svg\");\n",
                            "                    svgPanZoom(svg_el, {\n",
                            "                        controlIconsEnabled: true,\n",
                            "                        fit: true,\n",
                            "                        zoomScaleSensitivity: 1,\n",
                            "                        minZoom: 0.1,\n",
                            "                        maxZoom: 10\n",
                            "                    });\n",
                            "                </script>\n",
                            "                <!DOCTYPE svg  PUBLIC '-//W3C//DTD SVG 1.1//EN'  'http://www.w3.org/Graphics/SVG/1.1/DTD/svg11.dtd'>\n",
                            "<svg width=\"557pt\" height=\"556pt\" viewBox=\"0 0 557 556\" xmlns=\"http://www.w3.org/2000/svg\"><g class=\"graph\" transform=\"scale(1) translate(4 552)\"><polygon points=\"-4 4 -4 -552 553 -552 553 4\" fill=\"#fff\" stroke=\"transparent\"/><g class=\"cluster\"><polygon points=\"52.5 -8 52.5 -540 168.5 -540 168.5 -8\" fill=\"none\" stroke=\"#f2f2f2\"/><text x=\"110.5\" y=\"-524.8\" font-family=\"Helvetica,sans-Serif\" font-size=\"14\" text-anchor=\"middle\">Legend</text></g><g class=\"node\"><polygon points=\"70 -490.5 70 -508.5 95 -508.5 95 -490.5\" fill=\"#fddaec\" stroke=\"#f2f2f2\" stroke-width=\"0\"/><text x=\"82.5\" y=\"-496.7\" fill=\"#000000\" font-family=\"Helvetica,sans-Serif\" font-size=\"11\" text-anchor=\"middle\">Call</text><polygon points=\"0 -524 0 -539 70 -539 70 -524\" fill=\"#fed9a6\" stroke=\"transparent\"/><text x=\"4.5\" y=\"-529\" fill=\"#000000\" font-family=\"Helvetica,sans-Serif\" font-size=\"10\">Artifact Name</text><polygon points=\"0 -509 0 -524 70 -524 70 -509\" fill=\"#e5d8bd\" stroke=\"transparent\"/><text x=\"2\" y=\"-514\" fill=\"#000000\" font-family=\"Helvetica,sans-Serif\" font-size=\"10\">Variable Name</text><polygon points=\"100.5 -453 64.5 -453 64.5 -435 100.5 -435\" fill=\"#ccebc5\" stroke=\"#f2f2f2\" stroke-width=\"0\"/><text x=\"82.5\" y=\"-441.2\" fill=\"#000000\" font-family=\"Helvetica,sans-Serif\" font-size=\"11\" text-anchor=\"middle\">Literal</text><polygon points=\"101.5 -398 63.5 -398 63.5 -380 101.5 -380\" fill=\"#decbe4\" stroke=\"#f2f2f2\" stroke-width=\"0\"/><text x=\"82.5\" y=\"-386.2\" fill=\"#000000\" font-family=\"Helvetica,sans-Serif\" font-size=\"11\" text-anchor=\"middle\">Import</text><polygon points=\"104 -333.5 61 -333.5 61 -315.5 104 -315.5\" fill=\"#ffc\" stroke=\"#f2f2f2\" stroke-width=\"0\"/><text x=\"82.5\" y=\"-321.7\" fill=\"#000000\" font-family=\"Helvetica,sans-Serif\" font-size=\"11\" text-anchor=\"middle\">Lookup</text><polygon points=\"61.5 -250.5 61.5 -268.5 101.5 -268.5 101.5 -250.5\" fill=\"#fbb4ae\" stroke=\"#f2f2f2\" stroke-width=\"0\"/><text x=\"81.5\" y=\"-256.7\" fill=\"#000000\" font-family=\"Helvetica,sans-Serif\" font-size=\"11\" text-anchor=\"middle\">Mutate</text><polygon points=\"99.5 -213 61.5 -213 61.5 -195 99.5 -195\" fill=\"#e5d8bd\" stroke=\"#f2f2f2\" stroke-width=\"0\"/><text x=\"80.5\" y=\"-201.2\" fill=\"#000000\" font-family=\"Helvetica,sans-Serif\" font-size=\"11\" text-anchor=\"middle\">Global</text></g><g class=\"edge\"><path d=\"m79.5-156.87c-0.05 2.11-0.63 28.8-0.88 40.47\" fill=\"none\" stroke=\"#f2f2f2\" stroke-dasharray=\"1,5\"/><polygon points=\"78.5 -111.12 80.86 -116.07 78.56 -113.62 78.61 -116.12 78.61 -116.12 78.61 -116.12 78.56 -113.62 76.36 -116.17 78.5 -111.12\" fill=\"#f2f2f2\" stroke=\"#f2f2f2\"/><text x=\"106\" y=\"-131.8\" font-family=\"Helvetica,sans-Serif\" font-size=\"9\" text-anchor=\"middle\">Source Code</text><path d=\"m78.5-109.87v40.47\" fill=\"none\" stroke=\"#f2f2f2\" stroke-dasharray=\"5,2\"/><polygon points=\"78.5 -64.12 80.75 -69.12 78.5 -66.62 78.5 -69.12 78.5 -69.12 78.5 -69.12 78.5 -66.62 76.25 -69.12 78.5 -64.12\" fill=\"#f2f2f2\" stroke=\"#f2f2f2\"/><text x=\"101.5\" y=\"-84.8\" font-family=\"Helvetica,sans-Serif\" font-size=\"9\" text-anchor=\"middle\">Mutate Call</text><path d=\"m78.5-62.87v40.47\" fill=\"none\" stroke=\"#f2f2f2\" stroke-width=\"2\"/><polygon points=\"78.5 -17.12 80.75 -22.12 79 -19.62 79 -22.12 78.5 -22.12 78 -22.12 78 -19.62 76.25 -22.12 78.5 -17.12\" fill=\"#f2f2f2\" stroke=\"#f2f2f2\" stroke-width=\"2\"/><text x=\"119.5\" y=\"-37.8\" font-family=\"Helvetica,sans-Serif\" font-size=\"9\" text-anchor=\"middle\">Implicit Dependency</text></g><g class=\"node\"><polygon points=\"302 -453 289 -453 289 -435 302 -435\" fill=\"#ccebc5\" stroke=\"#f2f2f2\" stroke-width=\"0\"/><text x=\"295.5\" y=\"-441.2\" fill=\"#000000\" font-family=\"Courier,monospace\" font-size=\"11\" text-anchor=\"middle\">1</text><polygon points=\"278.5 -452.5 278.5 -467.5 289.5 -467.5 289.5 -452.5\" fill=\"#e5d8bd\" stroke=\"transparent\"/><text x=\"280.5\" y=\"-457.5\" fill=\"#000000\" font-family=\"Courier,monospace\" font-size=\"10\">x</text><polygon points=\"452 -398 399 -398 399 -380 452 -380\" fill=\"#decbe4\" stroke=\"#f2f2f2\" stroke-width=\"0\"/><text x=\"425.5\" y=\"-386.2\" fill=\"#000000\" font-family=\"Courier,monospace\" font-size=\"11\" text-anchor=\"middle\">lineapy</text><polygon points=\"352.5 -397.5 352.5 -412.5 399.5 -412.5 399.5 -397.5\" fill=\"#e5d8bd\" stroke=\"transparent\"/><text x=\"354.5\" y=\"-402.5\" fill=\"#000000\" font-family=\"Courier,monospace\" font-size=\"10\">lineapy</text><polygon points=\"337 -306.5 337 -342.5 390 -342.5 390 -306.5\" fill=\"#fddaec\" stroke=\"#f2f2f2\" stroke-width=\"0\"/><text x=\"347\" y=\"-321.7\" fill=\"#000000\" font-family=\"Courier,monospace\" font-size=\"11\" text-anchor=\"middle\">fn</text><polyline points=\"357 -306.5 357 -342.5\" fill=\"none\" stroke=\"#f2f2f2\" stroke-width=\"0\"/><text x=\"365\" y=\"-330.7\" fill=\"#000000\" font-family=\"Courier,monospace\" font-size=\"11\" text-anchor=\"middle\">0</text><polyline points=\"373 -324.5 373 -342.5\" fill=\"none\" stroke=\"#f2f2f2\" stroke-width=\"0\"/><text x=\"381.5\" y=\"-330.7\" fill=\"#000000\" font-family=\"Courier,monospace\" font-size=\"11\" text-anchor=\"middle\">1</text><polyline points=\"357 -324.5 390 -324.5\" fill=\"none\" stroke=\"#f2f2f2\" stroke-width=\"0\"/><text x=\"373.5\" y=\"-312.7\" fill=\"#000000\" font-family=\"Courier,monospace\" font-size=\"11\" text-anchor=\"middle\">args</text></g><g class=\"edge\" stroke=\"#f2f2f2\"><path d=\"m414.77-379.95c-13.48 10.11-35.97 26.97-45.16 33.87\" fill=\"none\"/><polygon points=\"365.5 -343 370.85 -344.2 367.5 -344.5 369.5 -346 369.5 -346 369.5 -346 367.5 -344.5 368.15 -347.8 365.5 -343\" fill=\"#f2f2f2\"/></g><g class=\"node\"><polygon points=\"230 -398 177 -398 177 -380 230 -380\" fill=\"#ffc\" stroke=\"#f2f2f2\" stroke-width=\"0\"/><text x=\"203.5\" y=\"-386.2\" fill=\"#000000\" font-family=\"Courier,monospace\" font-size=\"11\" text-anchor=\"middle\">getattr</text></g><g class=\"edge\" stroke=\"#f2f2f2\"><path d=\"m220.22-379.96c30.24 14.55 92.58 44.54 110.41 53.12\" fill=\"none\"/><polygon points=\"335.5 -324.5 331.97 -328.7 333.25 -325.58 330.99 -326.67 330.99 -326.67 330.99 -326.67 333.25 -325.58 330.02 -324.64 335.5 -324.5\" fill=\"#f2f2f2\"/></g><g class=\"node\"><polygon points=\"549 -398 470 -398 470 -380 549 -380\" fill=\"#ccebc5\" stroke=\"#f2f2f2\" stroke-width=\"0\"/><text x=\"509.5\" y=\"-386.2\" fill=\"#000000\" font-family=\"Courier,monospace\" font-size=\"11\" text-anchor=\"middle\">'visualize'</text></g><g class=\"edge\" stroke=\"#f2f2f2\"><path d=\"m492.09-379.96c-27.7 12.79-80.27 37.07-96.02 44.35\" fill=\"none\"/><polygon points=\"391.5 -333.5 396.98 -333.55 393.77 -334.55 396.04 -335.6 396.04 -335.6 396.04 -335.6 393.77 -334.55 395.1 -337.64 391.5 -333.5\" fill=\"#f2f2f2\"/></g><g class=\"node\"><polygon points=\"327.5 -508.5 287.5 -508.5 287.5 -490.5 327.5 -490.5\" fill=\"none\" stroke=\"#000\" stroke-width=\"0\"/><text x=\"290.5\" y=\"-496.7\" fill=\"#000000\" font-family=\"Courier,monospace\" font-size=\"11\">x = 1</text></g><g class=\"edge\" stroke=\"#f2f2f2\"><path d=\"m305.62-490.14c-1.91 8.53-4.91 21.89-7.14 31.87\" fill=\"none\" stroke-dasharray=\"1,5\"/><polygon points=\"297.32 -453.13 300.61 -457.51 297.87 -455.56 298.42 -458 298.42 -458 298.42 -458 297.87 -455.56 296.22 -458.5 297.32 -453.13\" fill=\"#f2f2f2\"/></g><g class=\"node\"><polygon points=\"419 -453 320 -453 320 -435 419 -435\" fill=\"none\" stroke=\"#000\" stroke-width=\"0\"/><text x=\"323\" y=\"-441.2\" fill=\"#000000\" font-family=\"Courier,monospace\" font-size=\"11\">import lineapy</text></g><g class=\"edge\" stroke=\"#f2f2f2\"><path d=\"m378.25-434.72c9.42 8.92 24.49 23.18 35.07 33.19\" fill=\"none\" stroke-dasharray=\"1,5\"/><polygon points=\"416.99 -398.05 414.91 -403.12 415.18 -399.77 413.36 -401.49 413.36 -401.49 413.36 -401.49 415.18 -399.77 411.82 -399.85 416.99 -398.05\" fill=\"#f2f2f2\"/></g><g class=\"node\"><polygon points=\"380.5 -398 248.5 -398 248.5 -380 380.5 -380\" fill=\"none\" stroke=\"#000\" stroke-width=\"0\"/><text x=\"251.5\" y=\"-386.2\" fill=\"#000000\" font-family=\"Courier,monospace\" font-size=\"11\">lineapy.visualize()</text></g><g class=\"edge\" stroke=\"#f2f2f2\"><path d=\"m320.91-379.83c6.56 8.37 17.03 21.73 25.95 33.11\" fill=\"none\" stroke-dasharray=\"1,5\"/><polygon points=\"350.07 -342.64 348.75 -347.96 348.52 -344.6 346.98 -346.57 346.98 -346.57 346.98 -346.57 348.52 -344.6 345.21 -345.18 350.07 -342.64\" fill=\"#f2f2f2\"/></g></g></svg>\n",
                            "\n",
                            "            </div>\n",
                            "        "
                        ],
                        "text/plain": [
                            "<IPython.core.display.HTML object>"
                        ]
                    },
                    "metadata": {},
                    "output_type": "display_data"
                }
            ],
            "source": [
                "# NBVAL_SKIP\n",
                "import lineapy\n",
                "\n",
                "lineapy.visualize()"
            ]
        },
        {
            "cell_type": "code",
            "execution_count": null,
            "id": "053f5ec7-9737-4c91-90d9-6d25c541ef59",
            "metadata": {},
            "outputs": [],
            "source": []
        }
    ],
    "metadata": {
        "kernelspec": {
            "display_name": "Python 3 (ipykernel)",
            "language": "python",
            "name": "python3"
        },
        "language_info": {
            "codemirror_mode": {
                "name": "ipython",
                "version": 3
            },
            "file_extension": ".py",
            "mimetype": "text/x-python",
            "name": "python",
            "nbconvert_exporter": "python",
            "pygments_lexer": "ipython3",
            "version": "3.9.7"
        },
        "widgets": {
            "application/vnd.jupyter.widget-state+json": {
                "state": {},
                "version_major": 2,
                "version_minor": 0
            }
        }
    },
    "nbformat": 4,
    "nbformat_minor": 5
}