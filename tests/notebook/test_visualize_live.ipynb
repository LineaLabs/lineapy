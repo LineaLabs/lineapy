{
    "cells": [
        {
            "cell_type": "code",
            "execution_count": 1,
            "id": "a2e95c3f-a5ce-452f-ab06-2f5e0cb4270f",
            "metadata": {
                "execution": {
                    "iopub.execute_input": "2021-11-15T19:48:48.958240Z",
                    "iopub.status.busy": "2021-11-15T19:48:48.957486Z",
                    "iopub.status.idle": "2021-11-15T19:48:49.002994Z",
                    "shell.execute_reply": "2021-11-15T19:48:49.003381Z"
                }
            },
            "outputs": [
                {
                    "data": {
                        "text/plain": [
                            "2"
                        ]
                    },
                    "execution_count": 1,
                    "metadata": {},
                    "output_type": "execute_result"
                }
            ],
            "source": [
                "1 + 1"
            ]
        },
        {
            "cell_type": "code",
            "execution_count": 2,
            "id": "14d81963",
            "metadata": {
                "execution": {
                    "iopub.execute_input": "2021-11-15T19:48:49.006600Z",
                    "iopub.status.busy": "2021-11-15T19:48:49.006065Z",
                    "iopub.status.idle": "2021-11-15T19:48:49.637176Z",
                    "shell.execute_reply": "2021-11-15T19:48:49.637514Z"
                },
                "tags": []
            },
            "outputs": [
                {
                    "data": {
                        "text/html": [
                            "\n",
                            "            <div class=\"svg_container\">\n",
                            "                <style>\n",
                            "                    .svg_container SVG {\n",
                            "                        width: 100%;\n",
                            "                        height: 100%;\n",
                            "                    }\n",
                            "                </style>\n",
                            "                <script src=\"https://bumbu.me/svg-pan-zoom/dist/svg-pan-zoom.min.js\"></script>\n",
                            "                <script type=\"text/javascript\">\n",
                            "                    var scriptTag = document.scripts[document.scripts.length - 1];\n",
                            "                    var parentTag = scriptTag.parentNode;\n",
                            "                    var svg_el = parentTag.querySelector(\".svg_container svg\");\n",
                            "                    svgPanZoom(svg_el, {\n",
                            "                        controlIconsEnabled: true,\n",
                            "                        fit: true,\n",
                            "                        zoomScaleSensitivity: 1,\n",
                            "                        minZoom: 0.1,\n",
                            "                        maxZoom: 10\n",
                            "                    });\n",
                            "                </script>\n",
                            "                <!DOCTYPE svg  PUBLIC '-//W3C//DTD SVG 1.1//EN'  'http://www.w3.org/Graphics/SVG/1.1/DTD/svg11.dtd'>\n",
                            "<svg width=\"713pt\" height=\"593pt\" viewBox=\"0 0 713 593\" xmlns=\"http://www.w3.org/2000/svg\"><g class=\"graph\" transform=\"scale(1) translate(4 589)\"><polygon points=\"-4 4 -4 -589 709 -589 709 4\" fill=\"#fff\" stroke=\"transparent\"/><g class=\"cluster\"><polygon points=\"52.5 -8 52.5 -577 168.5 -577 168.5 -8\" fill=\"none\" stroke=\"#f2f2f2\"/><text x=\"110.5\" y=\"-561.8\" font-family=\"Helvetica,sans-Serif\" font-size=\"14\" text-anchor=\"middle\">Legend</text></g><g class=\"node\"><polygon points=\"70 -527.5 70 -545.5 95 -545.5 95 -527.5\" fill=\"#fddaec\" stroke=\"#f2f2f2\" stroke-width=\"0\"/><text x=\"82.5\" y=\"-533.7\" fill=\"#000000\" font-family=\"Helvetica,sans-Serif\" font-size=\"11\" text-anchor=\"middle\">Call</text><polygon points=\"0 -561 0 -576 70 -576 70 -561\" fill=\"#fed9a6\" stroke=\"transparent\"/><text x=\"4.5\" y=\"-566\" fill=\"#000000\" font-family=\"Helvetica,sans-Serif\" font-size=\"10\">Artifact Name</text><polygon points=\"0 -546 0 -561 70 -561 70 -546\" fill=\"#e5d8bd\" stroke=\"transparent\"/><text x=\"2\" y=\"-551\" fill=\"#000000\" font-family=\"Helvetica,sans-Serif\" font-size=\"10\">Variable Name</text><polygon points=\"100.5 -490 64.5 -490 64.5 -472 100.5 -472\" fill=\"#ccebc5\" stroke=\"#f2f2f2\" stroke-width=\"0\"/><text x=\"82.5\" y=\"-478.2\" fill=\"#000000\" font-family=\"Helvetica,sans-Serif\" font-size=\"11\" text-anchor=\"middle\">Literal</text><polygon points=\"101.5 -425.5 63.5 -425.5 63.5 -407.5 101.5 -407.5\" fill=\"#decbe4\" stroke=\"#f2f2f2\" stroke-width=\"0\"/><text x=\"82.5\" y=\"-413.7\" fill=\"#000000\" font-family=\"Helvetica,sans-Serif\" font-size=\"11\" text-anchor=\"middle\">Import</text><polygon points=\"104 -351.5 61 -351.5 61 -333.5 104 -333.5\" fill=\"#ffc\" stroke=\"#f2f2f2\" stroke-width=\"0\"/><text x=\"82.5\" y=\"-339.7\" fill=\"#000000\" font-family=\"Helvetica,sans-Serif\" font-size=\"11\" text-anchor=\"middle\">Lookup</text><polygon points=\"61.5 -259.5 61.5 -277.5 101.5 -277.5 101.5 -259.5\" fill=\"#fbb4ae\" stroke=\"#f2f2f2\" stroke-width=\"0\"/><text x=\"81.5\" y=\"-265.7\" fill=\"#000000\" font-family=\"Helvetica,sans-Serif\" font-size=\"11\" text-anchor=\"middle\">Mutate</text><polygon points=\"99.5 -213 61.5 -213 61.5 -195 99.5 -195\" fill=\"#e5d8bd\" stroke=\"#f2f2f2\" stroke-width=\"0\"/><text x=\"80.5\" y=\"-201.2\" fill=\"#000000\" font-family=\"Helvetica,sans-Serif\" font-size=\"11\" text-anchor=\"middle\">Global</text></g><g class=\"edge\"><path d=\"m79.5-156.87c-0.05 2.11-0.63 28.8-0.88 40.47\" fill=\"none\" stroke=\"#f2f2f2\" stroke-dasharray=\"1,5\"/><polygon points=\"78.5 -111.12 80.86 -116.07 78.56 -113.62 78.61 -116.12 78.61 -116.12 78.61 -116.12 78.56 -113.62 76.36 -116.17 78.5 -111.12\" fill=\"#f2f2f2\" stroke=\"#f2f2f2\"/><text x=\"106\" y=\"-131.8\" font-family=\"Helvetica,sans-Serif\" font-size=\"9\" text-anchor=\"middle\">Source Code</text><path d=\"m78.5-109.87v40.47\" fill=\"none\" stroke=\"#f2f2f2\" stroke-dasharray=\"5,2\"/><polygon points=\"78.5 -64.12 80.75 -69.12 78.5 -66.62 78.5 -69.12 78.5 -69.12 78.5 -69.12 78.5 -66.62 76.25 -69.12 78.5 -64.12\" fill=\"#f2f2f2\" stroke=\"#f2f2f2\"/><text x=\"101.5\" y=\"-84.8\" font-family=\"Helvetica,sans-Serif\" font-size=\"9\" text-anchor=\"middle\">Mutate Call</text><path d=\"m78.5-62.87v40.47\" fill=\"none\" stroke=\"#f2f2f2\" stroke-width=\"2\"/><polygon points=\"78.5 -17.12 80.75 -22.12 79 -19.62 79 -22.12 78.5 -22.12 78 -22.12 78 -19.62 76.25 -22.12 78.5 -17.12\" fill=\"#f2f2f2\" stroke=\"#f2f2f2\" stroke-width=\"2\"/><text x=\"119.5\" y=\"-37.8\" font-family=\"Helvetica,sans-Serif\" font-size=\"9\" text-anchor=\"middle\">Implicit Dependency</text></g><g class=\"node\"><polygon points=\"272 -490 259 -490 259 -472 272 -472\" fill=\"#ccebc5\" stroke=\"#f2f2f2\" stroke-width=\"0\"/><text x=\"265.5\" y=\"-478.2\" fill=\"#000000\" font-family=\"Courier,monospace\" font-size=\"11\" text-anchor=\"middle\">1</text><polygon points=\"204 -398.5 204 -434.5 257 -434.5 257 -398.5\" fill=\"#fddaec\" stroke=\"#f2f2f2\" stroke-width=\"0\"/><text x=\"214\" y=\"-413.7\" fill=\"#000000\" font-family=\"Courier,monospace\" font-size=\"11\" text-anchor=\"middle\">fn</text><polyline points=\"224 -398.5 224 -434.5\" fill=\"none\" stroke=\"#f2f2f2\" stroke-width=\"0\"/><text x=\"232\" y=\"-422.7\" fill=\"#000000\" font-family=\"Courier,monospace\" font-size=\"11\" text-anchor=\"middle\">0</text><polyline points=\"240 -416.5 240 -434.5\" fill=\"none\" stroke=\"#f2f2f2\" stroke-width=\"0\"/><text x=\"248.5\" y=\"-422.7\" fill=\"#000000\" font-family=\"Courier,monospace\" font-size=\"11\" text-anchor=\"middle\">1</text><polyline points=\"224 -416.5 257 -416.5\" fill=\"none\" stroke=\"#f2f2f2\" stroke-width=\"0\"/><text x=\"240.5\" y=\"-404.7\" fill=\"#000000\" font-family=\"Courier,monospace\" font-size=\"11\" text-anchor=\"middle\">args</text></g><g class=\"edge\" stroke=\"#f2f2f2\"><path d=\"m259.45-471.75c-7 9.54-18.25 24.89-23.74 32.37\" fill=\"none\"/><polygon points=\"232.5 -435 237.27 -437.7 233.98 -437.02 235.46 -439.03 235.46 -439.03 235.46 -439.03 233.98 -437.02 233.64 -440.36 232.5 -435\" fill=\"#f2f2f2\"/></g><g class=\"node\"><polygon points=\"303 -490 290 -490 290 -472 303 -472\" fill=\"#ccebc5\" stroke=\"#f2f2f2\" stroke-width=\"0\"/><text x=\"296.5\" y=\"-478.2\" fill=\"#000000\" font-family=\"Courier,monospace\" font-size=\"11\" text-anchor=\"middle\">1</text></g><g class=\"edge\" stroke=\"#f2f2f2\"><path d=\"m290.89-471.96c-8.17 11.73-23.08 33.11-29.41 42.19\" fill=\"none\"/><polygon points=\"258.5 -425.5 263.21 -428.31 259.93 -427.55 261.36 -429.6 261.36 -429.6 261.36 -429.6 259.93 -427.55 259.51 -430.89 258.5 -425.5\" fill=\"#f2f2f2\"/></g><g class=\"node\"><polygon points=\"202.5 -490 176.5 -490 176.5 -472 202.5 -472\" fill=\"#ffc\" stroke=\"#f2f2f2\" stroke-width=\"0\"/><text x=\"189.5\" y=\"-478.2\" fill=\"#000000\" font-family=\"Courier,monospace\" font-size=\"11\" text-anchor=\"middle\">add</text></g><g class=\"edge\" stroke=\"#f2f2f2\"><path d=\"m193.9-471.75c4.98 9.34 12.93 24.24 17 31.88\" fill=\"none\"/><polygon points=\"213.5 -435 213.13 -440.47 212.32 -437.21 211.15 -439.41 211.15 -439.41 211.15 -439.41 212.32 -437.21 209.16 -438.35 213.5 -435\" fill=\"#f2f2f2\"/></g><g class=\"node\"><polygon points=\"399 -425.5 346 -425.5 346 -407.5 399 -407.5\" fill=\"#decbe4\" stroke=\"#f2f2f2\" stroke-width=\"0\"/><text x=\"372.5\" y=\"-413.7\" fill=\"#000000\" font-family=\"Courier,monospace\" font-size=\"11\" text-anchor=\"middle\">lineapy</text><polygon points=\"299.5 -425 299.5 -440 346.5 -440 346.5 -425\" fill=\"#e5d8bd\" stroke=\"transparent\"/><text x=\"301.5\" y=\"-430\" fill=\"#000000\" font-family=\"Courier,monospace\" font-size=\"10\">lineapy</text><polygon points=\"405 -324.5 405 -360.5 458 -360.5 458 -324.5\" fill=\"#fddaec\" stroke=\"#f2f2f2\" stroke-width=\"0\"/><text x=\"415\" y=\"-339.7\" fill=\"#000000\" font-family=\"Courier,monospace\" font-size=\"11\" text-anchor=\"middle\">fn</text><polyline points=\"425 -324.5 425 -360.5\" fill=\"none\" stroke=\"#f2f2f2\" stroke-width=\"0\"/><text x=\"433\" y=\"-348.7\" fill=\"#000000\" font-family=\"Courier,monospace\" font-size=\"11\" text-anchor=\"middle\">0</text><polyline points=\"441 -342.5 441 -360.5\" fill=\"none\" stroke=\"#f2f2f2\" stroke-width=\"0\"/><text x=\"449.5\" y=\"-348.7\" fill=\"#000000\" font-family=\"Courier,monospace\" font-size=\"11\" text-anchor=\"middle\">1</text><polyline points=\"425 -342.5 458 -342.5\" fill=\"none\" stroke=\"#f2f2f2\" stroke-width=\"0\"/><text x=\"441.5\" y=\"-330.7\" fill=\"#000000\" font-family=\"Courier,monospace\" font-size=\"11\" text-anchor=\"middle\">args</text></g><g class=\"edge\" stroke=\"#f2f2f2\"><path d=\"m381.5-407.46c13.52 12.08 38.51 34.41 48.11 42.98\" fill=\"none\"/><polygon points=\"433.5 -361 431.27 -366.01 431.64 -362.67 429.77 -364.33 429.77 -364.33 429.77 -364.33 431.64 -362.67 428.27 -362.65 433.5 -361\" fill=\"#f2f2f2\"/></g><g class=\"node\"><polygon points=\"607 -351.5 574 -351.5 574 -333.5 607 -333.5\" fill=\"#ccebc5\" stroke=\"#f2f2f2\" stroke-width=\"0\"/><text x=\"590.5\" y=\"-339.7\" fill=\"#000000\" font-family=\"Courier,monospace\" font-size=\"11\" text-anchor=\"middle\">True</text><polygon points=\"512.5 -250.5 512.5 -286.5 578.5 -286.5 578.5 -250.5\" fill=\"#fddaec\" stroke=\"#f2f2f2\" stroke-width=\"0\"/><text x=\"522.5\" y=\"-265.7\" fill=\"#000000\" font-family=\"Courier,monospace\" font-size=\"11\" text-anchor=\"middle\">fn</text><polyline points=\"532.5 -250.5 532.5 -286.5\" fill=\"none\" stroke=\"#f2f2f2\" stroke-width=\"0\"/><text x=\"555.5\" y=\"-274.7\" fill=\"#000000\" font-family=\"Courier,monospace\" font-size=\"11\" text-anchor=\"middle\">live</text><polyline points=\"532.5 -268.5 578.5 -268.5\" fill=\"none\" stroke=\"#f2f2f2\" stroke-width=\"0\"/><text x=\"555.5\" y=\"-256.7\" fill=\"#000000\" font-family=\"Courier,monospace\" font-size=\"11\" text-anchor=\"middle\">kwargs</text></g><g class=\"edge\" stroke=\"#f2f2f2\"><path d=\"m589.11-333.39c-2.29 13.32-6.79 39.47-8.71 50.63\" fill=\"none\"/><polygon points=\"579.5 -277.5 582.56 -282.05 579.92 -279.96 580.35 -282.43 580.35 -282.43 580.35 -282.43 579.92 -279.96 578.13 -282.81 579.5 -277.5\" fill=\"#f2f2f2\"/></g><g class=\"node\"><polygon points=\"328 -425.5 275 -425.5 275 -407.5 328 -407.5\" fill=\"#ffc\" stroke=\"#f2f2f2\" stroke-width=\"0\"/><text x=\"301.5\" y=\"-413.7\" fill=\"#000000\" font-family=\"Courier,monospace\" font-size=\"11\" text-anchor=\"middle\">getattr</text></g><g class=\"edge\" stroke=\"#f2f2f2\"><path d=\"m312.81-407.41c22.4 16.04 71.56 51.22 86.38 61.83\" fill=\"none\"/><polygon points=\"403.5 -342.5 400.74 -347.24 401.47 -343.95 399.43 -345.41 399.43 -345.41 399.43 -345.41 401.47 -343.95 398.12 -343.58 403.5 -342.5\" fill=\"#f2f2f2\"/></g><g class=\"node\"><polygon points=\"496 -425.5 417 -425.5 417 -407.5 496 -407.5\" fill=\"#ccebc5\" stroke=\"#f2f2f2\" stroke-width=\"0\"/><text x=\"456.5\" y=\"-413.7\" fill=\"#000000\" font-family=\"Courier,monospace\" font-size=\"11\" text-anchor=\"middle\">'visualize'</text></g><g class=\"edge\" stroke=\"#f2f2f2\"><path d=\"m455.47-407.46c-1.46 11.37-4.09 31.82-5.31 41.33\" fill=\"none\"/><polygon points=\"449.5 -361 452.37 -365.67 449.82 -363.48 450.14 -365.96 450.14 -365.96 450.14 -365.96 449.82 -363.48 447.91 -366.25 449.5 -361\" fill=\"#f2f2f2\"/><path d=\"m458.31-325.44c21.18 12.68 48.9 29.28 59.65 35.72\" fill=\"none\"/><polygon points=\"522.5 -287 519.37 -291.5 520.36 -288.28 518.21 -289.57 518.21 -289.57 518.21 -289.57 520.36 -288.28 517.05 -287.64 522.5 -287\" fill=\"#f2f2f2\"/></g><g class=\"node\"><polygon points=\"638 -277.5 625 -277.5 625 -259.5 638 -259.5\" fill=\"#ccebc5\" stroke=\"#f2f2f2\" stroke-width=\"0\"/><text x=\"631.5\" y=\"-265.7\" fill=\"#000000\" font-family=\"Courier,monospace\" font-size=\"11\" text-anchor=\"middle\">3</text><polygon points=\"300.5 -545.5 260.5 -545.5 260.5 -527.5 300.5 -527.5\" fill=\"none\" stroke=\"#000\" stroke-width=\"0\"/><text x=\"263.5\" y=\"-533.7\" fill=\"#000000\" font-family=\"Courier,monospace\" font-size=\"11\">1 + 1</text></g><g class=\"edge\" stroke=\"#f2f2f2\"><path d=\"m278.16-527.14c-2.42 8.61-6.21 22.14-9.02 32.15\" fill=\"none\" stroke-dasharray=\"1,5\"/><polygon points=\"267.78 -490.13 271.29 -494.33 268.45 -492.53 269.13 -494.94 269.13 -494.94 269.13 -494.94 268.45 -492.53 266.96 -495.55 267.78 -490.13\" fill=\"#f2f2f2\"/><path d=\"m283-527.14c2.57 8.61 6.62 22.14 9.61 32.15\" fill=\"none\" stroke-dasharray=\"1,5\"/><polygon points=\"294.07 -490.13 294.79 -495.56 293.35 -492.52 292.64 -494.92 292.64 -494.92 292.64 -494.92 293.35 -492.52 290.48 -494.27 294.07 -490.13\" fill=\"#f2f2f2\"/><path d=\"m275-527.15c-8.66 13.13-24.5 37.15-24.5 37.15s-8.01 29.04-13.89 50.36\" fill=\"none\" stroke-dasharray=\"1,5\"/><polygon points=\"235.24 -434.68 238.74 -438.9 235.9 -437.09 236.57 -439.5 236.57 -439.5 236.57 -439.5 235.9 -437.09 234.4 -440.1 235.24 -434.68\" fill=\"#f2f2f2\"/></g><g class=\"node\"><polygon points=\"422 -490 323 -490 323 -472 422 -472\" fill=\"none\" stroke=\"#000\" stroke-width=\"0\"/><text x=\"326\" y=\"-478.2\" fill=\"#000000\" font-family=\"Courier,monospace\" font-size=\"11\">import lineapy</text></g><g class=\"edge\" stroke=\"#f2f2f2\"><path d=\"m372.5-471.83v40.68\" fill=\"none\" stroke-dasharray=\"1,5\"/><polygon points=\"372.5 -425.87 374.75 -430.87 372.5 -428.37 372.5 -430.87 372.5 -430.87 372.5 -430.87 372.5 -428.37 370.25 -430.87 372.5 -425.87\" fill=\"#f2f2f2\"/></g><g class=\"node\"><polygon points=\"705 -425.5 514 -425.5 514 -407.5 705 -407.5\" fill=\"none\" stroke=\"#000\" stroke-width=\"0\"/><text x=\"517\" y=\"-413.7\" fill=\"#000000\" font-family=\"Courier,monospace\" font-size=\"11\">lineapy.visualize(live=True)</text></g><g class=\"edge\" stroke=\"#f2f2f2\"><path d=\"m607.32-407.24c-3.26 12.37-9.45 35.83-13.35 50.57\" fill=\"none\" stroke-dasharray=\"1,5\"/><polygon points=\"592.65 -351.66 596.11 -355.92 593.29 -354.08 593.93 -356.5 593.93 -356.5 593.93 -356.5 593.29 -354.08 591.75 -357.07 592.65 -351.66\" fill=\"#f2f2f2\"/><path d=\"m589.43-407.38c-30.81 12.46-89.99 36.4-126.51 51.17\" fill=\"none\" stroke-dasharray=\"1,5\"/><polygon points=\"458.14 -354.28 463.62 -354.07 460.46 -355.21 462.78 -356.15 462.78 -356.15 462.78 -356.15 460.46 -355.21 461.93 -358.24 458.14 -354.28\" fill=\"#f2f2f2\"/><path d=\"m603.01-407.46c-12.24 15.16-37.51 46.46-37.51 46.46s-9.18 42-15.1 69.09\" fill=\"none\" stroke-dasharray=\"1,5\"/><polygon points=\"549.26 -286.71 552.53 -291.11 549.8 -289.15 550.33 -291.6 550.33 -291.6 550.33 -291.6 549.8 -289.15 548.13 -292.08 549.26 -286.71\" fill=\"#f2f2f2\"/></g><g class=\"node\"><polygon points=\"638 -351.5 625 -351.5 625 -333.5 638 -333.5\" fill=\"none\" stroke=\"#000\" stroke-width=\"0\"/><text x=\"628\" y=\"-339.7\" fill=\"#000000\" font-family=\"Courier,monospace\" font-size=\"11\">3</text></g><g class=\"edge\" stroke=\"#f2f2f2\"><path d=\"m631.5-333.24v50.57\" fill=\"none\" stroke-dasharray=\"1,5\"/><polygon points=\"631.5 -277.66 633.75 -282.66 631.5 -280.16 631.5 -282.66 631.5 -282.66 631.5 -282.66 631.5 -280.16 629.25 -282.66 631.5 -277.66\" fill=\"#f2f2f2\"/></g></g></svg>\n",
                            "\n",
                            "            </div>\n",
                            "        "
                        ],
                        "text/plain": [
                            "<IPython.core.display.HTML object>"
                        ]
                    },
                    "metadata": {},
                    "output_type": "display_data"
                }
            ],
            "source": [
                "# NBVAL_SKIP\n",
                "import lineapy\n",
                "\n",
                "lineapy.visualize(live=True)"
            ]
        },
        {
            "cell_type": "code",
            "execution_count": 3,
            "id": "06ac3074-0510-43fe-86d2-84101db99956",
            "metadata": {
                "execution": {
                    "iopub.execute_input": "2021-11-15T19:48:49.641736Z",
                    "iopub.status.busy": "2021-11-15T19:48:49.641261Z",
                    "iopub.status.idle": "2021-11-15T19:48:49.994717Z",
                    "shell.execute_reply": "2021-11-15T19:48:49.995314Z"
                },
                "tags": []
            },
            "outputs": [
                {
                    "data": {
                        "text/plain": [
                            "3"
                        ]
                    },
                    "execution_count": 3,
                    "metadata": {},
                    "output_type": "execute_result"
                }
            ],
            "source": [
                "3"
            ]
        },
        {
            "cell_type": "code",
            "execution_count": null,
            "id": "99d045be-a499-4f1a-b0f2-4ffe69862cb8",
            "metadata": {},
            "outputs": [],
            "source": []
        }
    ],
    "metadata": {
        "kernelspec": {
            "display_name": "Python 3 (ipykernel)",
            "language": "python",
            "name": "python3"
        },
        "language_info": {
            "codemirror_mode": {
                "name": "ipython",
                "version": 3
            },
            "file_extension": ".py",
            "mimetype": "text/x-python",
            "name": "python",
            "nbconvert_exporter": "python",
            "pygments_lexer": "ipython3",
            "version": "3.9.7"
        },
        "widgets": {
            "application/vnd.jupyter.widget-state+json": {
                "state": {},
                "version_major": 2,
                "version_minor": 0
            }
        }
    },
    "nbformat": 4,
    "nbformat_minor": 5
}