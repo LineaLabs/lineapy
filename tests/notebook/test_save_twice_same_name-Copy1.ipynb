{
 "cells": [
  {
   "cell_type": "markdown",
   "id": "b26ff134-c2bd-4034-bf51-0a3635cd3735",
   "metadata": {},
   "source": [
    "Verify that if we save the same node twice, it is the same artifact"
   ]
  },
  {
   "cell_type": "code",
   "execution_count": 1,
   "id": "9f55bab4-a08e-420f-94dd-ee9af663adad",
   "metadata": {},
   "outputs": [],
   "source": [
    "import lineapy"
   ]
  },
  {
   "cell_type": "code",
   "execution_count": 2,
   "id": "ae4f6c42-e768-432b-9283-3ccc415603de",
   "metadata": {},
   "outputs": [],
   "source": [
    "x = 100"
   ]
  },
  {
   "cell_type": "code",
   "execution_count": 3,
   "id": "9a8f46a7-2555-4676-9d1d-7c6e39e23541",
   "metadata": {},
   "outputs": [],
   "source": [
    "res1 = lineapy.save(x, \"x\")"
   ]
  },
  {
   "cell_type": "code",
   "execution_count": 4,
   "id": "f61741ae-abbb-4d5e-b251-75994f994ed0",
   "metadata": {},
   "outputs": [],
   "source": [
    "res2 = lineapy.save(x, \"x\")"
   ]
  },
  {
   "cell_type": "code",
   "execution_count": 5,
   "id": "821e8102-8f94-43e7-a3f5-c427121e2856",
   "metadata": {},
   "outputs": [],
   "source": [
    "assert res1.node_id == res2.node_id"
   ]
  },
  {
   "cell_type": "code",
   "execution_count": null,
   "id": "9b66d8ed-97f1-4bf5-9101-7fa36045c275",
   "metadata": {},
   "outputs": [],
   "source": []
  }
 ],
 "metadata": {
  "kernelspec": {
   "display_name": "Python 3 (ipykernel)",
   "language": "python",
   "name": "python3"
  },
  "language_info": {
   "codemirror_mode": {
    "name": "ipython",
    "version": 3
   },
   "file_extension": ".py",
   "mimetype": "text/x-python",
   "name": "python",
   "nbconvert_exporter": "python",
   "pygments_lexer": "ipython3",
   "version": "3.9.7"
  }
 },
 "nbformat": 4,
 "nbformat_minor": 5
}
