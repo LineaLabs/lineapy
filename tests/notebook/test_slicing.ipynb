{
    "cells": [
        {
            "cell_type": "markdown",
            "id": "06ac3074-0510-43fe-86d2-84101db99956",
            "metadata": {
                "execution": {
                    "iopub.execute_input": "2021-11-09T01:55:18.472348Z",
                    "iopub.status.busy": "2021-11-09T01:55:18.471321Z",
                    "iopub.status.idle": "2021-11-09T01:55:18.491222Z",
                    "shell.execute_reply": "2021-11-09T01:55:18.490407Z"
                },
                "tags": []
            },
            "source": [
                "Verify that slicing works as expected."
            ]
        },
        {
            "cell_type": "code",
            "execution_count": 1,
            "id": "10bb806e-f159-4bf0-aa73-dbf34dde7e6f",
            "metadata": {
                "execution": {
                    "iopub.execute_input": "2021-11-09T19:56:19.311055Z",
                    "iopub.status.busy": "2021-11-09T19:56:19.310074Z",
                    "iopub.status.idle": "2021-11-09T19:56:19.387338Z",
                    "shell.execute_reply": "2021-11-09T19:56:19.387725Z"
                },
                "tags": []
            },
            "outputs": [
                {
                    "name": "stdout",
                    "output_type": "stream",
                    "text": [
                        "x = 100\n",
                        "y = x + 1\n",
                        "\n"
                    ]
                }
            ],
            "source": [
                "import lineapy\n",
                "\n",
                "x = 100\n",
                "y = x + 1\n",
                "z = 100\n",
                "\n",
                "print(lineapy.save(y, \"y\").get_code())"
            ]
        }
    ],
    "metadata": {
        "kernelspec": {
            "display_name": "Python 3 (ipykernel)",
            "language": "python",
            "name": "python3"
        },
        "language_info": {
            "codemirror_mode": {
                "name": "ipython",
                "version": 3
            },
            "file_extension": ".py",
            "mimetype": "text/x-python",
            "name": "python",
            "nbconvert_exporter": "python",
            "pygments_lexer": "ipython3",
            "version": "3.9.7"
        },
        "widgets": {
            "application/vnd.jupyter.widget-state+json": {
                "state": {},
                "version_major": 2,
                "version_minor": 0
            }
        }
    },
    "nbformat": 4,
    "nbformat_minor": 5
}