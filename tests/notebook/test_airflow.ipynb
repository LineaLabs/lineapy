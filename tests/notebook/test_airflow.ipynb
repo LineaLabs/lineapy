{
 "cells": [
  {
   "cell_type": "code",
   "execution_count": 1,
   "id": "3054022d-ea1b-4422-bd97-b323b72b0322",
   "metadata": {
    "tags": []
   },
   "outputs": [
    {
     "name": "stderr",
     "output_type": "stream",
     "text": [
      "Generated module file: ~/airflow/dags/z/z_module.py                                                                                                                 \n",
      "Generated requirements file: ~/airflow/dags/z/z_requirements.txt                                                                                                    \n",
      "Generated DAG file: ~/airflow/dags/z/z_dag.py                                                                                                                       \n",
      "Generated Docker file: ~/airflow/dags/z/z_Dockerfile                                                                                                                \n"
     ]
    }
   ],
   "source": [
    "# NBVAL_IGNORE_OUTPUT\n",
    "import lineapy\n",
    "\n",
    "x = 100\n",
    "y = 10\n",
    "\n",
    "z = [x]\n",
    "art = lineapy.save(z, \"z\")\n",
    "pipeline_dir = lineapy.to_pipeline([art.name], framework='AIRFLOW', output_dir=\"~/airflow/dags\")"
   ]
  },
  {
   "cell_type": "code",
   "execution_count": 2,
   "id": "94daffd2-f19f-4b0e-bbe3-8e94024b405c",
   "metadata": {},
   "outputs": [
    {
     "name": "stdout",
     "output_type": "stream",
     "text": [
      "import z_module\n",
      "from airflow import DAG\n",
      "from airflow.operators.python_operator import PythonOperator\n",
      "from airflow.utils.dates import days_ago\n",
      "\n",
      "default_dag_args = {\n",
      "    \"owner\": \"airflow\",\n",
      "    \"retries\": 2,\n",
      "    \"start_date\": days_ago(1),\n",
      "}\n",
      "\n",
      "with DAG(\n",
      "    dag_id=\"z_dag\",\n",
      "    schedule_interval=\"*/15 * * * *\",\n",
      "    max_active_runs=1,\n",
      "    catchup=False,\n",
      "    default_args=default_dag_args,\n",
      ") as dag:\n",
      "\n",
      "    run_session_including_z = PythonOperator(\n",
      "        task_id=\"run_session_including_z_task\",\n",
      "        python_callable=z_module.run_session_including_z,\n",
      "    )\n",
      "\n"
     ]
    }
   ],
   "source": [
    "# NBVAL_IGNORE_OUTPUT\n",
    "module_path = pipeline_dir/\"z_dag.py\"\n",
    "print(module_path.read_text())"
   ]
  },
  {
   "cell_type": "code",
   "execution_count": 3,
   "id": "225db4ee-c1ce-437a-b862-f2819bc05335",
   "metadata": {},
   "outputs": [
    {
     "name": "stdout",
     "output_type": "stream",
     "text": [
      "import z_module\n",
      "from airflow import DAG\n",
      "from airflow.operators.python_operator import PythonOperator\n",
      "from airflow.utils.dates import days_ago\n",
      "\n",
      "default_dag_args = {\n",
      "    \"owner\": \"airflow\",\n",
      "    \"retries\": 2,\n",
      "    \"start_date\": days_ago(1),\n",
      "}\n",
      "\n",
      "with DAG(\n",
      "    dag_id=\"z_dag\",\n",
      "    schedule_interval=\"*/15 * * * *\",\n",
      "    max_active_runs=1,\n",
      "    catchup=False,\n",
      "    default_args=default_dag_args,\n",
      ") as dag:\n",
      "\n",
      "    run_session_including_z = PythonOperator(\n",
      "        task_id=\"run_session_including_z_task\",\n",
      "        python_callable=z_module.run_session_including_z,\n",
      "    )\n",
      "\n"
     ]
    }
   ],
   "source": [
    "dag_path = pipeline_dir/\"z_dag.py\"\n",
    "print(dag_path.read_text())"
   ]
  },
  {
   "cell_type": "code",
   "execution_count": null,
   "id": "f046477f-d97e-4224-98bc-0682061271e2",
   "metadata": {},
   "outputs": [],
   "source": []
  }
 ],
 "metadata": {
  "kernelspec": {
   "display_name": "Python 3 (ipykernel)",
   "language": "python",
   "name": "python3"
  },
  "language_info": {
   "codemirror_mode": {
    "name": "ipython",
    "version": 3
   },
   "file_extension": ".py",
   "mimetype": "text/x-python",
   "name": "python",
   "nbconvert_exporter": "python",
   "pygments_lexer": "ipython3",
   "version": "3.10.3"
  }
 },
 "nbformat": 4,
 "nbformat_minor": 5
}
