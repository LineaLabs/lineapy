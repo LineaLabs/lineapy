{
 "cells": [
  {
   "cell_type": "code",
   "execution_count": 1,
   "id": "3054022d-ea1b-4422-bd97-b323b72b0322",
   "metadata": {
    "tags": []
   },
   "outputs": [
    {
     "data": {
      "text/html": [
       "<pre style=\"white-space:pre;overflow-x:auto;line-height:normal;font-family:Menlo,'DejaVu Sans Mono',consolas,'Courier New',monospace\">Generated python module z.py                                                                 \n",
       "</pre>\n"
      ],
      "text/plain": [
       "Generated python module z.py                                                                 \n"
      ]
     },
     "metadata": {},
     "output_type": "display_data"
    },
    {
     "data": {
      "text/html": [
       "<pre style=\"white-space:pre;overflow-x:auto;line-height:normal;font-family:Menlo,'DejaVu Sans Mono',consolas,'Courier New',monospace\">Added Airflow DAG named z_dag. Start a run from the Airflow UI or CLI.                       \n",
       "</pre>\n"
      ],
      "text/plain": [
       "Added Airflow DAG named z_dag. Start a run from the Airflow UI or CLI.                       \n"
      ]
     },
     "metadata": {},
     "output_type": "display_data"
    },
    {
     "data": {
      "text/html": [
       "<pre style=\"white-space:pre;overflow-x:auto;line-height:normal;font-family:Menlo,'DejaVu Sans Mono',consolas,'Courier New',monospace\">Generated Dockerfile z_Dockerfile                                                            \n",
       "</pre>\n"
      ],
      "text/plain": [
       "Generated Dockerfile z_Dockerfile                                                            \n"
      ]
     },
     "metadata": {},
     "output_type": "display_data"
    },
    {
     "data": {
      "text/html": [
       "<pre style=\"white-space:pre;overflow-x:auto;line-height:normal;font-family:Menlo,'DejaVu Sans Mono',consolas,'Courier New',monospace\">Generated requirements file z_requirements.txt                                               \n",
       "</pre>\n"
      ],
      "text/plain": [
       "Generated requirements file z_requirements.txt                                               \n"
      ]
     },
     "metadata": {},
     "output_type": "display_data"
    }
   ],
   "source": [
    "# NBVAL_IGNORE_OUTPUT\n",
    "import lineapy\n",
    "\n",
    "x = 100\n",
    "y = 10\n",
    "\n",
    "z = [x]\n",
    "\n",
    "pymodule_path = lineapy.save(z, \"z\").to_airflow()"
   ]
  },
  {
   "cell_type": "code",
   "execution_count": 2,
   "id": "94daffd2-f19f-4b0e-bbe3-8e94024b405c",
   "metadata": {},
   "outputs": [
    {
     "name": "stdout",
     "output_type": "stream",
     "text": [
      "def z():\n",
      "    x = 100\n",
      "    z = [x]\n",
      "\n"
     ]
    }
   ],
   "source": [
    "print(pymodule_path.read_text())"
   ]
  },
  {
   "cell_type": "code",
   "execution_count": 3,
   "id": "225db4ee-c1ce-437a-b862-f2819bc05335",
   "metadata": {},
   "outputs": [
    {
     "name": "stdout",
     "output_type": "stream",
     "text": [
      "import os\n",
      "\n",
      "import z\n",
      "from airflow import DAG\n",
      "from airflow.operators.python_operator import PythonOperator\n",
      "from airflow.utils.dates import days_ago\n",
      "\n",
      "if \"tests/notebook\" not in os.getcwd():\n",
      "    os.chdir(\"tests/notebook\")\n",
      "\n",
      "\n",
      "default_dag_args = {\"owner\": \"airflow\", \"retries\": 2, \"start_date\": days_ago(1)}\n",
      "\n",
      "dag = DAG(\n",
      "    dag_id=\"z_dag\",\n",
      "    schedule_interval=\"*/15 * * * *\",\n",
      "    max_active_runs=1,\n",
      "    catchup=False,\n",
      "    default_args=default_dag_args,\n",
      ")\n",
      "\n",
      "\n",
      "z = PythonOperator(\n",
      "    dag=dag,\n",
      "    task_id=\"z_task\",\n",
      "    python_callable=z.z,\n",
      ")\n",
      "\n"
     ]
    }
   ],
   "source": [
    "dag_path = pymodule_path.parent/\"z_dag.py\"\n",
    "print(dag_path.read_text())"
   ]
  },
  {
   "cell_type": "code",
   "execution_count": null,
   "id": "f046477f-d97e-4224-98bc-0682061271e2",
   "metadata": {},
   "outputs": [],
   "source": []
  }
 ],
 "metadata": {
  "kernelspec": {
   "display_name": "Python 3 (ipykernel)",
   "language": "python",
   "name": "python3"
  },
  "language_info": {
   "codemirror_mode": {
    "name": "ipython",
    "version": 3
   },
   "file_extension": ".py",
   "mimetype": "text/x-python",
   "name": "python",
   "nbconvert_exporter": "python",
   "pygments_lexer": "ipython3",
   "version": "3.9.7"
  }
 },
 "nbformat": 4,
 "nbformat_minor": 5
}
