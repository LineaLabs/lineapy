{
 "cells": [
  {
   "cell_type": "code",
   "execution_count": 1,
   "id": "3054022d-ea1b-4422-bd97-b323b72b0322",
   "metadata": {
    "execution": {
     "iopub.execute_input": "2022-01-20T00:21:40.479486Z",
     "iopub.status.busy": "2022-01-20T00:21:40.478846Z",
     "iopub.status.idle": "2022-01-20T00:21:40.745870Z",
     "shell.execute_reply": "2022-01-20T00:21:40.746176Z"
    }
   },
   "outputs": [
    {
     "name": "stdout",
     "output_type": "stream",
     "text": [
      "Added Airflow DAG named 'z'. Start a run from the Airflow UI or CLI.\n"
     ]
    }
   ],
   "source": [
    "# NBVAL_IGNORE_OUTPUT\n",
    "import lineapy\n",
    "\n",
    "x = 100\n",
    "y = 10\n",
    "\n",
    "z = [x]\n",
    "\n",
    "dag_path = lineapy.save(z, \"z\").to_airflow()"
   ]
  },
  {
   "cell_type": "code",
   "execution_count": 2,
   "id": "94daffd2-f19f-4b0e-bbe3-8e94024b405c",
   "metadata": {
    "execution": {
     "iopub.execute_input": "2022-01-20T00:21:40.748918Z",
     "iopub.status.busy": "2022-01-20T00:21:40.748503Z",
     "iopub.status.idle": "2022-01-20T00:21:40.792672Z",
     "shell.execute_reply": "2022-01-20T00:21:40.793025Z"
    }
   },
   "outputs": [
    {
     "name": "stdout",
     "output_type": "stream",
     "text": [
      "from os import chdir\n",
      "\n",
      "from airflow import DAG\n",
      "from airflow.operators.python_operator import PythonOperator\n",
      "from airflow.utils.dates import days_ago\n",
      "\n",
      "chdir(\"/usr/src/airflow_home/dags/notebook\")\n",
      "\n",
      "\n",
      "def z_z():\n",
      "    x = 100\n",
      "    z = [x]\n",
      "\n",
      "\n",
      "default_dag_args = {\"owner\": \"airflow\", \"retries\": 2, \"start_date\": days_ago(1)}\n",
      "\n",
      "dag = DAG(\n",
      "    dag_id=\"z_dag\",\n",
      "    schedule_interval=\"*/15 * * * *\",\n",
      "    max_active_runs=1,\n",
      "    catchup=False,\n",
      "    default_args=default_dag_args,\n",
      ")\n",
      "\n",
      "\n",
      "z_z = PythonOperator(\n",
      "    dag=dag,\n",
      "    task_id=\"z_z_task\",\n",
      "    python_callable=z_z,\n",
      ")\n",
      "\n"
     ]
    }
   ],
   "source": [
    "print(dag_path.read_text())"
   ]
  },
  {
   "cell_type": "code",
   "execution_count": null,
   "id": "225db4ee-c1ce-437a-b862-f2819bc05335",
   "metadata": {},
   "outputs": [],
   "source": []
  }
 ],
 "metadata": {
  "kernelspec": {
   "display_name": "Python 3 (ipykernel)",
   "language": "python",
   "name": "python3"
  },
  "language_info": {
   "codemirror_mode": {
    "name": "ipython",
    "version": 3
   },
   "file_extension": ".py",
   "mimetype": "text/x-python",
   "name": "python",
   "nbconvert_exporter": "python",
   "pygments_lexer": "ipython3",
   "version": "3.9.9"
  }
 },
 "nbformat": 4,
 "nbformat_minor": 5
}
