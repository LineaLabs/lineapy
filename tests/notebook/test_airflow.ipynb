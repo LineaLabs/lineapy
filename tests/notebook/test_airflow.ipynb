{
    "cells": [
        {
            "cell_type": "code",
            "execution_count": null,
            "id": "489e7abe",
            "metadata": {},
            "outputs": [],
            "source": [
                "# NBVAL_IGNORE_OUTPUT\n",
                "import lineapy\n",
                "%load_ext lineapy\n",
                "\n",
                "x = 100\n",
                "y = 10\n",
                "\n",
                "z = [x]\n",
                "art = lineapy.save(z, \"z\")\n",
                "pipeline = lineapy.create_workflow([art.name], framework='AIRFLOW', output_dir=\"~/airflow/dags\")\n",
                "pipeline_dir = pipeline.output_dir"
            ]
        },
        {
            "cell_type": "code",
            "execution_count": null,
            "id": "94daffd2-f19f-4b0e-bbe3-8e94024b405c",
            "metadata": {},
            "outputs": [],
            "source": [
                "# NBVAL_IGNORE_OUTPUT\n",
                "module_path = pipeline_dir/\"z_module.py\"\n",
                "print(module_path.read_text())"
            ]
        },
        {
            "cell_type": "code",
            "execution_count": null,
            "id": "225db4ee-c1ce-437a-b862-f2819bc05335",
            "metadata": {},
            "outputs": [],
            "source": [
                "dag_path = pipeline_dir/\"z_dag.py\"\n",
                "print(dag_path.read_text())"
            ]
        },
        {
            "cell_type": "code",
            "execution_count": null,
            "id": "f046477f-d97e-4224-98bc-0682061271e2",
            "metadata": {},
            "outputs": [],
            "source": [
                "# Cleanup pipeline files\n",
                "import shutil\n",
                "shutil.rmtree(pipeline_dir)"
            ]
        }
    ],
    "metadata": {
        "kernelspec": {
            "display_name": "Python 3",
            "language": "python",
            "name": "python3"
        },
        "language_info": {
            "codemirror_mode": {
                "name": "ipython",
                "version": 3
            },
            "file_extension": ".py",
            "mimetype": "text/x-python",
            "name": "python",
            "nbconvert_exporter": "python",
            "pygments_lexer": "ipython3",
            "version": "3.8.10"
        },
        "vscode": {
            "interpreter": {
                "hash": "97cc609b13305c559618ec78a438abc56230b9381f827f22d070313b9a1f3777"
            }
        }
    },
    "nbformat": 4,
    "nbformat_minor": 5
}
