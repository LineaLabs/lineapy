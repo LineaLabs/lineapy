{
 "cells": [
  {
   "cell_type": "markdown",
   "id": "92e3dbb4",
   "metadata": {},
   "source": [
    "Test that linea tracing is active"
   ]
  },
  {
   "cell_type": "code",
   "execution_count": 1,
   "id": "06ac3074-0510-43fe-86d2-84101db99956",
   "metadata": {
    "execution": {
     "iopub.execute_input": "2022-01-04T21:04:42.681496Z",
     "iopub.status.busy": "2022-01-04T21:04:42.680773Z",
     "iopub.status.idle": "2022-01-04T21:04:42.891944Z",
     "shell.execute_reply": "2022-01-04T21:04:42.891207Z"
    },
    "tags": []
   },
   "outputs": [],
   "source": [
    "import lineapy\n",
    "assert lineapy._is_executing()"
   ]
  }
 ],
 "metadata": {
  "kernelspec": {
   "display_name": "Python 3 (ipykernel)",
   "language": "python",
   "name": "python3"
  },
  "language_info": {
   "codemirror_mode": {
    "name": "ipython",
    "version": 3
   },
   "file_extension": ".py",
   "mimetype": "text/x-python",
   "name": "python",
   "nbconvert_exporter": "python",
   "pygments_lexer": "ipython3",
   "version": "3.9.6"
  },
  "widgets": {
   "application/vnd.jupyter.widget-state+json": {
    "state": {},
    "version_major": 2,
    "version_minor": 0
   }
  }
 },
 "nbformat": 4,
 "nbformat_minor": 5
}
