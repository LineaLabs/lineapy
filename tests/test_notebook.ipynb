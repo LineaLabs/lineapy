{
 "cells": [
  {
   "cell_type": "code",
   "execution_count": 1,
   "id": "8c6b8c9e-aee5-41ad-a2b3-a8e08060224a",
   "metadata": {
    "execution": {
     "iopub.execute_input": "2021-10-22T21:21:02.750402Z",
     "iopub.status.busy": "2021-10-22T21:21:02.749761Z",
     "iopub.status.idle": "2021-10-22T21:21:03.087427Z",
     "shell.execute_reply": "2021-10-22T21:21:03.087761Z",
     "shell.execute_reply.started": "2021-10-06T21:27:59.523597Z"
    },
    "tags": []
   },
   "outputs": [],
   "source": [
    "import lineapy.ipython\n",
    "lineapy.ipython.start()"
   ]
  },
  {
   "cell_type": "code",
   "execution_count": 2,
   "id": "e5bb6a97-9ecd-44a1-a554-04e38e435e0d",
   "metadata": {
    "execution": {
     "iopub.execute_input": "2021-10-22T21:21:03.092940Z",
     "iopub.status.busy": "2021-10-22T21:21:03.092239Z",
     "iopub.status.idle": "2021-10-22T21:21:03.095831Z",
     "shell.execute_reply": "2021-10-22T21:21:03.096157Z",
     "shell.execute_reply.started": "2021-10-06T21:27:59.929142Z"
    },
    "tags": []
   },
   "outputs": [
    {
     "name": "stdout",
     "output_type": "stream",
     "text": [
      "\n"
     ]
    }
   ],
   "source": [
    "import lineapy"
   ]
  },
  {
   "cell_type": "code",
   "execution_count": 3,
   "id": "06ac3074-0510-43fe-86d2-84101db99956",
   "metadata": {
    "execution": {
     "iopub.execute_input": "2021-10-22T21:21:03.099289Z",
     "iopub.status.busy": "2021-10-22T21:21:03.098427Z",
     "iopub.status.idle": "2021-10-22T21:21:03.104089Z",
     "shell.execute_reply": "2021-10-22T21:21:03.104547Z",
     "shell.execute_reply.started": "2021-10-06T21:27:59.944442Z"
    },
    "tags": []
   },
   "outputs": [
    {
     "name": "stdout",
     "output_type": "stream",
     "text": [
      "\n"
     ]
    }
   ],
   "source": [
    "x = 1"
   ]
  },
  {
   "cell_type": "code",
   "execution_count": 4,
   "id": "10bb806e-f159-4bf0-aa73-dbf34dde7e6f",
   "metadata": {
    "execution": {
     "iopub.execute_input": "2021-10-22T21:21:03.106853Z",
     "iopub.status.busy": "2021-10-22T21:21:03.106386Z",
     "iopub.status.idle": "2021-10-22T21:21:03.114282Z",
     "shell.execute_reply": "2021-10-22T21:21:03.114607Z",
     "shell.execute_reply.started": "2021-10-06T21:27:59.954221Z"
    },
    "tags": []
   },
   "outputs": [
    {
     "name": "stdout",
     "output_type": "stream",
     "text": [
      "\n"
     ]
    },
    {
     "data": {
      "text/plain": [
       "1"
      ]
     },
     "execution_count": 4,
     "metadata": {},
     "output_type": "execute_result"
    }
   ],
   "source": [
    "x"
   ]
  },
  {
   "cell_type": "code",
   "execution_count": 5,
   "id": "825d8a99-fefe-43ea-b4a0-7c87f66da9c4",
   "metadata": {
    "execution": {
     "iopub.execute_input": "2021-10-22T21:21:03.116800Z",
     "iopub.status.busy": "2021-10-22T21:21:03.116339Z",
     "iopub.status.idle": "2021-10-22T21:21:03.122774Z",
     "shell.execute_reply": "2021-10-22T21:21:03.123123Z",
     "shell.execute_reply.started": "2021-10-06T21:27:59.966146Z"
    },
    "tags": []
   },
   "outputs": [
    {
     "name": "stdout",
     "output_type": "stream",
     "text": [
      "hi\n",
      "\n"
     ]
    }
   ],
   "source": [
    "print(\"hi\")"
   ]
  },
  {
   "cell_type": "code",
   "execution_count": 6,
   "id": "9f98269e-d73b-4ca4-bab6-8b01ddb09403",
   "metadata": {
    "execution": {
     "iopub.execute_input": "2021-10-22T21:21:03.126466Z",
     "iopub.status.busy": "2021-10-22T21:21:03.125878Z",
     "iopub.status.idle": "2021-10-22T21:21:03.131189Z",
     "shell.execute_reply": "2021-10-22T21:21:03.131558Z",
     "shell.execute_reply.started": "2021-10-06T21:27:59.981271Z"
    }
   },
   "outputs": [
    {
     "name": "stdout",
     "output_type": "stream",
     "text": [
      "hi\n",
      "\n"
     ]
    }
   ],
   "source": [
    "z = x * 1000"
   ]
  },
  {
   "cell_type": "code",
   "execution_count": 7,
   "id": "01c58481-9846-49f5-a9c0-f9409386155d",
   "metadata": {
    "execution": {
     "iopub.execute_input": "2021-10-22T21:21:03.134523Z",
     "iopub.status.busy": "2021-10-22T21:21:03.133942Z",
     "iopub.status.idle": "2021-10-22T21:21:03.138617Z",
     "shell.execute_reply": "2021-10-22T21:21:03.139135Z",
     "shell.execute_reply.started": "2021-10-06T21:27:59.997721Z"
    },
    "tags": []
   },
   "outputs": [
    {
     "name": "stdout",
     "output_type": "stream",
     "text": [
      "hi\n",
      "\n"
     ]
    }
   ],
   "source": [
    "y = x * 100"
   ]
  },
  {
   "cell_type": "code",
   "execution_count": 8,
   "id": "3b093f9d",
   "metadata": {},
   "outputs": [
    {
     "name": "stdout",
     "output_type": "stream",
     "text": [
      "hi\n",
      "\n"
     ]
    }
   ],
   "source": [
    "def f():\n",
    "    1 / 0"
   ]
  },
  {
   "cell_type": "code",
   "execution_count": 10,
   "id": "7f86e667",
   "metadata": {},
   "outputs": [
    {
     "ename": "ZeroDivisionError",
     "evalue": "division by zero",
     "output_type": "error",
     "traceback": [
      "\u001b[0;31m---------------------------------------------------------------------------\u001b[0m",
      "\u001b[0;31mZeroDivisionError\u001b[0m                         Traceback (most recent call last)",
      "\u001b[0;32m/var/folders/xn/05ktz3056kqd9n8frgd6236h0000gn/T/tmpuwnp592dlinea_ipython/96a25df1-fffb-4e2e-bf01-dc41b5db5494_9.py\u001b[0m in \u001b[0;36m<module>\u001b[0;34m\u001b[0m\n\u001b[1;32m      1\u001b[0m \u001b[0;31m# NBVAL_RAISES_EXCEPTION\u001b[0m\u001b[0;34m\u001b[0m\u001b[0;34m\u001b[0m\u001b[0m\n\u001b[0;32m----> 2\u001b[0;31m \u001b[0mf\u001b[0m\u001b[0;34m(\u001b[0m\u001b[0;34m)\u001b[0m\u001b[0;34m\u001b[0m\u001b[0;34m\u001b[0m\u001b[0m\n\u001b[0m",
      "\u001b[0;32m/var/folders/xn/05ktz3056kqd9n8frgd6236h0000gn/T/tmpuwnp592dlinea_ipython/96a25df1-fffb-4e2e-bf01-dc41b5db5494_8.py\u001b[0m in \u001b[0;36mf\u001b[0;34m()\u001b[0m\n\u001b[1;32m      1\u001b[0m \u001b[0;32mdef\u001b[0m \u001b[0mf\u001b[0m\u001b[0;34m(\u001b[0m\u001b[0;34m)\u001b[0m\u001b[0;34m:\u001b[0m\u001b[0;34m\u001b[0m\u001b[0;34m\u001b[0m\u001b[0m\n\u001b[0;32m----> 2\u001b[0;31m     \u001b[0;36m1\u001b[0m \u001b[0;34m/\u001b[0m \u001b[0;36m0\u001b[0m\u001b[0;34m\u001b[0m\u001b[0;34m\u001b[0m\u001b[0m\n\u001b[0m",
      "\u001b[0;31mZeroDivisionError\u001b[0m: division by zero"
     ]
    }
   ],
   "source": [
    "# NBVAL_RAISES_EXCEPTION\n",
    "f()"
   ]
  },
  {
   "cell_type": "code",
   "execution_count": 11,
   "id": "147dc0d3-092c-4763-ae01-7622a15cd0d7",
   "metadata": {
    "execution": {
     "iopub.execute_input": "2021-10-22T21:21:03.143380Z",
     "iopub.status.busy": "2021-10-22T21:21:03.142872Z",
     "iopub.status.idle": "2021-10-22T21:21:03.146239Z",
     "shell.execute_reply": "2021-10-22T21:21:03.146624Z",
     "shell.execute_reply.started": "2021-10-06T21:28:00.013385Z"
    }
   },
   "outputs": [
    {
     "name": "stdout",
     "output_type": "stream",
     "text": [
      "hi\n",
      "\n"
     ]
    }
   ],
   "source": [
    "lineapy.save(y, \"y\")"
   ]
  },
  {
   "cell_type": "code",
   "execution_count": 12,
   "id": "253a3112-b26d-4096-a6dd-8a42c3e70fbd",
   "metadata": {
    "execution": {
     "iopub.execute_input": "2021-10-22T21:21:03.149518Z",
     "iopub.status.busy": "2021-10-22T21:21:03.149038Z",
     "iopub.status.idle": "2021-10-22T21:21:03.150454Z",
     "shell.execute_reply": "2021-10-22T21:21:03.150938Z",
     "shell.execute_reply.started": "2021-10-06T21:28:00.022595Z"
    },
    "tags": []
   },
   "outputs": [],
   "source": [
    "tracer = lineapy.ipython.stop()"
   ]
  },
  {
   "cell_type": "code",
   "execution_count": 13,
   "id": "a7d342c9-e774-403f-b12b-9cabd9c8287c",
   "metadata": {
    "execution": {
     "iopub.execute_input": "2021-10-22T21:21:03.157749Z",
     "iopub.status.busy": "2021-10-22T21:21:03.157232Z",
     "iopub.status.idle": "2021-10-22T21:21:03.176055Z",
     "shell.execute_reply": "2021-10-22T21:21:03.176446Z",
     "shell.execute_reply.started": "2021-10-06T21:28:00.026375Z"
    },
    "tags": []
   },
   "outputs": [
    {
     "name": "stdout",
     "output_type": "stream",
     "text": [
      "x = 1\n",
      "y = x * 100\n",
      "\n"
     ]
    }
   ],
   "source": [
    "print(tracer.slice(\"y\"))"
   ]
  },
  {
   "cell_type": "code",
   "execution_count": null,
   "id": "e4fb8000",
   "metadata": {},
   "outputs": [],
   "source": []
  }
 ],
 "metadata": {
  "kernelspec": {
   "display_name": "Python 3 (ipykernel)",
   "language": "python",
   "name": "python3"
  },
  "language_info": {
   "codemirror_mode": {
    "name": "ipython",
    "version": 3
   },
   "file_extension": ".py",
   "mimetype": "text/x-python",
   "name": "python",
   "nbconvert_exporter": "python",
   "pygments_lexer": "ipython3",
   "version": "3.9.7"
  },
  "widgets": {
   "application/vnd.jupyter.widget-state+json": {
    "state": {},
    "version_major": 2,
    "version_minor": 0
   }
  }
 },
 "nbformat": 4,
 "nbformat_minor": 5
}
