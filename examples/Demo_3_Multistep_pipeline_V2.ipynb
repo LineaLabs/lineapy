{
 "cells": [
  {
   "cell_type": "markdown",
   "metadata": {},
   "source": [
    "## Phase: Full ML Pipeline V2\n",
    "\n",
    "Let's now say we want to train *both* V1 and V2 models in parallell. The typical reason for this is we are not clear on if V2 is actually better and want to do A/B test, or V2 has different use (i.e. different customent segment).\n",
    "\n",
    "Whatever the reasoning, we want to train both stages of pipeline for V1 and V2 independently, and Linea + Airflow allows to do this easily!"
   ]
  },
  {
   "cell_type": "code",
   "execution_count": 1,
   "metadata": {
    "tags": []
   },
   "outputs": [],
   "source": [
    "# NBVAL_IGNORE_OUTPUT\n",
    "import lineapy"
   ]
  },
  {
   "cell_type": "markdown",
   "metadata": {},
   "source": [
    "#### Linea API allows to easily see previously stored artifacts:"
   ]
  },
  {
   "cell_type": "code",
   "execution_count": 2,
   "metadata": {},
   "outputs": [
    {
     "data": {
      "text/plain": [
       "neighbothood_area_mean:2022-03-31T16:21:22 created on 2022-03-31 16:21:22.311306\n",
       "sum:2022-03-31T16:21:35 created on 2022-03-31 16:21:35.858883\n",
       "housing_data_advanced_features:2022-03-31T16:22:11 created on 2022-03-31 16:22:11.377344\n",
       "housing_data_advanced_features:2022-03-31T17:05:27 created on 2022-03-31 17:05:27.188321\n",
       "housing_data_advanced_features:2022-03-31T17:15:59 created on 2022-03-31 17:15:59.258773\n",
       "housing_data_advanced_features:2022-03-31T17:16:38 created on 2022-03-31 17:16:38.336815\n",
       "cleaned_data_housing:2022-03-31T17:23:13 created on 2022-03-31 17:23:13.865228\n",
       "cleaned_data_housing:2022-03-31T17:25:06 created on 2022-03-31 17:25:06.552558\n",
       "linea_model_housing_V2:2022-03-31T17:25:49 created on 2022-03-31 17:25:49.165559\n",
       "z:2022-03-31T17:51:11 created on 2022-03-31 17:51:11.708383\n",
       "neighbothood_area_mean:2022-03-31T18:20:18 created on 2022-03-31 18:20:18.324677\n",
       "sum:2022-03-31T18:20:25 created on 2022-03-31 18:20:25.217029\n",
       "housing_data_advanced_features:2022-03-31T18:20:43 created on 2022-03-31 18:20:43.643307\n",
       "housing_data_advanced_features:2022-03-31T18:21:29 created on 2022-03-31 18:21:29.291169\n",
       "housing_data_advanced_features:2022-03-31T18:22:17 created on 2022-03-31 18:22:17.393109\n",
       "cleaned_data_housing:2022-03-31T18:23:02 created on 2022-03-31 18:23:02.358540\n",
       "cleaned_data_housing:2022-03-31T18:23:24 created on 2022-03-31 18:23:24.691780\n",
       "linea_model_housing_V2:2022-03-31T18:23:42 created on 2022-03-31 18:23:42.202097\n",
       "z:2022-03-31T18:24:22 created on 2022-03-31 18:24:22.863942\n",
       "linea_model_housing:2022-03-31T18:24:30 created on 2022-03-31 18:24:30.640509"
      ]
     },
     "execution_count": 2,
     "metadata": {},
     "output_type": "execute_result"
    }
   ],
   "source": [
    "# NBVAL_IGNORE_OUTPUT\n",
    "lineapy.catalog()"
   ]
  },
  {
   "cell_type": "markdown",
   "metadata": {},
   "source": [
    "#### Now we can send both to Airflow a a single pipeline:"
   ]
  },
  {
   "cell_type": "code",
   "execution_count": 3,
   "metadata": {},
   "outputs": [],
   "source": [
    "# NBVAL_IGNORE_OUTPUT\n",
    "preprocessing_art = lineapy.get(\"cleaned_data_housing\")\n",
    "modeling_art = lineapy.get(\"linea_model_housing\")"
   ]
  },
  {
   "cell_type": "code",
   "execution_count": 4,
   "metadata": {},
   "outputs": [],
   "source": [
    "# NBVAL_IGNORE_OUTPUT\n",
    "preprocessing_art_V2 = lineapy.get(\"housing_data_advanced_features\")\n",
    "modeling_art_V2 = lineapy.get(\"linea_model_housing_V2\")"
   ]
  },
  {
   "cell_type": "code",
   "execution_count": 5,
   "metadata": {},
   "outputs": [
    {
     "name": "stdout",
     "output_type": "stream",
     "text": [
      "Added Airflow DAG named 'data_housing_pipeline'. Start a run from the Airflow UI or CLI.\n"
     ]
    },
    {
     "data": {
      "text/plain": [
       "PosixPath('/home/mlee/airflow_home/dags/data_housing_pipeline_dag.py')"
      ]
     },
     "execution_count": 5,
     "metadata": {},
     "output_type": "execute_result"
    }
   ],
   "source": [
    "# NBVAL_IGNORE_OUTPUT\n",
    "lineapy.to_airflow(\n",
    "    [\n",
    "        preprocessing_art.name, modeling_art.name,\n",
    "        preprocessing_art_V2.name, modeling_art_V2.name\n",
    "    ], \n",
    "    \"data_housing_pipeline\",\n",
    "    \"[cleaned_data_housing >> linea_model_housing, \\\n",
    "    housing_data_advanced_features >> linea_model_housing_V2]\"\n",
    ")"
   ]
  },
  {
   "cell_type": "code",
   "execution_count": null,
   "metadata": {},
   "outputs": [],
   "source": []
  }
 ],
 "metadata": {
  "kernelspec": {
   "display_name": "Python 3 (ipykernel)",
   "language": "python",
   "name": "python3"
  },
  "language_info": {
   "codemirror_mode": {
    "name": "ipython",
    "version": 3
   },
   "file_extension": ".py",
   "mimetype": "text/x-python",
   "name": "python",
   "nbconvert_exporter": "python",
   "pygments_lexer": "ipython3",
   "version": "3.9.11"
  }
 },
 "nbformat": 4,
 "nbformat_minor": 4
}
