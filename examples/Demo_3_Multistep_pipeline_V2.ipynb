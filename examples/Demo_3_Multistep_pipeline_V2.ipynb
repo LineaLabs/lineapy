{
 "cells": [
  {
   "cell_type": "markdown",
   "metadata": {},
   "source": [
    "## Phase: Full ML Pipeline V2\n",
    "\n",
    "Let's now say we want to train *both* V1 and V2 models in parallell. The typical reason for this is we are not clear on if V2 is actually better and want to do A/B test, or V2 has different use (i.e. different customent segment).\n",
    "\n",
    "Whatever the reasoning, we want to train both stages of pipeline for V1 and V2 independently, and Linea + Airflow allows to do this easily!"
   ]
  },
  {
   "cell_type": "code",
   "execution_count": 1,
   "metadata": {
    "tags": []
   },
   "outputs": [],
   "source": [
    "# NBVAL_IGNORE_OUTPUT\n",
    "import lineapy"
   ]
  },
  {
   "cell_type": "markdown",
   "metadata": {},
   "source": [
    "#### Linea API allows to easily see previously stored artifacts:"
   ]
  },
  {
   "cell_type": "code",
   "execution_count": 2,
   "metadata": {},
   "outputs": [
    {
     "data": {
      "text/plain": [
       "cleaned_data_housing, 2022-02-10 02:48:50.490347\n",
       "linea_model_housing, 2022-02-10 02:49:43.184806\n",
       "housing_data_advanced_features, 2022-02-10 02:50:38.000646\n",
       "linea_model_housing_V2, 2022-02-10 02:51:17.030039"
      ]
     },
     "execution_count": 2,
     "metadata": {},
     "output_type": "execute_result"
    }
   ],
   "source": [
    "# NBVAL_IGNORE_OUTPUT\n",
    "lineapy.catalog()"
   ]
  },
  {
   "cell_type": "markdown",
   "metadata": {},
   "source": [
    "#### Now we can send both to Airflow a a single pipeline:"
   ]
  },
  {
   "cell_type": "code",
   "execution_count": 3,
   "metadata": {},
   "outputs": [],
   "source": [
    "# NBVAL_IGNORE_OUTPUT\n",
    "preprocessing_art = lineapy.get(\"cleaned_data_housing\")\n",
    "modeling_art = lineapy.get(\"linea_model_housing\")"
   ]
  },
  {
   "cell_type": "code",
   "execution_count": 4,
   "metadata": {},
   "outputs": [],
   "source": [
    "# NBVAL_IGNORE_OUTPUT\n",
    "preprocessing_art_V2 = lineapy.get(\"housing_data_advanced_features\")\n",
    "modeling_art_V2 = lineapy.get(\"linea_model_housing_V2\")"
   ]
  },
  {
   "cell_type": "code",
   "execution_count": 5,
   "metadata": {},
   "outputs": [
    {
     "name": "stdout",
     "output_type": "stream",
     "text": [
      "Added Airflow DAG named 'data_housing_pipeline'. Start a run from the Airflow UI or CLI.\n"
     ]
    },
    {
     "data": {
      "text/plain": [
       "PosixPath('/usr/src/airflow_home/dags/data_housing_pipeline.py')"
      ]
     },
     "execution_count": 5,
     "metadata": {},
     "output_type": "execute_result"
    }
   ],
   "source": [
    "# NBVAL_IGNORE_OUTPUT\n",
    "lineapy.to_airflow(\n",
    "    {\n",
    "        preprocessing_art.name: preprocessing_art.code, modeling_art.name: modeling_art.code,\n",
    "        preprocessing_art_V2.name: preprocessing_art_V2.code, modeling_art_V2.name: modeling_art_V2.code\n",
    "    }, \n",
    "    \"data_housing_pipeline\",\n",
    "    \"[data_housing_pipeline_cleaned_data_housing >> data_housing_pipeline_linea_model_housing, \\\n",
    "    data_housing_pipeline_housing_data_advanced_features >> data_housing_pipeline_linea_model_housing_V2]\"\n",
    ")"
   ]
  },
  {
   "cell_type": "code",
   "execution_count": null,
   "metadata": {},
   "outputs": [],
   "source": []
  }
 ],
 "metadata": {
  "kernelspec": {
   "display_name": "Python 3 (ipykernel)",
   "language": "python",
   "name": "python3"
  },
  "language_info": {
   "codemirror_mode": {
    "name": "ipython",
    "version": 3
   },
   "file_extension": ".py",
   "mimetype": "text/x-python",
   "name": "python",
   "nbconvert_exporter": "python",
   "pygments_lexer": "ipython3",
   "version": "3.9.9"
  }
 },
 "nbformat": 4,
 "nbformat_minor": 4
}
