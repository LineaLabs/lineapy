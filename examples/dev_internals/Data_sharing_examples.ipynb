{
 "cells": [
  {
   "cell_type": "markdown",
   "id": "6e6fa19f-2aab-40d0-bf78-2fafdebebd57",
   "metadata": {},
   "source": [
    "# Using Lineapy to Share Data\n",
    "\n",
    "Data science work often involve creating data to share with a different project, or vice versa. There are many ways to share the data, ranging from using a shared filesystem (e.g., [S3](https://aws.amazon.com/s3/), [Databricks File System](https://docs.databricks.com/data/databricks-file-system.html)), database, or passing files around via Git, slack, or email.\n",
    "\n",
    "Linea aims to provide a simple way to share data, but also supporting all existing modalities of sharing while ensuring reproduceability.\n",
    "\n",
    "In this notebook, we'll first go over how `lineapy` supports sharing with our APIs, and how you can also use `lineapy` to support your existing workflow."
   ]
  },
  {
   "cell_type": "markdown",
   "id": "10010523-42c8-42a3-9694-5fb8d05e52fc",
   "metadata": {},
   "source": [
    "## `lineapy` Inhouse support\n",
    "\n",
    "`lineapy.save(a_variable, \"the_name\")` captures both the value corresponding to `a_variable`, and the code required to proce it. `lineapy.get(\"the_name\")` retrieves the stored the information.\n",
    "\n",
    "As shown in `2_APIs.ipynb`, `neighbor_area_art.value` retrieves the dataframe saved in `1_Explorations.ipynb` through the `.get` API.\n",
    "\n",
    "```python\n",
    "neighbor_area_art = lineapy.get(\"neighbothood_area_mean\")\n",
    "```\n",
    "\n",
    "### Serialization mechanism\n",
    "\n",
    "Currently, we are just using the `pickle` library, which we recongize is limited. On our roadmap, we plan to add support for specialized use cases, such as saving a `matplotlib` file as a PNG (more portable and readable than a raw pickle).\n",
    "\n",
    "If you would like to use specific serialization mechanisms, such as Pytorch's C++ support via [.jit.save](https://pytorch.org/docs/stable/notes/serialization.html), you can rely on `lineapy`'s support for external file systems/databases which we talk about below.\n",
    "\n",
    "### Sharing\n",
    "\n",
    "In the demo, the state for `lineapy` artifacts are stored in a local Sqlite file, which facilitates sharing for the same user on the machine. Underneath the hood, we use a combination of Python pickling and file storage.\n",
    "\n",
    "To share between users, one could use a hosted database (docs coming soon!). We are also developing Linea Platform which will make sharing even easier in the future."
   ]
  },
  {
   "cell_type": "markdown",
   "id": "6873047e-5949-45a3-8a7d-3d3d739e1f5e",
   "metadata": {},
   "source": [
    "## Supporting sharing through external filesystems/databases\n",
    "\n",
    "### File System\n",
    "\n",
    "If you want to use your own platform and tools to share values, `lineapy` could also add value by capturing the process to affect external state.\n",
    "\n",
    "Consider the example in `Demo_1_Prepprocessing.ipynb`, the following command captures the process\n",
    "\n",
    "```python\n",
    "artifact = lineapy.save(lineapy.file_system, \"cleaned_data_housing\")\n",
    "```\n",
    "\n",
    "`lineapy.file_system` refers to changes in the file_system. In that particular example, the change was through the function call, `to_csv`.\n",
    "\n",
    "```python\n",
    "cleaned_data.filter(\n",
    "    regex=\"Neighborhood=.|Gr_Liv_Area|Garage_Area|SalePrice\"\n",
    ").to_csv(\"outputs/cleaned_data_housing.csv\", index=False)\n",
    "```\n",
    "\n",
    "Here, invoking `lineapy.get(\"cleaned_data_housing\")` would return an artifact with the correspondng `code`, but a `None` value. Through the code, the user could figure out how to access the value (in this case, on the local file system).\n",
    "\n",
    "Note that using S3 with `boto3` would also count towards a `file_system` change (a remote file system).\n",
    "\n",
    "### DB\n",
    "\n",
    "Similarly, `lineapy.db` supports the equivalent that changes databases. Take the previous example in `Demo_1_Prepprocessing.ipynb`, we could change the `to_csv` to [to_sql](https://pandas.pydata.org/docs/reference/api/pandas.DataFrame.to_sql.html), like the following\n",
    "\n",
    "```python\n",
    "import sqlite3\n",
    "engine = sqlite3.connect('my_db.sqlite')\n",
    "cleaned_data.filter(\n",
    "    regex=\"Neighborhood=.|Gr_Liv_Area|Garage_Area|SalePrice\"\n",
    ").to_sql('users', con=engine)\n",
    "\n",
    "```\n",
    "\n",
    "Then the equivalent lineapy capture would be the following (`s/file_system/db`).\n",
    "\n",
    "```python\n",
    "artifact = lineapy.save(lineapy.db, \"cleaned_data_housing DB process\")\n",
    "```\n",
    "\n",
    "Currently we do not support capturing the change for a specific file or a specific network connection---please open an issue if you'd like to see the feature supported!\n",
    "\n",
    "\n",
    "### Contributing\n",
    "\n",
    "**Instrumenting more libraries**: `lineapy` understands what functions modifies what external state through manual instrumentation. You can find the documentation in 'https://github.com/LineaLabs/lineapy/blob/main/docs/source/lib_annotations.rst' (live documentation coming soon!)\n",
    "\n",
    "**Supporting more side-effects**: We are in the process of adding `network` (e.g., `requests.get` and `requests.put`). If there are any other side-effects that you care about, please let us know!"
   ]
  },
  {
   "cell_type": "markdown",
   "id": "71627580-748b-40c1-bfb8-865c78debf7b",
   "metadata": {},
   "source": [
    "## Closing\n",
    "\n",
    "We are still rapidly iterating on the ideal UX. If you have any feedback for our design, feature requests, or other uses cases we haven't discussed, please let us know!"
   ]
  },
  {
   "cell_type": "code",
   "execution_count": null,
   "id": "1acaf78e-eaa1-411d-908e-4444da93b817",
   "metadata": {},
   "outputs": [],
   "source": []
  }
 ],
 "metadata": {
  "kernelspec": {
   "display_name": "Python 3",
   "language": "python",
   "name": "python3"
  },
  "language_info": {
   "codemirror_mode": {
    "name": "ipython",
    "version": 3
   },
   "file_extension": ".py",
   "mimetype": "text/x-python",
   "name": "python",
   "nbconvert_exporter": "python",
   "pygments_lexer": "ipython3",
   "version": "3.9.2"
  }
 },
 "nbformat": 4,
 "nbformat_minor": 5
}
