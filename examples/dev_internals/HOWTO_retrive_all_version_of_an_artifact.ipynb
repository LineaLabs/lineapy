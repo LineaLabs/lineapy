{
 "cells": [
  {
   "cell_type": "markdown",
   "id": "7218ca70",
   "metadata": {},
   "source": [
    "# How to retrive all version of an artifact\n",
    "\n",
    "In this notebook, we are going to demonstrate how to retrive all version of an artifact within linea database.\n",
    "\n",
    "Followings are steps to achieve this.\n",
    "\n",
    "1. Create multiple versions of a single artifact saved in linea database via `linea.save(reference, name)`.\n",
    "2. Query the `lineapy.catalog()` to list all versions of that given artifact.\n",
    "3. Use `lineapy.get(artifact_name, version)` to retrive all these individual versions.\n",
    "\n"
   ]
  },
  {
   "cell_type": "code",
   "execution_count": 1,
   "id": "8a2a32a5",
   "metadata": {},
   "outputs": [],
   "source": [
    "# Load modules\n",
    "\n",
    "import lineapy\n",
    "import time"
   ]
  },
  {
   "cell_type": "markdown",
   "id": "a2550c01",
   "metadata": {},
   "source": [
    "Generate multiple versions of artifact with the same name `x1234` and saved them to linea db. In this case, we are create five versions of `x1234`, with value 1,2,3 and 4. \n"
   ]
  },
  {
   "cell_type": "code",
   "execution_count": 2,
   "id": "18eabd05",
   "metadata": {},
   "outputs": [],
   "source": [
    "x = 1\n",
    "art = lineapy.save(x, 'x1234')\n",
    "time.sleep(1)\n",
    "x = 2\n",
    "art = lineapy.save(x, 'x1234')\n",
    "time.sleep(1)\n",
    "x = 3\n",
    "art = lineapy.save(x, 'x1234')\n",
    "time.sleep(1)\n",
    "x = 4\n",
    "art = lineapy.save(x, 'x1234')\n"
   ]
  },
  {
   "cell_type": "markdown",
   "id": "088174dc",
   "metadata": {},
   "source": [
    "List all artifact named `x1234` and sort with version number from oldest to latest"
   ]
  },
  {
   "cell_type": "code",
   "execution_count": 3,
   "id": "fca46f38",
   "metadata": {},
   "outputs": [
    {
     "name": "stdout",
     "output_type": "stream",
     "text": [
      "version: 2022-04-07T21:57:59, value=1\n",
      "version: 2022-04-07T21:58:00, value=2\n",
      "version: 2022-04-07T21:58:01, value=3\n",
      "version: 2022-04-07T21:58:02, value=4\n"
     ]
    },
    {
     "data": {
      "text/plain": [
       "[LineaArtifact(execution_id='456207be-77c9-4970-bc3f-17472aa31296', node_id='105340f4-97ec-4b69-a598-fe63cb03fc2d', session_id='ec414632-79d8-443c-8d3d-1a13cd74626f', name='x1234', date_created=datetime.datetime(2022, 4, 7, 21, 57, 59, 162263)),\n",
       " LineaArtifact(execution_id='456207be-77c9-4970-bc3f-17472aa31296', node_id='440235d3-b3e6-403a-8463-ddc10520c904', session_id='ec414632-79d8-443c-8d3d-1a13cd74626f', name='x1234', date_created=datetime.datetime(2022, 4, 7, 21, 58, 0, 188686)),\n",
       " LineaArtifact(execution_id='456207be-77c9-4970-bc3f-17472aa31296', node_id='f520efdd-246c-43b5-b4c0-71002aa7ccc2', session_id='ec414632-79d8-443c-8d3d-1a13cd74626f', name='x1234', date_created=datetime.datetime(2022, 4, 7, 21, 58, 1, 207184)),\n",
       " LineaArtifact(execution_id='456207be-77c9-4970-bc3f-17472aa31296', node_id='edfcb170-5e27-482c-8779-d08ca3b131c4', session_id='ec414632-79d8-443c-8d3d-1a13cd74626f', name='x1234', date_created=datetime.datetime(2022, 4, 7, 21, 58, 2, 227064))]"
      ]
     },
     "execution_count": 3,
     "metadata": {},
     "output_type": "execute_result"
    }
   ],
   "source": [
    "# NBVAL_IGNORE_OUTPUT\n",
    "\n",
    "x_artifacts = [art for art in lineapy.catalog().artifacts if art.name=='x1234']    \n",
    "x_artifacts.sort(key=lambda x: x.version)\n",
    "for art in x_artifacts:\n",
    "    print(f'version: {art.version}, value={art.value}')\n",
    "x_artifacts"
   ]
  },
  {
   "cell_type": "markdown",
   "id": "cdd0b922",
   "metadata": {},
   "source": [
    "Retrive specific version of artifact"
   ]
  },
  {
   "cell_type": "code",
   "execution_count": 4,
   "id": "b2a7210b",
   "metadata": {},
   "outputs": [],
   "source": [
    "# Get the oldest and latest version number\n",
    "\n",
    "oldest_version, latest_version = x_artifacts[0].version, x_artifacts[-1].version"
   ]
  },
  {
   "cell_type": "code",
   "execution_count": 5,
   "id": "0612359a",
   "metadata": {},
   "outputs": [
    {
     "name": "stdout",
     "output_type": "stream",
     "text": [
      "version: 2022-04-07T21:57:59, value=1\n"
     ]
    }
   ],
   "source": [
    "# NBVAL_IGNORE_OUTPUT\n",
    "\n",
    "# Query the latest version of artifact\n",
    "x_oldest = lineapy.get('x1234', version=oldest_version)\n",
    "print(f\"version: {x_oldest.version}, value={x_oldest.value}\")"
   ]
  },
  {
   "cell_type": "code",
   "execution_count": 6,
   "id": "b3b22d4b",
   "metadata": {},
   "outputs": [
    {
     "name": "stdout",
     "output_type": "stream",
     "text": [
      "version 2022-04-07T21:58:02, value=4\n"
     ]
    }
   ],
   "source": [
    "# NBVAL_IGNORE_OUTPUT\n",
    "\n",
    "# Query the oldest version of artifact\n",
    "x_latest = lineapy.get('x1234', version=latest_version)\n",
    "print(f\"version {x_latest.version}, value={x_latest.value}\")"
   ]
  }
 ],
 "metadata": {
  "kernelspec": {
   "display_name": "Python 3 (ipykernel)",
   "language": "python",
   "name": "python3"
  },
  "language_info": {
   "codemirror_mode": {
    "name": "ipython",
    "version": 3
   },
   "file_extension": ".py",
   "mimetype": "text/x-python",
   "name": "python",
   "nbconvert_exporter": "python",
   "pygments_lexer": "ipython3",
   "version": "3.9.7"
  }
 },
 "nbformat": 4,
 "nbformat_minor": 5
}
