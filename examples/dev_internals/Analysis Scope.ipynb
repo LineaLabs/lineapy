{
 "cells": [
  {
   "cell_type": "markdown",
   "id": "039ee0b3-591e-427f-9617-368c18cf6d3a",
   "metadata": {
    "tags": []
   },
   "source": [
    "# Analysis Scope\n",
    "\n",
    "The goal of this notebook is to give an overview of how LineaPy traces code, in order to provide a mental model for understanding the scope of the code extraction, by running through a number of examples."
   ]
  },
  {
   "cell_type": "markdown",
   "id": "0ec02e5d-37ee-4cfa-8626-0777d11094b7",
   "metadata": {
    "tags": []
   },
   "source": [
    "## Simple Expressions"
   ]
  },
  {
   "cell_type": "markdown",
   "id": "3f46650f-af61-4cf3-a5a5-34a6ba026ea3",
   "metadata": {},
   "source": [
    "Lineapy translates expressions in Python into function calls and is able to understand the dependencies between them, by tracing their arguments:"
   ]
  },
  {
   "cell_type": "code",
   "execution_count": 1,
   "id": "32830855-cfa2-4d37-8efe-8324867ebc1a",
   "metadata": {},
   "outputs": [
    {
     "name": "stdout",
     "output_type": "stream",
     "text": [
      "x = 10\n",
      "y = x + 100\n",
      "\n"
     ]
    }
   ],
   "source": [
    "# NBVAL_IGNORE_OUTPUT\n",
    "# (print may be different if the .linea folder needs to be created)\n",
    "from lineapy import save\n",
    "\n",
    "x = 10\n",
    "\n",
    "y = x + 100\n",
    "z = x + 200\n",
    "\n",
    "print(save(y, \"y\").get_code())"
   ]
  },
  {
   "cell_type": "markdown",
   "id": "fc7e894a-c292-4ac7-b997-0d49c1c4e961",
   "metadata": {},
   "source": [
    "This also works with user defined functions:"
   ]
  },
  {
   "cell_type": "code",
   "execution_count": 2,
   "id": "3efb5029-0654-4b11-bfbb-e2f085735c00",
   "metadata": {},
   "outputs": [
    {
     "name": "stdout",
     "output_type": "stream",
     "text": [
      "x = 10\n",
      "y = x + 100\n",
      "def my_fn(x, y):\n",
      "    return x + y + 1\n",
      "z = my_fn(x, y)\n",
      "\n"
     ]
    }
   ],
   "source": [
    "def my_fn(x, y):\n",
    "    return x + y + 1\n",
    "\n",
    "z = my_fn(x, y)\n",
    "print(save(z, \"z\").get_code())"
   ]
  },
  {
   "cell_type": "markdown",
   "id": "8adb0f6e-5c4a-455d-a56c-10007f11fdc8",
   "metadata": {
    "jp-MarkdownHeadingCollapsed": true,
    "tags": []
   },
   "source": [
    "## Function that mutate"
   ]
  },
  {
   "cell_type": "markdown",
   "id": "dbffb457-a9ff-41e7-a621-908253ad6c82",
   "metadata": {},
   "source": [
    "Many functions in Python mutate their arguments, so we cannot rely on just traversing the call graph to see what nodes are needed. \n",
    "\n",
    "In order to properly understand these functions, we have manually annotated which ones mutate their arguments. We have covered many builtin functions and some functions from external libraries.\n",
    "\n",
    "For example, we know that if you call `append` on a list, this will mutate the list, so if we are saving it, we should include the append calls:"
   ]
  },
  {
   "cell_type": "code",
   "execution_count": 3,
   "id": "47a0a76f-ad84-48d8-9e4a-345f7b2bbe0e",
   "metadata": {},
   "outputs": [
    {
     "name": "stdout",
     "output_type": "stream",
     "text": [
      "x = []\n",
      "x.append(10)\n",
      "\n"
     ]
    }
   ],
   "source": [
    "x = []\n",
    "x.append(10)\n",
    "print(save(x, \"x\").get_code())"
   ]
  },
  {
   "cell_type": "markdown",
   "id": "700555fa-f33e-4bea-bc86-9f25f25615b1",
   "metadata": {},
   "source": [
    "The mutation tracking also differentiates between calls before and after a mutation, for example calling `len` before appending should not include the append call, but after should!"
   ]
  },
  {
   "cell_type": "code",
   "execution_count": 4,
   "id": "6d261f38-4eff-4eda-ada7-aa9fe440b707",
   "metadata": {},
   "outputs": [
    {
     "name": "stdout",
     "output_type": "stream",
     "text": [
      "Early:\n",
      "x = []\n",
      "early_len = len(x)\n",
      "\n",
      "Later:\n",
      "x = []\n",
      "x.append(10)\n",
      "later_len = len(x)\n",
      "\n"
     ]
    }
   ],
   "source": [
    "x = []\n",
    "early_len = len(x)\n",
    "x.append(10)\n",
    "later_len = len(x)\n",
    "\n",
    "print(\"Early:\")\n",
    "print(save(early_len, \"early_len\").get_code())\n",
    "print(\"Later:\")\n",
    "print(save(later_len, \"later_len\").get_code())"
   ]
  },
  {
   "cell_type": "markdown",
   "id": "11594a28-0eab-4574-a0c9-f4fb8a7df57f",
   "metadata": {},
   "source": [
    "This means that if you are calling some function which mutates one of its args, and we haven't annotated that behavior, lineapy won't know about it and it might be lost when slicing!"
   ]
  },
  {
   "cell_type": "markdown",
   "id": "8324f147-0b24-4896-bfb3-c5e93b4d05ca",
   "metadata": {
    "jp-MarkdownHeadingCollapsed": true,
    "tags": []
   },
   "source": [
    "## Tracking \"views\""
   ]
  },
  {
   "cell_type": "markdown",
   "id": "9d2fac05-c260-4dd3-9dd0-829a7af14733",
   "metadata": {},
   "source": [
    "When an object is \"mutated\" we also consider all other objects which have references to it as having \"mutated\" as well. This is because their behavior might change after mutating this object."
   ]
  },
  {
   "cell_type": "markdown",
   "id": "16270908-6d1a-4e85-96a1-ea4daf6c1815",
   "metadata": {},
   "source": [
    "Consider a dictionary with a list in it as a key:"
   ]
  },
  {
   "cell_type": "code",
   "execution_count": 5,
   "id": "ce8fcea8-2c6c-4fca-aaaf-ff9482cbf659",
   "metadata": {},
   "outputs": [],
   "source": [
    "l = []\n",
    "d = {\"a\": l}"
   ]
  },
  {
   "cell_type": "markdown",
   "id": "09ce9612-85ea-415c-9940-b86c92efeb01",
   "metadata": {},
   "source": [
    "And we want to get the sum of the length of all values in the dict:"
   ]
  },
  {
   "cell_type": "code",
   "execution_count": 6,
   "id": "fa3b8070-f089-4803-ad03-2265e3cdb7a0",
   "metadata": {},
   "outputs": [
    {
     "data": {
      "text/plain": [
       "0"
      ]
     },
     "execution_count": 6,
     "metadata": {},
     "output_type": "execute_result"
    }
   ],
   "source": [
    "early_len = sum(map(len, d.values()))\n",
    "early_len"
   ]
  },
  {
   "cell_type": "code",
   "execution_count": 7,
   "id": "b8677fb4-e701-4cd2-8f42-bec8f723e416",
   "metadata": {},
   "outputs": [
    {
     "name": "stdout",
     "output_type": "stream",
     "text": [
      "l = []\n",
      "d = {\"a\": l}\n",
      "early_len = sum(map(len, d.values()))\n",
      "\n"
     ]
    }
   ],
   "source": [
    "print(save(early_len, \"early_len\").get_code())"
   ]
  },
  {
   "cell_type": "markdown",
   "id": "1b1ad78f-9af3-44e9-9b25-82a8495bcea3",
   "metadata": {},
   "source": [
    "Now we add an item to that list.\n",
    "\n",
    "If we get the length after this, the value will be different:"
   ]
  },
  {
   "cell_type": "code",
   "execution_count": 8,
   "id": "fbfabb41-85d2-4c79-8a1d-ef3e9b9575ca",
   "metadata": {},
   "outputs": [
    {
     "data": {
      "text/plain": [
       "1"
      ]
     },
     "execution_count": 8,
     "metadata": {},
     "output_type": "execute_result"
    }
   ],
   "source": [
    "l.append(10)\n",
    "later_len = sum(map(len, d.values()))\n",
    "later_len"
   ]
  },
  {
   "cell_type": "markdown",
   "id": "a77c09a4-9833-4e08-aa45-061363edc4b9",
   "metadata": {},
   "source": [
    "So if we slice on the `later_len` it needs to include the code for the append to be accurate:"
   ]
  },
  {
   "cell_type": "code",
   "execution_count": 9,
   "id": "3fe551a0-9e8a-4576-9527-aa9d840e1858",
   "metadata": {},
   "outputs": [
    {
     "name": "stdout",
     "output_type": "stream",
     "text": [
      "l = []\n",
      "d = {\"a\": l}\n",
      "l.append(10)\n",
      "later_len = sum(map(len, d.values()))\n",
      "\n"
     ]
    }
   ],
   "source": [
    "print(save(later_len, \"later_len\").get_code())"
   ]
  },
  {
   "cell_type": "markdown",
   "id": "ef88ac55-4e77-4346-8c0b-1f844fcdfc3e",
   "metadata": {},
   "source": [
    "We are able to track this by also annotating function if they add any \"views\" between their arguments or results. We consider views to be bidirectional, and if two objects are views of one another, a mutation of one will mutate the other."
   ]
  },
  {
   "cell_type": "markdown",
   "id": "b656eea9-6f49-4055-a687-d7d579ef36bc",
   "metadata": {
    "jp-MarkdownHeadingCollapsed": true,
    "tags": []
   },
   "source": [
    "## Control Flow"
   ]
  },
  {
   "cell_type": "markdown",
   "id": "ea1de464-8b77-4b13-a11b-0431b2579435",
   "metadata": {},
   "source": [
    "We currently have special cases for all Python statements which are not simple expressions, such as `for` loops, `while` loops, `if` statements and `with` statements. We don't do trim any lines out from inside of these, but do analyze them to see what functions are called:"
   ]
  },
  {
   "cell_type": "code",
   "execution_count": 10,
   "id": "bbee76cb-feb4-49cf-a0c4-168214da104e",
   "metadata": {},
   "outputs": [
    {
     "name": "stdout",
     "output_type": "stream",
     "text": [
      "z = 5\n",
      "if True:\n",
      "    x = 10 + z\n",
      "    y = 10\n",
      "\n"
     ]
    }
   ],
   "source": [
    "z = 5\n",
    "\n",
    "# We will include all of thise code, because we do not slice inside of control flow\n",
    "if True:\n",
    "    x = 10 + z\n",
    "    y = 10\n",
    "\n",
    "    \n",
    "print(save(y, 'y').get_code())"
   ]
  },
  {
   "cell_type": "markdown",
   "id": "c0fd38d9-bb90-4881-80ba-a78e2fa9af81",
   "metadata": {},
   "source": [
    "We also analyze all function calls that happen in these blocks, to know if they mutate their arguments:"
   ]
  },
  {
   "cell_type": "code",
   "execution_count": 11,
   "id": "a296d20b-3746-4fa2-8d2d-979146d02074",
   "metadata": {},
   "outputs": [
    {
     "name": "stdout",
     "output_type": "stream",
     "text": [
      "z = []\n",
      "if True:\n",
      "    z.append(10)\n",
      "\n"
     ]
    }
   ],
   "source": [
    "z = []\n",
    "\n",
    "# We know that this code calls append on `z` so we know it mutates z\n",
    "if True:\n",
    "    z.append(10)\n",
    "\n",
    "# We know that this code does not mutate `z`\n",
    "if True:\n",
    "    x = len(z)\n",
    "\n",
    "print(save(z, 'z').get_code())"
   ]
  },
  {
   "cell_type": "markdown",
   "id": "d836ee0e-d59a-41d6-bbdc-ca70e67c3251",
   "metadata": {},
   "source": [
    "We only track the first call to each instruction while tracing control flow, so if it calls a different function the second time we won't pick it up:"
   ]
  },
  {
   "cell_type": "code",
   "execution_count": 12,
   "id": "65d58e69-b7be-4ecf-80e9-1b6cde3976e3",
   "metadata": {},
   "outputs": [
    {
     "name": "stdout",
     "output_type": "stream",
     "text": [
      "z = []\n",
      "for method in (\"append\", \"__getitem__\"):\n",
      "    getattr(z, method)(0)\n",
      "\n"
     ]
    }
   ],
   "source": [
    "z = []\n",
    "\n",
    "# The first time in the loop, we call append, so we know about that call\n",
    "for method in (\"append\", \"__getitem__\"):\n",
    "    getattr(z, method)(0)\n",
    "\n",
    "# In this loop, the first time we call __getitem__, so we only know about that, not append, so we don't know this mutates z\n",
    "for method in (\"__getitem__\", \"append\"):\n",
    "    getattr(z, method)(0)\n",
    "\n",
    "print(save(z, 'z').get_code())"
   ]
  },
  {
   "cell_type": "markdown",
   "id": "5bea3916-306f-436c-8098-7f297da52c89",
   "metadata": {
    "jp-MarkdownHeadingCollapsed": true,
    "tags": []
   },
   "source": [
    "## User Defined Functions"
   ]
  },
  {
   "cell_type": "markdown",
   "id": "8926da09-726f-4697-b921-0c2312d7258c",
   "metadata": {},
   "source": [
    "We also support some limited analysis of user defined functions.\n",
    "\n",
    "We don't track what functions are called inside of them, so we don't know if they mutate their args, so we assume any global they access was mutated:"
   ]
  },
  {
   "cell_type": "code",
   "execution_count": 15,
   "id": "815ccd6e-285e-4fd6-b34a-b737b359661c",
   "metadata": {},
   "outputs": [
    {
     "name": "stdout",
     "output_type": "stream",
     "text": [
      "def use_global():\n",
      "    return a + 10\n",
      "a = 400\n",
      "z = use_global()\n",
      "\n"
     ]
    }
   ],
   "source": [
    "# we know that calling this function will depend on the `a` global\n",
    "def use_global():\n",
    "    return a + 10\n",
    "\n",
    "a = 400\n",
    "\n",
    "z = use_global()\n",
    "\n",
    "print(save(z, \"z\").get_code())"
   ]
  },
  {
   "cell_type": "code",
   "execution_count": 16,
   "id": "3d0c8946-71ab-40e6-b15e-29543c91e609",
   "metadata": {},
   "outputs": [
    {
     "name": "stdout",
     "output_type": "stream",
     "text": [
      "def append_global():\n",
      "    return a.append(10)\n",
      "a = []\n",
      "append_global()\n",
      "\n"
     ]
    }
   ],
   "source": [
    "# we know this function uses `a`, but we don't know that it updates it. We assume it does\n",
    "def append_global():\n",
    "    return a.append(10)\n",
    "\n",
    "a = []\n",
    "\n",
    "append_global()\n",
    "\n",
    "print(save(a, \"a\").get_code())"
   ]
  },
  {
   "cell_type": "code",
   "execution_count": 17,
   "id": "b3e24b4e-07f4-4d2c-b9ec-3164b8673cfc",
   "metadata": {},
   "outputs": [
    {
     "name": "stdout",
     "output_type": "stream",
     "text": [
      "def len_global():\n",
      "    return len(a)\n",
      "a = []\n",
      "len_global()\n",
      "\n"
     ]
    }
   ],
   "source": [
    "# we assume this mutates a, even if it does not!\n",
    "def len_global():\n",
    "    return len(a)\n",
    "\n",
    "a = []\n",
    "\n",
    "len_global()\n",
    "\n",
    "print(save(a, \"a\").get_code())"
   ]
  },
  {
   "cell_type": "code",
   "execution_count": null,
   "id": "47d5c325-0ad1-4df2-a585-cb126d23d604",
   "metadata": {},
   "outputs": [],
   "source": []
  }
 ],
 "metadata": {
  "kernelspec": {
   "display_name": "Python 3 (ipykernel)",
   "language": "python",
   "name": "python3"
  },
  "language_info": {
   "codemirror_mode": {
    "name": "ipython",
    "version": 3
   },
   "file_extension": ".py",
   "mimetype": "text/x-python",
   "name": "python",
   "nbconvert_exporter": "python",
   "pygments_lexer": "ipython3",
   "version": "3.7.13"
  }
 },
 "nbformat": 4,
 "nbformat_minor": 5
}
