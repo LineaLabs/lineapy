{
 "cells": [
  {
   "cell_type": "markdown",
   "metadata": {},
   "source": [
    "# End-to-end pipeline\n",
    "\n",
    "We can combine the preprocessing and modeling steps in one end-to-end pipeline that can be run via an orchestration framework such as Airflow."
   ]
  },
  {
   "cell_type": "code",
   "execution_count": 1,
   "metadata": {
    "tags": []
   },
   "outputs": [],
   "source": [
    "# NBVAL_IGNORE_OUTPUT\n",
    "import lineapy\n",
    "lineapy.options.set(\"is_demo\", True) # Not for normal use"
   ]
  },
  {
   "cell_type": "markdown",
   "metadata": {},
   "source": [
    "We can see artifacts we have saved previously using `lineapy.artifact_store()`"
   ]
  },
  {
   "cell_type": "code",
   "execution_count": 2,
   "metadata": {},
   "outputs": [
    {
     "data": {
      "text/plain": [
       "iris_diff_avg_length:0 created on 2022-08-29 18:57:13.045471\n",
       "iris_diff_avg_length:1 created on 2022-08-29 18:57:13.191326\n",
       "iris_diff_avg_width:0 created on 2022-08-29 18:57:13.367284\n",
       "iris_preprocessed:0 created on 2022-08-29 18:57:39.134790\n",
       "iris_model:0 created on 2022-08-29 18:57:39.203364\n",
       "iris_diff_avg_length:2 created on 2022-08-29 18:58:14.715932\n",
       "iris_diff_avg_length:3 created on 2022-08-29 18:58:14.868242\n",
       "iris_diff_avg_width:1 created on 2022-08-29 18:58:15.040715\n",
       "cleaned_data_housing_lineapy:0 created on 2022-08-29 18:58:51.433123\n",
       "cleaned_data_housing:0 created on 2022-08-29 18:58:51.454668\n",
       "linea_model_housing:0 created on 2022-08-29 18:59:13.418737"
      ]
     },
     "execution_count": 2,
     "metadata": {},
     "output_type": "execute_result"
    }
   ],
   "source": [
    "# NBVAL_IGNORE_OUTPUT\n",
    "lineapy.artifact_store()"
   ]
  },
  {
   "cell_type": "markdown",
   "metadata": {},
   "source": [
    "Let's now create a pipeline containing the data preprocessing artifact `cleaned_data_housing_lineapy` and the model training artifact `linea_model_housing`"
   ]
  },
  {
   "cell_type": "code",
   "execution_count": 3,
   "metadata": {},
   "outputs": [
    {
     "data": {
      "text/plain": [
       "LineaArtifact(name='cleaned_data_housing_lineapy', _version=0)"
      ]
     },
     "execution_count": 3,
     "metadata": {},
     "output_type": "execute_result"
    }
   ],
   "source": [
    "# NBVAL_IGNORE_OUTPUT\n",
    "preprocessing_art = lineapy.get(\"cleaned_data_housing_lineapy\")\n",
    "preprocessing_art"
   ]
  },
  {
   "cell_type": "code",
   "execution_count": 4,
   "metadata": {},
   "outputs": [
    {
     "data": {
      "text/plain": [
       "LineaArtifact(name='linea_model_housing', _version=0)"
      ]
     },
     "execution_count": 4,
     "metadata": {},
     "output_type": "execute_result"
    }
   ],
   "source": [
    "# NBVAL_IGNORE_OUTPUT\n",
    "modeling_art = lineapy.get(\"linea_model_housing\")\n",
    "modeling_art"
   ]
  },
  {
   "cell_type": "code",
   "execution_count": 5,
   "metadata": {},
   "outputs": [
    {
     "name": "stderr",
     "output_type": "stream",
     "text": [
      "Generated module file: airflow/dags/data_housing_pipeline/data_housing_pipeline_module.py                                                                                                                   \n",
      "Generated requirements file: airflow/dags/data_housing_pipeline/data_housing_pipeline_requirements.txt                                                                                                      \n",
      "Generated DAG file: airflow/dags/data_housing_pipeline/data_housing_pipeline_dag.py                                                                                                                         \n",
      "Generated Docker file: airflow/dags/data_housing_pipeline/data_housing_pipeline_Dockerfile                                                                                                                  \n"
     ]
    }
   ],
   "source": [
    "# NBVAL_SKIP\n",
    "import os\n",
    "directory = lineapy.to_pipeline(\n",
    "    [preprocessing_art.name, modeling_art.name], \n",
    "    framework=\"AIRFLOW\",\n",
    "    pipeline_name=\"data_housing_pipeline\",\n",
    "    dependencies={ modeling_art.name: { preprocessing_art.name } },\n",
    "    output_dir=\"airflow/dags/data_housing_pipeline/\"\n",
    ")"
   ]
  },
  {
   "cell_type": "code",
   "execution_count": 6,
   "metadata": {},
   "outputs": [
    {
     "data": {
      "text/plain": [
       "['data_housing_pipeline_requirements.txt',\n",
       " 'data_housing_pipeline_module.py',\n",
       " 'data_housing_pipeline_Dockerfile',\n",
       " 'data_housing_pipeline_dag.py']"
      ]
     },
     "execution_count": 6,
     "metadata": {},
     "output_type": "execute_result"
    }
   ],
   "source": [
    "# NBVAL_SKIP\n",
    "os.listdir(directory)"
   ]
  },
  {
   "cell_type": "code",
   "execution_count": 7,
   "metadata": {},
   "outputs": [
    {
     "name": "stdout",
     "output_type": "stream",
     "text": [
      "import pathlib\n",
      "import pickle\n",
      "\n",
      "import data_housing_pipeline_module\n",
      "from airflow.operators.python_operator import PythonOperator\n",
      "from airflow.utils.dates import days_ago\n",
      "\n",
      "from airflow import DAG\n",
      "\n",
      "\n",
      "def dag_setup():\n",
      "    pickle_folder = pathlib.Path(\"/tmp\").joinpath(\"data_housing_pipeline\")\n",
      "    if not pickle_folder.exists():\n",
      "        pickle_folder.mkdir()\n",
      "\n",
      "\n",
      "def dag_teardown():\n",
      "    pickle_files = (\n",
      "        pathlib.Path(\"/tmp\").joinpath(\"data_housing_pipeline\").glob(\"*.pickle\")\n",
      "    )\n",
      "    for f in pickle_files:\n",
      "        f.unlink()\n",
      "\n",
      "\n",
      "def task_cleaned_data_housing_lineapy():\n",
      "\n",
      "    training_data = data_housing_pipeline_module.get_cleaned_data_housing_lineapy()\n",
      "\n",
      "    pickle.dump(\n",
      "        training_data,\n",
      "        open(\"/tmp/data_housing_pipeline/variable_training_data.pickle\", \"wb\"),\n",
      "    )\n",
      "\n",
      "\n",
      "def task_linea_model_housing():\n",
      "\n",
      "    linear_model = data_housing_pipeline_module.get_linea_model_housing()\n",
      "\n",
      "    pickle.dump(\n",
      "        linear_model,\n",
      "        open(\"/tmp/data_housing_pipeline/variable_linear_model.pickle\", \"wb\"),\n",
      "    )\n",
      "\n",
      "\n",
      "default_dag_args = {\n",
      "    \"owner\": \"airflow\",\n",
      "    \"retries\": 2,\n",
      "    \"start_date\": days_ago(1),\n",
      "}\n",
      "\n",
      "with DAG(\n",
      "    dag_id=\"data_housing_pipeline_dag\",\n",
      "    schedule_interval=\"*/15 * * * *\",\n",
      "    max_active_runs=1,\n",
      "    catchup=False,\n",
      "    default_args=default_dag_args,\n",
      ") as dag:\n",
      "\n",
      "    setup = PythonOperator(\n",
      "        task_id=\"dag_setup\",\n",
      "        python_callable=dag_setup,\n",
      "    )\n",
      "\n",
      "    teardown = PythonOperator(\n",
      "        task_id=\"dag_teardown\",\n",
      "        python_callable=dag_teardown,\n",
      "    )\n",
      "\n",
      "    cleaned_data_housing_lineapy = PythonOperator(\n",
      "        task_id=\"cleaned_data_housing_lineapy_task\",\n",
      "        python_callable=task_cleaned_data_housing_lineapy,\n",
      "    )\n",
      "\n",
      "    linea_model_housing = PythonOperator(\n",
      "        task_id=\"linea_model_housing_task\",\n",
      "        python_callable=task_linea_model_housing,\n",
      "    )\n",
      "\n",
      "    cleaned_data_housing_lineapy >> linea_model_housing\n",
      "\n",
      "    setup >> cleaned_data_housing_lineapy\n",
      "\n",
      "    linea_model_housing >> teardown\n"
     ]
    }
   ],
   "source": [
    "# NBVAL_SKIP\n",
    "os.system(f\"cat {directory}/data_housing_pipeline_dag.py\");"
   ]
  }
 ],
 "metadata": {
  "kernelspec": {
   "display_name": "Python 3 (ipykernel)",
   "language": "python",
   "name": "python3"
  },
  "language_info": {
   "codemirror_mode": {
    "name": "ipython",
    "version": 3
   },
   "file_extension": ".py",
   "mimetype": "text/x-python",
   "name": "python",
   "nbconvert_exporter": "python",
   "pygments_lexer": "ipython3",
   "version": "3.10.3"
  }
 },
 "nbformat": 4,
 "nbformat_minor": 4
}
