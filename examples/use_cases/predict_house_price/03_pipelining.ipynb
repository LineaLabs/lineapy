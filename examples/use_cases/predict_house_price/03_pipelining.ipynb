{
 "cells": [
  {
   "cell_type": "markdown",
   "metadata": {},
   "source": [
    "# End-to-end pipeline\n",
    "\n",
    "We can combine the preprocessing and modeling steps in one end-to-end pipeline that can be run via an orchestration framework such as Airflow."
   ]
  },
  {
   "cell_type": "code",
   "execution_count": 1,
   "metadata": {
    "tags": []
   },
   "outputs": [],
   "source": [
    "# NBVAL_IGNORE_OUTPUT\n",
    "import lineapy"
   ]
  },
  {
   "cell_type": "markdown",
   "metadata": {},
   "source": [
    "We can see artifacts we have saved previously using `lineapy.artifact_store()`"
   ]
  },
  {
   "cell_type": "code",
   "execution_count": 2,
   "metadata": {},
   "outputs": [
    {
     "data": {
      "text/plain": [
       "cleaned_data_housing_lineapy:2022-04-14T23:06:24 created on 2022-04-14 23:06:24.270191\n",
       "cleaned_data_housing:2022-04-14T23:06:24 created on 2022-04-14 23:06:24.553136\n",
       "linea_model_housing:2022-04-14T23:07:34 created on 2022-04-14 23:07:34.111009"
      ]
     },
     "execution_count": 2,
     "metadata": {},
     "output_type": "execute_result"
    }
   ],
   "source": [
    "# NBVAL_IGNORE_OUTPUT\n",
    "lineapy.artifact_store()"
   ]
  },
  {
   "cell_type": "markdown",
   "metadata": {},
   "source": [
    "Let's now create a pipeline containing the data preprocessing artifact `cleaned_data_housing_lineapy` and the model training artifact `linea_model_housing`"
   ]
  },
  {
   "cell_type": "code",
   "execution_count": 3,
   "metadata": {},
   "outputs": [
    {
     "data": {
      "text/plain": [
       "LineaArtifact(name='cleaned_data_housing_lineapy', version='2022-04-14T23:06:24')"
      ]
     },
     "execution_count": 3,
     "metadata": {},
     "output_type": "execute_result"
    }
   ],
   "source": [
    "# NBVAL_IGNORE_OUTPUT\n",
    "preprocessing_art = lineapy.get(\"cleaned_data_housing_lineapy\")\n",
    "preprocessing_art"
   ]
  },
  {
   "cell_type": "code",
   "execution_count": 4,
   "metadata": {},
   "outputs": [
    {
     "data": {
      "text/plain": [
       "LineaArtifact(name='linea_model_housing', version='2022-04-14T23:07:34')"
      ]
     },
     "execution_count": 4,
     "metadata": {},
     "output_type": "execute_result"
    }
   ],
   "source": [
    "# NBVAL_IGNORE_OUTPUT\n",
    "modeling_art = lineapy.get(\"linea_model_housing\")\n",
    "modeling_art"
   ]
  },
  {
   "cell_type": "code",
   "execution_count": 5,
   "metadata": {},
   "outputs": [
    {
     "data": {
      "text/html": [
       "<pre style=\"white-space:pre;overflow-x:auto;line-height:normal;font-family:Menlo,'DejaVu Sans Mono',consolas,'Courier New',monospace\">Pipeline source generated in the directory: <span style=\"color: #800080; text-decoration-color: #800080\">/Users/dorx/airflow/</span><span style=\"color: #ff00ff; text-decoration-color: #ff00ff\">dags</span>                         \n",
       "</pre>\n"
      ],
      "text/plain": [
       "Pipeline source generated in the directory: \u001b[35m/Users/dorx/airflow/\u001b[0m\u001b[95mdags\u001b[0m                         \n"
      ]
     },
     "metadata": {},
     "output_type": "display_data"
    },
    {
     "data": {
      "text/html": [
       "<pre style=\"white-space:pre;overflow-x:auto;line-height:normal;font-family:Menlo,'DejaVu Sans Mono',consolas,'Courier New',monospace\">Generated python module data_housing_pipeline.py                                             \n",
       "</pre>\n"
      ],
      "text/plain": [
       "Generated python module data_housing_pipeline.py                                             \n"
      ]
     },
     "metadata": {},
     "output_type": "display_data"
    },
    {
     "data": {
      "text/html": [
       "<pre style=\"white-space:pre;overflow-x:auto;line-height:normal;font-family:Menlo,'DejaVu Sans Mono',consolas,'Courier New',monospace\">Added Airflow DAG named data_housing_pipeline_dag. Start a run from the Airflow UI or CLI.   \n",
       "</pre>\n"
      ],
      "text/plain": [
       "Added Airflow DAG named data_housing_pipeline_dag. Start a run from the Airflow UI or CLI.   \n"
      ]
     },
     "metadata": {},
     "output_type": "display_data"
    },
    {
     "data": {
      "text/html": [
       "<pre style=\"white-space:pre;overflow-x:auto;line-height:normal;font-family:Menlo,'DejaVu Sans Mono',consolas,'Courier New',monospace\">Generated Dockerfile data_housing_pipeline_Dockerfile                                        \n",
       "</pre>\n"
      ],
      "text/plain": [
       "Generated Dockerfile data_housing_pipeline_Dockerfile                                        \n"
      ]
     },
     "metadata": {},
     "output_type": "display_data"
    },
    {
     "data": {
      "text/html": [
       "<pre style=\"white-space:pre;overflow-x:auto;line-height:normal;font-family:Menlo,'DejaVu Sans Mono',consolas,'Courier New',monospace\">Generated requirements file data_housing_pipeline_requirements.txt                           \n",
       "</pre>\n"
      ],
      "text/plain": [
       "Generated requirements file data_housing_pipeline_requirements.txt                           \n"
      ]
     },
     "metadata": {},
     "output_type": "display_data"
    }
   ],
   "source": [
    "# NBVAL_SKIP\n",
    "import os\n",
    "directory = lineapy.to_pipeline(\n",
    "    [preprocessing_art.name, modeling_art.name], \n",
    "    framework = 'AIRFLOW',\n",
    "    pipeline_name = \"data_housing_pipeline\",\n",
    "    dependencies = {'data_housing_pipeline_linea_model_housing':{'data_housing_pipeline_cleaned_data_housing'}},\n",
    "    output_dir = os.environ.get(\"AIRFLOW_HOME\",\"~/airflow\")+\"/dags\")\n"
   ]
  },
  {
   "cell_type": "code",
   "execution_count": 6,
   "metadata": {},
   "outputs": [
    {
     "data": {
      "text/plain": [
       "['data_housing_pipeline_requirements.txt',\n",
       " 'cleaned_data_housing_Dockerfile',\n",
       " 'cleaned_data_housing_requirements.txt',\n",
       " 'data_housing_pipeline_Dockerfile',\n",
       " 'cleaned_data_housing.py',\n",
       " 'data_housing_pipeline.py',\n",
       " 'cleaned_data_housing_dag.py',\n",
       " 'data_housing_pipeline_dag.py']"
      ]
     },
     "execution_count": 6,
     "metadata": {},
     "output_type": "execute_result"
    }
   ],
   "source": [
    "# NBVAL_SKIP\n",
    "\n",
    "os.listdir(directory)"
   ]
  },
  {
   "cell_type": "code",
   "execution_count": 7,
   "metadata": {},
   "outputs": [
    {
     "name": "stdout",
     "output_type": "stream",
     "text": [
      "import os\n",
      "\n",
      "import data_housing_pipeline\n",
      "from airflow import DAG\n",
      "from airflow.operators.python_operator import PythonOperator\n",
      "from airflow.utils.dates import days_ago\n",
      "\n",
      "default_dag_args = {\"owner\": \"airflow\", \"retries\": 2, \"start_date\": days_ago(1)}\n",
      "\n",
      "dag = DAG(\n",
      "    dag_id=\"data_housing_pipeline_dag\",\n",
      "    schedule_interval=\"*/15 * * * *\",\n",
      "    max_active_runs=1,\n",
      "    catchup=False,\n",
      "    default_args=default_dag_args,\n",
      ")\n",
      "\n",
      "\n",
      "cleaned_data_housing_lineapy = PythonOperator(\n",
      "    dag=dag,\n",
      "    task_id=\"cleaned_data_housing_lineapy_task\",\n",
      "    python_callable=data_housing_pipeline.cleaned_data_housing_lineapy,\n",
      ")\n",
      "\n",
      "linea_model_housing = PythonOperator(\n",
      "    dag=dag,\n",
      "    task_id=\"linea_model_housing_task\",\n",
      "    python_callable=data_housing_pipeline.linea_model_housing,\n",
      ")\n",
      "\n",
      "\n",
      "data_housing_pipeline_cleaned_data_housing >> data_housing_pipeline_linea_model_housing\n"
     ]
    }
   ],
   "source": [
    "# NBVAL_SKIP\n",
    "\n",
    "os.system(f\"cat {directory}/data_housing_pipeline_dag.py\");"
   ]
  }
 ],
 "metadata": {
  "kernelspec": {
   "display_name": "Python 3 (ipykernel)",
   "language": "python",
   "name": "python3"
  },
  "language_info": {
   "codemirror_mode": {
    "name": "ipython",
    "version": 3
   },
   "file_extension": ".py",
   "mimetype": "text/x-python",
   "name": "python",
   "nbconvert_exporter": "python",
   "pygments_lexer": "ipython3",
   "version": "3.9.7"
  }
 },
 "nbformat": 4,
 "nbformat_minor": 4
}
