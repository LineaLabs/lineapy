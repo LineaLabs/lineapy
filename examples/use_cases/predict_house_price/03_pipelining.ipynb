{
 "cells": [
  {
   "cell_type": "markdown",
   "metadata": {},
   "source": [
    "# End-to-end pipeline\n",
    "\n",
    "We can combine the preprocessing and modeling steps in one end-to-end pipeline that can be run via an orchestration framework such as Airflow."
   ]
  },
  {
   "cell_type": "code",
   "execution_count": 1,
   "metadata": {
    "tags": []
   },
   "outputs": [],
   "source": [
    "# NBVAL_IGNORE_OUTPUT\n",
    "import lineapy\n",
    "lineapy.options.set(\"is_demo\", True) # Not for normal use"
   ]
  },
  {
   "cell_type": "markdown",
   "metadata": {},
   "source": [
    "We can see artifacts we have saved previously using `lineapy.artifact_store()`"
   ]
  },
  {
   "cell_type": "code",
   "execution_count": 2,
   "metadata": {},
   "outputs": [
    {
     "data": {
      "text/plain": [
       "iris_preprocessed:0 created on 2022-08-25 21:22:21.730530\n",
       "iris_model:0 created on 2022-08-25 21:22:21.820673\n",
       "cleaned_data_housing_lineapy:0 created on 2022-08-25 21:24:43.337461\n",
       "cleaned_data_housing:0 created on 2022-08-25 21:24:43.356248\n",
       "cleaned_data_housing_lineapy:1 created on 2022-08-25 21:26:51.654475\n",
       "cleaned_data_housing:1 created on 2022-08-25 21:26:51.672566\n",
       "cleaned_data_housing_lineapy:2 created on 2022-08-25 21:27:05.791815\n",
       "cleaned_data_housing:2 created on 2022-08-25 21:27:05.810591\n",
       "cleaned_data_housing_lineapy:3 created on 2022-08-25 21:33:02.317255\n",
       "cleaned_data_housing:3 created on 2022-08-25 21:33:02.338189\n",
       "cleaned_data_housing_lineapy:4 created on 2022-08-25 21:33:23.913693\n",
       "cleaned_data_housing:4 created on 2022-08-25 21:33:23.931533\n",
       "cleaned_data_housing_lineapy:5 created on 2022-08-25 21:34:45.906444\n",
       "cleaned_data_housing:5 created on 2022-08-25 21:34:45.923608\n",
       "cleaned_data_housing_lineapy:6 created on 2022-08-25 21:42:50.453430\n",
       "cleaned_data_housing:6 created on 2022-08-25 21:42:50.472582\n",
       "cleaned_data_housing_lineapy:7 created on 2022-08-25 21:43:14.020834\n",
       "cleaned_data_housing:7 created on 2022-08-25 21:43:14.039615\n",
       "cleaned_data_housing_lineapy:8 created on 2022-08-25 21:49:36.570430\n",
       "cleaned_data_housing:8 created on 2022-08-25 21:49:36.591528\n",
       "cleaned_data_housing_lineapy:9 created on 2022-08-25 21:51:34.681835\n",
       "cleaned_data_housing:9 created on 2022-08-25 21:51:34.704073\n",
       "linea_model_housing:0 created on 2022-08-25 21:53:42.840764"
      ]
     },
     "execution_count": 2,
     "metadata": {},
     "output_type": "execute_result"
    }
   ],
   "source": [
    "# NBVAL_IGNORE_OUTPUT\n",
    "lineapy.artifact_store()"
   ]
  },
  {
   "cell_type": "markdown",
   "metadata": {},
   "source": [
    "Let's now create a pipeline containing the data preprocessing artifact `cleaned_data_housing_lineapy` and the model training artifact `linea_model_housing`"
   ]
  },
  {
   "cell_type": "code",
   "execution_count": 3,
   "metadata": {},
   "outputs": [
    {
     "data": {
      "text/plain": [
       "LineaArtifact(name='cleaned_data_housing_lineapy', _version=9)"
      ]
     },
     "execution_count": 3,
     "metadata": {},
     "output_type": "execute_result"
    }
   ],
   "source": [
    "# NBVAL_IGNORE_OUTPUT\n",
    "preprocessing_art = lineapy.get(\"cleaned_data_housing_lineapy\")\n",
    "preprocessing_art"
   ]
  },
  {
   "cell_type": "code",
   "execution_count": 4,
   "metadata": {},
   "outputs": [
    {
     "data": {
      "text/plain": [
       "LineaArtifact(name='linea_model_housing', _version=0)"
      ]
     },
     "execution_count": 4,
     "metadata": {},
     "output_type": "execute_result"
    }
   ],
   "source": [
    "# NBVAL_IGNORE_OUTPUT\n",
    "modeling_art = lineapy.get(\"linea_model_housing\")\n",
    "modeling_art"
   ]
  },
  {
   "cell_type": "code",
   "execution_count": 5,
   "metadata": {},
   "outputs": [
    {
     "name": "stderr",
     "output_type": "stream",
     "text": [
      "Generated module file: data_housing_pipeline/data_housing_pipeline_module.py                                                                                        \n",
      "Generated requirements file: data_housing_pipeline/data_housing_pipeline_requirements.txt                                                                           \n",
      "Generated DAG file: data_housing_pipeline/data_housing_pipeline_dag.py                                                                                              \n",
      "Generated Docker file: data_housing_pipeline/data_housing_pipeline_Dockerfile                                                                                       \n"
     ]
    }
   ],
   "source": [
    "# NBVAL_SKIP\n",
    "import os\n",
    "directory = lineapy.to_pipeline(\n",
    "    [preprocessing_art.name, modeling_art.name], \n",
    "    framework = \"AIRFLOW\",\n",
    "    pipeline_name = \"data_housing_pipeline\",\n",
    "    dependencies = { modeling_art.name: { preprocessing_art.name } },\n",
    ")"
   ]
  },
  {
   "cell_type": "code",
   "execution_count": 6,
   "metadata": {},
   "outputs": [
    {
     "data": {
      "text/plain": [
       "['data_housing_pipeline_requirements.txt',\n",
       " 'data_housing_pipeline_module.py',\n",
       " 'data_housing_pipeline_Dockerfile',\n",
       " 'data_housing_pipeline_dag.py']"
      ]
     },
     "execution_count": 6,
     "metadata": {},
     "output_type": "execute_result"
    }
   ],
   "source": [
    "# NBVAL_SKIP\n",
    "os.listdir(directory)"
   ]
  },
  {
   "cell_type": "code",
   "execution_count": 7,
   "metadata": {},
   "outputs": [
    {
     "name": "stdout",
     "output_type": "stream",
     "text": [
      "import data_housing_pipeline_module\n",
      "from airflow import DAG\n",
      "from airflow.operators.python_operator import PythonOperator\n",
      "from airflow.utils.dates import days_ago\n",
      "\n",
      "default_dag_args = {\n",
      "    \"owner\": \"airflow\",\n",
      "    \"retries\": 2,\n",
      "    \"start_date\": days_ago(1),\n",
      "}\n",
      "\n",
      "with DAG(\n",
      "    dag_id=\"data_housing_pipeline_dag\",\n",
      "    schedule_interval=\"*/15 * * * *\",\n",
      "    max_active_runs=1,\n",
      "    catchup=False,\n",
      "    default_args=default_dag_args,\n",
      ") as dag:\n",
      "\n",
      "    run_session_including_cleaned_data_housing_lineapy = PythonOperator(\n",
      "        task_id=\"run_session_including_cleaned_data_housing_lineapy_task\",\n",
      "        python_callable=data_housing_pipeline_module.run_session_including_cleaned_data_housing_lineapy,\n",
      "    )\n",
      "\n",
      "    run_session_including_linea_model_housing = PythonOperator(\n",
      "        task_id=\"run_session_including_linea_model_housing_task\",\n",
      "        python_callable=data_housing_pipeline_module.run_session_including_linea_model_housing,\n",
      "    )\n",
      "\n",
      "    (\n",
      "        run_session_including_cleaned_data_housing_lineapy\n",
      "        >> run_session_including_linea_model_housing\n",
      "    )\n"
     ]
    }
   ],
   "source": [
    "# NBVAL_SKIP\n",
    "os.system(f\"cat {directory}/data_housing_pipeline_dag.py\");"
   ]
  }
 ],
 "metadata": {
  "kernelspec": {
   "display_name": "Python 3 (ipykernel)",
   "language": "python",
   "name": "python3"
  },
  "language_info": {
   "codemirror_mode": {
    "name": "ipython",
    "version": 3
   },
   "file_extension": ".py",
   "mimetype": "text/x-python",
   "name": "python",
   "nbconvert_exporter": "python",
   "pygments_lexer": "ipython3",
   "version": "3.10.3"
  }
 },
 "nbformat": 4,
 "nbformat_minor": 4
}
