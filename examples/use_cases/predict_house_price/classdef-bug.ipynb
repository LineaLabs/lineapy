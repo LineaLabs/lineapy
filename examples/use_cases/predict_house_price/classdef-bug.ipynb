{
 "cells": [
  {
   "cell_type": "code",
   "execution_count": 1,
   "id": "22131fec-aa1b-466b-89c7-0d821d33905b",
   "metadata": {},
   "outputs": [],
   "source": [
    "from dataclasses import dataclass\n",
    "\n",
    "class ClasswithDecorator:\n",
    "    def __init__(self,name):\n",
    "        self.name = name\n",
    "    \n",
    "dd = ClasswithDecorator(name=\"test\")\n"
   ]
  },
  {
   "cell_type": "code",
   "execution_count": 2,
   "id": "2ca325f6-94bb-40cd-9c3b-9ffb3e0ccf82",
   "metadata": {},
   "outputs": [
    {
     "data": {
      "text/plain": [
       "<ClasswithDecorator at 0x7f96fad82ac0>"
      ]
     },
     "execution_count": 2,
     "metadata": {},
     "output_type": "execute_result"
    }
   ],
   "source": [
    "dd\n"
   ]
  },
  {
   "cell_type": "code",
   "execution_count": 3,
   "id": "626b497b-3bb2-4d26-b679-54a1b3e161bc",
   "metadata": {},
   "outputs": [
    {
     "data": {
      "text/plain": [
       "b'\\x80\\x04\\x95n\\x02\\x00\\x00\\x00\\x00\\x00\\x00\\x8c\\ndill._dill\\x94\\x8c\\x0c_create_type\\x94\\x93\\x94(h\\x00\\x8c\\n_load_type\\x94\\x93\\x94\\x8c\\x04type\\x94\\x85\\x94R\\x94\\x8c\\x12ClasswithDecorator\\x94h\\x04\\x8c\\x06object\\x94\\x85\\x94R\\x94\\x85\\x94}\\x94(\\x8c\\n__module__\\x94\\x8c\\x08builtins\\x94\\x8c\\x08__init__\\x94h\\x00\\x8c\\x10_create_function\\x94\\x93\\x94(h\\x00\\x8c\\x0c_create_code\\x94\\x93\\x94(K\\x02K\\x00K\\x00K\\x02K\\x02JC\\x00\\x00\\x01C\\n|\\x01|\\x00_\\x00d\\x00S\\x00\\x94N\\x85\\x94\\x8c\\x04name\\x94\\x85\\x94\\x8c\\x04self\\x94h\\x17\\x86\\x94\\x8cs/var/folders/wd/06xp71wn3xscnfy46vft2znc0000gn/T/tmplrz5cguilinea_ipython/64aebb9f-8cb0-467c-9abc-a9530f870a22_1.py\\x94h\\x10K\\x04C\\x02\\x00\\x01\\x94))t\\x94R\\x94}\\x94\\x8c\\x08__name__\\x94Nsh\\x10NNt\\x94R\\x94}\\x94}\\x94(\\x8c\\x0f__annotations__\\x94}\\x94\\x8c\\x0c__qualname__\\x94\\x8c\\x1bClasswithDecorator.__init__\\x94u\\x86\\x94b\\x8c\\x07__doc__\\x94N\\x8c\\r__slotnames__\\x94]\\x94ut\\x94R\\x94h\\x1f(\\x8c\\tdataclass\\x94\\x8c\\x0bdataclasses\\x94h/\\x93\\x94h\\x08h.\\x8c\\x02dd\\x94h.)\\x81\\x94}\\x94h\\x17\\x8c\\x04test\\x94sb\\x8c\\x04dill\\x94h\\x00\\x8c\\x0e_import_module\\x94\\x93\\x94h6\\x85\\x94R\\x94\\x8c\\x0c__builtins__\\x94h8h\\x0f\\x85\\x94R\\x94u0)\\x810h3h4b.'"
      ]
     },
     "execution_count": 3,
     "metadata": {},
     "output_type": "execute_result"
    }
   ],
   "source": [
    "import dill\n",
    "\n",
    "dill.dumps(dd)"
   ]
  },
  {
   "cell_type": "code",
   "execution_count": 4,
   "id": "7b65e7af-1999-4eeb-a4eb-5fa8e3370fd1",
   "metadata": {},
   "outputs": [
    {
     "data": {
      "text/plain": [
       "b'\\x80\\x05\\x95\\xf7\\x02\\x00\\x00\\x00\\x00\\x00\\x00\\x8c\\x17cloudpickle.cloudpickle\\x94\\x8c\\x14_make_skeleton_class\\x94\\x93\\x94(\\x8c\\x08builtins\\x94\\x8c\\x04type\\x94\\x93\\x94\\x8c\\x12ClasswithDecorator\\x94h\\x03\\x8c\\x06object\\x94\\x93\\x94\\x85\\x94}\\x94\\x8c cdf40787d9774fa98f828bbc5fcac25e\\x94Nt\\x94R\\x94\\x8c\\x1ccloudpickle.cloudpickle_fast\\x94\\x8c\\x0f_class_setstate\\x94\\x93\\x94h\\r}\\x94(\\x8c\\n__module__\\x94\\x8c\\x08builtins\\x94\\x8c\\x08__init__\\x94h\\x00\\x8c\\r_builtin_type\\x94\\x93\\x94\\x8c\\nLambdaType\\x94\\x85\\x94R\\x94(h\\x16\\x8c\\x08CodeType\\x94\\x85\\x94R\\x94(K\\x02K\\x00K\\x00K\\x02K\\x02JC\\x00\\x00\\x01C\\n|\\x01|\\x00_\\x00d\\x00S\\x00\\x94N\\x85\\x94\\x8c\\x04name\\x94\\x85\\x94\\x8c\\x04self\\x94h\\x1f\\x86\\x94\\x8cs/var/folders/wd/06xp71wn3xscnfy46vft2znc0000gn/T/tmplrz5cguilinea_ipython/64aebb9f-8cb0-467c-9abc-a9530f870a22_1.py\\x94h\\x14K\\x04C\\x02\\x00\\x01\\x94))t\\x94R\\x94}\\x94NNNt\\x94R\\x94h\\x0e\\x8c\\x12_function_setstate\\x94\\x93\\x94h)}\\x94}\\x94(\\x8c\\x08__name__\\x94h\\x14\\x8c\\x0c__qualname__\\x94\\x8c\\x1bClasswithDecorator.__init__\\x94\\x8c\\x0f__annotations__\\x94}\\x94\\x8c\\x0e__kwdefaults__\\x94N\\x8c\\x0c__defaults__\\x94Nh\\x12N\\x8c\\x07__doc__\\x94N\\x8c\\x0b__closure__\\x94N\\x8c\\x17_cloudpickle_submodules\\x94]\\x94\\x8c\\x0b__globals__\\x94}\\x94u\\x86\\x94\\x86R0h5N\\x8c\\r__slotnames__\\x94]\\x94u}\\x94\\x86\\x94\\x86R0)\\x81\\x94}\\x94h\\x1f\\x8c\\x04test\\x94sb.'"
      ]
     },
     "execution_count": 4,
     "metadata": {},
     "output_type": "execute_result"
    }
   ],
   "source": [
    "import cloudpickle\n",
    "cloudpickle.dumps(dd)"
   ]
  },
  {
   "cell_type": "code",
   "execution_count": 5,
   "id": "bd7cf21e-6143-4e19-84ad-b64c6c1d31df",
   "metadata": {},
   "outputs": [
    {
     "ename": "PicklingError",
     "evalue": "Can't pickle <class 'ClasswithDecorator'>: attribute lookup ClasswithDecorator on builtins failed",
     "output_type": "error",
     "traceback": [
      "\u001b[0;31m---------------------------------------------------------------------------\u001b[0m",
      "\u001b[0;31mPicklingError\u001b[0m                             Traceback (most recent call last)",
      "\u001b[0;32m/var/folders/wd/06xp71wn3xscnfy46vft2znc0000gn/T/tmplrz5cguilinea_ipython/64aebb9f-8cb0-467c-9abc-a9530f870a22_5.py\u001b[0m in \u001b[0;36m<module>\u001b[0;34m\u001b[0m\n\u001b[1;32m      1\u001b[0m \u001b[0;32mimport\u001b[0m \u001b[0mpickle\u001b[0m\u001b[0;34m\u001b[0m\u001b[0;34m\u001b[0m\u001b[0m\n\u001b[0;32m----> 2\u001b[0;31m \u001b[0mpickle\u001b[0m\u001b[0;34m.\u001b[0m\u001b[0mdumps\u001b[0m\u001b[0;34m(\u001b[0m\u001b[0mdd\u001b[0m\u001b[0;34m)\u001b[0m\u001b[0;34m\u001b[0m\u001b[0;34m\u001b[0m\u001b[0m\n\u001b[0m",
      "\u001b[0;31mPicklingError\u001b[0m: Can't pickle <class 'ClasswithDecorator'>: attribute lookup ClasswithDecorator on builtins failed"
     ]
    }
   ],
   "source": [
    "import pickle\n",
    "pickle.dumps(dd)"
   ]
  },
  {
   "cell_type": "code",
   "execution_count": null,
   "id": "c435579a-5ab2-4524-9286-b408510fcab2",
   "metadata": {},
   "outputs": [],
   "source": []
  }
 ],
 "metadata": {
  "kernelspec": {
   "display_name": "Python 3 (ipykernel)",
   "language": "python",
   "name": "python3"
  },
  "language_info": {
   "codemirror_mode": {
    "name": "ipython",
    "version": 3
   },
   "file_extension": ".py",
   "mimetype": "text/x-python",
   "name": "python",
   "nbconvert_exporter": "python",
   "pygments_lexer": "ipython3",
   "version": "3.9.7"
  }
 },
 "nbformat": 4,
 "nbformat_minor": 5
}
