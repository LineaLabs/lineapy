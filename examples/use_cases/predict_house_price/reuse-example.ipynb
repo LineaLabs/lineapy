{
 "cells": [
  {
   "cell_type": "markdown",
   "metadata": {},
   "source": [
    "# Create Reusable components using LineaPy\n",
    "\n",
    "This use case illustrates how LineaPy can facilitate standardization for common or repeated tasks.\n",
    "\n",
    "~~1. ***Exploratory Data Analysis and Feature Engineering.*** Using various statistics and visualizations, we explore the given data\n",
    "to create useful features. We use LineaPy to store the transformed data as an artifact, which allows us to automatically refactor and clean up the code.~~\n",
    "\n",
    "~~2. ***Training a Model.*** Using the transformed data, we train a model that can predict housing prices. We then store\n",
    "the trained model as an artifact.~~\n",
    "\n",
    "~~3. ***Building an End-to-End Pipeline.*** Using artifacts saved in this session, we quickly build an end-to-end\n",
    "pipeline that combines data preprocessing and model training, moving closer to production.~~\n"
   ]
  },
  {
   "cell_type": "markdown",
   "metadata": {},
   "source": [
    "<div class=\"alert alert-info\">\n",
    "\n",
    "If you encounter issues you cannot resolve, simply ask in our [Slack community](https://join.slack.com/t/lineacommunity/shared_invite/zt-18kizfn3b-1Qu_HDT3ahGudnAwoFAw9Q)'s `#support` channel. We are always happy and ready to help you!\n",
    "\n",
    "</div>"
   ]
  },
  {
   "cell_type": "markdown",
   "metadata": {},
   "source": [
    "## Creating a reusable component\n",
    "\n",
    "For this section, lets say we are starting with a brand new data set. Common practice is to understand the data first. There are many facets to this that are often second nature to most data scientists and each one has their own set of functions they call to understand the data they get. Lets look at a sample  all or part of which might be useful:\n",
    "\n",
    "~~doing data analysis and feature engineering on tabular data containing features for house sales price prediction. A detailed description of the dataset can be found [here](https://www.kaggle.com/c/house-prices-advanced-regression-techniques/data).\n",
    "We will start with exploratory data analysis (EDA) on the dataset. As we establish understanding of the dataset by inspecting the raw content, computing statistics, and creating visualizations, we will be incrementally cleaning the dataset to move towards a dataset that can be used for model training.\n",
    "We will be using `lineapy` to help us extract the preprocessing pipeline from our work session without us having to retrace our steps to figure out what parts of the notebook were EDA and what parts were transforming the data and thus should be included in the pipeline. We do this by simply adding `import lineapy` in the first cell and then invoking lineapy.save on the final training dataframe to create a Linea Artifact.~~"
   ]
  },
  {
   "cell_type": "markdown",
   "metadata": {},
   "source": [
    "<div class=\"alert alert-info\">\n",
    "\n",
    "You can ignore `# NBVAL_*` and safely remove it from the notebook as you go through the example. It is for passing unit tests only, which we do to make sure the examples are always functional as we update the codebase.\n",
    "\n",
    "</div>"
   ]
  },
  {
   "cell_type": "code",
   "execution_count": 5,
   "metadata": {
    "tags": []
   },
   "outputs": [],
   "source": [
    "# Set option so plots in EDA are visible\n",
    "%matplotlib inline\n",
    "\n",
    "# The magic import\n",
    "import lineapy\n",
    "from dataclasses import dataclass\n",
    "lineapy.tag(\"Reusable Components Demo\")"
   ]
  },
  {
   "cell_type": "code",
   "execution_count": 6,
   "metadata": {},
   "outputs": [],
   "source": [
    "# NBVAL_IGNORE_OUTPUT\n",
    "import pandas as pd\n",
    "\n",
    "# change input here for new data. For now we'll restrict to a pandas dataframe\n",
    "input_data = \"https://raw.githubusercontent.com/LineaLabs/lineapy/main/examples/use_cases/predict_house_price/data/ames_train_cleaned.csv\"\n",
    "training_data = pd.read_csv(input_data)"
   ]
  },
  {
   "cell_type": "code",
   "execution_count": 7,
   "metadata": {},
   "outputs": [
    {
     "name": "stderr",
     "output_type": "stream",
     "text": [
      "Can't pickle <class 'BasicEDA'>: attribute lookup BasicEDA on builtins failed                                                          \n"
     ]
    },
    {
     "ename": "PicklingError",
     "evalue": "Can't pickle <class 'BasicEDA'>: attribute lookup BasicEDA on builtins failed",
     "output_type": "error",
     "traceback": [
      "\u001b[0;31m---------------------------------------------------------------------------\u001b[0m",
      "\u001b[0;31mPicklingError\u001b[0m                             Traceback (most recent call last)",
      "\u001b[0;32m/var/folders/wd/06xp71wn3xscnfy46vft2znc0000gn/T/tmpte3tzt04linea_ipython/219dbed2-e9f3-4bb3-aa5e-a1ea6b5d7230_9.py\u001b[0m in \u001b[0;36m<module>\u001b[0;34m\u001b[0m\n\u001b[1;32m     50\u001b[0m \u001b[0;34m\u001b[0m\u001b[0m\n\u001b[1;32m     51\u001b[0m \u001b[0meda\u001b[0m \u001b[0;34m=\u001b[0m \u001b[0mBasicEDA\u001b[0m\u001b[0;34m(\u001b[0m\u001b[0mname\u001b[0m \u001b[0;34m=\u001b[0m \u001b[0;34m\"Data flagged for fraud activity\"\u001b[0m\u001b[0;34m)\u001b[0m\u001b[0;34m\u001b[0m\u001b[0;34m\u001b[0m\u001b[0m\n\u001b[0;32m---> 52\u001b[0;31m \u001b[0mlineapy\u001b[0m\u001b[0;34m.\u001b[0m\u001b[0msave\u001b[0m\u001b[0;34m(\u001b[0m\u001b[0meda\u001b[0m\u001b[0;34m,\u001b[0m\u001b[0;34m\"test\"\u001b[0m\u001b[0;34m)\u001b[0m\u001b[0;34m\u001b[0m\u001b[0;34m\u001b[0m\u001b[0m\n\u001b[0m\u001b[1;32m     53\u001b[0m \u001b[0;34m\u001b[0m\u001b[0m\n\u001b[1;32m     54\u001b[0m \u001b[0;31m# common calls for EDA\u001b[0m\u001b[0;34m\u001b[0m\u001b[0;34m\u001b[0m\u001b[0m\n",
      "\u001b[0;32m~/Projects/lineapy/lineapy/api/api.py\u001b[0m in \u001b[0;36msave\u001b[0;34m(reference, name, storage_backend, **kwargs)\u001b[0m\n\u001b[1;32m    119\u001b[0m         \u001b[0;31m# TODO add version or timestamp to allow saving of multiple pickle files for the same node id\u001b[0m\u001b[0;34m\u001b[0m\u001b[0;34m\u001b[0m\u001b[0m\n\u001b[1;32m    120\u001b[0m \u001b[0;34m\u001b[0m\u001b[0m\n\u001b[0;32m--> 121\u001b[0;31m         artifact_serialize_metadata = serialize_artifact(\n\u001b[0m\u001b[1;32m    122\u001b[0m             \u001b[0mvalue_node_id\u001b[0m\u001b[0;34m,\u001b[0m\u001b[0;34m\u001b[0m\u001b[0;34m\u001b[0m\u001b[0m\n\u001b[1;32m    123\u001b[0m             \u001b[0mexecution_id\u001b[0m\u001b[0;34m,\u001b[0m\u001b[0;34m\u001b[0m\u001b[0;34m\u001b[0m\u001b[0m\n",
      "\u001b[0;32m~/Projects/lineapy/lineapy/api/artifact_serializer.py\u001b[0m in \u001b[0;36mserialize_artifact\u001b[0;34m(value_node_id, execution_id, reference, name, storage_backend, **kwargs)\u001b[0m\n\u001b[1;32m     70\u001b[0m \u001b[0;34m\u001b[0m\u001b[0m\n\u001b[1;32m     71\u001b[0m     \u001b[0mpickle_name\u001b[0m \u001b[0;34m=\u001b[0m \u001b[0m_pickle_name\u001b[0m\u001b[0;34m(\u001b[0m\u001b[0mvalue_node_id\u001b[0m\u001b[0;34m,\u001b[0m \u001b[0mexecution_id\u001b[0m\u001b[0;34m)\u001b[0m\u001b[0;34m\u001b[0m\u001b[0;34m\u001b[0m\u001b[0m\n\u001b[0;32m---> 72\u001b[0;31m     \u001b[0m_try_write_to_pickle\u001b[0m\u001b[0;34m(\u001b[0m\u001b[0mreference\u001b[0m\u001b[0;34m,\u001b[0m \u001b[0mpickle_name\u001b[0m\u001b[0;34m)\u001b[0m\u001b[0;34m\u001b[0m\u001b[0;34m\u001b[0m\u001b[0m\n\u001b[0m\u001b[1;32m     73\u001b[0m     return {\n\u001b[1;32m     74\u001b[0m         \u001b[0;34m\"backend\"\u001b[0m\u001b[0;34m:\u001b[0m \u001b[0;34m\"lineapy\"\u001b[0m\u001b[0;34m,\u001b[0m\u001b[0;34m\u001b[0m\u001b[0;34m\u001b[0m\u001b[0m\n",
      "\u001b[0;32m~/Projects/lineapy/lineapy/api/artifact_serializer.py\u001b[0m in \u001b[0;36m_try_write_to_pickle\u001b[0;34m(value, filename)\u001b[0m\n\u001b[1;32m    142\u001b[0m         \u001b[0mlogger\u001b[0m\u001b[0;34m.\u001b[0m\u001b[0merror\u001b[0m\u001b[0;34m(\u001b[0m\u001b[0me\u001b[0m\u001b[0;34m)\u001b[0m\u001b[0;34m\u001b[0m\u001b[0;34m\u001b[0m\u001b[0m\n\u001b[1;32m    143\u001b[0m         \u001b[0mtrack\u001b[0m\u001b[0;34m(\u001b[0m\u001b[0mExceptionEvent\u001b[0m\u001b[0;34m(\u001b[0m\u001b[0mErrorType\u001b[0m\u001b[0;34m.\u001b[0m\u001b[0mSAVE\u001b[0m\u001b[0;34m,\u001b[0m \u001b[0;34m\"Pickling error\"\u001b[0m\u001b[0;34m)\u001b[0m\u001b[0;34m)\u001b[0m\u001b[0;34m\u001b[0m\u001b[0;34m\u001b[0m\u001b[0m\n\u001b[0;32m--> 144\u001b[0;31m         \u001b[0;32mraise\u001b[0m \u001b[0me\u001b[0m\u001b[0;34m\u001b[0m\u001b[0;34m\u001b[0m\u001b[0m\n\u001b[0m",
      "\u001b[0;32m~/Projects/lineapy/lineapy/api/artifact_serializer.py\u001b[0m in \u001b[0;36m_try_write_to_pickle\u001b[0;34m(value, filename)\u001b[0m\n\u001b[1;32m    135\u001b[0m     \u001b[0;32mtry\u001b[0m\u001b[0;34m:\u001b[0m\u001b[0;34m\u001b[0m\u001b[0;34m\u001b[0m\u001b[0m\n\u001b[1;32m    136\u001b[0m         \u001b[0mlogger\u001b[0m\u001b[0;34m.\u001b[0m\u001b[0mdebug\u001b[0m\u001b[0;34m(\u001b[0m\u001b[0;34mf\"Saving file to {filepath} \"\u001b[0m\u001b[0;34m)\u001b[0m\u001b[0;34m\u001b[0m\u001b[0;34m\u001b[0m\u001b[0m\n\u001b[0;32m--> 137\u001b[0;31m         to_pickle(\n\u001b[0m\u001b[1;32m    138\u001b[0m             \u001b[0mvalue\u001b[0m\u001b[0;34m,\u001b[0m \u001b[0mfilepath\u001b[0m\u001b[0;34m,\u001b[0m \u001b[0mstorage_options\u001b[0m\u001b[0;34m=\u001b[0m\u001b[0moptions\u001b[0m\u001b[0;34m.\u001b[0m\u001b[0mget\u001b[0m\u001b[0;34m(\u001b[0m\u001b[0;34m\"storage_options\"\u001b[0m\u001b[0;34m)\u001b[0m\u001b[0;34m\u001b[0m\u001b[0;34m\u001b[0m\u001b[0m\n\u001b[1;32m    139\u001b[0m         )\n",
      "\u001b[0;32m~/opt/miniconda3/envs/py39/lib/python3.9/site-packages/pandas/io/pickle.py\u001b[0m in \u001b[0;36mto_pickle\u001b[0;34m(obj, filepath_or_buffer, compression, protocol, storage_options)\u001b[0m\n\u001b[1;32m    111\u001b[0m         \u001b[0;32melse\u001b[0m\u001b[0;34m:\u001b[0m\u001b[0;34m\u001b[0m\u001b[0;34m\u001b[0m\u001b[0m\n\u001b[1;32m    112\u001b[0m             \u001b[0;31m# letting pickle write directly to the buffer is more memory-efficient\u001b[0m\u001b[0;34m\u001b[0m\u001b[0;34m\u001b[0m\u001b[0m\n\u001b[0;32m--> 113\u001b[0;31m             pickle.dump(\n\u001b[0m\u001b[1;32m    114\u001b[0m                 \u001b[0;31m# error: Argument 2 to \"dump\" has incompatible type \"Union[IO[Any],\u001b[0m\u001b[0;34m\u001b[0m\u001b[0;34m\u001b[0m\u001b[0m\n\u001b[1;32m    115\u001b[0m                 \u001b[0;31m# RawIOBase, BufferedIOBase, TextIOBase, TextIOWrapper, mmap]\"; expected\u001b[0m\u001b[0;34m\u001b[0m\u001b[0;34m\u001b[0m\u001b[0m\n",
      "\u001b[0;31mPicklingError\u001b[0m: Can't pickle <class 'BasicEDA'>: attribute lookup BasicEDA on builtins failed"
     ]
    }
   ],
   "source": [
    "# let us create an object to hold on to the different EDA components\n",
    "from dataclasses import dataclass\n",
    "\n",
    "@dataclass\n",
    "class BasicEDA:\n",
    "    name:str\n",
    "    head:object = None\n",
    "    tail:object = None\n",
    "    columns:object = None\n",
    "    shape:object = None\n",
    "    nulls:object = None\n",
    "    dtypes:object = None\n",
    "    described:object = None\n",
    "    correlations:object = None\n",
    "    \n",
    "    def __repr__(self):\n",
    "        return self.report()\n",
    "    def report(self):\n",
    "        # This is to compile our EDA into one report\n",
    "        returnstr = f\"\"\"\n",
    "        EDA report for: {self.name}\n",
    "        \n",
    "        Basic info: {self.shape[0]} Features and {self.shape[1]} samples\n",
    "        \n",
    "        Null report: \n",
    "        {self.nulls}\n",
    "        \n",
    "        All Columns:\n",
    "        {self.columns}\n",
    "        \n",
    "        All Dtypes:\n",
    "        {self.dtypes}\n",
    "        \n",
    "        Basic Stats by features:\n",
    "        {self.described}\n",
    "        \n",
    "        |\n",
    "        |\n",
    "        |\n",
    "        Samples:\n",
    "        ------------ First 10 samples ------------\n",
    "        {self.head}\n",
    "        ------------ Last 10 samples ------------\n",
    "        {self.tail}\n",
    "        \"\"\"\n",
    "        return returnstr\n",
    "    def plots(self):\n",
    "        import seaborn as sb\n",
    "        sb.heatmap(self.correlations, cmap=\"Blues\", annot=False)\n",
    "        \n",
    "eda = BasicEDA(name = \"Data flagged for fraud activity\")\n",
    "lineapy.save(eda,\"test\")\n",
    "\n",
    "# common calls for EDA\n",
    "\n",
    "eda.head = training_data.head()\n",
    "\n",
    "# some might also look at the tail\n",
    "eda.tail = training_data.tail()\n",
    "\n",
    "# makes sense to get the names of all our columns\n",
    "eda.columns = training_data.columns\n",
    "\n",
    "# and the size of our data.\n",
    "eda.shape = training_data.shape\n",
    "\n",
    "# column data types may catch unexpected types that might cause issues during training\n",
    "eda.dtypes = training_data.dtypes\n",
    "\n",
    "# check for nulls and get list of columns that have nulls along with the null count\n",
    "eda.nulls = training_data[training_data.columns[training_data.isnull().any()]].isnull().sum()\n",
    "\n",
    "# alternately, we can use some cool functions pandas provides for EDA\n",
    "# this one only prints to console/output_cell\n",
    "# training_data.info()\n",
    "\n",
    "eda.described = training_data.describe()\n",
    "eda.correlations = training_data.corr()"
   ]
  },
  {
   "cell_type": "code",
   "execution_count": 4,
   "metadata": {},
   "outputs": [
    {
     "data": {
      "image/png": "[encoded data removed]",
      "text/plain": [
       "<Figure size 432x288 with 2 Axes>"
      ]
     },
     "metadata": {
      "needs_background": "light"
     },
     "output_type": "display_data"
    }
   ],
   "source": [
    "eda.plots()\n"
   ]
  },
  {
   "cell_type": "code",
   "execution_count": 5,
   "metadata": {},
   "outputs": [
    {
     "name": "stdout",
     "output_type": "stream",
     "text": [
      "\n",
      "        EDA report for: Data flagged for fraud activity\n",
      "        \n",
      "        Basic info: 1998 Features and 83 samples\n",
      "        \n",
      "        Null report: \n",
      "        Lot_Frontage       352\n",
      "Alley             1865\n",
      "Mas_Vnr_Type        18\n",
      "Mas_Vnr_Area        18\n",
      "Bsmt_Qual           56\n",
      "Bsmt_Cond           56\n",
      "Bsmt_Exposure       57\n",
      "BsmtFin_Type_1      56\n",
      "BsmtFin_SF_1         1\n",
      "BsmtFin_Type_2      56\n",
      "BsmtFin_SF_2         1\n",
      "Bsmt_Unf_SF          1\n",
      "Total_Bsmt_SF        1\n",
      "Electrical           1\n",
      "Fireplace_Qu       975\n",
      "Garage_Type        113\n",
      "Garage_Yr_Blt      114\n",
      "Garage_Finish      114\n",
      "Garage_Qual        114\n",
      "Garage_Cond        114\n",
      "Pool_QC           1991\n",
      "Fence             1607\n",
      "Misc_Feature      1922\n",
      "dtype: int64\n",
      "        \n",
      "        All Columns:\n",
      "        Index(['Order', 'PID', 'MS_SubClass', 'MS_Zoning', 'Lot_Frontage', 'Lot_Area',\n",
      "       'Street', 'Alley', 'Lot_Shape', 'Land_Contour', 'Utilities',\n",
      "       'Lot_Config', 'Land_Slope', 'Neighborhood', 'Condition_1',\n",
      "       'Condition_2', 'Bldg_Type', 'House_Style', 'Overall_Qual',\n",
      "       'Overall_Cond', 'Year_Built', 'Year_Remod/Add', 'Roof_Style',\n",
      "       'Roof_Matl', 'Exterior_1st', 'Exterior_2nd', 'Mas_Vnr_Type',\n",
      "       'Mas_Vnr_Area', 'Exter_Qual', 'Exter_Cond', 'Foundation', 'Bsmt_Qual',\n",
      "       'Bsmt_Cond', 'Bsmt_Exposure', 'BsmtFin_Type_1', 'BsmtFin_SF_1',\n",
      "       'BsmtFin_Type_2', 'BsmtFin_SF_2', 'Bsmt_Unf_SF', 'Total_Bsmt_SF',\n",
      "       'Heating', 'Heating_QC', 'Central_Air', 'Electrical', '1st_Flr_SF',\n",
      "       '2nd_Flr_SF', 'Low_Qual_Fin_SF', 'Gr_Liv_Area', 'Bsmt_Full_Bath',\n",
      "       'Bsmt_Half_Bath', 'Full_Bath', 'Half_Bath', 'Bedroom_AbvGr',\n",
      "       'Kitchen_AbvGr', 'Kitchen_Qual', 'TotRms_AbvGrd', 'Functional',\n",
      "       'Fireplaces', 'Fireplace_Qu', 'Garage_Type', 'Garage_Yr_Blt',\n",
      "       'Garage_Finish', 'Garage_Cars', 'Garage_Area', 'Garage_Qual',\n",
      "       'Garage_Cond', 'Paved_Drive', 'Wood_Deck_SF', 'Open_Porch_SF',\n",
      "       'Enclosed_Porch', '3Ssn_Porch', 'Screen_Porch', 'Pool_Area', 'Pool_QC',\n",
      "       'Fence', 'Misc_Feature', 'Misc_Val', 'Mo_Sold', 'Yr_Sold', 'Sale_Type',\n",
      "       'Sale_Condition', 'SalePrice', 'TotalBathrooms'],\n",
      "      dtype='object')\n",
      "        \n",
      "        All Dtypes:\n",
      "        Order               int64\n",
      "PID                 int64\n",
      "MS_SubClass         int64\n",
      "MS_Zoning          object\n",
      "Lot_Frontage      float64\n",
      "                   ...   \n",
      "Yr_Sold             int64\n",
      "Sale_Type          object\n",
      "Sale_Condition     object\n",
      "SalePrice           int64\n",
      "TotalBathrooms    float64\n",
      "Length: 83, dtype: object\n",
      "        \n",
      "        Basic Stats by features:\n",
      "                     Order           PID  MS_SubClass  Lot_Frontage       Lot_Area  \\\n",
      "count  1998.000000  1.998000e+03  1998.000000   1646.000000    1998.000000   \n",
      "mean   1474.734234  7.179145e+08    57.144645     69.095990   10076.207708   \n",
      "std     855.232527  1.888334e+08    42.567424     22.781756    7733.471139   \n",
      "min       1.000000  5.263011e+08    20.000000     21.000000    1470.000000   \n",
      "25%     731.500000  5.284801e+08    20.000000     58.000000    7443.000000   \n",
      "50%    1480.500000  5.354667e+08    50.000000     68.000000    9452.500000   \n",
      "75%    2220.750000  9.071871e+08    70.000000     80.000000   11500.000000   \n",
      "max    2930.000000  1.007100e+09   190.000000    313.000000  215245.000000   \n",
      "\n",
      "       Overall_Qual  Overall_Cond   Year_Built  Year_Remod/Add  Mas_Vnr_Area  \\\n",
      "count   1998.000000   1998.000000  1998.000000     1998.000000   1980.000000   \n",
      "mean       6.063063      5.552052  1970.939940     1983.799800     99.322727   \n",
      "std        1.409613      1.130026    30.279244       21.060824    178.952238   \n",
      "min        1.000000      1.000000  1872.000000     1950.000000      0.000000   \n",
      "25%        5.000000      5.000000  1953.000000     1964.000000      0.000000   \n",
      "50%        6.000000      5.000000  1972.000000     1992.000000      0.000000   \n",
      "75%        7.000000      6.000000  2000.000000     2004.000000    150.000000   \n",
      "max       10.000000      9.000000  2010.000000     2010.000000   1600.000000   \n",
      "\n",
      "       ...  Open_Porch_SF  Enclosed_Porch   3Ssn_Porch  Screen_Porch  \\\n",
      "count  ...    1998.000000     1998.000000  1998.000000   1998.000000   \n",
      "mean   ...      46.705706       23.341341     2.037538     17.662663   \n",
      "std    ...      66.824942       64.193128    21.103462     58.844748   \n",
      "min    ...       0.000000        0.000000     0.000000      0.000000   \n",
      "25%    ...       0.000000        0.000000     0.000000      0.000000   \n",
      "50%    ...      24.000000        0.000000     0.000000      0.000000   \n",
      "75%    ...      70.000000        0.000000     0.000000      0.000000   \n",
      "max    ...     742.000000     1012.000000   407.000000    576.000000   \n",
      "\n",
      "         Pool_Area      Misc_Val      Mo_Sold      Yr_Sold      SalePrice  \\\n",
      "count  1998.000000   1998.000000  1998.000000  1998.000000    1998.000000   \n",
      "mean      1.574575     47.576076     6.187688  2007.781281  180785.107608   \n",
      "std      29.147892    439.282333     2.724784     1.328668   81619.690690   \n",
      "min       0.000000      0.000000     1.000000  2006.000000    2489.000000   \n",
      "25%       0.000000      0.000000     4.000000  2007.000000  128600.000000   \n",
      "50%       0.000000      0.000000     6.000000  2008.000000  162000.000000   \n",
      "75%       0.000000      0.000000     8.000000  2009.000000  213175.000000   \n",
      "max     738.000000  12500.000000    12.000000  2010.000000  747800.000000   \n",
      "\n",
      "       TotalBathrooms  \n",
      "count     1998.000000  \n",
      "mean         2.212963  \n",
      "std          0.812285  \n",
      "min          1.000000  \n",
      "25%          1.500000  \n",
      "50%          2.000000  \n",
      "75%          2.500000  \n",
      "max          7.000000  \n",
      "\n",
      "[8 rows x 40 columns]\n",
      "        \n",
      "        |\n",
      "        |\n",
      "        |\n",
      "        Samples:\n",
      "        ------------ First 10 samples ------------\n",
      "           Order        PID  MS_SubClass MS_Zoning  Lot_Frontage  Lot_Area Street  \\\n",
      "0      1  526301100           20        RL         141.0     31770   Pave   \n",
      "1      2  526350040           20        RH          80.0     11622   Pave   \n",
      "2      3  526351010           20        RL          81.0     14267   Pave   \n",
      "3      4  526353030           20        RL          93.0     11160   Pave   \n",
      "4      5  527105010           60        RL          74.0     13830   Pave   \n",
      "\n",
      "  Alley Lot_Shape Land_Contour  ... Pool_QC  Fence Misc_Feature Misc_Val  \\\n",
      "0   NaN       IR1          Lvl  ...     NaN    NaN          NaN        0   \n",
      "1   NaN       Reg          Lvl  ...     NaN  MnPrv          NaN        0   \n",
      "2   NaN       IR1          Lvl  ...     NaN    NaN         Gar2    12500   \n",
      "3   NaN       Reg          Lvl  ...     NaN    NaN          NaN        0   \n",
      "4   NaN       IR1          Lvl  ...     NaN  MnPrv          NaN        0   \n",
      "\n",
      "  Mo_Sold Yr_Sold Sale_Type Sale_Condition  SalePrice  TotalBathrooms  \n",
      "0       5    2010        WD         Normal     204900             2.0  \n",
      "1       6    2010        WD         Normal      95300             1.0  \n",
      "2       6    2010        WD         Normal     181900             1.5  \n",
      "3       4    2010        WD         Normal     254100             3.5  \n",
      "4       3    2010        WD         Normal     199700             2.5  \n",
      "\n",
      "[5 rows x 83 columns]\n",
      "        ------------ Last 10 samples ------------\n",
      "              Order        PID  MS_SubClass MS_Zoning  Lot_Frontage  Lot_Area Street  \\\n",
      "1993   2925  923251180           20        RL         160.0     20000   Pave   \n",
      "1994   2926  923275080           80        RL          37.0      7937   Pave   \n",
      "1995   2927  923276100           20        RL           NaN      8885   Pave   \n",
      "1996   2928  923400125           85        RL          62.0     10441   Pave   \n",
      "1997   2930  924151050           60        RL          74.0      9627   Pave   \n",
      "\n",
      "     Alley Lot_Shape Land_Contour  ... Pool_QC  Fence Misc_Feature Misc_Val  \\\n",
      "1993   NaN       Reg          Lvl  ...     NaN    NaN          NaN        0   \n",
      "1994   NaN       IR1          Lvl  ...     NaN  GdPrv          NaN        0   \n",
      "1995   NaN       IR1          Low  ...     NaN  MnPrv          NaN        0   \n",
      "1996   NaN       Reg          Lvl  ...     NaN  MnPrv         Shed      700   \n",
      "1997   NaN       Reg          Lvl  ...     NaN    NaN          NaN        0   \n",
      "\n",
      "     Mo_Sold Yr_Sold Sale_Type Sale_Condition  SalePrice  TotalBathrooms  \n",
      "1993       9    2006        WD        Abnorml     124900             2.0  \n",
      "1994       3    2006        WD         Normal     136500             2.0  \n",
      "1995       6    2006        WD         Normal     137000             2.0  \n",
      "1996       7    2006        WD         Normal     137600             1.5  \n",
      "1997      11    2006        WD         Normal     193900             2.5  \n",
      "\n",
      "[5 rows x 83 columns]\n",
      "        \n"
     ]
    }
   ],
   "source": [
    "print(eda.report())"
   ]
  },
  {
   "cell_type": "markdown",
   "metadata": {},
   "source": [
    "### Saving the EDA process as a reusable artifact\n",
    "\n",
    "~~TODO~~"
   ]
  },
  {
   "cell_type": "code",
   "execution_count": null,
   "metadata": {},
   "outputs": [],
   "source": []
  },
  {
   "cell_type": "code",
   "execution_count": 6,
   "metadata": {},
   "outputs": [
    {
     "name": "stderr",
     "output_type": "stream",
     "text": [
      "Can't pickle <class 'BasicEDA'>: attribute lookup BasicEDA on builtins failed                                                          \n"
     ]
    },
    {
     "ename": "PicklingError",
     "evalue": "Can't pickle <class 'BasicEDA'>: attribute lookup BasicEDA on builtins failed",
     "output_type": "error",
     "traceback": [
      "\u001b[0;31m---------------------------------------------------------------------------\u001b[0m",
      "\u001b[0;31mPicklingError\u001b[0m                             Traceback (most recent call last)",
      "\u001b[0;32m/var/folders/wd/06xp71wn3xscnfy46vft2znc0000gn/T/tmpy1i3toh8linea_ipython/c5f8bbad-3f6a-4b8d-86b2-9c88d059e8ac_6.py\u001b[0m in \u001b[0;36m<module>\u001b[0;34m\u001b[0m\n\u001b[0;32m----> 1\u001b[0;31m \u001b[0martifact\u001b[0m \u001b[0;34m=\u001b[0m \u001b[0mlineapy\u001b[0m\u001b[0;34m.\u001b[0m\u001b[0msave\u001b[0m\u001b[0;34m(\u001b[0m\u001b[0meda\u001b[0m\u001b[0;34m,\u001b[0m \u001b[0;34m\"EDA_basic\"\u001b[0m\u001b[0;34m)\u001b[0m\u001b[0;34m\u001b[0m\u001b[0;34m\u001b[0m\u001b[0m\n\u001b[0m",
      "\u001b[0;32m~/Projects/lineapy/lineapy/api/api.py\u001b[0m in \u001b[0;36msave\u001b[0;34m(reference, name, storage_backend, **kwargs)\u001b[0m\n\u001b[1;32m    119\u001b[0m         \u001b[0;31m# TODO add version or timestamp to allow saving of multiple pickle files for the same node id\u001b[0m\u001b[0;34m\u001b[0m\u001b[0;34m\u001b[0m\u001b[0m\n\u001b[1;32m    120\u001b[0m \u001b[0;34m\u001b[0m\u001b[0m\n\u001b[0;32m--> 121\u001b[0;31m         artifact_serialize_metadata = serialize_artifact(\n\u001b[0m\u001b[1;32m    122\u001b[0m             \u001b[0mvalue_node_id\u001b[0m\u001b[0;34m,\u001b[0m\u001b[0;34m\u001b[0m\u001b[0;34m\u001b[0m\u001b[0m\n\u001b[1;32m    123\u001b[0m             \u001b[0mexecution_id\u001b[0m\u001b[0;34m,\u001b[0m\u001b[0;34m\u001b[0m\u001b[0;34m\u001b[0m\u001b[0m\n",
      "\u001b[0;32m~/Projects/lineapy/lineapy/api/artifact_serializer.py\u001b[0m in \u001b[0;36mserialize_artifact\u001b[0;34m(value_node_id, execution_id, reference, name, storage_backend, **kwargs)\u001b[0m\n\u001b[1;32m     70\u001b[0m \u001b[0;34m\u001b[0m\u001b[0m\n\u001b[1;32m     71\u001b[0m     \u001b[0mpickle_name\u001b[0m \u001b[0;34m=\u001b[0m \u001b[0m_pickle_name\u001b[0m\u001b[0;34m(\u001b[0m\u001b[0mvalue_node_id\u001b[0m\u001b[0;34m,\u001b[0m \u001b[0mexecution_id\u001b[0m\u001b[0;34m)\u001b[0m\u001b[0;34m\u001b[0m\u001b[0;34m\u001b[0m\u001b[0m\n\u001b[0;32m---> 72\u001b[0;31m     \u001b[0m_try_write_to_pickle\u001b[0m\u001b[0;34m(\u001b[0m\u001b[0mreference\u001b[0m\u001b[0;34m,\u001b[0m \u001b[0mpickle_name\u001b[0m\u001b[0;34m)\u001b[0m\u001b[0;34m\u001b[0m\u001b[0;34m\u001b[0m\u001b[0m\n\u001b[0m\u001b[1;32m     73\u001b[0m     return {\n\u001b[1;32m     74\u001b[0m         \u001b[0;34m\"backend\"\u001b[0m\u001b[0;34m:\u001b[0m \u001b[0;34m\"lineapy\"\u001b[0m\u001b[0;34m,\u001b[0m\u001b[0;34m\u001b[0m\u001b[0;34m\u001b[0m\u001b[0m\n",
      "\u001b[0;32m~/Projects/lineapy/lineapy/api/artifact_serializer.py\u001b[0m in \u001b[0;36m_try_write_to_pickle\u001b[0;34m(value, filename)\u001b[0m\n\u001b[1;32m    142\u001b[0m         \u001b[0mlogger\u001b[0m\u001b[0;34m.\u001b[0m\u001b[0merror\u001b[0m\u001b[0;34m(\u001b[0m\u001b[0me\u001b[0m\u001b[0;34m)\u001b[0m\u001b[0;34m\u001b[0m\u001b[0;34m\u001b[0m\u001b[0m\n\u001b[1;32m    143\u001b[0m         \u001b[0mtrack\u001b[0m\u001b[0;34m(\u001b[0m\u001b[0mExceptionEvent\u001b[0m\u001b[0;34m(\u001b[0m\u001b[0mErrorType\u001b[0m\u001b[0;34m.\u001b[0m\u001b[0mSAVE\u001b[0m\u001b[0;34m,\u001b[0m \u001b[0;34m\"Pickling error\"\u001b[0m\u001b[0;34m)\u001b[0m\u001b[0;34m)\u001b[0m\u001b[0;34m\u001b[0m\u001b[0;34m\u001b[0m\u001b[0m\n\u001b[0;32m--> 144\u001b[0;31m         \u001b[0;32mraise\u001b[0m \u001b[0me\u001b[0m\u001b[0;34m\u001b[0m\u001b[0;34m\u001b[0m\u001b[0m\n\u001b[0m",
      "\u001b[0;32m~/Projects/lineapy/lineapy/api/artifact_serializer.py\u001b[0m in \u001b[0;36m_try_write_to_pickle\u001b[0;34m(value, filename)\u001b[0m\n\u001b[1;32m    135\u001b[0m     \u001b[0;32mtry\u001b[0m\u001b[0;34m:\u001b[0m\u001b[0;34m\u001b[0m\u001b[0;34m\u001b[0m\u001b[0m\n\u001b[1;32m    136\u001b[0m         \u001b[0mlogger\u001b[0m\u001b[0;34m.\u001b[0m\u001b[0mdebug\u001b[0m\u001b[0;34m(\u001b[0m\u001b[0;34mf\"Saving file to {filepath} \"\u001b[0m\u001b[0;34m)\u001b[0m\u001b[0;34m\u001b[0m\u001b[0;34m\u001b[0m\u001b[0m\n\u001b[0;32m--> 137\u001b[0;31m         to_pickle(\n\u001b[0m\u001b[1;32m    138\u001b[0m             \u001b[0mvalue\u001b[0m\u001b[0;34m,\u001b[0m \u001b[0mfilepath\u001b[0m\u001b[0;34m,\u001b[0m \u001b[0mstorage_options\u001b[0m\u001b[0;34m=\u001b[0m\u001b[0moptions\u001b[0m\u001b[0;34m.\u001b[0m\u001b[0mget\u001b[0m\u001b[0;34m(\u001b[0m\u001b[0;34m\"storage_options\"\u001b[0m\u001b[0;34m)\u001b[0m\u001b[0;34m\u001b[0m\u001b[0;34m\u001b[0m\u001b[0m\n\u001b[1;32m    139\u001b[0m         )\n",
      "\u001b[0;32m~/opt/miniconda3/envs/py39/lib/python3.9/site-packages/pandas/io/pickle.py\u001b[0m in \u001b[0;36mto_pickle\u001b[0;34m(obj, filepath_or_buffer, compression, protocol, storage_options)\u001b[0m\n\u001b[1;32m    111\u001b[0m         \u001b[0;32melse\u001b[0m\u001b[0;34m:\u001b[0m\u001b[0;34m\u001b[0m\u001b[0;34m\u001b[0m\u001b[0m\n\u001b[1;32m    112\u001b[0m             \u001b[0;31m# letting pickle write directly to the buffer is more memory-efficient\u001b[0m\u001b[0;34m\u001b[0m\u001b[0;34m\u001b[0m\u001b[0m\n\u001b[0;32m--> 113\u001b[0;31m             pickle.dump(\n\u001b[0m\u001b[1;32m    114\u001b[0m                 \u001b[0;31m# error: Argument 2 to \"dump\" has incompatible type \"Union[IO[Any],\u001b[0m\u001b[0;34m\u001b[0m\u001b[0;34m\u001b[0m\u001b[0m\n\u001b[1;32m    115\u001b[0m                 \u001b[0;31m# RawIOBase, BufferedIOBase, TextIOBase, TextIOWrapper, mmap]\"; expected\u001b[0m\u001b[0;34m\u001b[0m\u001b[0;34m\u001b[0m\u001b[0m\n",
      "\u001b[0;31mPicklingError\u001b[0m: Can't pickle <class 'BasicEDA'>: attribute lookup BasicEDA on builtins failed"
     ]
    }
   ],
   "source": [
    "artifact = lineapy.save(eda, \"EDA_basic\")"
   ]
  },
  {
   "cell_type": "markdown",
   "metadata": {},
   "source": [
    "The code for creating the artifact can be retrieved via the `get_code()` method on the artifact. Note that the code contains only the necessary and sufficient operations. That is, the code for EDA that does not transform the data is excluded from the artifact code, and the artifact code is sufficient to reproduce the results. From the entire notebook session, LineaPy is able to automatically extract the following code for producing the artifact:"
   ]
  },
  {
   "cell_type": "code",
   "execution_count": null,
   "metadata": {},
   "outputs": [],
   "source": [
    "print(artifact.get_code())"
   ]
  },
  {
   "cell_type": "markdown",
   "metadata": {},
   "source": [
    "## Training a model\n",
    "\n",
    "Now, we will use the training data we got to train a simple Linear Regression Model for predicting house price. We will use LineaPy to save the model and the code for creating the model into a Linea Artifact."
   ]
  },
  {
   "cell_type": "code",
   "execution_count": null,
   "metadata": {},
   "outputs": [],
   "source": [
    "from sklearn.feature_extraction import DictVectorizer\n",
    "from sklearn.model_selection import train_test_split\n",
    "from sklearn.linear_model import LinearRegression"
   ]
  },
  {
   "cell_type": "code",
   "execution_count": null,
   "metadata": {},
   "outputs": [],
   "source": [
    "train, val = train_test_split(training_data, test_size=0.3, random_state=42)\n",
    "X_train = train.drop(['SalePrice'], axis = 1)\n",
    "y_train = train.loc[:, 'SalePrice']\n",
    "X_val = val.drop(['SalePrice'], axis = 1)\n",
    "y_val = val.loc[:, 'SalePrice']"
   ]
  },
  {
   "cell_type": "code",
   "execution_count": null,
   "metadata": {},
   "outputs": [],
   "source": [
    "# NBVAL_IGNORE_OUTPUT\n",
    "X_train"
   ]
  },
  {
   "cell_type": "code",
   "execution_count": null,
   "metadata": {},
   "outputs": [],
   "source": [
    "# NBVAL_IGNORE_OUTPUT\n",
    "y_train"
   ]
  },
  {
   "cell_type": "code",
   "execution_count": null,
   "metadata": {},
   "outputs": [],
   "source": [
    "linear_model = LinearRegression(fit_intercept=True)"
   ]
  },
  {
   "cell_type": "code",
   "execution_count": null,
   "metadata": {},
   "outputs": [],
   "source": [
    "linear_model.fit(X_train, y_train)\n",
    "y_fitted = linear_model.predict(X_train)\n",
    "y_predicted = linear_model.predict(X_val)"
   ]
  },
  {
   "cell_type": "code",
   "execution_count": null,
   "metadata": {},
   "outputs": [],
   "source": [
    "X_val[\"Predicted Sales Price\"] = y_predicted"
   ]
  },
  {
   "cell_type": "code",
   "execution_count": null,
   "metadata": {},
   "outputs": [],
   "source": [
    "# NBVAL_IGNORE_OUTPUT\n",
    "from sklearn.metrics import mean_squared_error\n",
    "\n",
    "rmse = mean_squared_error(y_val, y_predicted, squared=False)\n",
    "rmse"
   ]
  },
  {
   "cell_type": "markdown",
   "metadata": {},
   "source": [
    "The results look good. Let's save the model using LineaPy"
   ]
  },
  {
   "cell_type": "code",
   "execution_count": null,
   "metadata": {},
   "outputs": [],
   "source": [
    "artifact = lineapy.save(linear_model, 'linear_model_housing')"
   ]
  },
  {
   "cell_type": "markdown",
   "metadata": {},
   "source": [
    "## Building an End-to-End Pipeline\n",
    "\n",
    "We can combine the preprocessing and modeling steps and use LineaPy to create a data pipeline from artifacts with the to_pipeline function. We currently support Python scripts and Airflow as the two frameworks for running pipelines. Learn more about pipelines in the official docs [here](https://docs.lineapy.org/en/latest/tutorials/00_api_basics.html#Using-artifacts-to-build-pipelines) and the detailed tutorial [here](https://github.com/LineaLabs/lineapy/blob/main/examples/tutorials/02a_build_pipelines.ipynb).\n"
   ]
  },
  {
   "cell_type": "markdown",
   "metadata": {},
   "source": [
    "Let's now create a pipeline containing the data preprocessing artifact `cleaned_data_housing` and the model training artifact `linear_model_housing`"
   ]
  },
  {
   "cell_type": "code",
   "execution_count": null,
   "metadata": {},
   "outputs": [],
   "source": [
    "# NBVAL_SKIP\n",
    "import os\n",
    "directory = lineapy.to_pipeline(\n",
    "    [\"cleaned_data_housing\",\"vector_encoder\", \"linear_model_housing\"], \n",
    "    framework=\"AIRFLOW\",\n",
    "    pipeline_name=\"data_housing_pipeline\",\n",
    "    dependencies={ \"linear_model_housing\": { \"cleaned_data_housing\" } },\n",
    "    output_dir=\"./airflow/dags/\"\n",
    ")"
   ]
  },
  {
   "cell_type": "markdown",
   "metadata": {},
   "source": [
    "We see the pipeline building resulting in the following 4 files:"
   ]
  },
  {
   "cell_type": "code",
   "execution_count": null,
   "metadata": {},
   "outputs": [],
   "source": [
    "# NBVAL_SKIP\n",
    "os.listdir(directory)"
   ]
  },
  {
   "cell_type": "markdown",
   "metadata": {},
   "source": [
    "Looking at `data_housing_pipeline_module.py` we see that it contains the modularized code to generate our two artifacts: \"training_data\" and \"linear_model\" "
   ]
  },
  {
   "cell_type": "code",
   "execution_count": null,
   "metadata": {},
   "outputs": [],
   "source": [
    "# NBVAL_SKIP\n",
    "os.system(f\"cat {directory}/data_housing_pipeline_module.py\");"
   ]
  },
  {
   "cell_type": "markdown",
   "metadata": {},
   "source": [
    "Looking at `data_housing_pipeline_dag.py` we see that it contains the Airflow DAG definition. Each of the modules defined in the modules file is composed as an operator in the DAG."
   ]
  },
  {
   "cell_type": "code",
   "execution_count": null,
   "metadata": {},
   "outputs": [],
   "source": [
    "# NBVAL_SKIP\n",
    "os.system(f\"cat {directory}/data_housing_pipeline_dag.py\");"
   ]
  },
  {
   "cell_type": "code",
   "execution_count": null,
   "metadata": {},
   "outputs": [],
   "source": [
    "directory2 = lineapy.to_pipeline(\n",
    "    [\"cleaned_data_housing\", \"linear_model_housing\"], \n",
    "    framework=\"AIRFLOW\",\n",
    "    pipeline_name=\"data_housing_pipeline\",\n",
    "    dependencies={ \"linear_model_housing\": { \"cleaned_data_housing\" } },\n",
    "    reuse_pre_computed_artifacts=[\"vector_encoder\"],\n",
    "    output_dir=\"./airflow/dags/\"\n",
    ")"
   ]
  },
  {
   "cell_type": "markdown",
   "metadata": {},
   "source": [
    "These files, once placed in the location that Airflow expects (usually `dags/` under Airflow’s home directory), should let us immediately execute the pipeline from the UI or CLI."
   ]
  },
  {
   "cell_type": "code",
   "execution_count": null,
   "metadata": {},
   "outputs": [],
   "source": [
    "os.system(f\"cat {directory2}/data_housing_pipeline_module.py\");"
   ]
  },
  {
   "cell_type": "code",
   "execution_count": null,
   "metadata": {},
   "outputs": [],
   "source": []
  }
 ],
 "metadata": {
  "kernelspec": {
   "display_name": "Python 3 (ipykernel)",
   "language": "python",
   "name": "python3"
  },
  "language_info": {
   "codemirror_mode": {
    "name": "ipython",
    "version": 3
   },
   "file_extension": ".py",
   "mimetype": "text/x-python",
   "name": "python",
   "nbconvert_exporter": "python",
   "pygments_lexer": "ipython3",
   "version": "3.9.7"
  },
  "vscode": {
   "interpreter": {
    "hash": "cacea137424fd3104c427a06c692d13a169698dd1bd116af82859e9688265e62"
   }
  }
 },
 "nbformat": 4,
 "nbformat_minor": 4
}
