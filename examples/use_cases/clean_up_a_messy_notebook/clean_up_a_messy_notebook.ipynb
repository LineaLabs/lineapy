{
 "cells": [
  {
   "cell_type": "markdown",
   "metadata": {},
   "source": [
    "<p align=\"center\">\n",
    "    <a href=\"https://bit.ly/3NMffcb\"><img src=\"https://colab.research.google.com/assets/colab-badge.svg\" alt=\"Open in Colab\"/></a>\n",
    "    <a href=\"https://bit.ly/3O5iJ9H\"><img src=\"https://mybinder.org/badge_logo.svg\" alt=\"Open in Binder\"/></a>\n",
    "</p>"
   ]
  },
  {
   "cell_type": "markdown",
   "metadata": {},
   "source": [
    "<div class=\"alert alert-info\">\n",
    "\n",
    "If you encounter issues you cannot resolve, simply ask in our [Slack community](https://join.slack.com/t/lineacommunity/shared_invite/zt-18kizfn3b-1Qu_HDT3ahGudnAwoFAw9Q)'s `#support` channel. We are always happy and ready to help you!\n",
    "\n",
    "</div>"
   ]
  },
  {
   "cell_type": "markdown",
   "metadata": {},
   "source": [
    "Let's install and load LineaPy, along with other packages."
   ]
  },
  {
   "cell_type": "code",
   "execution_count": null,
   "metadata": {},
   "outputs": [],
   "source": [
    "#NBVAL_SKIP\n",
    "%%capture\n",
    "!pip -q install lineapy==0.2.0 scikit-learn pandas matplotlib"
   ]
  },
  {
   "cell_type": "code",
   "execution_count": 1,
   "metadata": {},
   "outputs": [],
   "source": [
    "#NBVAL_SKIP\n",
    "%load_ext lineapy"
   ]
  },
  {
   "cell_type": "code",
   "execution_count": null,
   "metadata": {
    "id": "pK9HKAGvpiuo"
   },
   "outputs": [],
   "source": [
    "import lineapy\n",
    "lineapy.tag(\"demo\")"
   ]
  },
  {
   "cell_type": "markdown",
   "metadata": {},
   "source": [
    "# Use LineaPy to Clean up Messy Notebooks"
   ]
  },
  {
   "cell_type": "markdown",
   "metadata": {},
   "source": [
    "## Scenario\n",
    "\n",
    "As a data scientist using the Jupyter notebook day-to-day, we embrace non-linear workflows, i.e., jumping around between cells, deleting cells, editing cells, and executing the same cell multiple times until we think we have some good results or \"[artifacts](https://docs.lineapy.org/en/latest/fundamentals/concepts.html#artifact)\" (e.g., tables, models, charts). Finally, we share our results and notebook with our colleagues/supervisors/stakeholders to declare victory."
   ]
  },
  {
   "cell_type": "markdown",
   "metadata": {},
   "source": [
    "## What might happen next?\n",
    "\n",
    "With the highly dynamic, non-leaner workflows in notebooks, any of the following may happen:\n",
    "\n",
    "* We spend some time reorganizing all the non-linear operations we performed in the notebook and wrapping everything into a script or different modules so we can reuse or share the logic in the future.\n",
    "* Our colleague try to rerun our notebook but cannot reproduce our result.\n",
    "* We forget this notebook. Several months from now, our supervisor asks us to rerun the notebook with the latest data but we do not remember the exact steps to produce the previous result.\n",
    "* We hand over the notebook to our ML engineers to productionize our work but they can only guess what exactly happened when we created the notebook.\n",
    "\n",
    "The common pattern here is that someone (data scientist, data engineer, or ML engineer) needs to spend the time to go through non-sequential notebook cell operations and extract them into sequential code, which might be a lot of challenge or pain when notebooks become more complex.\n",
    "\n",
    "Two normal ways to avoid these issues are:\n",
    "\n",
    "* Keep the notebook in sequential operation by constantly re-executing the entire notebook from end to end during development.\n",
    "* Version the notebook whenever there is a potential need for revisit in the future\n",
    "\n",
    "However, constantly re-executing and versioning the entire notebook creates a huge burden for the notebook author and interrupts their thinking process, hence decreasing productivity."
   ]
  },
  {
   "cell_type": "markdown",
   "metadata": {},
   "source": [
    "## How can LineaPy help here?\n",
    "\n",
    "With just two lines of code, LineaPy helps to remove the complexity of notebook productionization issues (code cleanup, versioning, etc.) from data scientists and ML engineers while having them continue to work with notebooks in their most familiar way.\n",
    "\n",
    "```\n",
    "import lineapy\n",
    "\n",
    "........................\n",
    ".\n",
    ". your original notebook\n",
    ".\n",
    "........................\n",
    "\n",
    "lineapy.save(object, 'artifact_name')\n",
    "```"
   ]
  },
  {
   "cell_type": "markdown",
   "metadata": {
    "id": "aUMTcczWmiuj"
   },
   "source": [
    "## What will we learn in rest of the notebook?\n",
    "\n",
    "In this demo, we are going to load the iris data features as a four-column data frame and mutate it several times to mimic feature engineering processes during the data exploration phase.\n",
    "\n",
    "Throughout the demo, we can save an artifact whenever we want, i.e., when we see something interesting but are not entirely sure if it is the final result we are looking for. So, we can have checkpoints and continue the exploration.\n",
    "\n",
    "In the end, we will learn:\n",
    "\n",
    "* How to use the `get_code()` method to extract cleaned-up code to create the artifact from a messy notebook.\n",
    "* How to use the artifact store to see and retrieve different versions of the same artifact.\n",
    "\n",
    "In sum, the demo will show that LineaPy can help data scientists and ML engineers save time on notebook cleanup and instead focus more on generating insights.\n",
    "\n",
    "We strongly encourage you to try this notebook on your own and check out the official [documentation](https://docs.lineapy.org/en/latest/index.html) to learn more use cases of LineaPy."
   ]
  },
  {
   "cell_type": "markdown",
   "metadata": {},
   "source": [
    "## Demo"
   ]
  },
  {
   "cell_type": "markdown",
   "metadata": {
    "id": "ZuB5tlSDQC47"
   },
   "source": [
    "### Setup the demo"
   ]
  },
  {
   "cell_type": "code",
   "execution_count": 2,
   "metadata": {
    "colab": {
     "base_uri": "https://localhost:8080/",
     "height": 424
    },
    "id": "JM12axJC2_6I",
    "outputId": "713ffe2e-7420-4573-f0a8-cb29cd0097f0"
   },
   "outputs": [
    {
     "data": {
      "text/html": [
       "<div>\n",
       "<style scoped>\n",
       "    .dataframe tbody tr th:only-of-type {\n",
       "        vertical-align: middle;\n",
       "    }\n",
       "\n",
       "    .dataframe tbody tr th {\n",
       "        vertical-align: top;\n",
       "    }\n",
       "\n",
       "    .dataframe thead th {\n",
       "        text-align: right;\n",
       "    }\n",
       "</style>\n",
       "<table border=\"1\" class=\"dataframe\">\n",
       "  <thead>\n",
       "    <tr style=\"text-align: right;\">\n",
       "      <th></th>\n",
       "      <th>sepal length (cm)_1</th>\n",
       "      <th>sepal width (cm)_1</th>\n",
       "      <th>petal length (cm)_1</th>\n",
       "      <th>petal width (cm)_1</th>\n",
       "    </tr>\n",
       "  </thead>\n",
       "  <tbody>\n",
       "    <tr>\n",
       "      <th>0</th>\n",
       "      <td>5.1</td>\n",
       "      <td>3.5</td>\n",
       "      <td>1.4</td>\n",
       "      <td>0.2</td>\n",
       "    </tr>\n",
       "    <tr>\n",
       "      <th>1</th>\n",
       "      <td>4.9</td>\n",
       "      <td>3.0</td>\n",
       "      <td>1.4</td>\n",
       "      <td>0.2</td>\n",
       "    </tr>\n",
       "    <tr>\n",
       "      <th>2</th>\n",
       "      <td>4.7</td>\n",
       "      <td>3.2</td>\n",
       "      <td>1.3</td>\n",
       "      <td>0.2</td>\n",
       "    </tr>\n",
       "    <tr>\n",
       "      <th>3</th>\n",
       "      <td>4.6</td>\n",
       "      <td>3.1</td>\n",
       "      <td>1.5</td>\n",
       "      <td>0.2</td>\n",
       "    </tr>\n",
       "    <tr>\n",
       "      <th>4</th>\n",
       "      <td>5.0</td>\n",
       "      <td>3.6</td>\n",
       "      <td>1.4</td>\n",
       "      <td>0.2</td>\n",
       "    </tr>\n",
       "    <tr>\n",
       "      <th>...</th>\n",
       "      <td>...</td>\n",
       "      <td>...</td>\n",
       "      <td>...</td>\n",
       "      <td>...</td>\n",
       "    </tr>\n",
       "    <tr>\n",
       "      <th>145</th>\n",
       "      <td>6.7</td>\n",
       "      <td>3.0</td>\n",
       "      <td>5.2</td>\n",
       "      <td>2.3</td>\n",
       "    </tr>\n",
       "    <tr>\n",
       "      <th>146</th>\n",
       "      <td>6.3</td>\n",
       "      <td>2.5</td>\n",
       "      <td>5.0</td>\n",
       "      <td>1.9</td>\n",
       "    </tr>\n",
       "    <tr>\n",
       "      <th>147</th>\n",
       "      <td>6.5</td>\n",
       "      <td>3.0</td>\n",
       "      <td>5.2</td>\n",
       "      <td>2.0</td>\n",
       "    </tr>\n",
       "    <tr>\n",
       "      <th>148</th>\n",
       "      <td>6.2</td>\n",
       "      <td>3.4</td>\n",
       "      <td>5.4</td>\n",
       "      <td>2.3</td>\n",
       "    </tr>\n",
       "    <tr>\n",
       "      <th>149</th>\n",
       "      <td>5.9</td>\n",
       "      <td>3.0</td>\n",
       "      <td>5.1</td>\n",
       "      <td>1.8</td>\n",
       "    </tr>\n",
       "  </tbody>\n",
       "</table>\n",
       "<p>150 rows × 4 columns</p>\n",
       "</div>"
      ],
      "text/plain": [
       "     sepal length (cm)_1  sepal width (cm)_1  petal length (cm)_1  \\\n",
       "0                    5.1                 3.5                  1.4   \n",
       "1                    4.9                 3.0                  1.4   \n",
       "2                    4.7                 3.2                  1.3   \n",
       "3                    4.6                 3.1                  1.5   \n",
       "4                    5.0                 3.6                  1.4   \n",
       "..                   ...                 ...                  ...   \n",
       "145                  6.7                 3.0                  5.2   \n",
       "146                  6.3                 2.5                  5.0   \n",
       "147                  6.5                 3.0                  5.2   \n",
       "148                  6.2                 3.4                  5.4   \n",
       "149                  5.9                 3.0                  5.1   \n",
       "\n",
       "     petal width (cm)_1  \n",
       "0                   0.2  \n",
       "1                   0.2  \n",
       "2                   0.2  \n",
       "3                   0.2  \n",
       "4                   0.2  \n",
       "..                  ...  \n",
       "145                 2.3  \n",
       "146                 1.9  \n",
       "147                 2.0  \n",
       "148                 2.3  \n",
       "149                 1.8  \n",
       "\n",
       "[150 rows x 4 columns]"
      ]
     },
     "execution_count": 2,
     "metadata": {},
     "output_type": "execute_result"
    }
   ],
   "source": [
    "# Load modules and data \n",
    "from sklearn.datasets import load_iris\n",
    "from sklearn.decomposition import PCA\n",
    "from sklearn.discriminant_analysis import LinearDiscriminantAnalysis\n",
    "import pandas as pd\n",
    "import matplotlib.pyplot as plt\n",
    "\n",
    "iris = load_iris()\n",
    "df = pd.DataFrame(iris.data, columns=[x+'_1' for x in iris.feature_names])\n",
    "df"
   ]
  },
  {
   "cell_type": "code",
   "execution_count": 3,
   "metadata": {
    "id": "1jXQe4Xyvwbt"
   },
   "outputs": [],
   "source": [
    "# Run this cell first to add a checkpoint before we do any mutation on the dataframe.\n",
    "# We can rerun this cell at any point of mutation process.\n",
    "art = lineapy.save(df, 'fancy iris')"
   ]
  },
  {
   "cell_type": "markdown",
   "metadata": {
    "id": "7KLg5ziJ3yw2"
   },
   "source": [
    "### Mutate the data\n",
    "\n",
    "The following 3 cells all modify the dataframe `df` a little bit (for demo purpose). **Feel free to run them in any order, change parameters and re-execute them, or delete the cell** if you want to. To see how LineaPy can capture different versions, You can also save the same artifact multiple times by re-executing previous cells arbitrarily. We can compare these different versions of the same artifact at the end of the demo."
   ]
  },
  {
   "cell_type": "code",
   "execution_count": 4,
   "metadata": {},
   "outputs": [],
   "source": [
    "c1,c2,c3=0,0,0 # Count how many mutate we've down during the process"
   ]
  },
  {
   "cell_type": "code",
   "execution_count": 5,
   "metadata": {
    "colab": {
     "base_uri": "https://localhost:8080/"
    },
    "id": "3czXCWyRsMR_",
    "outputId": "bd1c8702-f261-48c9-b1ff-9f041ecb4e16"
   },
   "outputs": [
    {
     "name": "stdout",
     "output_type": "stream",
     "text": [
      "Index(['sepal length (cm)_1', 'sepal width (cm)_1', 'petal length (cm)_1',\n",
      "       'petal width (cm)_1', 'sepal length (cm)_2', 'sepal width (cm)_2',\n",
      "       'petal length (cm)_2', 'petal width (cm)_2'],\n",
      "      dtype='object')\n",
      "['sepallength(cm)_1', 'sepalwidth(cm)_1', 'petallength(cm)_1', 'petalwidth(cm)_1', 'sepallength(cm)_2', 'sepalwidth(cm)_2', 'petallength(cm)_2', 'petalwidth(cm)_2']\n"
     ]
    }
   ],
   "source": [
    "# Add new columns to the dataframe and print the column of the data frame\n",
    "\n",
    "power = df.shape[1] //4\n",
    "for col in iris.feature_names:\n",
    "  df[col+f'_{power+1}'] = df[col+'_1']**(power+1)\n",
    "\n",
    "clean_columnname = list([x.replace(' ','') for x in df.columns])\n",
    "\n",
    "print(df.columns)\n",
    "print(clean_columnname)\n",
    "\n",
    "c1+=1"
   ]
  },
  {
   "cell_type": "code",
   "execution_count": 6,
   "metadata": {
    "colab": {
     "base_uri": "https://localhost:8080/"
    },
    "id": "ucIInctPugo-",
    "outputId": "c8940eec-3962-433c-e2dd-f67d205aabf7"
   },
   "outputs": [
    {
     "name": "stdout",
     "output_type": "stream",
     "text": [
      "(155, 8)\n",
      "       sepal length (cm)_1  sepal width (cm)_1  petal length (cm)_1  petal width (cm)_1  sepal length (cm)_2  sepal width (cm)_2  petal length (cm)_2  petal width (cm)_2\n",
      "count           155.000000          155.000000           155.000000          155.000000           155.000000          155.000000           155.000000          155.000000\n",
      "mean              5.846452            3.059355             3.767742            1.203226            34.875355            9.543613            17.358452            2.037871\n",
      "std               0.835983            0.430297             1.784127            0.770682            10.040460            2.702603            12.835585            1.855696\n",
      "min               4.300000            2.000000             1.000000            0.100000            18.490000            4.000000             1.000000            0.010000\n",
      "25%               5.100000            2.800000             1.550000            0.300000            26.010000            7.840000             2.405000            0.090000\n",
      "50%               5.800000            3.000000             4.400000            1.300000            33.640000            9.000000            19.360000            1.690000\n",
      "75%               6.400000            3.300000             5.100000            1.800000            40.960000           10.890000            26.010000            3.240000\n",
      "max               7.900000            4.400000             6.900000            2.500000            62.410000           19.360000            47.610000            6.250000\n",
      "   sepal length (cm)_1  sepal width (cm)_1  petal length (cm)_1  petal width (cm)_1  sepal length (cm)_2  sepal width (cm)_2  petal length (cm)_2  petal width (cm)_2\n",
      "0                  5.1                 3.5                  1.4                 0.2                26.01               12.25                 1.96                0.04\n",
      "1                  4.9                 3.0                  1.4                 0.2                24.01                9.00                 1.96                0.04\n",
      "2                  4.7                 3.2                  1.3                 0.2                22.09               10.24                 1.69                0.04\n",
      "3                  4.6                 3.1                  1.5                 0.2                21.16                9.61                 2.25                0.04\n",
      "4                  5.0                 3.6                  1.4                 0.2                25.00               12.96                 1.96                0.04\n"
     ]
    }
   ],
   "source": [
    "# Random sample 30 rows and concatenate with the original dataset and look at some statistics of the dataframe\n",
    "\n",
    "df = pd.concat([df, df.sample(5, random_state=1111)])\n",
    "\n",
    "print(df.shape)\n",
    "print(df.describe().to_string())\n",
    "print(df.head().to_string())\n",
    "\n",
    "c2+=1"
   ]
  },
  {
   "cell_type": "code",
   "execution_count": 7,
   "metadata": {
    "colab": {
     "base_uri": "https://localhost:8080/",
     "height": 438
    },
    "id": "3R1hEoIuuhcX",
    "outputId": "46923cb3-a05d-4357-c9c6-75e2a5d6961b"
   },
   "outputs": [
    {
     "data": {
      "image/png": "[encoded data removed]",
      "text/plain": [
       "<Figure size 432x288 with 1 Axes>"
      ]
     },
     "metadata": {
      "needs_background": "light"
     },
     "output_type": "display_data"
    }
   ],
   "source": [
    "#NBVAL_SKIP\n",
    "# Random sample and concatenate with the original dataset and do some strange scaling and do some plotting\n",
    "\n",
    "df = pd.concat([df, df.sample(10)])\n",
    "df = df*0.96\n",
    "df.plot()\n",
    "c3+=1"
   ]
  },
  {
   "cell_type": "markdown",
   "metadata": {
    "id": "mbQF4rcGuhqn"
   },
   "source": [
    "### Save the artifact\n",
    "\n",
    "Once we are happy with the result or we think we found something interesting that we want to keep as a checkpoint for future investigation, all we need to do is to run `lineapy.save(df, 'fancy iris')` to save the data frame as an artifact."
   ]
  },
  {
   "cell_type": "code",
   "execution_count": 8,
   "metadata": {
    "id": "mx6tRX96ugQH"
   },
   "outputs": [
    {
     "name": "stdout",
     "output_type": "stream",
     "text": [
      "we have ran 1 type1 mutation, 1 type2 mutation and 1 type3 mutation\n"
     ]
    }
   ],
   "source": [
    "#NBVAL_IGNORE_OUTPUT\n",
    "art = lineapy.save(df, 'fancy iris')\n",
    "print(f'we have ran {c1} type1 mutation, {c2} type2 mutation and {c3} type3 mutation')"
   ]
  },
  {
   "cell_type": "markdown",
   "metadata": {
    "id": "ojWUgkMKRNJK"
   },
   "source": [
    "### LineaPy feature: code cleanup\n",
    "\n",
    "With `artifact.get_code()`, we can see cleaned-up code for a given artifact. \n",
    "\n",
    "Note that `artifact.get_code()` not only removes extraneous code for generating the artifact but it also captures all mutated, deleted, or re-executed code. **This is why we may see the result from `artifact.get_code()` different from the existing cells.**"
   ]
  },
  {
   "cell_type": "code",
   "execution_count": 9,
   "metadata": {
    "colab": {
     "base_uri": "https://localhost:8080/"
    },
    "id": "_yl5vp92Q6zG",
    "outputId": "a6c47dc6-f137-42f5-b5d9-77f6e5afd2ab"
   },
   "outputs": [
    {
     "name": "stdout",
     "output_type": "stream",
     "text": [
      "import pandas as pd\n",
      "from sklearn.datasets import load_iris\n",
      "\n",
      "iris = load_iris()\n",
      "df = pd.DataFrame(iris.data, columns=[x + \"_1\" for x in iris.feature_names])\n",
      "power = df.shape[1] // 4\n",
      "for col in iris.feature_names:\n",
      "    df[col + f\"_{power+1}\"] = df[col + \"_1\"] ** (power + 1)\n",
      "df = pd.concat([df, df.sample(5, random_state=1111)])\n",
      "df = pd.concat([df, df.sample(10)])\n",
      "df = df * 0.96\n",
      "\n"
     ]
    }
   ],
   "source": [
    "#NBVAL_IGNORE_OUTPUT\n",
    "print(art.get_code()) "
   ]
  },
  {
   "cell_type": "code",
   "execution_count": 11,
   "metadata": {
    "colab": {
     "base_uri": "https://localhost:8080/",
     "height": 522
    },
    "id": "dgRHhHlDG8Qd",
    "outputId": "32b95ac0-eb54-434b-993a-2f5fab752c2d"
   },
   "outputs": [
    {
     "data": {
      "text/html": [
       "<div>\n",
       "<style scoped>\n",
       "    .dataframe tbody tr th:only-of-type {\n",
       "        vertical-align: middle;\n",
       "    }\n",
       "\n",
       "    .dataframe tbody tr th {\n",
       "        vertical-align: top;\n",
       "    }\n",
       "\n",
       "    .dataframe thead th {\n",
       "        text-align: right;\n",
       "    }\n",
       "</style>\n",
       "<table border=\"1\" class=\"dataframe\">\n",
       "  <thead>\n",
       "    <tr style=\"text-align: right;\">\n",
       "      <th></th>\n",
       "      <th>sepal length (cm)_1</th>\n",
       "      <th>sepal width (cm)_1</th>\n",
       "      <th>petal length (cm)_1</th>\n",
       "      <th>petal width (cm)_1</th>\n",
       "      <th>sepal length (cm)_2</th>\n",
       "      <th>sepal width (cm)_2</th>\n",
       "      <th>petal length (cm)_2</th>\n",
       "      <th>petal width (cm)_2</th>\n",
       "    </tr>\n",
       "  </thead>\n",
       "  <tbody>\n",
       "    <tr>\n",
       "      <th>0</th>\n",
       "      <td>4.896</td>\n",
       "      <td>3.360</td>\n",
       "      <td>1.344</td>\n",
       "      <td>0.192</td>\n",
       "      <td>24.9696</td>\n",
       "      <td>11.7600</td>\n",
       "      <td>1.8816</td>\n",
       "      <td>0.0384</td>\n",
       "    </tr>\n",
       "    <tr>\n",
       "      <th>1</th>\n",
       "      <td>4.704</td>\n",
       "      <td>2.880</td>\n",
       "      <td>1.344</td>\n",
       "      <td>0.192</td>\n",
       "      <td>23.0496</td>\n",
       "      <td>8.6400</td>\n",
       "      <td>1.8816</td>\n",
       "      <td>0.0384</td>\n",
       "    </tr>\n",
       "    <tr>\n",
       "      <th>2</th>\n",
       "      <td>4.512</td>\n",
       "      <td>3.072</td>\n",
       "      <td>1.248</td>\n",
       "      <td>0.192</td>\n",
       "      <td>21.2064</td>\n",
       "      <td>9.8304</td>\n",
       "      <td>1.6224</td>\n",
       "      <td>0.0384</td>\n",
       "    </tr>\n",
       "    <tr>\n",
       "      <th>3</th>\n",
       "      <td>4.416</td>\n",
       "      <td>2.976</td>\n",
       "      <td>1.440</td>\n",
       "      <td>0.192</td>\n",
       "      <td>20.3136</td>\n",
       "      <td>9.2256</td>\n",
       "      <td>2.1600</td>\n",
       "      <td>0.0384</td>\n",
       "    </tr>\n",
       "    <tr>\n",
       "      <th>4</th>\n",
       "      <td>4.800</td>\n",
       "      <td>3.456</td>\n",
       "      <td>1.344</td>\n",
       "      <td>0.192</td>\n",
       "      <td>24.0000</td>\n",
       "      <td>12.4416</td>\n",
       "      <td>1.8816</td>\n",
       "      <td>0.0384</td>\n",
       "    </tr>\n",
       "    <tr>\n",
       "      <th>...</th>\n",
       "      <td>...</td>\n",
       "      <td>...</td>\n",
       "      <td>...</td>\n",
       "      <td>...</td>\n",
       "      <td>...</td>\n",
       "      <td>...</td>\n",
       "      <td>...</td>\n",
       "      <td>...</td>\n",
       "    </tr>\n",
       "    <tr>\n",
       "      <th>98</th>\n",
       "      <td>4.896</td>\n",
       "      <td>2.400</td>\n",
       "      <td>2.880</td>\n",
       "      <td>1.056</td>\n",
       "      <td>24.9696</td>\n",
       "      <td>6.0000</td>\n",
       "      <td>8.6400</td>\n",
       "      <td>1.1616</td>\n",
       "    </tr>\n",
       "    <tr>\n",
       "      <th>2</th>\n",
       "      <td>4.512</td>\n",
       "      <td>3.072</td>\n",
       "      <td>1.248</td>\n",
       "      <td>0.192</td>\n",
       "      <td>21.2064</td>\n",
       "      <td>9.8304</td>\n",
       "      <td>1.6224</td>\n",
       "      <td>0.0384</td>\n",
       "    </tr>\n",
       "    <tr>\n",
       "      <th>102</th>\n",
       "      <td>6.816</td>\n",
       "      <td>2.880</td>\n",
       "      <td>5.664</td>\n",
       "      <td>2.016</td>\n",
       "      <td>48.3936</td>\n",
       "      <td>8.6400</td>\n",
       "      <td>33.4176</td>\n",
       "      <td>4.2336</td>\n",
       "    </tr>\n",
       "    <tr>\n",
       "      <th>1</th>\n",
       "      <td>4.704</td>\n",
       "      <td>2.880</td>\n",
       "      <td>1.344</td>\n",
       "      <td>0.192</td>\n",
       "      <td>23.0496</td>\n",
       "      <td>8.6400</td>\n",
       "      <td>1.8816</td>\n",
       "      <td>0.0384</td>\n",
       "    </tr>\n",
       "    <tr>\n",
       "      <th>96</th>\n",
       "      <td>5.472</td>\n",
       "      <td>2.784</td>\n",
       "      <td>4.032</td>\n",
       "      <td>1.248</td>\n",
       "      <td>31.1904</td>\n",
       "      <td>8.0736</td>\n",
       "      <td>16.9344</td>\n",
       "      <td>1.6224</td>\n",
       "    </tr>\n",
       "  </tbody>\n",
       "</table>\n",
       "<p>165 rows × 8 columns</p>\n",
       "</div>"
      ],
      "text/plain": [
       "     sepal length (cm)_1  sepal width (cm)_1  petal length (cm)_1  \\\n",
       "0                  4.896               3.360                1.344   \n",
       "1                  4.704               2.880                1.344   \n",
       "2                  4.512               3.072                1.248   \n",
       "3                  4.416               2.976                1.440   \n",
       "4                  4.800               3.456                1.344   \n",
       "..                   ...                 ...                  ...   \n",
       "98                 4.896               2.400                2.880   \n",
       "2                  4.512               3.072                1.248   \n",
       "102                6.816               2.880                5.664   \n",
       "1                  4.704               2.880                1.344   \n",
       "96                 5.472               2.784                4.032   \n",
       "\n",
       "     petal width (cm)_1  sepal length (cm)_2  sepal width (cm)_2  \\\n",
       "0                 0.192              24.9696             11.7600   \n",
       "1                 0.192              23.0496              8.6400   \n",
       "2                 0.192              21.2064              9.8304   \n",
       "3                 0.192              20.3136              9.2256   \n",
       "4                 0.192              24.0000             12.4416   \n",
       "..                  ...                  ...                 ...   \n",
       "98                1.056              24.9696              6.0000   \n",
       "2                 0.192              21.2064              9.8304   \n",
       "102               2.016              48.3936              8.6400   \n",
       "1                 0.192              23.0496              8.6400   \n",
       "96                1.248              31.1904              8.0736   \n",
       "\n",
       "     petal length (cm)_2  petal width (cm)_2  \n",
       "0                 1.8816              0.0384  \n",
       "1                 1.8816              0.0384  \n",
       "2                 1.6224              0.0384  \n",
       "3                 2.1600              0.0384  \n",
       "4                 1.8816              0.0384  \n",
       "..                   ...                 ...  \n",
       "98                8.6400              1.1616  \n",
       "2                 1.6224              0.0384  \n",
       "102              33.4176              4.2336  \n",
       "1                 1.8816              0.0384  \n",
       "96               16.9344              1.6224  \n",
       "\n",
       "[165 rows x 8 columns]"
      ]
     },
     "execution_count": 11,
     "metadata": {},
     "output_type": "execute_result"
    }
   ],
   "source": [
    "#NBVAL_IGNORE_OUTPUT\n",
    "# Look at value of a given artifact\n",
    "art.get_value()"
   ]
  },
  {
   "cell_type": "markdown",
   "metadata": {},
   "source": [
    "If we need to validate correctness of the cleaned-up code, we can use `artifact.get_session_code()` to check the original full session code."
   ]
  },
  {
   "cell_type": "code",
   "execution_count": 12,
   "metadata": {
    "colab": {
     "base_uri": "https://localhost:8080/"
    },
    "id": "Ecz28MPEgx0W",
    "outputId": "2692ec7f-cedc-48f4-ebd5-09fd04f90359"
   },
   "outputs": [
    {
     "name": "stdout",
     "output_type": "stream",
     "text": [
      "# Load modules and data \n",
      "from sklearn.datasets import load_iris\n",
      "from sklearn.decomposition import PCA\n",
      "from sklearn.discriminant_analysis import LinearDiscriminantAnalysis\n",
      "import pandas as pd\n",
      "import matplotlib.pyplot as plt\n",
      "\n",
      "iris = load_iris()\n",
      "df = pd.DataFrame(iris.data, columns=[x+'_1' for x in iris.feature_names])\n",
      "df\n",
      "# Run this cell first to add a checkpoint before we do any mutation on the dataframe.\n",
      "# We can rerun this cell at any point of mutation process.\n",
      "art = lineapy.save(df, 'fancy iris')\n",
      "c1,c2,c3=0,0,0 # Count how many mutate we've down during the process\n",
      "# Add new columns to the dataframe and print the column of the data frame\n",
      "\n",
      "power = df.shape[1] //4\n",
      "for col in iris.feature_names:\n",
      "  df[col+f'_{power+1}'] = df[col+'_1']**(power+1)\n",
      "\n",
      "clean_columnname = list([x.replace(' ','') for x in df.columns])\n",
      "\n",
      "print(df.columns)\n",
      "print(clean_columnname)\n",
      "\n",
      "c1+=1\n",
      "# Random sample 30 rows and concatenate with the original dataset and look at some statistics of the dataframe\n",
      "\n",
      "df = pd.concat([df, df.sample(5, random_state=1111)])\n",
      "\n",
      "print(df.shape)\n",
      "print(df.describe().to_string())\n",
      "print(df.head().to_string())\n",
      "\n",
      "c2+=1\n",
      "# Random sample and concatenate with the original dataset and do some strange scaling and do some plotting\n",
      "\n",
      "df = pd.concat([df, df.sample(10)])\n",
      "df = df*0.96\n",
      "df.plot()\n",
      "c3+=1\n",
      "art = lineapy.save(df, 'fancy iris')\n",
      "print(f'we have ran {c1} type1 mutation, {c2} type2 mutation and {c3} type3 mutation')\n",
      "print(art.get_code()) \n",
      "# Look at value of a given artifact\n",
      "# art.get_value()\n",
      "# Look at value of a given artifact\n",
      "art.get_value()\n",
      "#NBVAL_IGNORE_OUTPUT\n",
      "print(art.get_session_code()) \n",
      "\n"
     ]
    }
   ],
   "source": [
    "#NBVAL_IGNORE_OUTPUT\n",
    "print(art.get_session_code()) "
   ]
  },
  {
   "cell_type": "markdown",
   "metadata": {
    "id": "yneTrGWJQoWM"
   },
   "source": [
    "### LineaPy feature: artifact store\n",
    "\n",
    "Another pain point of using Jupyter notebook is that we might have accidentally deleted or mutated a cell that we want to roll back later on.\n",
    "\n",
    "With the option to make a checkpoint at any moment (with `lineapy.save()`) and auto-version the artifact within the artifact store, we can easily recover overwritten artifacts without any manual cleanup or versioning. This can help us effectively compare different versions of the same artifact (i.e., both code and value) and understand what changed over time. It can also help us to easily pick and expand on ideas we have put behind before."
   ]
  },
  {
   "cell_type": "code",
   "execution_count": 13,
   "metadata": {
    "colab": {
     "base_uri": "https://localhost:8080/"
    },
    "id": "uM48GOcbzk4v",
    "outputId": "d105b65e-ff37-4437-b180-3401034086e9"
   },
   "outputs": [
    {
     "name": "stdout",
     "output_type": "stream",
     "text": [
      "artifact within the catalog\n",
      " fancy iris:0 created on 2022-09-29 19:54:55.802001\n",
      "fancy iris:1 created on 2022-09-29 19:54:59.994861 \n",
      "\n",
      "fancy iris with following versions\n",
      " [0, 1]\n"
     ]
    }
   ],
   "source": [
    "#NBVAL_IGNORE_OUTPUT\n",
    "# Access to the LineaPy artifact store.\n",
    "\n",
    "catalog = lineapy.artifact_store()\n",
    "print('artifact within the catalog\\n', catalog, '\\n')\n",
    "\n",
    "# Keep only the artifacts we are interested in and show their versions\n",
    "versions = [x._version for x in catalog.artifacts if x.name=='fancy iris']\n",
    "first_version, latest_version = versions[0], versions[-1]\n",
    "print('fancy iris with following versions\\n', versions)"
   ]
  },
  {
   "cell_type": "code",
   "execution_count": 14,
   "metadata": {
    "colab": {
     "base_uri": "https://localhost:8080/"
    },
    "id": "7wIEWut57S9p",
    "outputId": "48bd137e-5014-4522-a9ad-ff634efe9f58"
   },
   "outputs": [
    {
     "name": "stdout",
     "output_type": "stream",
     "text": [
      "import pandas as pd\n",
      "from sklearn.datasets import load_iris\n",
      "\n",
      "iris = load_iris()\n",
      "df = pd.DataFrame(iris.data, columns=[x + \"_1\" for x in iris.feature_names])\n",
      "\n"
     ]
    }
   ],
   "source": [
    "# Code for first version of artifact\n",
    "print(lineapy.get('fancy iris', version=first_version).get_code())"
   ]
  },
  {
   "cell_type": "code",
   "execution_count": 15,
   "metadata": {
    "colab": {
     "base_uri": "https://localhost:8080/"
    },
    "id": "XVRy1C8WxdeY",
    "outputId": "7f35c306-1ce8-4a34-f669-0fffe34cb98b"
   },
   "outputs": [
    {
     "name": "stdout",
     "output_type": "stream",
     "text": [
      "import pandas as pd\n",
      "from sklearn.datasets import load_iris\n",
      "\n",
      "iris = load_iris()\n",
      "df = pd.DataFrame(iris.data, columns=[x + \"_1\" for x in iris.feature_names])\n",
      "power = df.shape[1] // 4\n",
      "for col in iris.feature_names:\n",
      "    df[col + f\"_{power+1}\"] = df[col + \"_1\"] ** (power + 1)\n",
      "df = pd.concat([df, df.sample(5, random_state=1111)])\n",
      "df = pd.concat([df, df.sample(10)])\n",
      "df = df * 0.96\n",
      "\n"
     ]
    }
   ],
   "source": [
    "#NBVAL_IGNORE_OUTPUT\n",
    "# Code for last version of artifact\n",
    "latest_version = versions[-1]\n",
    "print(lineapy.get('fancy iris', version=latest_version).get_code())"
   ]
  },
  {
   "cell_type": "markdown",
   "metadata": {},
   "source": [
    "All the complexity of notebook cleaning has been removed here. Even when you want to further refactor or modularize the code, you will no longer need to start from scratch."
   ]
  },
  {
   "cell_type": "markdown",
   "metadata": {},
   "source": [
    "## Recap"
   ]
  },
  {
   "cell_type": "markdown",
   "metadata": {},
   "source": [
    "This demo has shown that LineaPy can help data scientists and ML engineers save time on manual notebook cleanup, which is often a major bottleneck in data science workflows. Hence, they can focus on more valuable activities such as generating insights from the data.\n",
    "\n",
    "To learn more about LineaPy, check out the project [documentation](https://docs.lineapy.org/en/latest/index.html)."
   ]
  }
 ],
 "metadata": {
  "colab": {
   "collapsed_sections": [],
   "name": "Scenario - clean up a messy notebook ",
   "provenance": []
  },
  "kernelspec": {
   "display_name": "Python 3.9.12 ('lineapy39')",
   "language": "python",
   "name": "python3"
  },
  "language_info": {
   "codemirror_mode": {
    "name": "ipython",
    "version": 3
   },
   "file_extension": ".py",
   "mimetype": "text/x-python",
   "name": "python",
   "nbconvert_exporter": "python",
   "pygments_lexer": "ipython3",
   "version": "3.9.12"
  },
  "vscode": {
   "interpreter": {
    "hash": "cacea137424fd3104c427a06c692d13a169698dd1bd116af82859e9688265e62"
   }
  }
 },
 "nbformat": 4,
 "nbformat_minor": 4
}
