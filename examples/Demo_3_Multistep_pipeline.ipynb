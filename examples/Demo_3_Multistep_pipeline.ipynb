{
 "cells": [
  {
   "cell_type": "markdown",
   "metadata": {},
   "source": [
    "## Phase: Full ML Pipeline\n",
    "\n",
    "We can combine the preprocessing and modeling steps in one reproducable pipeline. We can then export it to Airflow for Auto-trained ML!"
   ]
  },
  {
   "cell_type": "code",
   "execution_count": 1,
   "metadata": {
    "tags": []
   },
   "outputs": [],
   "source": [
    "# NBVAL_IGNORE_OUTPUT\n",
    "import lineapy"
   ]
  },
  {
   "cell_type": "markdown",
   "metadata": {},
   "source": [
    "#### Linea API allows to easily see previously stored artifacts:"
   ]
  },
  {
   "cell_type": "code",
   "execution_count": 2,
   "metadata": {},
   "outputs": [
    {
     "data": {
      "text/plain": [
       "neighbothood_area_mean:2022-03-31T16:21:22 created on 2022-03-31 16:21:22.311306\n",
       "sum:2022-03-31T16:21:35 created on 2022-03-31 16:21:35.858883\n",
       "housing_data_advanced_features:2022-03-31T16:22:11 created on 2022-03-31 16:22:11.377344\n",
       "housing_data_advanced_features:2022-03-31T17:05:27 created on 2022-03-31 17:05:27.188321\n",
       "housing_data_advanced_features:2022-03-31T17:15:59 created on 2022-03-31 17:15:59.258773\n",
       "housing_data_advanced_features:2022-03-31T17:16:38 created on 2022-03-31 17:16:38.336815\n",
       "cleaned_data_housing:2022-03-31T17:23:13 created on 2022-03-31 17:23:13.865228\n",
       "cleaned_data_housing:2022-03-31T17:25:06 created on 2022-03-31 17:25:06.552558\n",
       "linea_model_housing_V2:2022-03-31T17:25:49 created on 2022-03-31 17:25:49.165559\n",
       "z:2022-03-31T17:51:11 created on 2022-03-31 17:51:11.708383\n",
       "neighbothood_area_mean:2022-03-31T18:20:18 created on 2022-03-31 18:20:18.324677\n",
       "sum:2022-03-31T18:20:25 created on 2022-03-31 18:20:25.217029\n",
       "housing_data_advanced_features:2022-03-31T18:20:43 created on 2022-03-31 18:20:43.643307\n",
       "housing_data_advanced_features:2022-03-31T18:21:29 created on 2022-03-31 18:21:29.291169\n",
       "housing_data_advanced_features:2022-03-31T18:22:17 created on 2022-03-31 18:22:17.393109\n",
       "cleaned_data_housing:2022-03-31T18:23:02 created on 2022-03-31 18:23:02.358540\n",
       "cleaned_data_housing:2022-03-31T18:23:24 created on 2022-03-31 18:23:24.691780\n",
       "linea_model_housing_V2:2022-03-31T18:23:42 created on 2022-03-31 18:23:42.202097\n",
       "z:2022-03-31T18:24:22 created on 2022-03-31 18:24:22.863942\n",
       "linea_model_housing:2022-03-31T18:24:30 created on 2022-03-31 18:24:30.640509"
      ]
     },
     "execution_count": 2,
     "metadata": {},
     "output_type": "execute_result"
    }
   ],
   "source": [
    "# NBVAL_IGNORE_OUTPUT\n",
    "lineapy.catalog()"
   ]
  },
  {
   "cell_type": "markdown",
   "metadata": {},
   "source": [
    "#### Now we can send both to Airflow a a single pipeline:"
   ]
  },
  {
   "cell_type": "code",
   "execution_count": 3,
   "metadata": {},
   "outputs": [
    {
     "data": {
      "text/plain": [
       "LineaArtifact(execution_id='81f573ea-591e-4d0e-a33d-40ce23c0d2ec', node_id='ff3c3a3f-d9ce-4298-a0ab-594a9985ca84', session_id='f4a2bb6e-c679-4cc3-acf1-f36fe0b744c6', name='cleaned_data_housing', date_created=datetime.datetime(2022, 3, 31, 18, 23, 24, 691780))"
      ]
     },
     "execution_count": 3,
     "metadata": {},
     "output_type": "execute_result"
    }
   ],
   "source": [
    "# NBVAL_IGNORE_OUTPUT\n",
    "preprocessing_art = lineapy.get(\"cleaned_data_housing\")\n",
    "preprocessing_art"
   ]
  },
  {
   "cell_type": "code",
   "execution_count": 4,
   "metadata": {},
   "outputs": [
    {
     "data": {
      "text/plain": [
       "LineaArtifact(execution_id='d0f2cc8a-84e0-4974-b4c6-a6385326ab13', node_id='79119b59-8774-43bc-aeb3-3c9d9b386a5f', session_id='2e4d09fb-3033-454a-9dd8-1303d187d50c', name='linea_model_housing', date_created=datetime.datetime(2022, 3, 31, 18, 24, 30, 640509))"
      ]
     },
     "execution_count": 4,
     "metadata": {},
     "output_type": "execute_result"
    }
   ],
   "source": [
    "# NBVAL_IGNORE_OUTPUT\n",
    "modeling_art = lineapy.get(\"linea_model_housing\")\n",
    "modeling_art"
   ]
  },
  {
   "cell_type": "code",
   "execution_count": 5,
   "metadata": {},
   "outputs": [
    {
     "name": "stdout",
     "output_type": "stream",
     "text": [
      "Added Airflow DAG named 'data_housing_pipeline'. Start a run from the Airflow UI or CLI.\n"
     ]
    },
    {
     "data": {
      "text/plain": [
       "PosixPath('/home/mlee/airflow_home/dags/data_housing_pipeline_dag.py')"
      ]
     },
     "execution_count": 5,
     "metadata": {},
     "output_type": "execute_result"
    }
   ],
   "source": [
    "# NBVAL_IGNORE_OUTPUT\n",
    "lineapy.to_airflow(\n",
    "    [preprocessing_art.name, modeling_art.name], \n",
    "    \"data_housing_pipeline\",\n",
    "    \"data_housing_pipeline_cleaned_data_housing >> data_housing_pipeline_linea_model_housing\"\n",
    ")"
   ]
  },
  {
   "cell_type": "code",
   "execution_count": null,
   "metadata": {},
   "outputs": [],
   "source": []
  }
 ],
 "metadata": {
  "kernelspec": {
   "display_name": "Python 3 (ipykernel)",
   "language": "python",
   "name": "python3"
  },
  "language_info": {
   "codemirror_mode": {
    "name": "ipython",
    "version": 3
   },
   "file_extension": ".py",
   "mimetype": "text/x-python",
   "name": "python",
   "nbconvert_exporter": "python",
   "pygments_lexer": "ipython3",
   "version": "3.9.11"
  }
 },
 "nbformat": 4,
 "nbformat_minor": 4
}
