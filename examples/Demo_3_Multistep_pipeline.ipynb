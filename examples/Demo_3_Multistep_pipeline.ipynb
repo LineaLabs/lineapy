{
 "cells": [
  {
   "cell_type": "markdown",
   "metadata": {},
   "source": [
    "## Phase: Full ML Pipeline\n",
    "\n",
    "We can combine the preprocessing and modeling steps in one reproducable pipeline. We can then export it to Airflow for Auto-trained ML!"
   ]
  },
  {
   "cell_type": "code",
   "execution_count": 1,
   "metadata": {
    "tags": []
   },
   "outputs": [],
   "source": [
    "# NBVAL_IGNORE_OUTPUT\n",
    "import lineapy"
   ]
  },
  {
   "cell_type": "markdown",
   "metadata": {},
   "source": [
    "#### Linea API allows to easily see previously stored artifacts:"
   ]
  },
  {
   "cell_type": "code",
   "execution_count": 2,
   "metadata": {},
   "outputs": [
    {
     "data": {
      "text/plain": [
       "cleaned_data_housing, 2022-02-02 00:18:59.361118\n",
       "linea_model_housing, 2022-02-02 02:35:31.438471"
      ]
     },
     "execution_count": 2,
     "metadata": {},
     "output_type": "execute_result"
    }
   ],
   "source": [
    "# NBVAL_IGNORE_OUTPUT\n",
    "lineapy.catalog()"
   ]
  },
  {
   "cell_type": "markdown",
   "metadata": {},
   "source": [
    "#### Now we can send both to Airflow a a single pipeline:"
   ]
  },
  {
   "cell_type": "code",
   "execution_count": 3,
   "metadata": {},
   "outputs": [
    {
     "data": {
      "text/plain": [
       "LineaArtifact(execution_id='4828271d-bc95-4d16-a991-8af987c0b131', node_id='1db51d2c-4162-4031-979d-5c1f622d78e4', session_id='528e43e1-a960-4af9-9ff7-d3c5c3c800dc', name='cleaned_data_housing')"
      ]
     },
     "execution_count": 3,
     "metadata": {},
     "output_type": "execute_result"
    }
   ],
   "source": [
    "# NBVAL_IGNORE_OUTPUT\n",
    "preprocessing_art = lineapy.get(\"cleaned_data_housing\")\n",
    "preprocessing_art"
   ]
  },
  {
   "cell_type": "code",
   "execution_count": 4,
   "metadata": {},
   "outputs": [
    {
     "data": {
      "text/plain": [
       "LineaArtifact(execution_id='bf1a3165-a84b-49db-b783-d961b53c149f', node_id='88ec4bd2-d00c-4cd4-a9a5-feea0d1ea41b', session_id='f39beb67-c48a-4da9-8035-f8d97752cbe6', name='linea_model_housing')"
      ]
     },
     "execution_count": 4,
     "metadata": {},
     "output_type": "execute_result"
    }
   ],
   "source": [
    "# NBVAL_IGNORE_OUTPUT\n",
    "modeling_art = lineapy.get(\"linea_model_housing\")\n",
    "modeling_art"
   ]
  },
  {
   "cell_type": "code",
   "execution_count": 5,
   "metadata": {},
   "outputs": [
    {
     "name": "stdout",
     "output_type": "stream",
     "text": [
      "Added Airflow DAG named 'data_housing_pipeline'. Start a run from the Airflow UI or CLI.\n"
     ]
    },
    {
     "data": {
      "text/plain": [
       "PosixPath('/usr/src/airflow_home/dags/data_housing_pipeline.py')"
      ]
     },
     "execution_count": 5,
     "metadata": {},
     "output_type": "execute_result"
    }
   ],
   "source": [
    "# NBVAL_IGNORE_OUTPUT\n",
    "lineapy.to_airflow(\n",
    "    {preprocessing_art.name: preprocessing_art.code, modeling_art.name: modeling_art.code}, \n",
    "    \"data_housing_pipeline\",\n",
    "    \"data_housing_pipeline_cleaned_data_housing >> data_housing_pipeline_linea_model_housing\"\n",
    ")"
   ]
  },
  {
   "cell_type": "code",
   "execution_count": null,
   "metadata": {},
   "outputs": [],
   "source": []
  }
 ],
 "metadata": {
  "kernelspec": {
   "display_name": "Python 3 (ipykernel)",
   "language": "python",
   "name": "python3"
  },
  "language_info": {
   "codemirror_mode": {
    "name": "ipython",
    "version": 3
   },
   "file_extension": ".py",
   "mimetype": "text/x-python",
   "name": "python",
   "nbconvert_exporter": "python",
   "pygments_lexer": "ipython3",
   "version": "3.9.9"
  }
 },
 "nbformat": 4,
 "nbformat_minor": 4
}
