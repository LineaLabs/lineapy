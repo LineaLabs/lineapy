{
 "cells": [
  {
   "cell_type": "code",
   "execution_count": 1,
   "id": "92eb7f6e",
   "metadata": {},
   "outputs": [],
   "source": [
    "import lineapy"
   ]
  },
  {
   "cell_type": "code",
   "execution_count": 2,
   "id": "bbe15680",
   "metadata": {},
   "outputs": [
    {
     "data": {
      "text/plain": [
       "neighbothood_area_mean:2022-03-29T11:16:44 created on 2022-03-29 11:16:44.500371"
      ]
     },
     "execution_count": 2,
     "metadata": {},
     "output_type": "execute_result"
    }
   ],
   "source": [
    "# NBVAL_IGNORE_OUTPUT\n",
    "\n",
    "cat = lineapy.catalog()\n",
    "cat"
   ]
  },
  {
   "cell_type": "code",
   "execution_count": 3,
   "id": "c119e646",
   "metadata": {},
   "outputs": [],
   "source": [
    "neighbor_area_art = lineapy.get(\"neighbothood_area_mean\")"
   ]
  },
  {
   "cell_type": "code",
   "execution_count": 4,
   "id": "483568eb",
   "metadata": {},
   "outputs": [
    {
     "name": "stdout",
     "output_type": "stream",
     "text": [
      "import pandas as pd\n",
      "assets = pd.read_csv(\"data/ames_train_cleaned.csv\")\n",
      "neighbothood_area_mean = assets[[\"Neighborhood\", \"Lot_Area\"]].groupby(\"Neighborhood\").mean()\n",
      "\n"
     ]
    }
   ],
   "source": [
    "print(neighbor_area_art.code)"
   ]
  },
  {
   "cell_type": "code",
   "execution_count": 5,
   "id": "c0668ad4",
   "metadata": {},
   "outputs": [
    {
     "data": {
      "text/html": [
       "<div>\n",
       "<style scoped>\n",
       "    .dataframe tbody tr th:only-of-type {\n",
       "        vertical-align: middle;\n",
       "    }\n",
       "\n",
       "    .dataframe tbody tr th {\n",
       "        vertical-align: top;\n",
       "    }\n",
       "\n",
       "    .dataframe thead th {\n",
       "        text-align: right;\n",
       "    }\n",
       "</style>\n",
       "<table border=\"1\" class=\"dataframe\">\n",
       "  <thead>\n",
       "    <tr style=\"text-align: right;\">\n",
       "      <th></th>\n",
       "      <th>Lot_Area</th>\n",
       "    </tr>\n",
       "    <tr>\n",
       "      <th>Neighborhood</th>\n",
       "      <th></th>\n",
       "    </tr>\n",
       "  </thead>\n",
       "  <tbody>\n",
       "    <tr>\n",
       "      <th>Blmngtn</th>\n",
       "      <td>3411.913043</td>\n",
       "    </tr>\n",
       "    <tr>\n",
       "      <th>Blueste</th>\n",
       "      <td>2264.000000</td>\n",
       "    </tr>\n",
       "    <tr>\n",
       "      <th>BrDale</th>\n",
       "      <td>1846.100000</td>\n",
       "    </tr>\n",
       "    <tr>\n",
       "      <th>BrkSide</th>\n",
       "      <td>6942.391892</td>\n",
       "    </tr>\n",
       "    <tr>\n",
       "      <th>ClearCr</th>\n",
       "      <td>23686.424242</td>\n",
       "    </tr>\n",
       "    <tr>\n",
       "      <th>CollgCr</th>\n",
       "      <td>9968.917582</td>\n",
       "    </tr>\n",
       "    <tr>\n",
       "      <th>Crawfor</th>\n",
       "      <td>11700.287500</td>\n",
       "    </tr>\n",
       "    <tr>\n",
       "      <th>Edwards</th>\n",
       "      <td>9974.300000</td>\n",
       "    </tr>\n",
       "    <tr>\n",
       "      <th>Gilbert</th>\n",
       "      <td>11333.046729</td>\n",
       "    </tr>\n",
       "    <tr>\n",
       "      <th>Greens</th>\n",
       "      <td>3887.000000</td>\n",
       "    </tr>\n",
       "    <tr>\n",
       "      <th>GrnHill</th>\n",
       "      <td>9001.000000</td>\n",
       "    </tr>\n",
       "    <tr>\n",
       "      <th>IDOTRR</th>\n",
       "      <td>9101.109375</td>\n",
       "    </tr>\n",
       "    <tr>\n",
       "      <th>MeadowV</th>\n",
       "      <td>2011.333333</td>\n",
       "    </tr>\n",
       "    <tr>\n",
       "      <th>Mitchel</th>\n",
       "      <td>11717.797297</td>\n",
       "    </tr>\n",
       "    <tr>\n",
       "      <th>NAmes</th>\n",
       "      <td>10140.675585</td>\n",
       "    </tr>\n",
       "    <tr>\n",
       "      <th>NPkVill</th>\n",
       "      <td>2941.500000</td>\n",
       "    </tr>\n",
       "    <tr>\n",
       "      <th>NWAmes</th>\n",
       "      <td>11422.988636</td>\n",
       "    </tr>\n",
       "    <tr>\n",
       "      <th>NoRidge</th>\n",
       "      <td>12811.823529</td>\n",
       "    </tr>\n",
       "    <tr>\n",
       "      <th>NridgHt</th>\n",
       "      <td>11064.500000</td>\n",
       "    </tr>\n",
       "    <tr>\n",
       "      <th>OldTown</th>\n",
       "      <td>8332.319277</td>\n",
       "    </tr>\n",
       "    <tr>\n",
       "      <th>SWISU</th>\n",
       "      <td>7675.312500</td>\n",
       "    </tr>\n",
       "    <tr>\n",
       "      <th>Sawyer</th>\n",
       "      <td>10182.431034</td>\n",
       "    </tr>\n",
       "    <tr>\n",
       "      <th>SawyerW</th>\n",
       "      <td>9869.000000</td>\n",
       "    </tr>\n",
       "    <tr>\n",
       "      <th>Somerst</th>\n",
       "      <td>7613.260504</td>\n",
       "    </tr>\n",
       "    <tr>\n",
       "      <th>StoneBr</th>\n",
       "      <td>12247.964286</td>\n",
       "    </tr>\n",
       "    <tr>\n",
       "      <th>Timber</th>\n",
       "      <td>18456.630435</td>\n",
       "    </tr>\n",
       "    <tr>\n",
       "      <th>Veenker</th>\n",
       "      <td>13825.500000</td>\n",
       "    </tr>\n",
       "  </tbody>\n",
       "</table>\n",
       "</div>"
      ],
      "text/plain": [
       "                  Lot_Area\n",
       "Neighborhood              \n",
       "Blmngtn        3411.913043\n",
       "Blueste        2264.000000\n",
       "BrDale         1846.100000\n",
       "BrkSide        6942.391892\n",
       "ClearCr       23686.424242\n",
       "CollgCr        9968.917582\n",
       "Crawfor       11700.287500\n",
       "Edwards        9974.300000\n",
       "Gilbert       11333.046729\n",
       "Greens         3887.000000\n",
       "GrnHill        9001.000000\n",
       "IDOTRR         9101.109375\n",
       "MeadowV        2011.333333\n",
       "Mitchel       11717.797297\n",
       "NAmes         10140.675585\n",
       "NPkVill        2941.500000\n",
       "NWAmes        11422.988636\n",
       "NoRidge       12811.823529\n",
       "NridgHt       11064.500000\n",
       "OldTown        8332.319277\n",
       "SWISU          7675.312500\n",
       "Sawyer        10182.431034\n",
       "SawyerW        9869.000000\n",
       "Somerst        7613.260504\n",
       "StoneBr       12247.964286\n",
       "Timber        18456.630435\n",
       "Veenker       13825.500000"
      ]
     },
     "execution_count": 5,
     "metadata": {},
     "output_type": "execute_result"
    }
   ],
   "source": [
    "neighbor_area_df = neighbor_area_art.value\n",
    "neighbor_area_df"
   ]
  },
  {
   "cell_type": "code",
   "execution_count": 6,
   "id": "e6a91888",
   "metadata": {},
   "outputs": [
    {
     "data": {
      "text/plain": [
       "253429.526782164"
      ]
     },
     "execution_count": 6,
     "metadata": {},
     "output_type": "execute_result"
    }
   ],
   "source": [
    "s = neighbor_area_df['Lot_Area'].sum()\n",
    "s"
   ]
  },
  {
   "cell_type": "code",
   "execution_count": 7,
   "id": "1e688e32",
   "metadata": {},
   "outputs": [
    {
     "name": "stdout",
     "output_type": "stream",
     "text": [
      "import lineapy\n",
      "neighbor_area_art = lineapy.get(\"neighbothood_area_mean\")\n",
      "neighbor_area_df = neighbor_area_art.value\n",
      "s = neighbor_area_df['Lot_Area'].sum()\n",
      "\n"
     ]
    }
   ],
   "source": [
    "print(lineapy.save(s, \"sum\").code)"
   ]
  },
  {
   "cell_type": "code",
   "execution_count": null,
   "id": "0dc3346d",
   "metadata": {},
   "outputs": [],
   "source": []
  }
 ],
 "metadata": {
  "kernelspec": {
   "display_name": "Python 3 (ipykernel)",
   "language": "python",
   "name": "python3"
  },
  "language_info": {
   "codemirror_mode": {
    "name": "ipython",
    "version": 3
   },
   "file_extension": ".py",
   "mimetype": "text/x-python",
   "name": "python",
   "nbconvert_exporter": "python",
   "pygments_lexer": "ipython3",
   "version": "3.9.7"
  }
 },
 "nbformat": 4,
 "nbformat_minor": 5
}
