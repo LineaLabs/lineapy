{
 "cells": [
  {
   "cell_type": "markdown",
   "id": "52d1bcc3",
   "metadata": {},
   "source": [
    "# Refactoring Code with Artifacts"
   ]
  },
  {
   "cell_type": "markdown",
   "id": "59fc3ea7",
   "metadata": {},
   "source": [
    "Data science development is characterized by nimble, iterative experimentation and exploratory data analysis.\n",
    "Data scientists explore many possibilities before reaching the final result. The rapid exploration process often\n",
    "leads to long, messy code, the majority of which has no impact on the final result.\n",
    "\n",
    "Code refactoring is hence an essential step for moving data science work into production. Yet, it often becomes a major bottleneck as it involves manual inspection of long, messy code that sometimes does not make sense even to its own author. With the complete development history stored in artifacts, LineaPy enables automatic code clean-up,\n",
    "facilitating code refactoring and hence transition to production.\n",
    "\n",
    "In this tutorial, we will walk through an example that illustrates how this can be done."
   ]
  },
  {
   "cell_type": "markdown",
   "id": "61943eaf",
   "metadata": {},
   "source": [
    "<div class=\"alert alert-info\">\n",
    "\n",
    "You can ignore `# NBVAL_*` comments in certain cell blocks. They are for passing unit tests only, which we do to make sure the examples are always functional as we update the codebase.\n",
    "\n",
    "</div>"
   ]
  },
  {
   "cell_type": "markdown",
   "id": "19f33295",
   "metadata": {},
   "source": [
    "<div class=\"alert alert-info\">\n",
    "\n",
    "If you encounter issues you cannot resolve, simply ask in our [Slack community](https://join.slack.com/t/lineacommunity/shared_invite/zt-18kizfn3b-1Qu_HDT3ahGudnAwoFAw9Q)'s `#support` channel. We are always happy and ready to help you!\n",
    "\n",
    "</div>"
   ]
  },
  {
   "cell_type": "code",
   "execution_count": 1,
   "id": "1a67196a",
   "metadata": {},
   "outputs": [],
   "source": [
    "# NBVAL_IGNORE_OUTPUT\n",
    "\n",
    "import os\n",
    "import lineapy\n",
    "import pandas as pd\n",
    "import matplotlib.pyplot as plt\n",
    "from sklearn.linear_model import LinearRegression\n",
    "\n",
    "lineapy.tag(\"Refactoring Code Demo\")"
   ]
  },
  {
   "cell_type": "markdown",
   "id": "ce6a4753",
   "metadata": {},
   "source": [
    "We were given a data set to explore. Let's see what it contains."
   ]
  },
  {
   "cell_type": "code",
   "execution_count": 2,
   "id": "e2321f16",
   "metadata": {},
   "outputs": [],
   "source": [
    "# NBVAL_IGNORE_OUTPUT\n",
    "\n",
    "# Load data\n",
    "df = pd.read_csv(\"https://raw.githubusercontent.com/LineaLabs/lineapy/main/examples/tutorials/data/iris.csv\")"
   ]
  },
  {
   "cell_type": "code",
   "execution_count": 3,
   "id": "57d797dc",
   "metadata": {},
   "outputs": [
    {
     "data": {
      "text/html": [
       "<div>\n",
       "<style scoped>\n",
       "    .dataframe tbody tr th:only-of-type {\n",
       "        vertical-align: middle;\n",
       "    }\n",
       "\n",
       "    .dataframe tbody tr th {\n",
       "        vertical-align: top;\n",
       "    }\n",
       "\n",
       "    .dataframe thead th {\n",
       "        text-align: right;\n",
       "    }\n",
       "</style>\n",
       "<table border=\"1\" class=\"dataframe\">\n",
       "  <thead>\n",
       "    <tr style=\"text-align: right;\">\n",
       "      <th></th>\n",
       "      <th>sepal.length</th>\n",
       "      <th>sepal.width</th>\n",
       "      <th>petal.length</th>\n",
       "      <th>petal.width</th>\n",
       "      <th>variety</th>\n",
       "    </tr>\n",
       "  </thead>\n",
       "  <tbody>\n",
       "    <tr>\n",
       "      <th>0</th>\n",
       "      <td>5.1</td>\n",
       "      <td>3.5</td>\n",
       "      <td>1.4</td>\n",
       "      <td>0.2</td>\n",
       "      <td>Setosa</td>\n",
       "    </tr>\n",
       "    <tr>\n",
       "      <th>1</th>\n",
       "      <td>4.9</td>\n",
       "      <td>3.0</td>\n",
       "      <td>1.4</td>\n",
       "      <td>0.2</td>\n",
       "      <td>Setosa</td>\n",
       "    </tr>\n",
       "    <tr>\n",
       "      <th>2</th>\n",
       "      <td>4.7</td>\n",
       "      <td>3.2</td>\n",
       "      <td>1.3</td>\n",
       "      <td>0.2</td>\n",
       "      <td>Setosa</td>\n",
       "    </tr>\n",
       "    <tr>\n",
       "      <th>3</th>\n",
       "      <td>4.6</td>\n",
       "      <td>3.1</td>\n",
       "      <td>1.5</td>\n",
       "      <td>0.2</td>\n",
       "      <td>Setosa</td>\n",
       "    </tr>\n",
       "    <tr>\n",
       "      <th>4</th>\n",
       "      <td>5.0</td>\n",
       "      <td>3.6</td>\n",
       "      <td>1.4</td>\n",
       "      <td>0.2</td>\n",
       "      <td>Setosa</td>\n",
       "    </tr>\n",
       "    <tr>\n",
       "      <th>...</th>\n",
       "      <td>...</td>\n",
       "      <td>...</td>\n",
       "      <td>...</td>\n",
       "      <td>...</td>\n",
       "      <td>...</td>\n",
       "    </tr>\n",
       "    <tr>\n",
       "      <th>145</th>\n",
       "      <td>6.7</td>\n",
       "      <td>3.0</td>\n",
       "      <td>5.2</td>\n",
       "      <td>2.3</td>\n",
       "      <td>Virginica</td>\n",
       "    </tr>\n",
       "    <tr>\n",
       "      <th>146</th>\n",
       "      <td>6.3</td>\n",
       "      <td>2.5</td>\n",
       "      <td>5.0</td>\n",
       "      <td>1.9</td>\n",
       "      <td>Virginica</td>\n",
       "    </tr>\n",
       "    <tr>\n",
       "      <th>147</th>\n",
       "      <td>6.5</td>\n",
       "      <td>3.0</td>\n",
       "      <td>5.2</td>\n",
       "      <td>2.0</td>\n",
       "      <td>Virginica</td>\n",
       "    </tr>\n",
       "    <tr>\n",
       "      <th>148</th>\n",
       "      <td>6.2</td>\n",
       "      <td>3.4</td>\n",
       "      <td>5.4</td>\n",
       "      <td>2.3</td>\n",
       "      <td>Virginica</td>\n",
       "    </tr>\n",
       "    <tr>\n",
       "      <th>149</th>\n",
       "      <td>5.9</td>\n",
       "      <td>3.0</td>\n",
       "      <td>5.1</td>\n",
       "      <td>1.8</td>\n",
       "      <td>Virginica</td>\n",
       "    </tr>\n",
       "  </tbody>\n",
       "</table>\n",
       "<p>150 rows × 5 columns</p>\n",
       "</div>"
      ],
      "text/plain": [
       "     sepal.length  sepal.width  petal.length  petal.width    variety\n",
       "0             5.1          3.5           1.4          0.2     Setosa\n",
       "1             4.9          3.0           1.4          0.2     Setosa\n",
       "2             4.7          3.2           1.3          0.2     Setosa\n",
       "3             4.6          3.1           1.5          0.2     Setosa\n",
       "4             5.0          3.6           1.4          0.2     Setosa\n",
       "..            ...          ...           ...          ...        ...\n",
       "145           6.7          3.0           5.2          2.3  Virginica\n",
       "146           6.3          2.5           5.0          1.9  Virginica\n",
       "147           6.5          3.0           5.2          2.0  Virginica\n",
       "148           6.2          3.4           5.4          2.3  Virginica\n",
       "149           5.9          3.0           5.1          1.8  Virginica\n",
       "\n",
       "[150 rows x 5 columns]"
      ]
     },
     "execution_count": 3,
     "metadata": {},
     "output_type": "execute_result"
    }
   ],
   "source": [
    "# View data\n",
    "df"
   ]
  },
  {
   "cell_type": "markdown",
   "id": "4c96ffc3",
   "metadata": {},
   "source": [
    "It is simple data that contains different iris species and their physical measurements. Our common sense dictates that petal and sepal traits may have an association. Let's quickly check."
   ]
  },
  {
   "cell_type": "code",
   "execution_count": 4,
   "id": "24413b64",
   "metadata": {},
   "outputs": [
    {
     "data": {
      "image/png": "[encoded data removed]",
      "text/plain": [
       "<Figure size 432x288 with 1 Axes>"
      ]
     },
     "metadata": {
      "needs_background": "light"
     },
     "output_type": "display_data"
    }
   ],
   "source": [
    "# Plot petal vs. sepal width\n",
    "df.plot.scatter(\"petal.width\", \"sepal.width\")\n",
    "plt.show()"
   ]
  },
  {
   "cell_type": "markdown",
   "id": "17fd852c",
   "metadata": {},
   "source": [
    "Interestingly, we observe what appears to be an inverse relationship between petal and sepal widths. That is, the wider an iris's petal is, the narrower its sepal is."
   ]
  },
  {
   "cell_type": "markdown",
   "id": "2e35d5cb",
   "metadata": {},
   "source": [
    "Can we quantify this relationship? We can check correlation coefficient:"
   ]
  },
  {
   "cell_type": "code",
   "execution_count": 5,
   "id": "436c5527",
   "metadata": {},
   "outputs": [
    {
     "data": {
      "text/html": [
       "<div>\n",
       "<style scoped>\n",
       "    .dataframe tbody tr th:only-of-type {\n",
       "        vertical-align: middle;\n",
       "    }\n",
       "\n",
       "    .dataframe tbody tr th {\n",
       "        vertical-align: top;\n",
       "    }\n",
       "\n",
       "    .dataframe thead th {\n",
       "        text-align: right;\n",
       "    }\n",
       "</style>\n",
       "<table border=\"1\" class=\"dataframe\">\n",
       "  <thead>\n",
       "    <tr style=\"text-align: right;\">\n",
       "      <th></th>\n",
       "      <th>petal.width</th>\n",
       "      <th>sepal.width</th>\n",
       "    </tr>\n",
       "  </thead>\n",
       "  <tbody>\n",
       "    <tr>\n",
       "      <th>petal.width</th>\n",
       "      <td>1.000000</td>\n",
       "      <td>-0.366126</td>\n",
       "    </tr>\n",
       "    <tr>\n",
       "      <th>sepal.width</th>\n",
       "      <td>-0.366126</td>\n",
       "      <td>1.000000</td>\n",
       "    </tr>\n",
       "  </tbody>\n",
       "</table>\n",
       "</div>"
      ],
      "text/plain": [
       "             petal.width  sepal.width\n",
       "petal.width     1.000000    -0.366126\n",
       "sepal.width    -0.366126     1.000000"
      ]
     },
     "execution_count": 5,
     "metadata": {},
     "output_type": "execute_result"
    }
   ],
   "source": [
    "# Calculate correlation coefficient\n",
    "df[[\"petal.width\", \"sepal.width\"]].corr(method=\"pearson\")"
   ]
  },
  {
   "cell_type": "markdown",
   "id": "b51c7cd0",
   "metadata": {},
   "source": [
    "The value confirms our visual observation: petal and sepal widths are negatively correlated."
   ]
  },
  {
   "cell_type": "markdown",
   "id": "129b03a4",
   "metadata": {},
   "source": [
    "To make our analysis more interesting, let’s try some formal modeling. We can start with linear regression."
   ]
  },
  {
   "cell_type": "code",
   "execution_count": 6,
   "id": "ec10b3c0",
   "metadata": {},
   "outputs": [
    {
     "data": {
      "text/plain": [
       "LinearRegression()"
      ]
     },
     "execution_count": 6,
     "metadata": {},
     "output_type": "execute_result"
    }
   ],
   "source": [
    "# Initiate the model\n",
    "lm_1 = LinearRegression()\n",
    "\n",
    "# Fit the model\n",
    "lm_1.fit(\n",
    "    X=df[[\"petal.width\"]],\n",
    "    y=df[\"sepal.width\"],\n",
    ")"
   ]
  },
  {
   "cell_type": "code",
   "execution_count": 7,
   "id": "84eb045a",
   "metadata": {},
   "outputs": [
    {
     "name": "stdout",
     "output_type": "stream",
     "text": [
      "Coefficient for petal.width: -0.20935983162745503\n"
     ]
    }
   ],
   "source": [
    "# NBVAL_IGNORE_OUTPUT\n",
    "\n",
    "# Check result\n",
    "print(f\"Coefficient for petal.width: {lm_1.coef_[0]}\")"
   ]
  },
  {
   "cell_type": "markdown",
   "id": "20928a44",
   "metadata": {},
   "source": [
    "Result suggests that a unit increase in petal width is associated with about a 0.2 unit decrease in sepal width."
   ]
  },
  {
   "cell_type": "markdown",
   "id": "d5b27b67",
   "metadata": {},
   "source": [
    "Now, we may wonder if species plays any role in this. That is, given the same iris type, how is change in petal width associated with change in sepal width?\n",
    "\n",
    "To answer this question, we can include the species terms in our regression model. But we need to first pre-process the data. Specifically, `variety` needs to be transformed into a set of numeric variables so that the model can use the information. Let's have Setosa as the baseline category."
   ]
  },
  {
   "cell_type": "code",
   "execution_count": 8,
   "id": "46bc281b",
   "metadata": {},
   "outputs": [
    {
     "data": {
      "text/plain": [
       "Setosa        50\n",
       "Versicolor    50\n",
       "Virginica     50\n",
       "Name: variety, dtype: int64"
      ]
     },
     "execution_count": 8,
     "metadata": {},
     "output_type": "execute_result"
    }
   ],
   "source": [
    "# Check species and their counts\n",
    "df[\"variety\"].value_counts()"
   ]
  },
  {
   "cell_type": "code",
   "execution_count": 9,
   "id": "32b78e90",
   "metadata": {},
   "outputs": [],
   "source": [
    "# Create dummy variables encoding species\n",
    "df[\"d_versicolor\"] = df[\"variety\"].apply(lambda x: 1 if x == \"Versicolor\" else 0)\n",
    "df[\"d_virginica\"] = df[\"variety\"].apply(lambda x: 1 if x == \"Virginica\" else 0)"
   ]
  },
  {
   "cell_type": "code",
   "execution_count": 10,
   "id": "74e68500",
   "metadata": {},
   "outputs": [
    {
     "data": {
      "text/html": [
       "<div>\n",
       "<style scoped>\n",
       "    .dataframe tbody tr th:only-of-type {\n",
       "        vertical-align: middle;\n",
       "    }\n",
       "\n",
       "    .dataframe tbody tr th {\n",
       "        vertical-align: top;\n",
       "    }\n",
       "\n",
       "    .dataframe thead th {\n",
       "        text-align: right;\n",
       "    }\n",
       "</style>\n",
       "<table border=\"1\" class=\"dataframe\">\n",
       "  <thead>\n",
       "    <tr style=\"text-align: right;\">\n",
       "      <th></th>\n",
       "      <th>sepal.length</th>\n",
       "      <th>sepal.width</th>\n",
       "      <th>petal.length</th>\n",
       "      <th>petal.width</th>\n",
       "      <th>variety</th>\n",
       "      <th>d_versicolor</th>\n",
       "      <th>d_virginica</th>\n",
       "    </tr>\n",
       "  </thead>\n",
       "  <tbody>\n",
       "    <tr>\n",
       "      <th>0</th>\n",
       "      <td>5.1</td>\n",
       "      <td>3.5</td>\n",
       "      <td>1.4</td>\n",
       "      <td>0.2</td>\n",
       "      <td>Setosa</td>\n",
       "      <td>0</td>\n",
       "      <td>0</td>\n",
       "    </tr>\n",
       "    <tr>\n",
       "      <th>1</th>\n",
       "      <td>4.9</td>\n",
       "      <td>3.0</td>\n",
       "      <td>1.4</td>\n",
       "      <td>0.2</td>\n",
       "      <td>Setosa</td>\n",
       "      <td>0</td>\n",
       "      <td>0</td>\n",
       "    </tr>\n",
       "    <tr>\n",
       "      <th>2</th>\n",
       "      <td>4.7</td>\n",
       "      <td>3.2</td>\n",
       "      <td>1.3</td>\n",
       "      <td>0.2</td>\n",
       "      <td>Setosa</td>\n",
       "      <td>0</td>\n",
       "      <td>0</td>\n",
       "    </tr>\n",
       "    <tr>\n",
       "      <th>3</th>\n",
       "      <td>4.6</td>\n",
       "      <td>3.1</td>\n",
       "      <td>1.5</td>\n",
       "      <td>0.2</td>\n",
       "      <td>Setosa</td>\n",
       "      <td>0</td>\n",
       "      <td>0</td>\n",
       "    </tr>\n",
       "    <tr>\n",
       "      <th>4</th>\n",
       "      <td>5.0</td>\n",
       "      <td>3.6</td>\n",
       "      <td>1.4</td>\n",
       "      <td>0.2</td>\n",
       "      <td>Setosa</td>\n",
       "      <td>0</td>\n",
       "      <td>0</td>\n",
       "    </tr>\n",
       "    <tr>\n",
       "      <th>...</th>\n",
       "      <td>...</td>\n",
       "      <td>...</td>\n",
       "      <td>...</td>\n",
       "      <td>...</td>\n",
       "      <td>...</td>\n",
       "      <td>...</td>\n",
       "      <td>...</td>\n",
       "    </tr>\n",
       "    <tr>\n",
       "      <th>145</th>\n",
       "      <td>6.7</td>\n",
       "      <td>3.0</td>\n",
       "      <td>5.2</td>\n",
       "      <td>2.3</td>\n",
       "      <td>Virginica</td>\n",
       "      <td>0</td>\n",
       "      <td>1</td>\n",
       "    </tr>\n",
       "    <tr>\n",
       "      <th>146</th>\n",
       "      <td>6.3</td>\n",
       "      <td>2.5</td>\n",
       "      <td>5.0</td>\n",
       "      <td>1.9</td>\n",
       "      <td>Virginica</td>\n",
       "      <td>0</td>\n",
       "      <td>1</td>\n",
       "    </tr>\n",
       "    <tr>\n",
       "      <th>147</th>\n",
       "      <td>6.5</td>\n",
       "      <td>3.0</td>\n",
       "      <td>5.2</td>\n",
       "      <td>2.0</td>\n",
       "      <td>Virginica</td>\n",
       "      <td>0</td>\n",
       "      <td>1</td>\n",
       "    </tr>\n",
       "    <tr>\n",
       "      <th>148</th>\n",
       "      <td>6.2</td>\n",
       "      <td>3.4</td>\n",
       "      <td>5.4</td>\n",
       "      <td>2.3</td>\n",
       "      <td>Virginica</td>\n",
       "      <td>0</td>\n",
       "      <td>1</td>\n",
       "    </tr>\n",
       "    <tr>\n",
       "      <th>149</th>\n",
       "      <td>5.9</td>\n",
       "      <td>3.0</td>\n",
       "      <td>5.1</td>\n",
       "      <td>1.8</td>\n",
       "      <td>Virginica</td>\n",
       "      <td>0</td>\n",
       "      <td>1</td>\n",
       "    </tr>\n",
       "  </tbody>\n",
       "</table>\n",
       "<p>150 rows × 7 columns</p>\n",
       "</div>"
      ],
      "text/plain": [
       "     sepal.length  sepal.width  petal.length  petal.width    variety  \\\n",
       "0             5.1          3.5           1.4          0.2     Setosa   \n",
       "1             4.9          3.0           1.4          0.2     Setosa   \n",
       "2             4.7          3.2           1.3          0.2     Setosa   \n",
       "3             4.6          3.1           1.5          0.2     Setosa   \n",
       "4             5.0          3.6           1.4          0.2     Setosa   \n",
       "..            ...          ...           ...          ...        ...   \n",
       "145           6.7          3.0           5.2          2.3  Virginica   \n",
       "146           6.3          2.5           5.0          1.9  Virginica   \n",
       "147           6.5          3.0           5.2          2.0  Virginica   \n",
       "148           6.2          3.4           5.4          2.3  Virginica   \n",
       "149           5.9          3.0           5.1          1.8  Virginica   \n",
       "\n",
       "     d_versicolor  d_virginica  \n",
       "0               0            0  \n",
       "1               0            0  \n",
       "2               0            0  \n",
       "3               0            0  \n",
       "4               0            0  \n",
       "..            ...          ...  \n",
       "145             0            1  \n",
       "146             0            1  \n",
       "147             0            1  \n",
       "148             0            1  \n",
       "149             0            1  \n",
       "\n",
       "[150 rows x 7 columns]"
      ]
     },
     "execution_count": 10,
     "metadata": {},
     "output_type": "execute_result"
    }
   ],
   "source": [
    "# View data\n",
    "df"
   ]
  },
  {
   "cell_type": "markdown",
   "id": "a498ff49",
   "metadata": {},
   "source": [
    "And we train another model using the new species terms:"
   ]
  },
  {
   "cell_type": "code",
   "execution_count": 11,
   "id": "e8ff75e3",
   "metadata": {},
   "outputs": [
    {
     "data": {
      "text/plain": [
       "LinearRegression()"
      ]
     },
     "execution_count": 11,
     "metadata": {},
     "output_type": "execute_result"
    }
   ],
   "source": [
    "# Initiate the model\n",
    "lm_2 = LinearRegression()\n",
    "\n",
    "# Fit the model\n",
    "lm_2.fit(\n",
    "    X=df[[\"petal.width\", \"d_versicolor\", \"d_virginica\"]],\n",
    "    y=df[\"sepal.width\"],\n",
    ")"
   ]
  },
  {
   "cell_type": "code",
   "execution_count": 12,
   "id": "5a773dee",
   "metadata": {},
   "outputs": [
    {
     "name": "stdout",
     "output_type": "stream",
     "text": [
      "Coefficient for petal.width: 0.781015495565735\n",
      "Coefficient for d_versicolor: -1.5014967352109916\n",
      "Coefficient for d_virginica: -1.8442075821070065\n"
     ]
    }
   ],
   "source": [
    "# NBVAL_IGNORE_OUTPUT\n",
    "\n",
    "# Check result\n",
    "print(f\"Coefficient for petal.width: {lm_2.coef_[0]}\")\n",
    "print(f\"Coefficient for d_versicolor: {lm_2.coef_[1]}\")\n",
    "print(f\"Coefficient for d_virginica: {lm_2.coef_[2]}\")"
   ]
  },
  {
   "cell_type": "markdown",
   "id": "70482529",
   "metadata": {},
   "source": [
    "Interestingly, we now get a positive coefficient value for petal width! That is, controlling for the iris type, a petal width has a positive association with sepal width. What we observed earlier is a spurious association due to the confounding effect of species.\n",
    "\n",
    "Let's revisit the scatter plot noting each species:"
   ]
  },
  {
   "cell_type": "code",
   "execution_count": 13,
   "id": "d4007b3e",
   "metadata": {},
   "outputs": [
    {
     "data": {
      "image/png": "[encoded data removed]",
      "text/plain": [
       "<Figure size 432x288 with 1 Axes>"
      ]
     },
     "metadata": {
      "needs_background": "light"
     },
     "output_type": "display_data"
    }
   ],
   "source": [
    "# Map each species to a color\n",
    "color_map = {\"Setosa\": \"green\", \"Versicolor\": \"blue\", \"Virginica\": \"red\"}\n",
    "df[\"variety_color\"] = df[\"variety\"].map(color_map)\n",
    "\n",
    "# Plot petal vs. sepal width by species\n",
    "df.plot.scatter(\"petal.width\", \"sepal.width\", c=\"variety_color\")\n",
    "plt.show()"
   ]
  },
  {
   "cell_type": "markdown",
   "id": "a9256b52",
   "metadata": {},
   "source": [
    "We visually confirm that, within each species, petal and sepal widths have a positive association."
   ]
  },
  {
   "cell_type": "markdown",
   "id": "3d97c512",
   "metadata": {},
   "source": [
    "Let's take a step further: given what appears to be an ambiguous association for Setosa in the plot above, we may wonder if species also mediates the association itself. That is, is it possible that the association between petal and sepal widths differs by species? To examine this possibility, we can introduce interaction terms."
   ]
  },
  {
   "cell_type": "code",
   "execution_count": 14,
   "id": "f4157a8d",
   "metadata": {},
   "outputs": [],
   "source": [
    "# Create interaction terms for species\n",
    "df[\"i_versicolor\"] = df[\"petal.width\"] * df[\"d_versicolor\"]\n",
    "df[\"i_virginica\"] = df[\"petal.width\"] * df[\"d_virginica\"]"
   ]
  },
  {
   "cell_type": "code",
   "execution_count": 15,
   "id": "c6457445",
   "metadata": {},
   "outputs": [
    {
     "data": {
      "text/plain": [
       "LinearRegression()"
      ]
     },
     "execution_count": 15,
     "metadata": {},
     "output_type": "execute_result"
    }
   ],
   "source": [
    "# Initiate the model\n",
    "lm_3 = LinearRegression()\n",
    "\n",
    "# Fit the model\n",
    "lm_3.fit(\n",
    "    X=df[[\"petal.width\", \"d_versicolor\", \"d_virginica\", \"i_versicolor\", \"i_virginica\"]],\n",
    "    y=df[\"sepal.width\"],\n",
    ")"
   ]
  },
  {
   "cell_type": "code",
   "execution_count": 16,
   "id": "9c65f7e6",
   "metadata": {},
   "outputs": [
    {
     "name": "stdout",
     "output_type": "stream",
     "text": [
      "Coefficient for petal.width: 0.8371922087467842\n",
      "Coefficient for d_versicolor: -1.849187758710705\n",
      "Coefficient for d_virginica: -1.5272777065297922\n",
      "Coefficient for i_versicolor: 0.21645563594583703\n",
      "Coefficient for i_virginica: -0.20578698175690244\n"
     ]
    }
   ],
   "source": [
    "# NBVAL_IGNORE_OUTPUT\n",
    "\n",
    "# Check result\n",
    "print(f\"Coefficient for petal.width: {lm_3.coef_[0]}\")\n",
    "print(f\"Coefficient for d_versicolor: {lm_3.coef_[1]}\")\n",
    "print(f\"Coefficient for d_virginica: {lm_3.coef_[2]}\")\n",
    "print(f\"Coefficient for i_versicolor: {lm_3.coef_[3]}\")\n",
    "print(f\"Coefficient for i_virginica: {lm_3.coef_[4]}\")"
   ]
  },
  {
   "cell_type": "markdown",
   "id": "e05f9c3e",
   "metadata": {},
   "source": [
    "The model still suggests a positive association between petal and sepal widths *accounting for interaction effect of species*."
   ]
  },
  {
   "cell_type": "markdown",
   "id": "ec20f22f",
   "metadata": {},
   "source": [
    "Now, we are ready to wrap up our analysis. Say we decided that we would later revisit our second model (`lm_2`). We can then store it as an artifact, like so:"
   ]
  },
  {
   "cell_type": "code",
   "execution_count": 17,
   "id": "0fbcdddc",
   "metadata": {},
   "outputs": [],
   "source": [
    "# Save model as an artifact\n",
    "artifact = lineapy.save(lm_2, \"linear_model_v2\")"
   ]
  },
  {
   "cell_type": "markdown",
   "id": "8db1f046",
   "metadata": {},
   "source": [
    "If we print the artifact’s code, we get:"
   ]
  },
  {
   "cell_type": "code",
   "execution_count": 18,
   "id": "9efc7b30",
   "metadata": {},
   "outputs": [
    {
     "name": "stdout",
     "output_type": "stream",
     "text": [
      "import pandas as pd\n",
      "from sklearn.linear_model import LinearRegression\n",
      "\n",
      "df = pd.read_csv(\n",
      "    \"https://raw.githubusercontent.com/LineaLabs/lineapy/main/examples/tutorials/data/iris.csv\"\n",
      ")\n",
      "df[\"d_versicolor\"] = df[\"variety\"].apply(lambda x: 1 if x == \"Versicolor\" else 0)\n",
      "df[\"d_virginica\"] = df[\"variety\"].apply(lambda x: 1 if x == \"Virginica\" else 0)\n",
      "lm_2 = LinearRegression()\n",
      "lm_2.fit(\n",
      "    X=df[[\"petal.width\", \"d_versicolor\", \"d_virginica\"]],\n",
      "    y=df[\"sepal.width\"],\n",
      ")\n",
      "\n"
     ]
    }
   ],
   "source": [
    "# Get cleaned-up code\n",
    "print(artifact.get_code())"
   ]
  },
  {
   "cell_type": "markdown",
   "id": "f680fe4a",
   "metadata": {},
   "source": [
    "which is more concise and manageable than what we have generated &mdash; a long, messy collection of various operations.\n",
    "\n",
    "In practice, development scripts/notebooks by data scientists are much longer and more complicated than the current example. Hence, LineaPy's automatic code refactoring can save considerable time for data scientists and production engineers."
   ]
  },
  {
   "cell_type": "markdown",
   "id": "f64f72c3",
   "metadata": {},
   "source": [
    "Note that this clean-up does not mean that we lost other parts of the development code. We can still access the artifact's full session code (including comments), like so:"
   ]
  },
  {
   "cell_type": "code",
   "execution_count": 19,
   "id": "8a0474cf",
   "metadata": {},
   "outputs": [
    {
     "name": "stdout",
     "output_type": "stream",
     "text": [
      "# NBVAL_IGNORE_OUTPUT\n",
      "\n",
      "import os\n",
      "import lineapy\n",
      "import pandas as pd\n",
      "import matplotlib.pyplot as plt\n",
      "from sklearn.linear_model import LinearRegression\n",
      "\n",
      "lineapy.options.set(\"is_demo\", True)\n",
      "# NBVAL_IGNORE_OUTPUT\n",
      "\n",
      "# Load data\n",
      "df = pd.read_csv(\"https://raw.githubusercontent.com/LineaLabs/lineapy/main/examples/tutorials/data/iris.csv\")\n",
      "# View data\n",
      "df\n",
      "# Plot petal vs. sepal width\n",
      "df.plot.scatter(\"petal.width\", \"sepal.width\")\n",
      "plt.show()\n",
      "# Calculate correlation coefficient\n",
      "df[[\"petal.width\", \"sepal.width\"]].corr(method=\"pearson\")\n",
      "# Initiate the model\n",
      "lm_1 = LinearRegression()\n",
      "\n",
      "# Fit the model\n",
      "lm_1.fit(\n",
      "    X=df[[\"petal.width\"]],\n",
      "    y=df[\"sepal.width\"],\n",
      ")\n",
      "# NBVAL_IGNORE_OUTPUT\n",
      "\n",
      "# Check result\n",
      "print(f\"Coefficient for petal.width: {lm_1.coef_[0]}\")\n",
      "# Check species and their counts\n",
      "df[\"variety\"].value_counts()\n",
      "# Create dummy variables encoding species\n",
      "df[\"d_versicolor\"] = df[\"variety\"].apply(lambda x: 1 if x == \"Versicolor\" else 0)\n",
      "df[\"d_virginica\"] = df[\"variety\"].apply(lambda x: 1 if x == \"Virginica\" else 0)\n",
      "# View data\n",
      "df\n",
      "# Initiate the model\n",
      "lm_2 = LinearRegression()\n",
      "\n",
      "# Fit the model\n",
      "lm_2.fit(\n",
      "    X=df[[\"petal.width\", \"d_versicolor\", \"d_virginica\"]],\n",
      "    y=df[\"sepal.width\"],\n",
      ")\n",
      "# NBVAL_IGNORE_OUTPUT\n",
      "\n",
      "# Check result\n",
      "print(f\"Coefficient for petal.width: {lm_2.coef_[0]}\")\n",
      "print(f\"Coefficient for d_versicolor: {lm_2.coef_[1]}\")\n",
      "print(f\"Coefficient for d_virginica: {lm_2.coef_[2]}\")\n",
      "# Map each species to a color\n",
      "color_map = {\"Setosa\": \"green\", \"Versicolor\": \"blue\", \"Virginica\": \"red\"}\n",
      "df[\"variety_color\"] = df[\"variety\"].map(color_map)\n",
      "\n",
      "# Plot petal vs. sepal width by species\n",
      "df.plot.scatter(\"petal.width\", \"sepal.width\", c=\"variety_color\")\n",
      "plt.show()\n",
      "# Create interaction terms for species\n",
      "df[\"i_versicolor\"] = df[\"petal.width\"] * df[\"d_versicolor\"]\n",
      "df[\"i_virginica\"] = df[\"petal.width\"] * df[\"d_virginica\"]\n",
      "# Initiate the model\n",
      "lm_3 = LinearRegression()\n",
      "\n",
      "# Fit the model\n",
      "lm_3.fit(\n",
      "    X=df[[\"petal.width\", \"d_versicolor\", \"d_virginica\", \"i_versicolor\", \"i_virginica\"]],\n",
      "    y=df[\"sepal.width\"],\n",
      ")\n",
      "# NBVAL_IGNORE_OUTPUT\n",
      "\n",
      "# Check result\n",
      "print(f\"Coefficient for petal.width: {lm_3.coef_[0]}\")\n",
      "print(f\"Coefficient for d_versicolor: {lm_3.coef_[1]}\")\n",
      "print(f\"Coefficient for d_virginica: {lm_3.coef_[2]}\")\n",
      "print(f\"Coefficient for i_versicolor: {lm_3.coef_[3]}\")\n",
      "print(f\"Coefficient for i_virginica: {lm_3.coef_[4]}\")\n",
      "# Save model as an artifact\n",
      "artifact = lineapy.save(lm_2, \"linear_model_v2\")\n",
      "# Get cleaned-up code\n",
      "print(artifact.get_code())\n",
      "# Get full code\n",
      "print(artifact.get_session_code())\n",
      "\n"
     ]
    }
   ],
   "source": [
    "#NBVAL_IGNORE_OUTPUT\n",
    "# Get full code\n",
    "print(artifact.get_session_code())"
   ]
  },
  {
   "cell_type": "markdown",
   "id": "601dc479",
   "metadata": {},
   "source": [
    "This should come in handy when trying to remember or understand the original development context of a given artifact."
   ]
  }
 ],
 "metadata": {
  "kernelspec": {
   "display_name": "Python 3.9.12 ('lineapy39')",
   "language": "python",
   "name": "python3"
  },
  "language_info": {
   "codemirror_mode": {
    "name": "ipython",
    "version": 3
   },
   "file_extension": ".py",
   "mimetype": "text/x-python",
   "name": "python",
   "nbconvert_exporter": "python",
   "pygments_lexer": "ipython3",
   "version": "3.9.12"
  },
  "vscode": {
   "interpreter": {
    "hash": "cacea137424fd3104c427a06c692d13a169698dd1bd116af82859e9688265e62"
   }
  }
 },
 "nbformat": 4,
 "nbformat_minor": 5
}
