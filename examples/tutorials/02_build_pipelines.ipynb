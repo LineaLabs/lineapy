{
 "cells": [
  {
   "cell_type": "markdown",
   "id": "9a2ba397",
   "metadata": {},
   "source": [
    "# Building Pipelines with Artifacts"
   ]
  },
  {
   "cell_type": "markdown",
   "id": "2a6e8898",
   "metadata": {},
   "source": [
    "Data science workflows revolve around building and refining pipelines, i.e. series of processes that transform data into useful information/product (read more about pipelines [here](https://docs.lineapy.org/en/latest/fundamentals/concepts.html#pipeline)).\n",
    "\n",
    "Traditionally, this is often manual and time-consuming work as data scientists (or other engineers) need to clean up messy development code and transform it into deployable scripts for the target system (e.g., Airflow).\n",
    "\n",
    "Having the complete development process stored in artifacts, LineaPy can automate such code transformation, accelerating transition from development to production. In this tutorial, we will walk through an example that illustrates how this can be done. "
   ]
  },
  {
   "cell_type": "markdown",
   "id": "b1920421",
   "metadata": {},
   "source": [
    "**Table of Contents**\n",
    "\n",
    "- Development\n",
    "    - [Day 1: Exploration and Pre-processing](#Day-1:-Exploration-and-Pre-processing)\n",
    "    - [Day 2: Modeling](#Day-2:-Modeling)\n",
    "- Pipeline Building\n",
    "    - [Input Parameters](#Input-Parameters)\n",
    "    - [Output Files](#Output-Files)"
   ]
  },
  {
   "cell_type": "markdown",
   "id": "fddbd301",
   "metadata": {},
   "source": [
    "<div class=\"alert alert-info\">\n",
    "\n",
    "You can ignore `# NBVAL_*` comments in certain cell blocks. They are for passing unit tests only, which we do to make sure the examples are always functional as we update the codebase.\n",
    "\n",
    "</div>"
   ]
  },
  {
   "cell_type": "code",
   "execution_count": 1,
   "id": "9e452476",
   "metadata": {},
   "outputs": [],
   "source": [
    "import os\n",
    "import lineapy\n",
    "import pandas as pd\n",
    "import matplotlib.pyplot as plt\n",
    "from sklearn.linear_model import LinearRegression"
   ]
  },
  {
   "cell_type": "markdown",
   "id": "336c8cf2",
   "metadata": {},
   "source": [
    "## Development"
   ]
  },
  {
   "cell_type": "markdown",
   "id": "330dbdfb",
   "metadata": {},
   "source": [
    "### Day 1: Exploration and Pre-processing"
   ]
  },
  {
   "cell_type": "markdown",
   "id": "a8d95a6b",
   "metadata": {},
   "source": [
    "As part of a public health study, we were given a data set to explore. Let's see what it contains."
   ]
  },
  {
   "cell_type": "code",
   "execution_count": 2,
   "id": "585c2069",
   "metadata": {},
   "outputs": [],
   "source": [
    "# Load data\n",
    "df = pd.read_csv(\"data/biometrics.csv\")"
   ]
  },
  {
   "cell_type": "code",
   "execution_count": 3,
   "id": "f7588545",
   "metadata": {},
   "outputs": [
    {
     "data": {
      "text/html": [
       "<div>\n",
       "<style scoped>\n",
       "    .dataframe tbody tr th:only-of-type {\n",
       "        vertical-align: middle;\n",
       "    }\n",
       "\n",
       "    .dataframe tbody tr th {\n",
       "        vertical-align: top;\n",
       "    }\n",
       "\n",
       "    .dataframe thead th {\n",
       "        text-align: right;\n",
       "    }\n",
       "</style>\n",
       "<table border=\"1\" class=\"dataframe\">\n",
       "  <thead>\n",
       "    <tr style=\"text-align: right;\">\n",
       "      <th></th>\n",
       "      <th>name</th>\n",
       "      <th>gender</th>\n",
       "      <th>height</th>\n",
       "      <th>weight</th>\n",
       "    </tr>\n",
       "  </thead>\n",
       "  <tbody>\n",
       "    <tr>\n",
       "      <th>0</th>\n",
       "      <td>John</td>\n",
       "      <td>M</td>\n",
       "      <td>183</td>\n",
       "      <td>85</td>\n",
       "    </tr>\n",
       "    <tr>\n",
       "      <th>1</th>\n",
       "      <td>Mary</td>\n",
       "      <td>F</td>\n",
       "      <td>175</td>\n",
       "      <td>70</td>\n",
       "    </tr>\n",
       "    <tr>\n",
       "      <th>2</th>\n",
       "      <td>Nick</td>\n",
       "      <td>M</td>\n",
       "      <td>170</td>\n",
       "      <td>63</td>\n",
       "    </tr>\n",
       "    <tr>\n",
       "      <th>3</th>\n",
       "      <td>Stacy</td>\n",
       "      <td>F</td>\n",
       "      <td>162</td>\n",
       "      <td>50</td>\n",
       "    </tr>\n",
       "    <tr>\n",
       "      <th>4</th>\n",
       "      <td>Tom</td>\n",
       "      <td>M</td>\n",
       "      <td>168</td>\n",
       "      <td>75</td>\n",
       "    </tr>\n",
       "    <tr>\n",
       "      <th>5</th>\n",
       "      <td>Ava</td>\n",
       "      <td>F</td>\n",
       "      <td>185</td>\n",
       "      <td>72</td>\n",
       "    </tr>\n",
       "  </tbody>\n",
       "</table>\n",
       "</div>"
      ],
      "text/plain": [
       "    name gender  height  weight\n",
       "0   John      M     183      85\n",
       "1   Mary      F     175      70\n",
       "2   Nick      M     170      63\n",
       "3  Stacy      F     162      50\n",
       "4    Tom      M     168      75\n",
       "5    Ava      F     185      72"
      ]
     },
     "execution_count": 3,
     "metadata": {},
     "output_type": "execute_result"
    }
   ],
   "source": [
    "# View data\n",
    "df"
   ]
  },
  {
   "cell_type": "markdown",
   "id": "a73951f8",
   "metadata": {},
   "source": [
    "It is simple data that has individuals' height and weight information. Our common sense dictates that these two physical traits may have an association. Let’s quickly check."
   ]
  },
  {
   "cell_type": "code",
   "execution_count": 4,
   "id": "20d10cde",
   "metadata": {},
   "outputs": [
    {
     "data": {
      "image/png": "[encoded data removed]",
      "text/plain": [
       "<Figure size 432x288 with 1 Axes>"
      ]
     },
     "metadata": {
      "needs_background": "light"
     },
     "output_type": "display_data"
    }
   ],
   "source": [
    "# Plot weight vs. height\n",
    "df.plot.scatter(\"weight\", \"height\")\n",
    "plt.show()"
   ]
  },
  {
   "cell_type": "markdown",
   "id": "483003fc",
   "metadata": {},
   "source": [
    "The scatter plot suggests a linear relationship between weight and height."
   ]
  },
  {
   "cell_type": "markdown",
   "id": "98459c02",
   "metadata": {},
   "source": [
    "What about gender? Does it have any role?"
   ]
  },
  {
   "cell_type": "code",
   "execution_count": 5,
   "id": "c8685e3a",
   "metadata": {},
   "outputs": [
    {
     "data": {
      "image/png": "[encoded data removed]",
      "text/plain": [
       "<Figure size 720x360 with 2 Axes>"
      ]
     },
     "metadata": {
      "needs_background": "light"
     },
     "output_type": "display_data"
    }
   ],
   "source": [
    "# Plot gender vs. weight\n",
    "fig, ax = plt.subplots(1, 2, figsize=(10, 5))\n",
    "df.boxplot(\"weight\", \"gender\", ax=ax[0])\n",
    "df.boxplot(\"height\", \"gender\", ax=ax[1])\n",
    "plt.show()"
   ]
  },
  {
   "cell_type": "markdown",
   "id": "2c1b38ac",
   "metadata": {},
   "source": [
    "Gender seems to have some relevance to weight: we see males tend to be heavier than females."
   ]
  },
  {
   "cell_type": "markdown",
   "id": "49afef72",
   "metadata": {},
   "source": [
    "Given these results, we might be interested in the relationship between height and weight *controlling for gender*. That is, given the same gender, how is change in height associated with change in weight?"
   ]
  },
  {
   "cell_type": "markdown",
   "id": "432727a0",
   "metadata": {},
   "source": [
    "Say we decided to use a linear model to examine this. Before doing any modeling, we need to pre-process the data. Specifically, `gender` needs to be transformed into a numeric variable so that the model can use it. Let’s code male as `0` and female as `1`."
   ]
  },
  {
   "cell_type": "code",
   "execution_count": 6,
   "id": "27e983d2",
   "metadata": {},
   "outputs": [],
   "source": [
    "# Create a numeric variable encoding gender\n",
    "df[\"gender_numeric\"] = df[\"gender\"].map({\"M\": 0, \"F\": 1})"
   ]
  },
  {
   "cell_type": "code",
   "execution_count": 7,
   "id": "238a914a",
   "metadata": {},
   "outputs": [
    {
     "data": {
      "text/html": [
       "<div>\n",
       "<style scoped>\n",
       "    .dataframe tbody tr th:only-of-type {\n",
       "        vertical-align: middle;\n",
       "    }\n",
       "\n",
       "    .dataframe tbody tr th {\n",
       "        vertical-align: top;\n",
       "    }\n",
       "\n",
       "    .dataframe thead th {\n",
       "        text-align: right;\n",
       "    }\n",
       "</style>\n",
       "<table border=\"1\" class=\"dataframe\">\n",
       "  <thead>\n",
       "    <tr style=\"text-align: right;\">\n",
       "      <th></th>\n",
       "      <th>name</th>\n",
       "      <th>gender</th>\n",
       "      <th>height</th>\n",
       "      <th>weight</th>\n",
       "      <th>gender_numeric</th>\n",
       "    </tr>\n",
       "  </thead>\n",
       "  <tbody>\n",
       "    <tr>\n",
       "      <th>0</th>\n",
       "      <td>John</td>\n",
       "      <td>M</td>\n",
       "      <td>183</td>\n",
       "      <td>85</td>\n",
       "      <td>0</td>\n",
       "    </tr>\n",
       "    <tr>\n",
       "      <th>1</th>\n",
       "      <td>Mary</td>\n",
       "      <td>F</td>\n",
       "      <td>175</td>\n",
       "      <td>70</td>\n",
       "      <td>1</td>\n",
       "    </tr>\n",
       "    <tr>\n",
       "      <th>2</th>\n",
       "      <td>Nick</td>\n",
       "      <td>M</td>\n",
       "      <td>170</td>\n",
       "      <td>63</td>\n",
       "      <td>0</td>\n",
       "    </tr>\n",
       "    <tr>\n",
       "      <th>3</th>\n",
       "      <td>Stacy</td>\n",
       "      <td>F</td>\n",
       "      <td>162</td>\n",
       "      <td>50</td>\n",
       "      <td>1</td>\n",
       "    </tr>\n",
       "    <tr>\n",
       "      <th>4</th>\n",
       "      <td>Tom</td>\n",
       "      <td>M</td>\n",
       "      <td>168</td>\n",
       "      <td>75</td>\n",
       "      <td>0</td>\n",
       "    </tr>\n",
       "    <tr>\n",
       "      <th>5</th>\n",
       "      <td>Ava</td>\n",
       "      <td>F</td>\n",
       "      <td>185</td>\n",
       "      <td>72</td>\n",
       "      <td>1</td>\n",
       "    </tr>\n",
       "  </tbody>\n",
       "</table>\n",
       "</div>"
      ],
      "text/plain": [
       "    name gender  height  weight  gender_numeric\n",
       "0   John      M     183      85               0\n",
       "1   Mary      F     175      70               1\n",
       "2   Nick      M     170      63               0\n",
       "3  Stacy      F     162      50               1\n",
       "4    Tom      M     168      75               0\n",
       "5    Ava      F     185      72               1"
      ]
     },
     "execution_count": 7,
     "metadata": {},
     "output_type": "execute_result"
    }
   ],
   "source": [
    "# View result\n",
    "df"
   ]
  },
  {
   "cell_type": "markdown",
   "id": "8a2eddfc",
   "metadata": {},
   "source": [
    "Let's store the pre-processed data so that it can be used for other explorations."
   ]
  },
  {
   "cell_type": "code",
   "execution_count": 8,
   "id": "4c5ad359",
   "metadata": {},
   "outputs": [
    {
     "data": {
      "text/plain": [
       "LineaArtifact(name='biometrics_preprocessed', _version=1)"
      ]
     },
     "execution_count": 8,
     "metadata": {},
     "output_type": "execute_result"
    }
   ],
   "source": [
    "# NBVAL_IGNORE_OUTPUT\n",
    "\n",
    "# Save side effects as an artifact\n",
    "lineapy.save(df, \"biometrics_preprocessed\")"
   ]
  },
  {
   "cell_type": "markdown",
   "id": "f1c412db",
   "metadata": {},
   "source": [
    "It's already quite late, so let's call it a day and we will work on modeling tomorrow."
   ]
  },
  {
   "cell_type": "markdown",
   "id": "689d4b64",
   "metadata": {},
   "source": [
    "### Day 2: Modeling"
   ]
  },
  {
   "cell_type": "markdown",
   "id": "f41e35e9",
   "metadata": {},
   "source": [
    "It is a new day and we start working on model building &mdash; in a separate script/notebook. Let's load the pre-processed data from the day before."
   ]
  },
  {
   "cell_type": "code",
   "execution_count": 9,
   "id": "eb91c01d",
   "metadata": {},
   "outputs": [],
   "source": [
    "# Retrieve data artifact\n",
    "art_df_processed = lineapy.get(\"biometrics_preprocessed\")"
   ]
  },
  {
   "cell_type": "code",
   "execution_count": 10,
   "id": "9698ccb0",
   "metadata": {},
   "outputs": [],
   "source": [
    "# Get data itself\n",
    "df_processed = art_df_processed.get_value()"
   ]
  },
  {
   "cell_type": "code",
   "execution_count": 11,
   "id": "adf2ef86",
   "metadata": {},
   "outputs": [
    {
     "data": {
      "text/html": [
       "<div>\n",
       "<style scoped>\n",
       "    .dataframe tbody tr th:only-of-type {\n",
       "        vertical-align: middle;\n",
       "    }\n",
       "\n",
       "    .dataframe tbody tr th {\n",
       "        vertical-align: top;\n",
       "    }\n",
       "\n",
       "    .dataframe thead th {\n",
       "        text-align: right;\n",
       "    }\n",
       "</style>\n",
       "<table border=\"1\" class=\"dataframe\">\n",
       "  <thead>\n",
       "    <tr style=\"text-align: right;\">\n",
       "      <th></th>\n",
       "      <th>name</th>\n",
       "      <th>gender</th>\n",
       "      <th>height</th>\n",
       "      <th>weight</th>\n",
       "      <th>gender_numeric</th>\n",
       "    </tr>\n",
       "  </thead>\n",
       "  <tbody>\n",
       "    <tr>\n",
       "      <th>0</th>\n",
       "      <td>John</td>\n",
       "      <td>M</td>\n",
       "      <td>183</td>\n",
       "      <td>85</td>\n",
       "      <td>0</td>\n",
       "    </tr>\n",
       "    <tr>\n",
       "      <th>1</th>\n",
       "      <td>Mary</td>\n",
       "      <td>F</td>\n",
       "      <td>175</td>\n",
       "      <td>70</td>\n",
       "      <td>1</td>\n",
       "    </tr>\n",
       "    <tr>\n",
       "      <th>2</th>\n",
       "      <td>Nick</td>\n",
       "      <td>M</td>\n",
       "      <td>170</td>\n",
       "      <td>63</td>\n",
       "      <td>0</td>\n",
       "    </tr>\n",
       "    <tr>\n",
       "      <th>3</th>\n",
       "      <td>Stacy</td>\n",
       "      <td>F</td>\n",
       "      <td>162</td>\n",
       "      <td>50</td>\n",
       "      <td>1</td>\n",
       "    </tr>\n",
       "    <tr>\n",
       "      <th>4</th>\n",
       "      <td>Tom</td>\n",
       "      <td>M</td>\n",
       "      <td>168</td>\n",
       "      <td>75</td>\n",
       "      <td>0</td>\n",
       "    </tr>\n",
       "    <tr>\n",
       "      <th>5</th>\n",
       "      <td>Ava</td>\n",
       "      <td>F</td>\n",
       "      <td>185</td>\n",
       "      <td>72</td>\n",
       "      <td>1</td>\n",
       "    </tr>\n",
       "  </tbody>\n",
       "</table>\n",
       "</div>"
      ],
      "text/plain": [
       "    name gender  height  weight  gender_numeric\n",
       "0   John      M     183      85               0\n",
       "1   Mary      F     175      70               1\n",
       "2   Nick      M     170      63               0\n",
       "3  Stacy      F     162      50               1\n",
       "4    Tom      M     168      75               0\n",
       "5    Ava      F     185      72               1"
      ]
     },
     "execution_count": 11,
     "metadata": {},
     "output_type": "execute_result"
    }
   ],
   "source": [
    "# View data\n",
    "df_processed"
   ]
  },
  {
   "cell_type": "code",
   "execution_count": 12,
   "id": "d98a6bed",
   "metadata": {},
   "outputs": [],
   "source": [
    "# Initiate the model\n",
    "lm = LinearRegression()"
   ]
  },
  {
   "cell_type": "code",
   "execution_count": 13,
   "id": "539dbbbb",
   "metadata": {},
   "outputs": [
    {
     "data": {
      "text/plain": [
       "LinearRegression()"
      ]
     },
     "execution_count": 13,
     "metadata": {},
     "output_type": "execute_result"
    }
   ],
   "source": [
    "# Fit the model\n",
    "lm.fit(\n",
    "    X=df_processed[[\"height\", \"gender_numeric\"]],\n",
    "    y=df_processed[\"weight\"],\n",
    ")"
   ]
  },
  {
   "cell_type": "code",
   "execution_count": 14,
   "id": "56e2a28d",
   "metadata": {},
   "outputs": [
    {
     "name": "stdout",
     "output_type": "stream",
     "text": [
      "Coefficient for height: 1.0016722408026753\n",
      "Coefficient for gender: -10.667224080267554\n"
     ]
    }
   ],
   "source": [
    "# NBVAL_IGNORE_OUTPUT\n",
    "\n",
    "# Check result\n",
    "print(f\"Coefficient for height: {lm.coef_[0]}\")\n",
    "print(f\"Coefficient for gender: {lm.coef_[1]}\")"
   ]
  },
  {
   "cell_type": "markdown",
   "id": "a13914fd",
   "metadata": {},
   "source": [
    "Result suggests that, controlling for gender, a unit increase in height is associated with about a unit increase in weight. Interestingly, we also see the gender difference in weight quantified: controlling for height, females tend to be about 10 units lighter than males."
   ]
  },
  {
   "cell_type": "markdown",
   "id": "0534d89d",
   "metadata": {},
   "source": [
    "Now, we save the model so we can discuss it with other colleagues later this week."
   ]
  },
  {
   "cell_type": "code",
   "execution_count": 15,
   "id": "5eabc66d",
   "metadata": {},
   "outputs": [
    {
     "data": {
      "text/plain": [
       "LineaArtifact(name='linear_model', _version=1)"
      ]
     },
     "execution_count": 15,
     "metadata": {},
     "output_type": "execute_result"
    }
   ],
   "source": [
    "# NBVAL_IGNORE_OUTPUT\n",
    "\n",
    "# Save the fitted model as an artifact\n",
    "lineapy.save(lm, \"linear_model\")"
   ]
  },
  {
   "cell_type": "markdown",
   "id": "0fd5352d",
   "metadata": {},
   "source": [
    "## Pipeline Building"
   ]
  },
  {
   "cell_type": "markdown",
   "id": "981d48f6",
   "metadata": {},
   "source": [
    "We shared our model results with the rest of the team and got the feedback that the gender coefficient might be an interesting feature to use for the other project on modeling gender differences. So, we got asked to make this variable readily available as well as updated on a regular basis to account for the new data. Now, we need to set up a pipeline to calculate the gender coefficient."
   ]
  },
  {
   "cell_type": "markdown",
   "id": "3c3a8dcd",
   "metadata": {},
   "source": [
    "We first save the variable of interest as an artifact to store its development history or *lineage*."
   ]
  },
  {
   "cell_type": "code",
   "execution_count": 16,
   "id": "b4eaae6a",
   "metadata": {},
   "outputs": [],
   "source": [
    "# Retrieve model artifact\n",
    "mod_artifact = lineapy.get(\"linear_model\")"
   ]
  },
  {
   "cell_type": "code",
   "execution_count": 17,
   "id": "97ce25e4",
   "metadata": {},
   "outputs": [],
   "source": [
    "# Get model itself\n",
    "mod = mod_artifact.get_value()"
   ]
  },
  {
   "cell_type": "code",
   "execution_count": 18,
   "id": "0db20a0c",
   "metadata": {},
   "outputs": [
    {
     "data": {
      "text/plain": [
       "LineaArtifact(name='gender_diff_weight', _version=1)"
      ]
     },
     "execution_count": 18,
     "metadata": {},
     "output_type": "execute_result"
    }
   ],
   "source": [
    "# NBVAL_IGNORE_OUTPUT\n",
    "\n",
    "# Save gender coefficient as an artifact\n",
    "gender_coef = mod.coef_[1]\n",
    "lineapy.save(gender_coef, \"gender_diff_weight\")"
   ]
  },
  {
   "cell_type": "markdown",
   "id": "ecd4498d",
   "metadata": {},
   "source": [
    "Now that we have the complete development history stored in artifacts, we are ready to use them to quickly build a pipeline. Our pipeline consists of three processing “nodes”:\n",
    "\n",
    "1. Data pre-processing that produces a transformed CSV\n",
    "2. Model fitting based on the transformed CSV\n",
    "3. Extraction of the desired coefficient from the model\n",
    "\n",
    "And we load artifacts corresponding to these nodes:"
   ]
  },
  {
   "cell_type": "code",
   "execution_count": 19,
   "id": "36db1c3b",
   "metadata": {},
   "outputs": [],
   "source": [
    "# Load artifacts to use in pipeline building\n",
    "preprocessing_art = lineapy.get(\"biometrics_preprocessed\")\n",
    "modeling_art = lineapy.get(\"linear_model\")\n",
    "extraction_art = lineapy.get(\"gender_diff_weight\")"
   ]
  },
  {
   "cell_type": "markdown",
   "id": "86cc93c3",
   "metadata": {},
   "source": [
    "### Input Parameters"
   ]
  },
  {
   "cell_type": "markdown",
   "id": "f28fb7cd",
   "metadata": {},
   "source": [
    "We now “stitch” these artifacts to form a pipeline, like so:"
   ]
  },
  {
   "cell_type": "code",
   "execution_count": 20,
   "id": "8d7e14ec",
   "metadata": {},
   "outputs": [
    {
     "data": {
      "text/html": [
       "<pre style=\"white-space:pre;overflow-x:auto;line-height:normal;font-family:Menlo,'DejaVu Sans Mono',consolas,'Courier New',monospace\">Pipeline source generated in the directory: output/03_build_pipelines/demo_airflow_pipeline  \n",
       "</pre>\n"
      ],
      "text/plain": [
       "Pipeline source generated in the directory: output/03_build_pipelines/demo_airflow_pipeline  \n"
      ]
     },
     "metadata": {},
     "output_type": "display_data"
    },
    {
     "data": {
      "text/html": [
       "<pre style=\"white-space:pre;overflow-x:auto;line-height:normal;font-family:Menlo,'DejaVu Sans Mono',consolas,'Courier New',monospace\">Generated python module demo_airflow_pipeline.py                                             \n",
       "</pre>\n"
      ],
      "text/plain": [
       "Generated python module demo_airflow_pipeline.py                                             \n"
      ]
     },
     "metadata": {},
     "output_type": "display_data"
    },
    {
     "data": {
      "text/html": [
       "<pre style=\"white-space:pre;overflow-x:auto;line-height:normal;font-family:Menlo,'DejaVu Sans Mono',consolas,'Courier New',monospace\">Generated Dockerfile demo_airflow_pipeline_Dockerfile                                        \n",
       "</pre>\n"
      ],
      "text/plain": [
       "Generated Dockerfile demo_airflow_pipeline_Dockerfile                                        \n"
      ]
     },
     "metadata": {},
     "output_type": "display_data"
    },
    {
     "data": {
      "text/html": [
       "<pre style=\"white-space:pre;overflow-x:auto;line-height:normal;font-family:Menlo,'DejaVu Sans Mono',consolas,'Courier New',monospace\">Generated requirements file demo_airflow_pipeline_requirements.txt                           \n",
       "</pre>\n"
      ],
      "text/plain": [
       "Generated requirements file demo_airflow_pipeline_requirements.txt                           \n"
      ]
     },
     "metadata": {},
     "output_type": "display_data"
    },
    {
     "data": {
      "text/html": [
       "<pre style=\"white-space:pre;overflow-x:auto;line-height:normal;font-family:Menlo,'DejaVu Sans Mono',consolas,'Courier New',monospace\">Added Airflow DAG named demo_airflow_pipeline_dag. Start a run from the Airflow UI or CLI.   \n",
       "</pre>\n"
      ],
      "text/plain": [
       "Added Airflow DAG named demo_airflow_pipeline_dag. Start a run from the Airflow UI or CLI.   \n"
      ]
     },
     "metadata": {},
     "output_type": "display_data"
    },
    {
     "data": {
      "text/plain": [
       "PosixPath('output/03_build_pipelines/demo_airflow_pipeline')"
      ]
     },
     "execution_count": 20,
     "metadata": {},
     "output_type": "execute_result"
    }
   ],
   "source": [
    "# NBVAL_IGNORE_OUTPUT\n",
    "\n",
    "# Build an Airflow pipeline using artifacts\n",
    "lineapy.to_pipeline(\n",
    "    artifacts=[\n",
    "        extraction_art.name,\n",
    "        modeling_art.name,\n",
    "        preprocessing_art.name,\n",
    "    ],\n",
    "    pipeline_name=\"demo_airflow_pipeline\",\n",
    "    dependencies={\n",
    "        extraction_art.name: { modeling_art.name },\n",
    "        modeling_art.name: { preprocessing_art.name},\n",
    "    },\n",
    "    output_dir=\"output/03_build_pipelines/demo_airflow_pipeline/\",\n",
    "    framework=\"AIRFLOW\",\n",
    ")"
   ]
  },
  {
   "cell_type": "markdown",
   "id": "617c871b",
   "metadata": {},
   "source": [
    "where\n",
    "\n",
    "- `artifacts` is the list of artifact names to be used for the pipeline\n",
    "- `pipeline_name` is the name of the pipeline\n",
    "- `dependencies` is the dependency graph among artifacts\n",
    "    - If artifact A depends on artifacts B and C, then the graph is specified as `{ A: { B, C } }`\n",
    "    - If A depends on B and B depends on C, then the graph is specified as `{ A: { B }, B: { C } }`\n",
    "- `output_dir` is the location to put the files for running the pipeline\n",
    "- `framework` is the name of orchestration framework to use\n",
    "    - LineaPy currently supports `\"AIRFLOW\"` and `\"SCRIPT\"`\n",
    "    - If `\"AIRFLOW\"`, it will generate files that can run Airflow DAGs\n",
    "    - If `\"SCRIPT\"`, it will generate files that can run the pipeline as a Python script"
   ]
  },
  {
   "cell_type": "markdown",
   "id": "a24fa6e4",
   "metadata": {},
   "source": [
    "### Output Files"
   ]
  },
  {
   "cell_type": "markdown",
   "id": "42be9cdd",
   "metadata": {},
   "source": [
    "We see the pipeline building resulting in the following files:"
   ]
  },
  {
   "cell_type": "code",
   "execution_count": 21,
   "id": "12833bdc",
   "metadata": {},
   "outputs": [
    {
     "data": {
      "text/plain": [
       "['demo_airflow_pipeline.py',\n",
       " 'demo_airflow_pipeline_dag.py',\n",
       " 'demo_airflow_pipeline_Dockerfile',\n",
       " 'demo_airflow_pipeline_requirements.txt']"
      ]
     },
     "execution_count": 21,
     "metadata": {},
     "output_type": "execute_result"
    }
   ],
   "source": [
    "# NBVAL_IGNORE_OUTPUT\n",
    "\n",
    "# Check the generated files for running the pipeline\n",
    "os.listdir(\"output/03_build_pipelines/demo_airflow_pipeline/\")"
   ]
  },
  {
   "cell_type": "markdown",
   "id": "aa589107",
   "metadata": {},
   "source": [
    "where\n",
    "\n",
    "- `[PIPELINE-NAME].py` contains the artifact code packaged as a function module\n",
    "- `[PIPELINE-NAME]_dag.py` uses the packaged function(s) to define the pipeline\n",
    "- `[PIPELINE-NAME]_requirements.txt` lists any package dependencies for running the pipeline\n",
    "- `[PIPELINE-NAME]_Dockerfile` contains commands to set up the environment to run the pipeline"
   ]
  },
  {
   "cell_type": "markdown",
   "id": "a4301398",
   "metadata": {},
   "source": [
    "Specifically, in the current case, we have `demo_airflow_pipeline.py` looking as follows:"
   ]
  },
  {
   "cell_type": "markdown",
   "id": "812952a8",
   "metadata": {},
   "source": [
    "```python\n",
    "# %load output/03_build_pipelines/demo_airflow_pipeline/demo_airflow_pipeline.py\n",
    "import lineapy\n",
    "import pandas as pd\n",
    "from sklearn.linear_model import LinearRegression\n",
    "\n",
    "\n",
    "def gender_diff_weight():\n",
    "    mod_artifact = lineapy.get(\"linear_model\")\n",
    "    mod = mod_artifact.get_value()\n",
    "    gender_coef = mod.coef_[1]\n",
    "    lineapy.save(gender_coef, \"gender_diff_weight\")\n",
    "\n",
    "\n",
    "def linear_model():\n",
    "    art_df_processed = lineapy.get(\"biometrics_preprocessed\")\n",
    "    df_processed = art_df_processed.get_value()\n",
    "    lm = LinearRegression()\n",
    "    lm.fit(\n",
    "        X=df_processed[[\"height\", \"gender_numeric\"]],\n",
    "        y=df_processed[\"weight\"],\n",
    "    )\n",
    "    lineapy.save(lm, \"linear_model\")\n",
    "\n",
    "\n",
    "def biometrics_preprocessed():\n",
    "    df = pd.read_csv(\"data/biometrics.csv\")\n",
    "    df[\"gender_numeric\"] = df[\"gender\"].map({\"M\": 0, \"F\": 1})\n",
    "    lineapy.save(df, \"biometrics_preprocessed\")\n",
    "```"
   ]
  },
  {
   "cell_type": "markdown",
   "id": "2674cf96",
   "metadata": {},
   "source": [
    "We can see that LineaPy used artifacts to automatically 1) slice their code to retain only essential operations and 2) package the sliced code into importable functions."
   ]
  },
  {
   "cell_type": "markdown",
   "id": "7bd176a3",
   "metadata": {},
   "source": [
    "And we see `demo_airflow_pipeline_dag.py` automatically composing an Airflow DAG with these functions:"
   ]
  },
  {
   "cell_type": "markdown",
   "id": "687e8446",
   "metadata": {},
   "source": [
    "```python\n",
    "# %load output/03_build_pipelines/demo_airflow_pipeline/demo_airflow_pipeline_dag.py\n",
    "import os\n",
    "\n",
    "import demo_airflow_pipeline\n",
    "from airflow import DAG\n",
    "from airflow.operators.python_operator import PythonOperator\n",
    "from airflow.utils.dates import days_ago\n",
    "\n",
    "default_dag_args = {\"owner\": \"airflow\", \"retries\": 2, \"start_date\": days_ago(1)}\n",
    "\n",
    "dag = DAG(\n",
    "    dag_id=\"demo_airflow_pipeline_dag\",\n",
    "    schedule_interval=\"*/15 * * * *\",\n",
    "    max_active_runs=1,\n",
    "    catchup=False,\n",
    "    default_args=default_dag_args,\n",
    ")\n",
    "\n",
    "\n",
    "gender_diff_weight = PythonOperator(\n",
    "    dag=dag,\n",
    "    task_id=\"gender_diff_weight_task\",\n",
    "    python_callable=demo_airflow_pipeline.gender_diff_weight,\n",
    ")\n",
    "\n",
    "linear_model = PythonOperator(\n",
    "    dag=dag,\n",
    "    task_id=\"linear_model_task\",\n",
    "    python_callable=demo_airflow_pipeline.linear_model,\n",
    ")\n",
    "\n",
    "biometrics_preprocessed = PythonOperator(\n",
    "    dag=dag,\n",
    "    task_id=\"biometrics_preprocessed_task\",\n",
    "    python_callable=demo_airflow_pipeline.biometrics_preprocessed,\n",
    ")\n",
    "\n",
    "\n",
    "linear_model >> gender_diff_weight\n",
    "biometrics_preprocessed >> linear_model\n",
    "```"
   ]
  },
  {
   "cell_type": "markdown",
   "id": "4a246326",
   "metadata": {},
   "source": [
    "Also noteworthy is the automatically generated Dockerfile, which further facilitates our transition to production:"
   ]
  },
  {
   "cell_type": "markdown",
   "id": "12c48d48",
   "metadata": {},
   "source": [
    "```dockerfile\n",
    "# %load output/03_build_pipelines/demo_airflow_pipeline/demo_airflow_pipeline_Dockerfile\n",
    "FROM apache/airflow:latest\n",
    "\n",
    "RUN mkdir /tmp/installers\n",
    "WORKDIR /tmp/installers\n",
    "\n",
    "# copy all the requirements to run the current dag\n",
    "COPY ./demo_airflow_pipeline_requirements.txt ./\n",
    "# install the required libs\n",
    "RUN pip install -r ./demo_airflow_pipeline_requirements.txt\n",
    "\n",
    "WORKDIR /opt/airflow/dags\n",
    "COPY . .\n",
    "\n",
    "WORKDIR /opt/airflow\n",
    "\n",
    "CMD [ \"standalone\" ]\n",
    "```"
   ]
  },
  {
   "cell_type": "markdown",
   "id": "06c83e97",
   "metadata": {},
   "source": [
    "These files, once placed in the location that Airflow expects (usually `dag/` under Airflow’s home directory), should let us immediately execute the pipeline from the UI or CLI."
   ]
  }
 ],
 "metadata": {
  "kernelspec": {
   "display_name": "Python 3 (ipykernel)",
   "language": "python",
   "name": "python3"
  },
  "language_info": {
   "codemirror_mode": {
    "name": "ipython",
    "version": 3
   },
   "file_extension": ".py",
   "mimetype": "text/x-python",
   "name": "python",
   "nbconvert_exporter": "python",
   "pygments_lexer": "ipython3",
   "version": "3.8.9"
  }
 },
 "nbformat": 4,
 "nbformat_minor": 5
}
