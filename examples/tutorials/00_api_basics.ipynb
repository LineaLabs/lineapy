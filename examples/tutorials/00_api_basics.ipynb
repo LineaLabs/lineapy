{
    "cells": [
        {
            "cell_type": "markdown",
            "id": "df259c51-860e-4a7d-9f3c-95ebf6fbb962",
            "metadata": {},
            "source": [
                "# API Basics"
            ]
        },
        {
            "cell_type": "markdown",
            "id": "742aaeee-79cd-4969-a3db-e78089df8338",
            "metadata": {},
            "source": [
                "In this tutorial, we will cover basic functionalities supported by `lineapy` using simple examples."
            ]
        },
        {
            "cell_type": "markdown",
            "id": "8f8a68e9",
            "metadata": {},
            "source": [
                "**Table of Contents**\n",
                "\n",
                "- [Storing an artifact with save()](#Storing-an-artifact-with-save())\n",
                "- [Retrieving an artifact with get()](#Retrieving-an-artifact-with-get())\n",
                "- [Listing artifacts with catalog()](#Listing-artifacts-with-catalog())\n",
                "- [Using artifacts to build pipelines](#Using-artifacts-to-build-pipelines)"
            ]
        },
        {
            "cell_type": "code",
            "execution_count": 1,
            "id": "3b37f98f-ca07-461f-9f76-eaabc4ed85b5",
            "metadata": {},
            "outputs": [],
            "source": [
                "import os\n",
                "import lineapy\n",
                "import pandas as pd"
            ]
        },
        {
            "cell_type": "markdown",
            "id": "7e1eb514-ad0a-48fa-89d1-3adff56b6c64",
            "metadata": {},
            "source": [
                "First, let’s load the toy data to use."
            ]
        },
        {
            "cell_type": "code",
            "execution_count": 2,
            "id": "410e0e61-9135-4067-8fb0-3538757ac9b7",
            "metadata": {},
            "outputs": [],
            "source": [
                "# Create toy data to use\n",
                "df = pd.read_csv(\"data/biometrics.csv\")"
            ]
        },
        {
            "cell_type": "code",
            "execution_count": 3,
            "id": "7cc4e268-e4d4-48e3-8ae2-7f25723be3e2",
            "metadata": {},
            "outputs": [
                {
                    "data": {
                        "text/html": [
                            "<div>\n",
                            "<style scoped>\n",
                            "    .dataframe tbody tr th:only-of-type {\n",
                            "        vertical-align: middle;\n",
                            "    }\n",
                            "\n",
                            "    .dataframe tbody tr th {\n",
                            "        vertical-align: top;\n",
                            "    }\n",
                            "\n",
                            "    .dataframe thead th {\n",
                            "        text-align: right;\n",
                            "    }\n",
                            "</style>\n",
                            "<table border=\"1\" class=\"dataframe\">\n",
                            "  <thead>\n",
                            "    <tr style=\"text-align: right;\">\n",
                            "      <th></th>\n",
                            "      <th>name</th>\n",
                            "      <th>gender</th>\n",
                            "      <th>height</th>\n",
                            "      <th>weight</th>\n",
                            "    </tr>\n",
                            "  </thead>\n",
                            "  <tbody>\n",
                            "    <tr>\n",
                            "      <th>0</th>\n",
                            "      <td>John</td>\n",
                            "      <td>M</td>\n",
                            "      <td>183</td>\n",
                            "      <td>85</td>\n",
                            "    </tr>\n",
                            "    <tr>\n",
                            "      <th>1</th>\n",
                            "      <td>Mary</td>\n",
                            "      <td>F</td>\n",
                            "      <td>175</td>\n",
                            "      <td>70</td>\n",
                            "    </tr>\n",
                            "    <tr>\n",
                            "      <th>2</th>\n",
                            "      <td>Nick</td>\n",
                            "      <td>M</td>\n",
                            "      <td>170</td>\n",
                            "      <td>63</td>\n",
                            "    </tr>\n",
                            "    <tr>\n",
                            "      <th>3</th>\n",
                            "      <td>Stacy</td>\n",
                            "      <td>F</td>\n",
                            "      <td>162</td>\n",
                            "      <td>50</td>\n",
                            "    </tr>\n",
                            "    <tr>\n",
                            "      <th>4</th>\n",
                            "      <td>Tom</td>\n",
                            "      <td>M</td>\n",
                            "      <td>168</td>\n",
                            "      <td>75</td>\n",
                            "    </tr>\n",
                            "    <tr>\n",
                            "      <th>5</th>\n",
                            "      <td>Ava</td>\n",
                            "      <td>F</td>\n",
                            "      <td>185</td>\n",
                            "      <td>72</td>\n",
                            "    </tr>\n",
                            "  </tbody>\n",
                            "</table>\n",
                            "</div>"
                        ],
                        "text/plain": [
                            "    name gender  height  weight\n",
                            "0   John      M     183      85\n",
                            "1   Mary      F     175      70\n",
                            "2   Nick      M     170      63\n",
                            "3  Stacy      F     162      50\n",
                            "4    Tom      M     168      75\n",
                            "5    Ava      F     185      72"
                        ]
                    },
                    "execution_count": 3,
                    "metadata": {},
                    "output_type": "execute_result"
                }
            ],
            "source": [
                "# View data\n",
                "df"
            ]
        },
        {
            "cell_type": "markdown",
            "id": "6064f05a-464f-450c-ab60-848109fda8b8",
            "metadata": {},
            "source": [
                "Now, we might be interested in seeing if the data reflects any gender differences in these physical traits."
            ]
        },
        {
            "cell_type": "code",
            "execution_count": 4,
            "id": "5dde49ae-8f40-44f9-b03f-161fbdf12af5",
            "metadata": {},
            "outputs": [],
            "source": [
                "# Calculate male averages\n",
                "avg_male_height = df.query(\"gender == 'M'\")[\"height\"].mean()\n",
                "avg_male_weight = df.query(\"gender == 'M'\")[\"weight\"].mean()"
            ]
        },
        {
            "cell_type": "code",
            "execution_count": 5,
            "id": "4b86f61f-14d0-43b5-8f08-dfde7d5747d5",
            "metadata": {},
            "outputs": [],
            "source": [
                "# Calculate female averages\n",
                "avg_female_height = df.query(\"gender == 'F'\")[\"height\"].mean()\n",
                "avg_female_weight = df.query(\"gender == 'F'\")[\"weight\"].mean()"
            ]
        },
        {
            "cell_type": "code",
            "execution_count": 6,
            "id": "cffdbaeb-6d91-405f-9613-6fcefda504ab",
            "metadata": {},
            "outputs": [],
            "source": [
                "# Calculate gender differences\n",
                "diff_avg_height = avg_male_height - avg_female_height\n",
                "diff_avg_weight = avg_male_weight - avg_female_weight"
            ]
        },
        {
            "cell_type": "code",
            "execution_count": 7,
            "id": "05473239-4552-4edb-ab9c-58ae8875a2e4",
            "metadata": {},
            "outputs": [
                {
                    "name": "stdout",
                    "output_type": "stream",
                    "text": [
                        "Difference in average height: -0.3333333333333428\n",
                        "Difference in average weight: 10.333333333333329\n"
                    ]
                }
            ],
            "source": [
                "# View result\n",
                "print(\"Difference in average height:\", diff_avg_height)\n",
                "print(\"Difference in average weight:\", diff_avg_weight)"
            ]
        },
        {
            "cell_type": "markdown",
            "id": "123e23a1-68b7-4f62-bddc-1ab8534b8600",
            "metadata": {},
            "source": [
                "From the current data set, we do not observe a significant gender difference in height. On the other hand, we see that males overall have heavier weights than females."
            ]
        },
        {
            "cell_type": "markdown",
            "id": "c9cd1bbc-af3b-44e2-9a33-276781461a79",
            "metadata": {},
            "source": [
                "## Storing an artifact with `save()`"
            ]
        },
        {
            "cell_type": "markdown",
            "id": "f113fb06-f017-4162-93df-ef406b00dced",
            "metadata": {},
            "source": [
                "Let’s say we are particularly interested in tracking the average height difference. For instance, we might want to use this variable later for population-level modeling.\n",
                "\n",
                "The `save()` method allows us to store a variable's value *and* history as a data type called `LineaArtifact`. Note that `LineaArtifact` holds more than the final state of the variable &mdash; it also captures the complete development process behind the variable, which allows for full reproducibility. For more information about artifacts in LineaPy, please check the [Concepts](TODO: ADD LINK) section.\n",
                "\n",
                "The method requires two arguments: the variable to save and the string name to save it as. It returns the saved artifact."
            ]
        },
        {
            "cell_type": "code",
            "execution_count": 8,
            "id": "0cf4a382-6a38-4e3e-8134-ef867a6150f5",
            "metadata": {},
            "outputs": [],
            "source": [
                "# Store a variable as an artifact\n",
                "artifact = lineapy.save(diff_avg_height, \"gender_diff_avg_height\")"
            ]
        },
        {
            "cell_type": "code",
            "execution_count": 9,
            "id": "56a15689-7d6d-4a01-926b-c51f8477c69c",
            "metadata": {},
            "outputs": [
                {
                    "name": "stdout",
                    "output_type": "stream",
                    "text": [
                        "<class 'lineapy.graph_reader.apis.LineaArtifact'>\n"
                    ]
                }
            ],
            "source": [
                "# Check object type\n",
                "print(type(artifact))"
            ]
        },
        {
            "cell_type": "markdown",
            "id": "a5a43371-2fc9-4c37-9d41-e7be828c10b5",
            "metadata": {},
            "source": [
                "`LineaArtifact` object has two major attributes:\n",
                "\n",
                "- `value`: Final state of the artifact\n",
                "- `code`: Minimal essential code to get to the final state of the artifact\n",
                "\n",
                "Hence, for the current artifact, we see:"
            ]
        },
        {
            "cell_type": "code",
            "execution_count": 10,
            "id": "dbb3ebd5-6979-489f-ae28-4fff9165928f",
            "metadata": {},
            "outputs": [
                {
                    "name": "stdout",
                    "output_type": "stream",
                    "text": [
                        "-0.3333333333333428\n"
                    ]
                }
            ],
            "source": [
                "# Check the final state of the artifact\n",
                "print(artifact.value)"
            ]
        },
        {
            "cell_type": "code",
            "execution_count": 11,
            "id": "20204203-363c-46c9-a976-8ac74ffd9e96",
            "metadata": {},
            "outputs": [
                {
                    "name": "stdout",
                    "output_type": "stream",
                    "text": [
                        "import pandas as pd\n",
                        "df = pd.read_csv(\"data/biometrics.csv\")\n",
                        "avg_male_height = df.query(\"gender == 'M'\")[\"height\"].mean()\n",
                        "avg_female_height = df.query(\"gender == 'F'\")[\"height\"].mean()\n",
                        "diff_avg_height = avg_male_height - avg_female_height\n",
                        "\n"
                    ]
                }
            ],
            "source": [
                "# Check minimal essential code to get to the final state of the artifact\n",
                "print(artifact.get_code())"
            ]
        },
        {
            "cell_type": "markdown",
            "id": "9f966d2c",
            "metadata": {},
            "source": [
                "Note that irrelevant code has been stripped out (e.g., operations relating to `diff_avg_weight` only), which is known as “slicing”."
            ]
        },
        {
            "cell_type": "markdown",
            "id": "cfd03dad-14b8-470e-8651-18a6d14fd2f0",
            "metadata": {},
            "source": [
                "## Retrieving an artifact with `get()`"
            ]
        },
        {
            "cell_type": "markdown",
            "id": "fd81dfc3-293e-4cb9-b4f1-109232cb6dc3",
            "metadata": {},
            "source": [
                "We can also retrieve any stored artifact using the `get()` method. This comes in handy when we work across multiple sessions/phases of a project (or even across different projects) as we can easily build on the previous work.\n",
                "\n",
                "For example, say we have done other exploratory analyses and are finally starting our work on population-level modeling. This is likely done in a new Jupyter notebook (possibly in a different subdirectory) and we need an easy way to load artifacts from our past work. We can use the `get()` method for this.\n",
                "\n",
                "The method takes the string name of the artifact as its argument and returns the corresponding artifact, like so:"
            ]
        },
        {
            "cell_type": "code",
            "execution_count": 12,
            "id": "6978f92f-2488-45e4-aebb-707f0113c065",
            "metadata": {},
            "outputs": [],
            "source": [
                "# Retrieve a saved artifact\n",
                "artifact2 = lineapy.get(\"gender_diff_avg_height\")"
            ]
        },
        {
            "cell_type": "markdown",
            "id": "373267cd",
            "metadata": {},
            "source": [
                "Let’s confirm that we loaded the artifact alright:"
            ]
        },
        {
            "cell_type": "code",
            "execution_count": 13,
            "id": "8aadd057-587a-4552-b31e-46cd4e71245c",
            "metadata": {},
            "outputs": [
                {
                    "name": "stdout",
                    "output_type": "stream",
                    "text": [
                        "-0.3333333333333428\n"
                    ]
                }
            ],
            "source": [
                "# Check the final state of the artifact\n",
                "print(artifact2.value)"
            ]
        },
        {
            "cell_type": "code",
            "execution_count": 14,
            "id": "eeab999d-aba2-4853-9c26-a9811c3fcb00",
            "metadata": {},
            "outputs": [
                {
                    "name": "stdout",
                    "output_type": "stream",
                    "text": [
                        "import pandas as pd\n",
                        "df = pd.read_csv(\"data/biometrics.csv\")\n",
                        "avg_male_height = df.query(\"gender == 'M'\")[\"height\"].mean()\n",
                        "avg_female_height = df.query(\"gender == 'F'\")[\"height\"].mean()\n",
                        "diff_avg_height = avg_male_height - avg_female_height\n",
                        "\n"
                    ]
                }
            ],
            "source": [
                "# Check minimal essential code to get to the final state of the artifact\n",
                "print(artifact2.get_code())"
            ]
        },
        {
            "cell_type": "markdown",
            "id": "e6773650-b7ee-476d-8d6b-d5f765e475ea",
            "metadata": {},
            "source": [
                "## Listing artifacts with `catalog()`"
            ]
        },
        {
            "cell_type": "markdown",
            "id": "ec7dfd68-b8d5-4aa8-82ae-5c25f53c6a7a",
            "metadata": {},
            "source": [
                "Of course, with time passing, we will likely not remember what artifacts we saved and under what names. The `catalog()` method allows us to see the list of all previously saved artifacts, like so:"
            ]
        },
        {
            "cell_type": "code",
            "execution_count": 15,
            "id": "abd4ab03-2e9d-4416-bb68-cd2f76894cbc",
            "metadata": {},
            "outputs": [
                {
                    "data": {
                        "text/plain": [
                            "biometrics_df_preprocessed:2022-04-14T09:07:13 created on 2022-04-14 09:07:13.976459\n",
                            "biometrics_preprocessed:2022-04-14T12:54:45 created on 2022-04-14 12:54:45.318541\n",
                            "biometrics_preprocessed:2022-04-14T12:54:59 created on 2022-04-14 12:55:00.001584\n",
                            "biometrics_preprocessed:2022-04-14T13:01:49 created on 2022-04-14 13:01:49.844173\n",
                            "biometrics_df_preprocessed:2022-04-14T13:03:01 created on 2022-04-14 13:03:01.885532\n",
                            "biometrics_preprocessed:2022-04-14T13:05:17 created on 2022-04-14 13:05:17.947993\n",
                            "biometrics_preprocessed:2022-04-14T13:05:49 created on 2022-04-14 13:05:49.589564\n",
                            "biometrics_preprocessed:2022-04-14T13:06:08 created on 2022-04-14 13:06:08.299027\n",
                            "gender_diff_avg_height:2022-04-14T15:26:28 created on 2022-04-14 15:26:28.257525\n",
                            "gender_diff_avg_weight:2022-04-14T15:29:57 created on 2022-04-14 15:29:57.683048\n",
                            "gender_diff_avg_height:2022-04-14T15:41:03 created on 2022-04-14 15:41:03.239228"
                        ]
                    },
                    "execution_count": 15,
                    "metadata": {},
                    "output_type": "execute_result"
                }
            ],
            "source": [
                "# NBVAL_IGNORE_OUTPUT\n",
                "\n",
                "# List all saved artifacts\n",
                "lineapy.catalog()"
            ]
        },
        {
            "cell_type": "markdown",
            "id": "bd2fb41f",
            "metadata": {},
            "source": [
                "which we can reference to decide what artifacts to load to continue our work."
            ]
        },
        {
            "cell_type": "markdown",
            "id": "163679b0",
            "metadata": {},
            "source": [
                "Note that the catalog records each artifact’s creation time, which means that multiple versions can be stored under the same artifact name. To retrieve a particular version of the artifact, we can specify the value of the optional argument `version` (e.g., `\"2022-04-10T20:33:52\"`), like so:"
            ]
        },
        {
            "cell_type": "code",
            "execution_count": 16,
            "id": "79455074",
            "metadata": {},
            "outputs": [],
            "source": [
                "# Get version info of the first artifact saved in current tutorial\n",
                "desired_version = artifact.version"
            ]
        },
        {
            "cell_type": "code",
            "execution_count": 17,
            "id": "47d52b85",
            "metadata": {},
            "outputs": [
                {
                    "name": "stdout",
                    "output_type": "stream",
                    "text": [
                        "2022-04-14T15:41:03\n",
                        "<class 'str'>\n"
                    ]
                }
            ],
            "source": [
                "# NBVAL_IGNORE_OUTPUT\n",
                "\n",
                "# Check the version value\n",
                "print(desired_version)\n",
                "print(type(desired_version))"
            ]
        },
        {
            "cell_type": "code",
            "execution_count": 18,
            "id": "68eed8e6",
            "metadata": {},
            "outputs": [],
            "source": [
                "# Retrieve the same version of the artifact\n",
                "artifact3 = lineapy.get(\"gender_diff_avg_height\", version=desired_version)"
            ]
        },
        {
            "cell_type": "code",
            "execution_count": 19,
            "id": "181b7694",
            "metadata": {},
            "outputs": [
                {
                    "name": "stdout",
                    "output_type": "stream",
                    "text": [
                        "gender_diff_avg_height\n",
                        "2022-04-14T15:41:03\n"
                    ]
                }
            ],
            "source": [
                "# NBVAL_IGNORE_OUTPUT\n",
                "\n",
                "# Confirm the right version has been retrieved\n",
                "print(artifact3.name)\n",
                "print(artifact3.version)"
            ]
        },
        {
            "cell_type": "markdown",
            "id": "e3b4b663",
            "metadata": {},
            "source": [
                "## Using artifacts to build pipelines"
            ]
        },
        {
            "cell_type": "markdown",
            "id": "ead92868",
            "metadata": {},
            "source": [
                "Now consider the case where our source data (i.e. `biometrics.csv`) gets updated. Moreover, the update is not a one-time event; the data is planned to be updated on a regular basis as new participant records arrive.\n",
                "\n",
                "Since the `gender_diff_avg_height` artifact was derived from the `biometrics.csv` data, this means that we need to rerun the artifact’s code lest its value be stale. Given the recurring updates in the source data, we may want to build and schedule a pipeline to automatically rerun the artifact’s code on a regular basis.\n",
                "\n",
                "Having the complete development process captured in an artifact, LineaPy makes it easy for us to to turn the desired artifact into a deployable pipeline. For instance, [Airflow](https://airflow.apache.org/) is a popular tool for pipeline building and management, and we can turn the `gender_diff_avg_height` artifact into a set of files that can be deployed as an Airflow DAG, like so:"
            ]
        },
        {
            "cell_type": "code",
            "execution_count": 20,
            "id": "543636ad",
            "metadata": {},
            "outputs": [],
            "source": [
                "# Retrieve the desired artifact\n",
                "artifact4 = lineapy.get(\"gender_diff_avg_height\")"
            ]
        },
        {
            "cell_type": "code",
            "execution_count": 21,
            "id": "43db234a",
            "metadata": {},
            "outputs": [
                {
                    "data": {
                        "text/html": [
                            "<pre style=\"white-space:pre;overflow-x:auto;line-height:normal;font-family:Menlo,'DejaVu Sans Mono',consolas,'Courier New',monospace\">Pipeline source generated in the directory: output/00_api_basics/demo_pipeline               \n",
                            "</pre>\n"
                        ],
                        "text/plain": [
                            "Pipeline source generated in the directory: output/00_api_basics/demo_pipeline               \n"
                        ]
                    },
                    "metadata": {},
                    "output_type": "display_data"
                },
                {
                    "data": {
                        "text/html": [
                            "<pre style=\"white-space:pre;overflow-x:auto;line-height:normal;font-family:Menlo,'DejaVu Sans Mono',consolas,'Courier New',monospace\">Generated python module demo_pipeline.py                                                     \n",
                            "</pre>\n"
                        ],
                        "text/plain": [
                            "Generated python module demo_pipeline.py                                                     \n"
                        ]
                    },
                    "metadata": {},
                    "output_type": "display_data"
                },
                {
                    "data": {
                        "text/html": [
                            "<pre style=\"white-space:pre;overflow-x:auto;line-height:normal;font-family:Menlo,'DejaVu Sans Mono',consolas,'Courier New',monospace\">Added Airflow DAG named demo_pipeline_dag. Start a run from the Airflow UI or CLI.           \n",
                            "</pre>\n"
                        ],
                        "text/plain": [
                            "Added Airflow DAG named demo_pipeline_dag. Start a run from the Airflow UI or CLI.           \n"
                        ]
                    },
                    "metadata": {},
                    "output_type": "display_data"
                },
                {
                    "data": {
                        "text/html": [
                            "<pre style=\"white-space:pre;overflow-x:auto;line-height:normal;font-family:Menlo,'DejaVu Sans Mono',consolas,'Courier New',monospace\">Generated Dockerfile demo_pipeline_Dockerfile                                                \n",
                            "</pre>\n"
                        ],
                        "text/plain": [
                            "Generated Dockerfile demo_pipeline_Dockerfile                                                \n"
                        ]
                    },
                    "metadata": {},
                    "output_type": "display_data"
                },
                {
                    "data": {
                        "text/html": [
                            "<pre style=\"white-space:pre;overflow-x:auto;line-height:normal;font-family:Menlo,'DejaVu Sans Mono',consolas,'Courier New',monospace\">Generated requirements file demo_pipeline_requirements.txt                                   \n",
                            "</pre>\n"
                        ],
                        "text/plain": [
                            "Generated requirements file demo_pipeline_requirements.txt                                   \n"
                        ]
                    },
                    "metadata": {},
                    "output_type": "display_data"
                },
                {
                    "data": {
                        "text/plain": [
                            "PosixPath('output/00_api_basics/demo_pipeline')"
                        ]
                    },
                    "execution_count": 21,
                    "metadata": {},
                    "output_type": "execute_result"
                }
            ],
            "source": [
                "# NBVAL_IGNORE_OUTPUT\n",
                "\n",
                "# Build an Airflow pipeline using a LineaPy artifact\n",
                "lineapy.to_pipeline(\n",
                "    artifacts=[artifact4.name],\n",
                "    pipeline_name=\"demo_pipeline\",\n",
                "    framework=\"AIRFLOW\",\n",
                "    output_dir=\"output/00_api_basics/demo_pipeline/\",\n",
                ")"
            ]
        },
        {
            "cell_type": "markdown",
            "id": "d8ba315d",
            "metadata": {},
            "source": [
                "where\n",
                "\n",
                "- `artifacts` is the list of artifact names to be used for the pipeline\n",
                "- `pipeline_name` is the name of the pipeline\n",
                "- `output_dir` is the location to put the files for running the pipeline\n",
                "- `framework` is the name of orchestration framework to use (currently supports `SCRIPTS` and `AIRFLOW`)"
            ]
        },
        {
            "cell_type": "markdown",
            "id": "3b9b4d97",
            "metadata": {},
            "source": [
                "And we see the following files have been generated:"
            ]
        },
        {
            "cell_type": "code",
            "execution_count": 22,
            "id": "168dbbe5",
            "metadata": {},
            "outputs": [
                {
                    "data": {
                        "text/plain": [
                            "['demo_pipeline_requirements.txt',\n",
                            " 'demo_pipeline_Dockerfile',\n",
                            " 'demo_pipeline_dag.py',\n",
                            " 'demo_pipeline.py']"
                        ]
                    },
                    "execution_count": 22,
                    "metadata": {},
                    "output_type": "execute_result"
                }
            ],
            "source": [
                "# NBVAL_IGNORE_OUTPUT\n",
                "\n",
                "# Check the generated files for running the pipeline\n",
                "os.listdir(\"output/00_api_basics/demo_pipeline/\")"
            ]
        },
        {
            "cell_type": "markdown",
            "id": "31e7e390",
            "metadata": {},
            "source": [
                "where\n",
                "\n",
                "- `[PIPELINE-NAME].py` contains the artifact’s (sliced) code packaged as a function\n",
                "- `[PIPELINE-NAME]_dag.py` uses the packaged function to define the pipeline\n",
                "- `[PIPELINE-NAME]_requirements.txt` lists dependencies for running the pipeline\n",
                "- `[PIPELINE-NAME]_Dockerfile` contains commands to set up the environment to run the pipeline"
            ]
        },
        {
            "cell_type": "markdown",
            "id": "d9dda73d",
            "metadata": {},
            "source": [
                "These files, once placed in the location that Airflow expects (usually `dag/` under Airflow’s home directory), should let us immediately execute the pipeline from the UI or CLI."
            ]
        },
        {
            "cell_type": "markdown",
            "id": "bcd1b4e9",
            "metadata": {},
            "source": [
                "Note that we can form a pipeline with more than a single artifact. Say we are now also interested in using the average *weight* difference in our population-level modeling. We then want this variable to be traced and updated on a regular basis as well, in which case we can store it as another artifact and build a combined pipeline with both artifacts (i.e. height- and weight-related):"
            ]
        },
        {
            "cell_type": "code",
            "execution_count": 23,
            "id": "4998d02a",
            "metadata": {},
            "outputs": [],
            "source": [
                "# Store weight variable as an artifact too\n",
                "artifact5 = lineapy.save(diff_avg_weight, \"gender_diff_avg_weight\")"
            ]
        },
        {
            "cell_type": "code",
            "execution_count": 24,
            "id": "78c8cade",
            "metadata": {},
            "outputs": [
                {
                    "data": {
                        "text/html": [
                            "<pre style=\"white-space:pre;overflow-x:auto;line-height:normal;font-family:Menlo,'DejaVu Sans Mono',consolas,'Courier New',monospace\">Pipeline source generated in the directory: output/00_api_basics/demo_pipeline2              \n",
                            "</pre>\n"
                        ],
                        "text/plain": [
                            "Pipeline source generated in the directory: output/00_api_basics/demo_pipeline2              \n"
                        ]
                    },
                    "metadata": {},
                    "output_type": "display_data"
                },
                {
                    "data": {
                        "text/html": [
                            "<pre style=\"white-space:pre;overflow-x:auto;line-height:normal;font-family:Menlo,'DejaVu Sans Mono',consolas,'Courier New',monospace\">Generated python module demo_pipeline2.py                                                    \n",
                            "</pre>\n"
                        ],
                        "text/plain": [
                            "Generated python module demo_pipeline2.py                                                    \n"
                        ]
                    },
                    "metadata": {},
                    "output_type": "display_data"
                },
                {
                    "data": {
                        "text/html": [
                            "<pre style=\"white-space:pre;overflow-x:auto;line-height:normal;font-family:Menlo,'DejaVu Sans Mono',consolas,'Courier New',monospace\">Added Airflow DAG named demo_pipeline2_dag. Start a run from the Airflow UI or CLI.          \n",
                            "</pre>\n"
                        ],
                        "text/plain": [
                            "Added Airflow DAG named demo_pipeline2_dag. Start a run from the Airflow UI or CLI.          \n"
                        ]
                    },
                    "metadata": {},
                    "output_type": "display_data"
                },
                {
                    "data": {
                        "text/html": [
                            "<pre style=\"white-space:pre;overflow-x:auto;line-height:normal;font-family:Menlo,'DejaVu Sans Mono',consolas,'Courier New',monospace\">Generated Dockerfile demo_pipeline2_Dockerfile                                               \n",
                            "</pre>\n"
                        ],
                        "text/plain": [
                            "Generated Dockerfile demo_pipeline2_Dockerfile                                               \n"
                        ]
                    },
                    "metadata": {},
                    "output_type": "display_data"
                },
                {
                    "data": {
                        "text/html": [
                            "<pre style=\"white-space:pre;overflow-x:auto;line-height:normal;font-family:Menlo,'DejaVu Sans Mono',consolas,'Courier New',monospace\">Generated requirements file demo_pipeline2_requirements.txt                                  \n",
                            "</pre>\n"
                        ],
                        "text/plain": [
                            "Generated requirements file demo_pipeline2_requirements.txt                                  \n"
                        ]
                    },
                    "metadata": {},
                    "output_type": "display_data"
                },
                {
                    "data": {
                        "text/plain": [
                            "PosixPath('output/00_api_basics/demo_pipeline2')"
                        ]
                    },
                    "execution_count": 24,
                    "metadata": {},
                    "output_type": "execute_result"
                }
            ],
            "source": [
                "# NBVAL_IGNORE_OUTPUT\n",
                "\n",
                "# Build an Airflow pipeline using two LineaPy artifacts\n",
                "lineapy.to_pipeline(\n",
                "    artifacts=[artifact4.name, artifact5.name],\n",
                "    pipeline_name=\"demo_pipeline2\",\n",
                "    framework=\"AIRFLOW\",\n",
                "    output_dir=\"output/00_api_basics/demo_pipeline2/\",\n",
                ")"
            ]
        },
        {
            "cell_type": "code",
            "execution_count": 25,
            "id": "9ba39804",
            "metadata": {},
            "outputs": [
                {
                    "data": {
                        "text/plain": [
                            "['demo_pipeline2_requirements.txt',\n",
                            " 'demo_pipeline2_dag.py',\n",
                            " 'demo_pipeline2.py',\n",
                            " 'demo_pipeline2_Dockerfile']"
                        ]
                    },
                    "execution_count": 25,
                    "metadata": {},
                    "output_type": "execute_result"
                }
            ],
            "source": [
                "# NBVAL_IGNORE_OUTPUT\n",
                "\n",
                "# Check the generated files for running the pipeline\n",
                "os.listdir(\"output/00_api_basics/demo_pipeline2/\")"
            ]
        },
        {
            "cell_type": "markdown",
            "id": "7ca1d69c",
            "metadata": {},
            "source": [
                "For a more detailed illustration of pipeline building, please check [this](https://docs.lineapy.org/en/latest/tutorials/04_build_pipelines.html) tutorial."
            ]
        }
    ],
    "metadata": {
        "kernelspec": {
            "display_name": "Python 3 (ipykernel)",
            "language": "python",
            "name": "python3"
        },
        "language_info": {
            "codemirror_mode": {
                "name": "ipython",
                "version": 3
            },
            "file_extension": ".py",
            "mimetype": "text/x-python",
            "name": "python",
            "nbconvert_exporter": "python",
            "pygments_lexer": "ipython3",
            "version": "3.8.9"
        }
    },
    "nbformat": 4,
    "nbformat_minor": 5
}