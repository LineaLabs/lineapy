{
    "cells": [
        {
            "cell_type": "markdown",
            "id": "7dbd824a",
            "metadata": {},
            "source": [
                "[![Open in Colab](https://colab.research.google.com/assets/colab-badge.svg)](https://bit.ly/3y5IiSq)"
            ]
        },
        {
            "cell_type": "markdown",
            "id": "84709142",
            "metadata": {},
            "source": [
                "# Getting Started with LineaPy"
            ]
        },
        {
            "cell_type": "markdown",
            "id": "d0438c95",
            "metadata": {},
            "source": [
                "Welcome to LineaPy! LineaPy is a Python package for capturing, analyzing, and automating data science workflows. At a high level, LineaPy traces the sequence of code execution to form a comprehensive understanding of the code and its context. This understanding allows LineaPy to provide a set of tools that help data scientists bring their work to production more quickly and easily, with as little as *two lines* of code.\n",
                "\n",
                "In this tutorial, we will look at a simple example using the [Iris dataset](https://en.wikipedia.org/wiki/Iris_flower_data_set) to demonstrate how to use LineaPy to 1) store a variable's history, 2) get its cleaned-up code, and 3) build an executable pipeline for the variable."
            ]
        },
        {
            "cell_type": "markdown",
            "id": "063e2f55",
            "metadata": {},
            "source": [
                "**Table of Contents**\n",
                "\n",
                "- [Installing LineaPy](#installing-lineapy)\n",
                "- [Running LineaPy](#running-lineapy)\n",
                "- [Example](#example)\n",
                "- [Recap](#recap)\n",
                "- [What Next](#what-next)"
            ]
        },
        {
            "cell_type": "markdown",
            "id": "12c5277f",
            "metadata": {},
            "source": [
                "![LineaPy_artifact](https://linea-docs-assets.s3.us-west-1.amazonaws.com/lineapy_overview.png)"
            ]
        },
        {
            "cell_type": "markdown",
            "id": "b6a7f6ad",
            "metadata": {},
            "source": [
                "<div class=\"admonition info\" style=\"background:#F0FAFA\">\n",
                "    <p class=\"admonition-title\"><b>Info</b></p>\n",
                "    <p>\n",
                "        If you encounter issues you cannot resolve, simply ask in our <a href=\"https://join.slack.com/t/lineacommunity/shared_invite/zt-18kizfn3b-1Qu_HDT3ahGudnAwoFAw9Q\">Slack community</a>'s <code>#support</code> channel. We are always happy and ready to help you!\n",
                "    </p>\n",
                "</div>"
            ]
        },
        {
            "cell_type": "markdown",
            "id": "6579be89",
            "metadata": {},
            "source": [
                "<div class=\"admonition note\" style=\"background:#F0F4FA\">\n",
                "    <p class=\"admonition-title\"><b>Note</b></p>\n",
                "    <p>\n",
                "        You can ignore <code># NBVAL_*</code> comments in certain cell blocks. They are for passing unit tests only, which we do to make sure the examples are always functional as we update the codebase.\n",
                "    </p>\n",
                "</div>"
            ]
        },
        {
            "cell_type": "markdown",
            "id": "47002255",
            "metadata": {},
            "source": [
                "## Installing LineaPy"
            ]
        },
        {
            "cell_type": "markdown",
            "id": "1adb817e",
            "metadata": {},
            "source": [
                "To install LineaPy, run `pip install lineapy`, like so (adapted to install from Jupyter, along with other packages for the tutorial):"
            ]
        },
        {
            "cell_type": "code",
            "execution_count": null,
            "id": "4d2525e6",
            "metadata": {},
            "outputs": [],
            "source": [
                "#NBVAL_SKIP\n",
                "!pip -q install lineapy~=0.2 scikit-learn pandas matplotlib"
            ]
        },
        {
            "cell_type": "markdown",
            "id": "56d35928",
            "metadata": {},
            "source": [
                "<div class=\"admonition info\" style=\"background:#F0FAFA\">\n",
                "    <p class=\"admonition-title\"><b>Info</b></p>\n",
                "    <p>\n",
                "        For more information about installation, check this <a href=\"https://docs.lineapy.org/latest/guides/setup/\">page</a> in the project documentation.\n",
                "    </p>\n",
                "</div>"
            ]
        },
        {
            "cell_type": "markdown",
            "id": "790e77f2",
            "metadata": {},
            "source": [
                "## Running LineaPy"
            ]
        },
        {
            "cell_type": "markdown",
            "id": "80d54c85",
            "metadata": {},
            "source": [
                "To use LineaPy in an interactive computing environment such as Jupyter Notebook/Lab or IPython, load its extension by executing `%load_ext lineapy` at the top of your session, like so:"
            ]
        },
        {
            "cell_type": "code",
            "execution_count": null,
            "id": "4750135e",
            "metadata": {},
            "outputs": [],
            "source": [
                "#NBVAL_SKIP\n",
                "%load_ext lineapy"
            ]
        },
        {
            "cell_type": "markdown",
            "id": "28619cf8",
            "metadata": {},
            "source": [
                "Please note:\n",
                "\n",
                "- You must run this as the first command in a given session. Executing it in the middle of a session will lead to erroneous behaviors by LineaPy.\n",
                "\n",
                "- This command loads the extension for the current session only. It does not carry over to different sessions, so you will need to repeat it for each new session."
            ]
        },
        {
            "cell_type": "markdown",
            "id": "02d07bd0",
            "metadata": {},
            "source": [
                "<div class=\"admonition info\" style=\"background:#F0FAFA\">\n",
                "    <p class=\"admonition-title\"><b>Info</b></p>\n",
                "    <p>\n",
                "        For information about running LineaPy in different interfaces, check this <a href=\"https://docs.lineapy.org/latest/guides/setup/#running-lineapy\">page</a> in the project documentation.\n",
                "    </p>\n",
                "</div>"
            ]
        },
        {
            "cell_type": "markdown",
            "id": "3487c612",
            "metadata": {},
            "source": [
                "## Example"
            ]
        },
        {
            "cell_type": "markdown",
            "id": "77c2bf7b",
            "metadata": {},
            "source": [
                "The following development code fits a linear regression model to the Iris dataset:"
            ]
        },
        {
            "cell_type": "code",
            "execution_count": 1,
            "id": "987a7811",
            "metadata": {},
            "outputs": [
                {
                    "data": {
                        "image/png": "[encoded data removed]",
                        "text/plain": [
                            "<Figure size 432x288 with 1 Axes>"
                        ]
                    },
                    "metadata": {
                        "needs_background": "light"
                    },
                    "output_type": "display_data"
                },
                {
                    "data": {
                        "text/plain": [
                            "LinearRegression()"
                        ]
                    },
                    "execution_count": 1,
                    "metadata": {},
                    "output_type": "execute_result"
                }
            ],
            "source": [
                "# NBVAL_IGNORE_OUTPUT\n",
                "\n",
                "import lineapy\n",
                "import pandas as pd\n",
                "import matplotlib.pyplot as plt\n",
                "from sklearn.linear_model import LinearRegression\n",
                "\n",
                "# Load data\n",
                "url = \"https://raw.githubusercontent.com/LineaLabs/lineapy/main/examples/tutorials/data/iris.csv\"\n",
                "df = pd.read_csv(url)\n",
                "\n",
                "# Map each species to a color\n",
                "color_map = {\"Setosa\": \"green\", \"Versicolor\": \"blue\", \"Virginica\": \"red\"}\n",
                "df[\"variety_color\"] = df[\"variety\"].map(color_map)\n",
                "\n",
                "# Plot petal vs. sepal width by species\n",
                "df.plot.scatter(\"petal.width\", \"sepal.width\", c=\"variety_color\")\n",
                "plt.show()\n",
                "\n",
                "# Create dummy variables encoding species\n",
                "df[\"d_versicolor\"] = df[\"variety\"].apply(lambda x: 1 if x == \"Versicolor\" else 0)\n",
                "df[\"d_virginica\"] = df[\"variety\"].apply(lambda x: 1 if x == \"Virginica\" else 0)\n",
                "\n",
                "# Initiate the model\n",
                "mod = LinearRegression()\n",
                "\n",
                "# Fit the model\n",
                "mod.fit(\n",
                "    X=df[[\"petal.width\", \"d_versicolor\", \"d_virginica\"]],\n",
                "    y=df[\"sepal.width\"],\n",
                ")"
            ]
        },
        {
            "cell_type": "markdown",
            "id": "58bc93cd",
            "metadata": {},
            "source": [
                "Let's say you're happy with your above code, and you've decided to save the trained model. You can store the model as a LineaPy [artifact](https://docs.lineapy.org/latest/concepts/artifact/) with the following code:"
            ]
        },
        {
            "cell_type": "code",
            "execution_count": 2,
            "id": "c2f51b22",
            "metadata": {},
            "outputs": [
                {
                    "data": {
                        "text/plain": [
                            "LineaArtifact(name='iris_model', _version=0)"
                        ]
                    },
                    "execution_count": 2,
                    "metadata": {},
                    "output_type": "execute_result"
                }
            ],
            "source": [
                "# NBVAL_IGNORE_OUTPUT\n",
                "\n",
                "# Save the model as an artifact\n",
                "lineapy.save(mod, \"iris_model\")"
            ]
        },
        {
            "cell_type": "markdown",
            "id": "c356e9a7",
            "metadata": {},
            "source": [
                "A LineaPy artifact encapsulates both the value *and* code, so you can easily retrieve the model's code, like so:"
            ]
        },
        {
            "cell_type": "code",
            "execution_count": 3,
            "id": "0d1bb67b",
            "metadata": {},
            "outputs": [
                {
                    "name": "stdout",
                    "output_type": "stream",
                    "text": [
                        "import pandas as pd\n",
                        "from sklearn.linear_model import LinearRegression\n",
                        "\n",
                        "url = \"https://raw.githubusercontent.com/LineaLabs/lineapy/main/examples/tutorials/data/iris.csv\"\n",
                        "df = pd.read_csv(url)\n",
                        "color_map = {\"Setosa\": \"green\", \"Versicolor\": \"blue\", \"Virginica\": \"red\"}\n",
                        "df[\"variety_color\"] = df[\"variety\"].map(color_map)\n",
                        "df[\"d_versicolor\"] = df[\"variety\"].apply(lambda x: 1 if x == \"Versicolor\" else 0)\n",
                        "df[\"d_virginica\"] = df[\"variety\"].apply(lambda x: 1 if x == \"Virginica\" else 0)\n",
                        "mod = LinearRegression()\n",
                        "mod.fit(\n",
                        "    X=df[[\"petal.width\", \"d_versicolor\", \"d_virginica\"]],\n",
                        "    y=df[\"sepal.width\"],\n",
                        ")\n",
                        "\n"
                    ]
                }
            ],
            "source": [
                "# Retrieve the model artifact\n",
                "artifact = lineapy.get(\"iris_model\")\n",
                "\n",
                "# Check code for the model artifact\n",
                "print(artifact.get_code())"
            ]
        },
        {
            "cell_type": "markdown",
            "id": "71023a68",
            "metadata": {},
            "source": [
                "Note that these are the minimal essential steps to produce the model. That is, LineaPy has automatically\n",
                "cleaned up the original code by removing extraneous operations that do not affect the model (e.g., plotting)."
            ]
        },
        {
            "cell_type": "markdown",
            "id": "fc22bb9c",
            "metadata": {},
            "source": [
                "<div class=\"admonition info\" style=\"background:#F0FAFA\">\n",
                "    <p class=\"admonition-title\"><b>Info</b></p>\n",
                "    <p>\n",
                "        To learn more about LineaPy artifacts and how to work with them, check this <a href=\"https://docs.lineapy.org/latest/tutorials/01_using_artifacts/\">tutorial</a>.\n",
                "    </p>\n",
                "</div>"
            ]
        },
        {
            "cell_type": "markdown",
            "id": "8d86cd8e",
            "metadata": {},
            "source": [
                "Let's say you're asked to retrain the model on a regular basis to account for any updates in the source data.\n",
                "You need to set up a pipeline to train the model &mdash; LineaPy makes this as simple as a single function call:"
            ]
        },
        {
            "cell_type": "code",
            "execution_count": 4,
            "id": "6e90d638",
            "metadata": {},
            "outputs": [
                {
                    "name": "stderr",
                    "output_type": "stream",
                    "text": [
                        "Generated module file: output/iris_model_pipeline_module.py                                                                                                                                             \n",
                        "Generated requirements file: output/iris_model_pipeline_requirements.txt                                                                                                                                \n",
                        "Generated DAG file: output/iris_model_pipeline_dag.py                                                                                                                                                   \n",
                        "Generated Docker file: output/iris_model_pipeline_Dockerfile                                                                                                                                            \n"
                    ]
                },
                {
                    "data": {
                        "text/plain": [
                            "PosixPath('output')"
                        ]
                    },
                    "execution_count": 4,
                    "metadata": {},
                    "output_type": "execute_result"
                }
            ],
            "source": [
                "# NBVAL_IGNORE_OUTPUT\n",
                "\n",
                "# Build an Airflow pipeline using artifact(s)\n",
                "lineapy.to_pipeline(\n",
                "    artifacts=[\"iris_model\"],\n",
                "    input_parameters=[\"url\"],  # Specify variable(s) to parametrize\n",
                "    pipeline_name=\"iris_model_pipeline\",\n",
                "    output_dir=\"output/\",\n",
                "    framework=\"AIRFLOW\",\n",
                ")"
            ]
        },
        {
            "cell_type": "markdown",
            "id": "ba4c77be",
            "metadata": {},
            "source": [
                "This command generates several files that can be used to execute the pipeline from the UI or CLI:"
            ]
        },
        {
            "cell_type": "code",
            "execution_count": 5,
            "id": "03d7b886",
            "metadata": {},
            "outputs": [
                {
                    "data": {
                        "text/plain": [
                            "['iris_model_pipeline_Dockerfile',\n",
                            " 'iris_model_pipeline_dag.py',\n",
                            " 'iris_model_pipeline_module.py',\n",
                            " 'iris_model_pipeline_requirements.txt']"
                        ]
                    },
                    "execution_count": 5,
                    "metadata": {},
                    "output_type": "execute_result"
                }
            ],
            "source": [
                "# NBVAL_IGNORE_OUTPUT\n",
                "\n",
                "# Check the generated files for running the pipeline\n",
                "import os\n",
                "os.listdir(\"output/\")"
            ]
        },
        {
            "cell_type": "markdown",
            "id": "f2923b6e",
            "metadata": {},
            "source": [
                "In short, LineaPy automates time-consuming, manual steps in a data science workflow, helping us get\n",
                "our work to production more quickly and easily."
            ]
        },
        {
            "cell_type": "markdown",
            "id": "5dd92dd0",
            "metadata": {},
            "source": [
                "<div class=\"admonition info\" style=\"background:#F0FAFA\">\n",
                "    <p class=\"admonition-title\"><b>Info</b></p>\n",
                "    <p>\n",
                "        To learn more about LineaPy's pipeline support, check this <a href=\"https://docs.lineapy.org/latest/tutorials/02_pipeline_building/\">tutorial</a>.\n",
                "    </p>\n",
                "</div>"
            ]
        },
        {
            "cell_type": "markdown",
            "id": "4693a99d",
            "metadata": {},
            "source": [
                "## Recap"
            ]
        },
        {
            "cell_type": "markdown",
            "id": "ac91e5f3",
            "metadata": {},
            "source": [
                "What makes LineaPy special is that it treats an artifact as both code and value. That is, when storing an artifact, LineaPy not only records the state (i.e., value) of the variable but also traces and saves all relevant operations leading to this state &mdash; as code. Such a complete development history or lineage then allows LineaPy to fully reproduce the given artifact. Furthermore, it provides the ground to automate time-consuming, manual steps in a data science workflow such as code cleanup and pipeline building, facilitating transition to production and impact."
            ]
        },
        {
            "cell_type": "markdown",
            "id": "5336785b",
            "metadata": {},
            "source": [
                "## What Next"
            ]
        },
        {
            "cell_type": "markdown",
            "id": "811e1cab",
            "metadata": {},
            "source": [
                "Excited? Continue to learn basic functionalities of LineaPy artifacts in this [tutorial](https://docs.lineapy.org/latest/tutorials/01_using_artifacts/)."
            ]
        }
    ],
    "metadata": {
        "colab": {
            "collapsed_sections": [],
            "name": "00_lineapy_quickstart.ipynb",
            "provenance": []
        },
        "kernelspec": {
            "display_name": "Python 3 (ipykernel)",
            "language": "python",
            "name": "python3"
        },
        "language_info": {
            "codemirror_mode": {
                "name": "ipython",
                "version": 3
            },
            "file_extension": ".py",
            "mimetype": "text/x-python",
            "name": "python",
            "nbconvert_exporter": "python",
            "pygments_lexer": "ipython3",
            "version": "3.10.3"
        }
    },
    "nbformat": 4,
    "nbformat_minor": 5
}