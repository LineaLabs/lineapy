{
 "cells": [
  {
   "cell_type": "markdown",
   "id": "ae88282e",
   "metadata": {},
   "source": [
    "<div class=\"alert alert-info\">\n",
    "\n",
    "If you encounter issues you cannot resolve, simply ask in our [Slack community](https://join.slack.com/t/lineacommunity/shared_invite/zt-18kizfn3b-1Qu_HDT3ahGudnAwoFAw9Q)'s `#support` channel. We are always happy and ready to help you!\n",
    "\n",
    "</div>"
   ]
  },
  {
   "cell_type": "markdown",
   "id": "1430a1cf",
   "metadata": {},
   "source": [
    "<div class=\"alert alert-info\">\n",
    "\n",
    "You can ignore `# NBVAL_*` comments in certain cell blocks. They are for passing unit tests only, which we do to make sure the examples are always functional as we update the codebase.\n",
    "\n",
    "</div>"
   ]
  },
  {
   "cell_type": "code",
   "execution_count": 1,
   "id": "91401518-703c-4bfe-bfc1-add0eca794b5",
   "metadata": {},
   "outputs": [
    {
     "name": "stdout",
     "output_type": "stream",
     "text": [
      "Collecting pyperclip\n",
      "  Using cached pyperclip-1.8.2-py3-none-any.whl\n",
      "Installing collected packages: pyperclip\n",
      "Successfully installed pyperclip-1.8.2\n"
     ]
    }
   ],
   "source": [
    "# NBVAL_SKIP\n",
    "!pip install pyperclip"
   ]
  },
  {
   "cell_type": "code",
   "execution_count": 2,
   "id": "b4e439e0",
   "metadata": {},
   "outputs": [],
   "source": [
    "# NBVAL_SKIP\n",
    "import pyperclip\n",
    "import lineapy\n",
    "lineapy.options.set(\"is_demo\", True)"
   ]
  },
  {
   "cell_type": "code",
   "execution_count": 3,
   "id": "a0673d80-d287-47fb-bc2e-45cb2d4c6629",
   "metadata": {},
   "outputs": [],
   "source": [
    "# NBVAL_SKIP\n",
    "with open(\"lib_annotation_sample.yaml\", \"w\") as f:\n",
    "    f.write(\"\"\"\n",
    "- module: pyperclip\n",
    "  annotations:\n",
    "    - criteria:\n",
    "        function_names:\n",
    "          - copy\n",
    "          - paste\n",
    "      side_effects:\n",
    "        - mutated_value:\n",
    "            self_ref: SELF_REF\n",
    "\n",
    "    \"\"\")\n",
    "    f.flush()\n",
    "    f.close()"
   ]
  },
  {
   "cell_type": "code",
   "execution_count": 4,
   "id": "9c8f1953-1e81-4bcc-bc34-994b424363b9",
   "metadata": {},
   "outputs": [
    {
     "data": {
      "text/plain": [
       "'/Users/sangyoonpark/Projects/Linea/prod/lineapy/examples/tutorials'"
      ]
     },
     "execution_count": 4,
     "metadata": {},
     "output_type": "execute_result"
    }
   ],
   "source": [
    "# NBVAL_SKIP\n",
    "import os\n",
    "os.getcwd()"
   ]
  },
  {
   "cell_type": "code",
   "execution_count": 5,
   "id": "62c5da93-a171-4b4c-9b9b-8cbf108c36c9",
   "metadata": {},
   "outputs": [
    {
     "name": "stdout",
     "output_type": "stream",
     "text": [
      "Module specification: {\r\n",
      "    \"module\": \"pyperclip\",\r\n",
      "    \"annotations\": [\r\n",
      "        {\r\n",
      "            \"criteria\": {\r\n",
      "                \"function_names\": [\r\n",
      "                    \"copy\",\r\n",
      "                    \"paste\"\r\n",
      "                ]\r\n",
      "            },\r\n",
      "            \"side_effects\": [\r\n",
      "                {\r\n",
      "                    \"mutated_value\": {\r\n",
      "                        \"self_ref\": \"SELF_REF\"\r\n",
      "                    }\r\n",
      "                }\r\n",
      "            ]\r\n",
      "        }\r\n",
      "    ]\r\n",
      "}\r\n",
      "\r\n",
      "Creating annotation source lib_annotation_sample at \u001b[35m/Users/sangyoonpark/.lineapy\u001b[0m\r\n",
      "\u001b[35m/custom-annotations/\u001b[0m\u001b[95mlib_annotation_sample.annotations.yaml\u001b[0m                      \r\n",
      "\u001b[0m"
     ]
    }
   ],
   "source": [
    "# NBVAL_SKIP\n",
    "!lineapy annotate add --name \"lib_annotation_sample\" \"./lib_annotation_sample.yaml\"\n",
    "lineapy.reload()"
   ]
  },
  {
   "cell_type": "code",
   "execution_count": 6,
   "id": "acb7efbe-bd55-403c-8a5d-b5e5690ed014",
   "metadata": {},
   "outputs": [
    {
     "name": "stdout",
     "output_type": "stream",
     "text": [
      "lib_annotation_sample\t/Users/sangyoonpark/.lineapy/custom-annotations/lib_annotation_sample.annotations.yaml\r\n",
      "\u001b[0m"
     ]
    }
   ],
   "source": [
    "# NBVAL_SKIP\n",
    "!lineapy annotate list"
   ]
  },
  {
   "cell_type": "code",
   "execution_count": 7,
   "id": "3c45849d-ce52-4590-879e-6c9f3675de3b",
   "metadata": {},
   "outputs": [],
   "source": [
    "# NBVAL_SKIP\n",
    "  \n",
    "pyperclip.copy(\"This wont show up without annotations\")\n",
    "tmp_var = pyperclip.paste()\n",
    "\n",
    "art_annot = lineapy.save(tmp_var, \"annotated_text\")"
   ]
  },
  {
   "cell_type": "code",
   "execution_count": 8,
   "id": "d4d40cd5-a24f-4335-b375-bc2db1003038",
   "metadata": {},
   "outputs": [
    {
     "name": "stdout",
     "output_type": "stream",
     "text": [
      "import pyperclip\n",
      "\n",
      "pyperclip.copy(\"This wont show up without annotations\")\n",
      "tmp_var = pyperclip.paste()\n",
      "\n"
     ]
    }
   ],
   "source": [
    "# NBVAL_SKIP\n",
    "# The output here will NOT display the line pyperclip.copy\n",
    "# New annotations are reloaded at the start of a session. \n",
    "# Try restarting the kernel and rerun to see the updated output.\n",
    "\n",
    "print(art_annot.get_code())"
   ]
  },
  {
   "cell_type": "code",
   "execution_count": 9,
   "id": "af881176-279b-4530-8a00-8d9ee2ad7697",
   "metadata": {},
   "outputs": [
    {
     "name": "stdout",
     "output_type": "stream",
     "text": [
      "Deleted annotation source lib_annotation_sample at \u001b[35m/Users/sangyoonpark/.lineapy/\u001b[0m\r\n",
      "\u001b[35mcustom-annotations/\u001b[0m\u001b[95mlib_annotation_sample.annotations.yaml\u001b[0m                       \r\n",
      "\u001b[0m"
     ]
    }
   ],
   "source": [
    "# NBVAL_SKIP\n",
    "\n",
    "!lineapy annotate delete --name \"lib_annotation_sample\"\n",
    "os.unlink(\"lib_annotation_sample.yaml\")"
   ]
  }
 ],
 "metadata": {
  "kernelspec": {
   "display_name": "Python 3 (ipykernel)",
   "language": "python",
   "name": "python3"
  },
  "language_info": {
   "codemirror_mode": {
    "name": "ipython",
    "version": 3
   },
   "file_extension": ".py",
   "mimetype": "text/x-python",
   "name": "python",
   "nbconvert_exporter": "python",
   "pygments_lexer": "ipython3",
   "version": "3.10.3"
  }
 },
 "nbformat": 4,
 "nbformat_minor": 5
}
