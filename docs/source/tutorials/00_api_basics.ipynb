{
 "cells": [
  {
   "cell_type": "markdown",
   "id": "d9896bdd",
   "metadata": {},
   "source": [
    "<p align=\"center\">\n",
    "    <a href=\"https://colab.research.google.com/drive/1o7SoVlQ-2SxjqKL7A1Dk2TbMx-utJXf2?usp=sharing\"><img src=\"https://colab.research.google.com/assets/colab-badge.svg\" alt=\"Open in Colab\"/></a>\n",
    "</p>"
   ]
  },
  {
   "cell_type": "markdown",
   "id": "df259c51-860e-4a7d-9f3c-95ebf6fbb962",
   "metadata": {
    "id": "df259c51-860e-4a7d-9f3c-95ebf6fbb962"
   },
   "source": [
    "# API Basics"
   ]
  },
  {
   "cell_type": "markdown",
   "id": "742aaeee-79cd-4969-a3db-e78089df8338",
   "metadata": {
    "id": "742aaeee-79cd-4969-a3db-e78089df8338"
   },
   "source": [
    "In this tutorial, we will cover basic functionalities supported by `lineapy` using simple examples."
   ]
  },
  {
   "cell_type": "markdown",
   "id": "8f8a68e9",
   "metadata": {
    "id": "8f8a68e9"
   },
   "source": [
    "**Table of Contents**\n",
    "\n",
    "- [Storing an artifact with save()](#Storing-an-artifact-with-save())\n",
    "- [Listing artifacts with catalog()](#Listing-artifacts-with-catalog())\n",
    "- [Retrieving an artifact with get()](#Retrieving-an-artifact-with-get())\n",
    "- [Using artifacts to build pipelines](#Using-artifacts-to-build-pipelines)"
   ]
  },
  {
   "cell_type": "markdown",
   "id": "8577dbc3",
   "metadata": {},
   "source": [
    "![LineaPy High-Level Overview](../../docs/source/_static/images/overview.png)"
   ]
  },
  {
   "cell_type": "markdown",
   "id": "7eb0f80b",
   "metadata": {},
   "source": [
    "<div class=\"alert alert-info\">\n",
    "\n",
    "You can ignore `# NBVAL_*` comments in certain cell blocks. They are for passing unit tests only, which we do to make sure the examples are always functional as we update the codebase.\n",
    "\n",
    "</div>"
   ]
  },
  {
   "cell_type": "code",
   "execution_count": 1,
   "id": "3b37f98f-ca07-461f-9f76-eaabc4ed85b5",
   "metadata": {
    "colab": {
     "base_uri": "https://localhost:8080/",
     "height": 33
    },
    "id": "3b37f98f-ca07-461f-9f76-eaabc4ed85b5",
    "outputId": "fb6d24b0-1592-4179-b5e8-d14f85b0a28a"
   },
   "outputs": [
    {
     "data": {
      "text/html": [
       "<pre style=\"white-space:pre;overflow-x:auto;line-height:normal;font-family:Menlo,'DejaVu Sans Mono',consolas,'Courier New',monospace\">No .lineapy folder found. Creating a new folder in <span style=\"color: #800080; text-decoration-color: #800080\">/Users/</span><span style=\"color: #ff00ff; text-decoration-color: #ff00ff\">sangyoonpark</span> directory.            \n",
       "</pre>\n"
      ],
      "text/plain": [
       "No .lineapy folder found. Creating a new folder in \u001b[35m/Users/\u001b[0m\u001b[95msangyoonpark\u001b[0m directory.            \n"
      ]
     },
     "metadata": {},
     "output_type": "display_data"
    }
   ],
   "source": [
    "# NBVAL_IGNORE_OUTPUT\n",
    "\n",
    "import os\n",
    "import lineapy\n",
    "import pandas as pd\n",
    "import matplotlib.pyplot as plt"
   ]
  },
  {
   "cell_type": "markdown",
   "id": "cQTeIJjVLE9M",
   "metadata": {
    "id": "cQTeIJjVLE9M"
   },
   "source": [
    "## Exploring data"
   ]
  },
  {
   "cell_type": "markdown",
   "id": "7e1eb514-ad0a-48fa-89d1-3adff56b6c64",
   "metadata": {
    "id": "7e1eb514-ad0a-48fa-89d1-3adff56b6c64"
   },
   "source": [
    "Let's load the toy data to use."
   ]
  },
  {
   "cell_type": "code",
   "execution_count": 2,
   "id": "410e0e61-9135-4067-8fb0-3538757ac9b7",
   "metadata": {
    "id": "410e0e61-9135-4067-8fb0-3538757ac9b7"
   },
   "outputs": [],
   "source": [
    "# NBVAL_IGNORE_OUTPUT\n",
    "\n",
    "# Load data\n",
    "df = pd.read_csv(\"https://raw.githubusercontent.com/LineaLabs/lineapy/main/examples/tutorials/data/iris.csv\")"
   ]
  },
  {
   "cell_type": "code",
   "execution_count": 3,
   "id": "7cc4e268-e4d4-48e3-8ae2-7f25723be3e2",
   "metadata": {
    "colab": {
     "base_uri": "https://localhost:8080/",
     "height": 423
    },
    "id": "7cc4e268-e4d4-48e3-8ae2-7f25723be3e2",
    "outputId": "c4167cab-3e33-4b30-ad4b-40c401086390"
   },
   "outputs": [
    {
     "data": {
      "text/html": [
       "<div>\n",
       "<style scoped>\n",
       "    .dataframe tbody tr th:only-of-type {\n",
       "        vertical-align: middle;\n",
       "    }\n",
       "\n",
       "    .dataframe tbody tr th {\n",
       "        vertical-align: top;\n",
       "    }\n",
       "\n",
       "    .dataframe thead th {\n",
       "        text-align: right;\n",
       "    }\n",
       "</style>\n",
       "<table border=\"1\" class=\"dataframe\">\n",
       "  <thead>\n",
       "    <tr style=\"text-align: right;\">\n",
       "      <th></th>\n",
       "      <th>sepal.length</th>\n",
       "      <th>sepal.width</th>\n",
       "      <th>petal.length</th>\n",
       "      <th>petal.width</th>\n",
       "      <th>variety</th>\n",
       "    </tr>\n",
       "  </thead>\n",
       "  <tbody>\n",
       "    <tr>\n",
       "      <th>0</th>\n",
       "      <td>5.1</td>\n",
       "      <td>3.5</td>\n",
       "      <td>1.4</td>\n",
       "      <td>0.2</td>\n",
       "      <td>Setosa</td>\n",
       "    </tr>\n",
       "    <tr>\n",
       "      <th>1</th>\n",
       "      <td>4.9</td>\n",
       "      <td>3.0</td>\n",
       "      <td>1.4</td>\n",
       "      <td>0.2</td>\n",
       "      <td>Setosa</td>\n",
       "    </tr>\n",
       "    <tr>\n",
       "      <th>2</th>\n",
       "      <td>4.7</td>\n",
       "      <td>3.2</td>\n",
       "      <td>1.3</td>\n",
       "      <td>0.2</td>\n",
       "      <td>Setosa</td>\n",
       "    </tr>\n",
       "    <tr>\n",
       "      <th>3</th>\n",
       "      <td>4.6</td>\n",
       "      <td>3.1</td>\n",
       "      <td>1.5</td>\n",
       "      <td>0.2</td>\n",
       "      <td>Setosa</td>\n",
       "    </tr>\n",
       "    <tr>\n",
       "      <th>4</th>\n",
       "      <td>5.0</td>\n",
       "      <td>3.6</td>\n",
       "      <td>1.4</td>\n",
       "      <td>0.2</td>\n",
       "      <td>Setosa</td>\n",
       "    </tr>\n",
       "    <tr>\n",
       "      <th>...</th>\n",
       "      <td>...</td>\n",
       "      <td>...</td>\n",
       "      <td>...</td>\n",
       "      <td>...</td>\n",
       "      <td>...</td>\n",
       "    </tr>\n",
       "    <tr>\n",
       "      <th>145</th>\n",
       "      <td>6.7</td>\n",
       "      <td>3.0</td>\n",
       "      <td>5.2</td>\n",
       "      <td>2.3</td>\n",
       "      <td>Virginica</td>\n",
       "    </tr>\n",
       "    <tr>\n",
       "      <th>146</th>\n",
       "      <td>6.3</td>\n",
       "      <td>2.5</td>\n",
       "      <td>5.0</td>\n",
       "      <td>1.9</td>\n",
       "      <td>Virginica</td>\n",
       "    </tr>\n",
       "    <tr>\n",
       "      <th>147</th>\n",
       "      <td>6.5</td>\n",
       "      <td>3.0</td>\n",
       "      <td>5.2</td>\n",
       "      <td>2.0</td>\n",
       "      <td>Virginica</td>\n",
       "    </tr>\n",
       "    <tr>\n",
       "      <th>148</th>\n",
       "      <td>6.2</td>\n",
       "      <td>3.4</td>\n",
       "      <td>5.4</td>\n",
       "      <td>2.3</td>\n",
       "      <td>Virginica</td>\n",
       "    </tr>\n",
       "    <tr>\n",
       "      <th>149</th>\n",
       "      <td>5.9</td>\n",
       "      <td>3.0</td>\n",
       "      <td>5.1</td>\n",
       "      <td>1.8</td>\n",
       "      <td>Virginica</td>\n",
       "    </tr>\n",
       "  </tbody>\n",
       "</table>\n",
       "<p>150 rows × 5 columns</p>\n",
       "</div>"
      ],
      "text/plain": [
       "     sepal.length  sepal.width  petal.length  petal.width    variety\n",
       "0             5.1          3.5           1.4          0.2     Setosa\n",
       "1             4.9          3.0           1.4          0.2     Setosa\n",
       "2             4.7          3.2           1.3          0.2     Setosa\n",
       "3             4.6          3.1           1.5          0.2     Setosa\n",
       "4             5.0          3.6           1.4          0.2     Setosa\n",
       "..            ...          ...           ...          ...        ...\n",
       "145           6.7          3.0           5.2          2.3  Virginica\n",
       "146           6.3          2.5           5.0          1.9  Virginica\n",
       "147           6.5          3.0           5.2          2.0  Virginica\n",
       "148           6.2          3.4           5.4          2.3  Virginica\n",
       "149           5.9          3.0           5.1          1.8  Virginica\n",
       "\n",
       "[150 rows x 5 columns]"
      ]
     },
     "execution_count": 3,
     "metadata": {},
     "output_type": "execute_result"
    }
   ],
   "source": [
    "# View data\n",
    "df"
   ]
  },
  {
   "cell_type": "markdown",
   "id": "6064f05a-464f-450c-ab60-848109fda8b8",
   "metadata": {
    "id": "6064f05a-464f-450c-ab60-848109fda8b8"
   },
   "source": [
    "Now, we might be interested in seeing if the data reflects differences between iris types. Let's compare their petal traits."
   ]
  },
  {
   "cell_type": "code",
   "execution_count": 4,
   "id": "d6b41fef",
   "metadata": {
    "colab": {
     "base_uri": "https://localhost:8080/",
     "height": 361
    },
    "id": "d6b41fef",
    "outputId": "24ffca74-2733-4712-ddbd-84182fdfefcb"
   },
   "outputs": [
    {
     "data": {
      "image/png": "[encoded data removed]",
      "text/plain": [
       "<Figure size 720x360 with 2 Axes>"
      ]
     },
     "metadata": {
      "needs_background": "light"
     },
     "output_type": "display_data"
    }
   ],
   "source": [
    "# Plot petal length/width by iris type\n",
    "fig, ax = plt.subplots(1, 2, figsize=(10, 5))\n",
    "df.boxplot(\"petal.length\", \"variety\", ax=ax[0])\n",
    "df.boxplot(\"petal.width\", \"variety\", ax=ax[1])\n",
    "plt.show()"
   ]
  },
  {
   "cell_type": "markdown",
   "id": "123e23a1-68b7-4f62-bddc-1ab8534b8600",
   "metadata": {
    "id": "123e23a1-68b7-4f62-bddc-1ab8534b8600"
   },
   "source": [
    "Overall, we observe noticeable differences between iris types, especially between Setosa and Virginica. Let's quantify differences between the two types."
   ]
  },
  {
   "cell_type": "code",
   "execution_count": 5,
   "id": "5dde49ae-8f40-44f9-b03f-161fbdf12af5",
   "metadata": {
    "id": "5dde49ae-8f40-44f9-b03f-161fbdf12af5"
   },
   "outputs": [],
   "source": [
    "# Calculate averages for Setosa\n",
    "avg_length_setosa = df.query(\"variety == 'Setosa'\")[\"petal.length\"].mean()\n",
    "avg_width_setosa = df.query(\"variety == 'Setosa'\")[\"petal.width\"].mean()\n",
    "\n",
    "# Calculate averages for Virginica\n",
    "avg_length_virginica = df.query(\"variety == 'Virginica'\")[\"petal.length\"].mean()\n",
    "avg_width_virginica = df.query(\"variety == 'Virginica'\")[\"petal.width\"].mean()\n",
    "\n",
    "# Calculate differences\n",
    "diff_avg_length = avg_length_setosa - avg_length_virginica\n",
    "diff_avg_width = avg_width_setosa - avg_width_virginica"
   ]
  },
  {
   "cell_type": "code",
   "execution_count": 6,
   "id": "05473239-4552-4edb-ab9c-58ae8875a2e4",
   "metadata": {
    "colab": {
     "base_uri": "https://localhost:8080/"
    },
    "id": "05473239-4552-4edb-ab9c-58ae8875a2e4",
    "outputId": "0451d343-557e-4ebe-e374-b68a7bb074d1"
   },
   "outputs": [
    {
     "name": "stdout",
     "output_type": "stream",
     "text": [
      "Difference in average length: -4.09\n",
      "Difference in average width: -1.7800000000000002\n"
     ]
    }
   ],
   "source": [
    "# NBVAL_IGNORE_OUTPUT\n",
    "\n",
    "# View result\n",
    "print(\"Difference in average length:\", diff_avg_length)\n",
    "print(\"Difference in average width:\", diff_avg_width)"
   ]
  },
  {
   "cell_type": "markdown",
   "id": "c9cd1bbc-af3b-44e2-9a33-276781461a79",
   "metadata": {
    "id": "c9cd1bbc-af3b-44e2-9a33-276781461a79"
   },
   "source": [
    "## Storing an artifact with `save()`"
   ]
  },
  {
   "cell_type": "markdown",
   "id": "f113fb06-f017-4162-93df-ef406b00dced",
   "metadata": {
    "id": "f113fb06-f017-4162-93df-ef406b00dced"
   },
   "source": [
    "Say we are particularly interested in tracking the average length difference between Setosa and Virginica. For instance, we might want to use this variable later for population-level modeling of the two species.\n",
    "\n",
    "The `save()` method allows us to store a variable's value *and* history as a data type called `LineaArtifact`. Note that `LineaArtifact` holds more than the final state of the variable &mdash; it also captures the complete development process behind the variable, which allows for full reproducibility. For more information about artifacts in LineaPy, please check the [Concepts](https://docs.lineapy.org/en/latest/fundamentals/concepts.html) section.\n",
    "\n",
    "The method requires two arguments: the variable to save and the string name to save it as. It returns the saved artifact."
   ]
  },
  {
   "cell_type": "code",
   "execution_count": 7,
   "id": "0cf4a382-6a38-4e3e-8134-ef867a6150f5",
   "metadata": {
    "colab": {
     "base_uri": "https://localhost:8080/"
    },
    "id": "0cf4a382-6a38-4e3e-8134-ef867a6150f5",
    "outputId": "af6633fa-6de7-4933-81dc-9917de6caecc"
   },
   "outputs": [
    {
     "name": "stdout",
     "output_type": "stream",
     "text": [
      "<class 'lineapy.graph_reader.apis.LineaArtifact'>\n"
     ]
    }
   ],
   "source": [
    "# Store the variable as an artifact\n",
    "length_artifact = lineapy.save(diff_avg_length, \"iris_diff_avg_length\")\n",
    "\n",
    "# Check object type\n",
    "print(type(length_artifact))"
   ]
  },
  {
   "cell_type": "markdown",
   "id": "a5a43371-2fc9-4c37-9d41-e7be828c10b5",
   "metadata": {
    "id": "a5a43371-2fc9-4c37-9d41-e7be828c10b5"
   },
   "source": [
    "`LineaArtifact` object has two key APIs:\n",
    "\n",
    "- `.get_value()` returns value of the artifact, e.g., an integer or a dataframe\n",
    "- `.get_code()` returns minimal essential code to create the value\n",
    "\n",
    "Hence, for the current artifacts, we see:"
   ]
  },
  {
   "cell_type": "code",
   "execution_count": 8,
   "id": "dbb3ebd5-6979-489f-ae28-4fff9165928f",
   "metadata": {
    "colab": {
     "base_uri": "https://localhost:8080/"
    },
    "id": "dbb3ebd5-6979-489f-ae28-4fff9165928f",
    "outputId": "2a56ac21-7d6a-4c76-f9d7-d032d5dbc0cb"
   },
   "outputs": [
    {
     "name": "stdout",
     "output_type": "stream",
     "text": [
      "-4.09\n"
     ]
    }
   ],
   "source": [
    "# Check the value of the artifact\n",
    "print(length_artifact.get_value())"
   ]
  },
  {
   "cell_type": "markdown",
   "id": "57895ada",
   "metadata": {
    "id": "57895ada"
   },
   "source": [
    "<div class=\"alert alert-info\">\n",
    "\n",
    "☝️ ☝️ ☝️ **[FEATURE] Retrieve artifact value** ☝️ ☝️ ☝️\n",
    "\n",
    "</div>"
   ]
  },
  {
   "cell_type": "code",
   "execution_count": 9,
   "id": "20204203-363c-46c9-a976-8ac74ffd9e96",
   "metadata": {
    "colab": {
     "base_uri": "https://localhost:8080/"
    },
    "id": "20204203-363c-46c9-a976-8ac74ffd9e96",
    "outputId": "38edd112-9455-49a6-c882-99e32fe3f150"
   },
   "outputs": [
    {
     "name": "stdout",
     "output_type": "stream",
     "text": [
      "import pandas as pd\n",
      "\n",
      "df = pd.read_csv(\n",
      "    \"https://raw.githubusercontent.com/LineaLabs/lineapy/main/examples/tutorials/data/iris.csv\"\n",
      ")\n",
      "avg_length_setosa = df.query(\"variety == 'Setosa'\")[\"petal.length\"].mean()\n",
      "avg_length_virginica = df.query(\"variety == 'Virginica'\")[\"petal.length\"].mean()\n",
      "diff_avg_length = avg_length_setosa - avg_length_virginica\n",
      "\n"
     ]
    }
   ],
   "source": [
    "# Check minimal essential code to generate the artifact\n",
    "print(length_artifact.get_code())"
   ]
  },
  {
   "cell_type": "markdown",
   "id": "2b601572-90d8-4162-8819-a56a6683397c",
   "metadata": {
    "id": "2b601572-90d8-4162-8819-a56a6683397c"
   },
   "source": [
    "<div class=\"alert alert-info\">\n",
    "\n",
    "☝️ ☝️ ☝️ **[FEATURE] Retrieve cleaned artifact code** ☝️ ☝️ ☝️\n",
    "\n",
    "</div>"
   ]
  },
  {
   "cell_type": "markdown",
   "id": "9f966d2c",
   "metadata": {
    "id": "9f966d2c"
   },
   "source": [
    "Note that irrelevant code has been stripped out (e.g., operations relating to `diff_avg_width` only)."
   ]
  },
  {
   "cell_type": "markdown",
   "id": "08b10a48",
   "metadata": {},
   "source": [
    "<div class=\"alert alert-info\">\n",
    "\n",
    "**Note:** If you want, you can retrieve the artifact's full original code with `artifact.get_session_code()`.\n",
    "\n",
    "</div>"
   ]
  },
  {
   "cell_type": "markdown",
   "id": "e6773650-b7ee-476d-8d6b-d5f765e475ea",
   "metadata": {
    "id": "e6773650-b7ee-476d-8d6b-d5f765e475ea"
   },
   "source": [
    "## Listing artifacts with `catalog()`"
   ]
  },
  {
   "cell_type": "markdown",
   "id": "ec7dfd68-b8d5-4aa8-82ae-5c25f53c6a7a",
   "metadata": {
    "id": "ec7dfd68-b8d5-4aa8-82ae-5c25f53c6a7a"
   },
   "source": [
    "Of course, with time passing, we may not remember what artifacts we saved and under what names. The `catalog()` method allows us to see the list of all previously saved artifacts, like so:"
   ]
  },
  {
   "cell_type": "code",
   "execution_count": 10,
   "id": "abd4ab03-2e9d-4416-bb68-cd2f76894cbc",
   "metadata": {
    "colab": {
     "base_uri": "https://localhost:8080/"
    },
    "id": "abd4ab03-2e9d-4416-bb68-cd2f76894cbc",
    "outputId": "9e05334d-1304-4790-e360-49e3fbdc3110"
   },
   "outputs": [
    {
     "data": {
      "text/plain": [
       "iris_diff_avg_length:0 created on 2022-05-15 22:19:10.222157"
      ]
     },
     "execution_count": 10,
     "metadata": {},
     "output_type": "execute_result"
    }
   ],
   "source": [
    "# NBVAL_IGNORE_OUTPUT\n",
    "\n",
    "# List all saved artifacts\n",
    "lineapy.catalog()"
   ]
  },
  {
   "cell_type": "markdown",
   "id": "32cff33f",
   "metadata": {
    "id": "32cff33f"
   },
   "source": [
    "<div class=\"alert alert-info\">\n",
    "\n",
    "☝️ ☝️ ☝️ **[FEATURE] Retrieve all artifacts** ☝️ ☝️ ☝️\n",
    "\n",
    "</div>"
   ]
  },
  {
   "cell_type": "markdown",
   "id": "HhD9Dn-HjD7F",
   "metadata": {
    "id": "HhD9Dn-HjD7F"
   },
   "source": [
    "Note that the catalog records each artifact’s creation time, which means that multiple versions can be stored under the same artifact name. Hence, if we save `iris_diff_avg_length` artifact again, we get:\n"
   ]
  },
  {
   "cell_type": "code",
   "execution_count": 11,
   "id": "-0LTlDJPjHdd",
   "metadata": {
    "colab": {
     "base_uri": "https://localhost:8080/"
    },
    "id": "-0LTlDJPjHdd",
    "outputId": "378921ed-2111-4c6d-c93a-84b477f0c45f"
   },
   "outputs": [
    {
     "data": {
      "text/plain": [
       "iris_diff_avg_length:0 created on 2022-05-15 22:19:10.222157\n",
       "iris_diff_avg_length:1 created on 2022-05-15 22:19:12.117347"
      ]
     },
     "execution_count": 11,
     "metadata": {},
     "output_type": "execute_result"
    }
   ],
   "source": [
    "# NBVAL_IGNORE_OUTPUT\n",
    "\n",
    "# Save the same artifact again\n",
    "lineapy.save(diff_avg_length, \"iris_diff_avg_length\")\n",
    "\n",
    "# List all saved artifacts\n",
    "lineapy.catalog()"
   ]
  },
  {
   "cell_type": "markdown",
   "id": "cfd03dad-14b8-470e-8651-18a6d14fd2f0",
   "metadata": {
    "id": "cfd03dad-14b8-470e-8651-18a6d14fd2f0"
   },
   "source": [
    "## Retrieving an artifact with `get()`"
   ]
  },
  {
   "cell_type": "markdown",
   "id": "fd81dfc3-293e-4cb9-b4f1-109232cb6dc3",
   "metadata": {
    "id": "fd81dfc3-293e-4cb9-b4f1-109232cb6dc3"
   },
   "source": [
    "We can retrieve any stored artifact using the `get()` method. This comes in handy when we work across multiple sessions/phases of a project (or even across different projects) as we can easily build on the previous work.\n",
    "\n",
    "For example, say we have done other exploratory analyses and are finally starting our work on population-level modeling. This is likely done in a new Jupyter notebook (possibly in a different subdirectory) and we need an easy way to load artifacts from our past work. We can use the `get()` method for this.\n",
    "\n",
    "The method takes the string name of the artifact as its argument and returns the corresponding artifact, like so:"
   ]
  },
  {
   "cell_type": "code",
   "execution_count": 12,
   "id": "6978f92f-2488-45e4-aebb-707f0113c065",
   "metadata": {
    "colab": {
     "base_uri": "https://localhost:8080/"
    },
    "id": "6978f92f-2488-45e4-aebb-707f0113c065",
    "outputId": "d183c107-7902-480e-a75a-bd1302975d97"
   },
   "outputs": [
    {
     "name": "stdout",
     "output_type": "stream",
     "text": [
      "-4.09\n",
      "import pandas as pd\n",
      "\n",
      "df = pd.read_csv(\n",
      "    \"https://raw.githubusercontent.com/LineaLabs/lineapy/main/examples/tutorials/data/iris.csv\"\n",
      ")\n",
      "avg_length_setosa = df.query(\"variety == 'Setosa'\")[\"petal.length\"].mean()\n",
      "avg_length_virginica = df.query(\"variety == 'Virginica'\")[\"petal.length\"].mean()\n",
      "diff_avg_length = avg_length_setosa - avg_length_virginica\n",
      "\n"
     ]
    }
   ],
   "source": [
    "# Retrieve a saved artifact\n",
    "length_artifact2 = lineapy.get(\"iris_diff_avg_length\")\n",
    "\n",
    "# Confirm the artifact holds the same value and code as before\n",
    "print(length_artifact2.get_value())\n",
    "print(length_artifact2.get_code())"
   ]
  },
  {
   "cell_type": "markdown",
   "id": "tFVmjoq4km77",
   "metadata": {
    "id": "tFVmjoq4km77"
   },
   "source": [
    "By default, the `get()` method retrieves the latest version of the given artifact. To retrieve a particular version of the artifact, we can specify the value of the optional argument `version`, like so:"
   ]
  },
  {
   "cell_type": "code",
   "execution_count": 13,
   "id": "IF6LChHklYVE",
   "metadata": {
    "colab": {
     "base_uri": "https://localhost:8080/"
    },
    "id": "IF6LChHklYVE",
    "outputId": "b0eda9f8-95e2-48ad-c15b-81c8dbf18f1c"
   },
   "outputs": [
    {
     "name": "stdout",
     "output_type": "stream",
     "text": [
      "1\n",
      "<class 'int'>\n"
     ]
    }
   ],
   "source": [
    "# NBVAL_IGNORE_OUTPUT\n",
    "\n",
    "# Get version info of the retrieved artifact\n",
    "desired_version = length_artifact2.version\n",
    "\n",
    "# Check the version info\n",
    "print(desired_version)\n",
    "print(type(desired_version))"
   ]
  },
  {
   "cell_type": "code",
   "execution_count": 14,
   "id": "U0qvoYBXkrh2",
   "metadata": {
    "colab": {
     "base_uri": "https://localhost:8080/"
    },
    "id": "U0qvoYBXkrh2",
    "outputId": "f51c3d47-8570-4275-d3e1-71794b289474"
   },
   "outputs": [
    {
     "name": "stdout",
     "output_type": "stream",
     "text": [
      "iris_diff_avg_length\n",
      "1\n"
     ]
    }
   ],
   "source": [
    "# NBVAL_IGNORE_OUTPUT\n",
    "\n",
    "# Retrieve the same version of the artifact\n",
    "length_artifact3 = lineapy.get(\"iris_diff_avg_length\", version=desired_version)\n",
    "\n",
    "# Confirm the right version has been retrieved\n",
    "print(length_artifact3.name)\n",
    "print(length_artifact3.version)"
   ]
  },
  {
   "cell_type": "markdown",
   "id": "e3b4b663",
   "metadata": {
    "id": "e3b4b663"
   },
   "source": [
    "## Using artifacts to build pipelines"
   ]
  },
  {
   "cell_type": "markdown",
   "id": "30UWrlEOqgkb",
   "metadata": {
    "id": "30UWrlEOqgkb"
   },
   "source": [
    "Say we are now also interested in using the average *width* difference in our population-level modeling, in which case we will store it as an artifact too:"
   ]
  },
  {
   "cell_type": "code",
   "execution_count": 15,
   "id": "rZmJlpmCqg9A",
   "metadata": {
    "id": "rZmJlpmCqg9A"
   },
   "outputs": [],
   "source": [
    "# Store the width variable as an artifact too\n",
    "width_artifact = lineapy.save(diff_avg_width, \"iris_diff_avg_width\")"
   ]
  },
  {
   "cell_type": "markdown",
   "id": "ead92868",
   "metadata": {
    "id": "ead92868"
   },
   "source": [
    "Now consider the case where our source data (i.e. `iris.csv`) gets updated. Moreover, the update is not a one-time event; the data is planned to be updated on a regular basis as new samples arrive.\n",
    "\n",
    "Since the `iris_diff_avg_length` and `iris_diff_avg_width` artifact were derived from the `iris.csv` data, this means that we need to rerun each artifact's code lest its value be stale. Given the recurring updates in the source data, we may want to build and schedule a pipeline to automatically rerun the code of both artifacts on a regular basis.\n",
    "\n",
    "Having the complete development process captured in each artifact, LineaPy makes it easy for us to to turn these two artifacts into a deployable pipeline. For instance, [Airflow](https://airflow.apache.org/) is a popular tool for pipeline building and management, and we can turn the artifacts into a set of files that can be deployed as an Airflow DAG, like so:"
   ]
  },
  {
   "cell_type": "code",
   "execution_count": 16,
   "id": "78c8cade",
   "metadata": {
    "colab": {
     "base_uri": "https://localhost:8080/",
     "height": 115
    },
    "id": "78c8cade",
    "outputId": "217fcfd2-8c59-463c-baf0-4765839fa79b"
   },
   "outputs": [
    {
     "data": {
      "text/html": [
       "<pre style=\"white-space:pre;overflow-x:auto;line-height:normal;font-family:Menlo,'DejaVu Sans Mono',consolas,'Courier New',monospace\">Pipeline source generated in the directory: output/00_api_basics/demo_pipeline               \n",
       "</pre>\n"
      ],
      "text/plain": [
       "Pipeline source generated in the directory: output/00_api_basics/demo_pipeline               \n"
      ]
     },
     "metadata": {},
     "output_type": "display_data"
    },
    {
     "data": {
      "text/html": [
       "<pre style=\"white-space:pre;overflow-x:auto;line-height:normal;font-family:Menlo,'DejaVu Sans Mono',consolas,'Courier New',monospace\">Generated python module demo_pipeline.py                                                     \n",
       "</pre>\n"
      ],
      "text/plain": [
       "Generated python module demo_pipeline.py                                                     \n"
      ]
     },
     "metadata": {},
     "output_type": "display_data"
    },
    {
     "data": {
      "text/html": [
       "<pre style=\"white-space:pre;overflow-x:auto;line-height:normal;font-family:Menlo,'DejaVu Sans Mono',consolas,'Courier New',monospace\">Generated Dockerfile demo_pipeline_Dockerfile                                                \n",
       "</pre>\n"
      ],
      "text/plain": [
       "Generated Dockerfile demo_pipeline_Dockerfile                                                \n"
      ]
     },
     "metadata": {},
     "output_type": "display_data"
    },
    {
     "data": {
      "text/html": [
       "<pre style=\"white-space:pre;overflow-x:auto;line-height:normal;font-family:Menlo,'DejaVu Sans Mono',consolas,'Courier New',monospace\">Generated requirements file demo_pipeline_requirements.txt                                   \n",
       "</pre>\n"
      ],
      "text/plain": [
       "Generated requirements file demo_pipeline_requirements.txt                                   \n"
      ]
     },
     "metadata": {},
     "output_type": "display_data"
    },
    {
     "data": {
      "text/html": [
       "<pre style=\"white-space:pre;overflow-x:auto;line-height:normal;font-family:Menlo,'DejaVu Sans Mono',consolas,'Courier New',monospace\">Added Airflow DAG named demo_pipeline_dag. Start a run from the Airflow UI or CLI.           \n",
       "</pre>\n"
      ],
      "text/plain": [
       "Added Airflow DAG named demo_pipeline_dag. Start a run from the Airflow UI or CLI.           \n"
      ]
     },
     "metadata": {},
     "output_type": "display_data"
    },
    {
     "data": {
      "text/plain": [
       "PosixPath('output/00_api_basics/demo_pipeline')"
      ]
     },
     "execution_count": 16,
     "metadata": {},
     "output_type": "execute_result"
    }
   ],
   "source": [
    "# NBVAL_IGNORE_OUTPUT\n",
    "\n",
    "# Build an Airflow pipeline with both length and width artifacts\n",
    "lineapy.to_pipeline(\n",
    "    artifacts=[length_artifact.name, width_artifact.name],\n",
    "    pipeline_name=\"demo_pipeline\",\n",
    "    framework=\"AIRFLOW\",\n",
    "    output_dir=\"output/00_api_basics/demo_pipeline/\",\n",
    ")"
   ]
  },
  {
   "cell_type": "markdown",
   "id": "d8ba315d",
   "metadata": {
    "id": "d8ba315d"
   },
   "source": [
    "where\n",
    "\n",
    "- `artifacts` is the list of artifact names to be used for the pipeline\n",
    "- `pipeline_name` is the name of the pipeline\n",
    "- `output_dir` is the location to put the files for running the pipeline\n",
    "- `framework` is the name of orchestration framework to use (currently supports `SCRIPTS` and `AIRFLOW`)"
   ]
  },
  {
   "cell_type": "markdown",
   "id": "3b9b4d97",
   "metadata": {
    "id": "3b9b4d97"
   },
   "source": [
    "And we see the following files have been generated:"
   ]
  },
  {
   "cell_type": "code",
   "execution_count": 17,
   "id": "168dbbe5",
   "metadata": {
    "colab": {
     "base_uri": "https://localhost:8080/"
    },
    "id": "168dbbe5",
    "outputId": "a97f7787-3d8c-4c26-9474-c480f17b07f8"
   },
   "outputs": [
    {
     "data": {
      "text/plain": [
       "['demo_pipeline_requirements.txt',\n",
       " 'demo_pipeline_Dockerfile',\n",
       " 'demo_pipeline_dag.py',\n",
       " 'demo_pipeline.py']"
      ]
     },
     "execution_count": 17,
     "metadata": {},
     "output_type": "execute_result"
    }
   ],
   "source": [
    "# NBVAL_IGNORE_OUTPUT\n",
    "\n",
    "# Check the generated files for running the pipeline\n",
    "os.listdir(\"output/00_api_basics/demo_pipeline/\")"
   ]
  },
  {
   "cell_type": "markdown",
   "id": "31e7e390",
   "metadata": {
    "id": "31e7e390"
   },
   "source": [
    "where\n",
    "\n",
    "- `[PIPELINE-NAME].py` contains the artifact’s cleaned-up code packaged as a function\n",
    "- `[PIPELINE-NAME]_dag.py` uses the packaged function to define the pipeline\n",
    "- `[PIPELINE-NAME]_requirements.txt` lists dependencies for running the pipeline\n",
    "- `[PIPELINE-NAME]_Dockerfile` contains commands to set up the environment to run the pipeline"
   ]
  },
  {
   "cell_type": "markdown",
   "id": "zXbqIPBntkMM",
   "metadata": {
    "id": "zXbqIPBntkMM"
   },
   "source": [
    "Specifically, we have `demo_pipeline.py` looking as follows:"
   ]
  },
  {
   "cell_type": "code",
   "execution_count": 18,
   "id": "JYwfiWXX1bDW",
   "metadata": {
    "colab": {
     "base_uri": "https://localhost:8080/"
    },
    "id": "JYwfiWXX1bDW",
    "outputId": "6c83ee8e-136b-44b2-9eb7-2a663bf015d3"
   },
   "outputs": [
    {
     "name": "stdout",
     "output_type": "stream",
     "text": [
      "import pandas as pd\r\n",
      "\r\n",
      "\r\n",
      "def iris_diff_avg_length():\r\n",
      "    df = pd.read_csv(\r\n",
      "        \"https://raw.githubusercontent.com/LineaLabs/lineapy/main/examples/tutorials/data/iris.csv\"\r\n",
      "    )\r\n",
      "    avg_length_setosa = df.query(\"variety == 'Setosa'\")[\"petal.length\"].mean()\r\n",
      "    avg_length_virginica = df.query(\"variety == 'Virginica'\")[\"petal.length\"].mean()\r\n",
      "    diff_avg_length = avg_length_setosa - avg_length_virginica\r\n",
      "\r\n",
      "\r\n",
      "def iris_diff_avg_width():\r\n",
      "    df = pd.read_csv(\r\n",
      "        \"https://raw.githubusercontent.com/LineaLabs/lineapy/main/examples/tutorials/data/iris.csv\"\r\n",
      "    )\r\n",
      "    avg_width_setosa = df.query(\"variety == 'Setosa'\")[\"petal.width\"].mean()\r\n",
      "    avg_width_virginica = df.query(\"variety == 'Virginica'\")[\"petal.width\"].mean()\r\n",
      "    diff_avg_width = avg_width_setosa - avg_width_virginica\r\n"
     ]
    }
   ],
   "source": [
    "%cat output/00_api_basics/demo_pipeline/demo_pipeline.py"
   ]
  },
  {
   "cell_type": "markdown",
   "id": "jOvakSzWuNZx",
   "metadata": {
    "id": "jOvakSzWuNZx"
   },
   "source": [
    "We can see that LineaPy used artifacts to automatically 1) clean up their code to retain only essential operations and 2) package the cleaned-up code into importable functions.\n",
    "\n",
    "And we see `demo_pipeline_dag.py` automatically composing an Airflow DAG with these functions:"
   ]
  },
  {
   "cell_type": "code",
   "execution_count": 19,
   "id": "N4r32Qjg1hYW",
   "metadata": {
    "colab": {
     "base_uri": "https://localhost:8080/"
    },
    "id": "N4r32Qjg1hYW",
    "outputId": "002e89e0-b71d-4da2-88b9-059798d3c0b0"
   },
   "outputs": [
    {
     "name": "stdout",
     "output_type": "stream",
     "text": [
      "import os\r\n",
      "\r\n",
      "import demo_pipeline\r\n",
      "from airflow import DAG\r\n",
      "from airflow.operators.python_operator import PythonOperator\r\n",
      "from airflow.utils.dates import days_ago\r\n",
      "\r\n",
      "default_dag_args = {\"owner\": \"airflow\", \"retries\": 2, \"start_date\": days_ago(1)}\r\n",
      "\r\n",
      "dag = DAG(\r\n",
      "    dag_id=\"demo_pipeline_dag\",\r\n",
      "    schedule_interval=\"*/15 * * * *\",\r\n",
      "    max_active_runs=1,\r\n",
      "    catchup=False,\r\n",
      "    default_args=default_dag_args,\r\n",
      ")\r\n",
      "\r\n",
      "\r\n",
      "iris_diff_avg_length = PythonOperator(\r\n",
      "    dag=dag,\r\n",
      "    task_id=\"iris_diff_avg_length_task\",\r\n",
      "    python_callable=demo_pipeline.iris_diff_avg_length,\r\n",
      ")\r\n",
      "\r\n",
      "iris_diff_avg_width = PythonOperator(\r\n",
      "    dag=dag,\r\n",
      "    task_id=\"iris_diff_avg_width_task\",\r\n",
      "    python_callable=demo_pipeline.iris_diff_avg_width,\r\n",
      ")\r\n"
     ]
    }
   ],
   "source": [
    "%cat output/00_api_basics/demo_pipeline/demo_pipeline_dag.py"
   ]
  },
  {
   "cell_type": "markdown",
   "id": "d9dda73d",
   "metadata": {
    "id": "d9dda73d"
   },
   "source": [
    "These files, once placed in the location that Airflow expects (usually `dag/` under Airflow’s home directory), should let us immediately execute the pipeline from the UI or CLI.\n",
    "\n",
    "For a more detailed illustration of pipeline building, please check [this](https://docs.lineapy.org/en/latest/guide/build_pipelines/index.html#) tutorial."
   ]
  },
  {
   "cell_type": "markdown",
   "id": "3e6feba4",
   "metadata": {},
   "source": [
    "## Recap\n",
    "\n",
    "In this tutorial, we learned basic functionalities of LineaPy including how to save, browse, and retrieve an artifact. We saw that a LineaPy artifact stores not only the value of a variable but also its full development code. This then helps to automate time-consuming, manual steps in a data science workflow such as code cleanup and pipeline building, hence helping data scientists move faster towards productionization and impact."
   ]
  }
 ],
 "metadata": {
  "colab": {
   "collapsed_sections": [],
   "name": "00_api_basics.ipynb",
   "provenance": []
  },
  "kernelspec": {
   "display_name": "Python 3 (ipykernel)",
   "language": "python",
   "name": "python3"
  },
  "language_info": {
   "codemirror_mode": {
    "name": "ipython",
    "version": 3
   },
   "file_extension": ".py",
   "mimetype": "text/x-python",
   "name": "python",
   "nbconvert_exporter": "python",
   "pygments_lexer": "ipython3",
   "version": "3.8.9"
  }
 },
 "nbformat": 4,
 "nbformat_minor": 5
}
