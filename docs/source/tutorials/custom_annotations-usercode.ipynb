{
 "cells": [
  {
   "cell_type": "code",
   "execution_count": 1,
   "id": "91401518-703c-4bfe-bfc1-add0eca794b5",
   "metadata": {},
   "outputs": [],
   "source": [
    "# NBVAL_SKIP\n",
    "from .myclass import MyClass\n"
   ]
  },
  {
   "cell_type": "code",
   "execution_count": 2,
   "id": "6f2f01af-d2e5-4644-814a-f235d604b348",
   "metadata": {},
   "outputs": [],
   "source": [
    "a = MyClass()\n",
    "a.update_counter()\n",
    "\n",
    "art_no_annot = lineapy.save(a, \"notannotated\")\n"
   ]
  },
  {
   "cell_type": "code",
   "execution_count": 3,
   "id": "f0fcc7c0-742b-496f-aa11-29a01441a3fa",
   "metadata": {},
   "outputs": [
    {
     "name": "stdout",
     "output_type": "stream",
     "text": [
      "from .myclass import MyClass\n",
      "\n",
      "a = MyClass()\n",
      "\n"
     ]
    }
   ],
   "source": [
    "print(art_no_annot.get_code())"
   ]
  },
  {
   "cell_type": "code",
   "execution_count": 4,
   "id": "15149d1d-92e5-46b2-bb7c-c9f39a98d80a",
   "metadata": {},
   "outputs": [
    {
     "name": "stdout",
     "output_type": "stream",
     "text": [
      "myclass\n"
     ]
    }
   ],
   "source": [
    "# first understand the module of the function you want to add\n",
    "# in this case the module is straightforward since it is being imported from our myclass.py\n",
    "\n",
    "print(a.update_counter.__self__.__module__)\n",
    "\n",
    "# This module name should be the first line of the annotation: \"module: myclass\"\n",
    "# Next is the list of annotations that we want to add. Refer to TODO:<annotation_specs link> in the docs\n",
    "# In this case, we want to annotate the update_counter class method that modifies the class attribute \"counter\"\n",
    "# Instead of fine tuning it to the attribute level, we say that the instance itself has been modified "
   ]
  },
  {
   "cell_type": "code",
   "execution_count": 5,
   "id": "a0673d80-d287-47fb-bc2e-45cb2d4c6629",
   "metadata": {},
   "outputs": [],
   "source": [
    "# NBVAL_SKIP\n",
    "with open(\"custom_annotation.yaml\", \"w\") as f:\n",
    "    f.write(\"\"\"\n",
    "- module: myclass\n",
    "  annotations:\n",
    "    - criteria:\n",
    "          class_instance: MyClass\n",
    "          class_method_name: update_counter\n",
    "      side_effects:\n",
    "        - mutated_value:\n",
    "            self_ref: SELF_REF\n",
    "\n",
    "    \"\"\")\n",
    "    f.flush()\n",
    "    f.close()\n"
   ]
  },
  {
   "cell_type": "code",
   "execution_count": 6,
   "id": "9c8f1953-1e81-4bcc-bc34-994b424363b9",
   "metadata": {},
   "outputs": [
    {
     "data": {
      "text/plain": [
       "'/Users/simba/Projects/lineapy/examples/tutorials'"
      ]
     },
     "execution_count": 6,
     "metadata": {},
     "output_type": "execute_result"
    }
   ],
   "source": [
    "# NBVAL_SKIP\n",
    "import os\n",
    "os.getcwd()"
   ]
  },
  {
   "cell_type": "code",
   "execution_count": 7,
   "id": "62c5da93-a171-4b4c-9b9b-8cbf108c36c9",
   "metadata": {},
   "outputs": [
    {
     "name": "stdout",
     "output_type": "stream",
     "text": [
      "Module specification: {\n",
      "    \"module\": \"myclass\",\n",
      "    \"annotations\": [\n",
      "        {\n",
      "            \"criteria\": {\n",
      "                \"class_instance\": \"MyClass\",\n",
      "                \"class_method_name\": \"update_counter\"\n",
      "            },\n",
      "            \"side_effects\": [\n",
      "                {\n",
      "                    \"mutated_value\": {\n",
      "                        \"self_ref\": \"SELF_REF\"\n",
      "                    }\n",
      "                }\n",
      "            ]\n",
      "        }\n",
      "    ]\n",
      "}\n",
      "\n",
      "Creating annotation source custom2 at /Users/simba/.lineapy/custom-annotations/custom2.annotations.yaml\n",
      "\u001b[0m"
     ]
    }
   ],
   "source": [
    "# NBVAL_SKIP\n",
    "!lineapy annotate add --name \"custom2\" \"./custom_annotation.yaml\"\n",
    "lineapy.reload()"
   ]
  },
  {
   "cell_type": "code",
   "execution_count": 8,
   "id": "acb7efbe-bd55-403c-8a5d-b5e5690ed014",
   "metadata": {},
   "outputs": [
    {
     "name": "stdout",
     "output_type": "stream",
     "text": [
      "custom2\t/Users/simba/.lineapy/custom-annotations/custom2.annotations.yaml\n",
      "\u001b[0m"
     ]
    }
   ],
   "source": [
    "# NBVAL_SKIP\n",
    "!lineapy annotate list"
   ]
  },
  {
   "cell_type": "code",
   "execution_count": 9,
   "id": "3c45849d-ce52-4590-879e-6c9f3675de3b",
   "metadata": {},
   "outputs": [],
   "source": [
    "# NBVAL_SKIP\n",
    "b = MyClass()\n",
    "b.update_counter()\n",
    "\n",
    "art_annot = lineapy.save(b, \"annotated\")\n"
   ]
  },
  {
   "cell_type": "code",
   "execution_count": 10,
   "id": "d4d40cd5-a24f-4335-b375-bc2db1003038",
   "metadata": {},
   "outputs": [
    {
     "name": "stdout",
     "output_type": "stream",
     "text": [
      "from .myclass import MyClass\n",
      "\n",
      "b = MyClass()\n",
      "b.update_counter()\n",
      "\n"
     ]
    }
   ],
   "source": [
    "# NBVAL_SKIP\n",
    "# The output here will NOT display the line pyperclip.copy\n",
    "# New annotations are reloaded at the start of a session. \n",
    "# Try restarting the kernel and rerun to see the updated output.\n",
    "\n",
    "print(art_annot.get_code())"
   ]
  },
  {
   "cell_type": "code",
   "execution_count": 11,
   "id": "af881176-279b-4530-8a00-8d9ee2ad7697",
   "metadata": {},
   "outputs": [
    {
     "name": "stdout",
     "output_type": "stream",
     "text": [
      "\u001b[0m"
     ]
    }
   ],
   "source": [
    "# NBVAL_SKIP\n",
    "# Uncomment the following lines to clean up the custom annotation that was just added.\n",
    "\n",
    "!lineapy annotate delete --name \"custom2\"\n",
    "os.unlink(\"custom_annotation.yaml\")"
   ]
  },
  {
   "cell_type": "code",
   "execution_count": 12,
   "id": "b2eea2fe-9bea-466a-b0d9-85d9ae528056",
   "metadata": {},
   "outputs": [
    {
     "name": "stdout",
     "output_type": "stream",
     "text": [
      "<bound method MyClass.update_counter of <myclass.MyClass object at 0x7fdb88891970>>\n"
     ]
    }
   ],
   "source": [
    "print(a.update_counter)"
   ]
  },
  {
   "cell_type": "code",
   "execution_count": null,
   "id": "f8dc7187-6bb7-47d2-849c-1d8613ce2a62",
   "metadata": {},
   "outputs": [],
   "source": []
  },
  {
   "cell_type": "code",
   "execution_count": null,
   "id": "18a50cdc-a1e5-4307-9bdb-957c9843d6fc",
   "metadata": {},
   "outputs": [],
   "source": []
  }
 ],
 "metadata": {
  "kernelspec": {
   "display_name": "Python 3 (ipykernel)",
   "language": "python",
   "name": "python3"
  },
  "language_info": {
   "codemirror_mode": {
    "name": "ipython",
    "version": 3
   },
   "file_extension": ".py",
   "mimetype": "text/x-python",
   "name": "python",
   "nbconvert_exporter": "python",
   "pygments_lexer": "ipython3",
   "version": "3.9.7"
  }
 },
 "nbformat": 4,
 "nbformat_minor": 5
}
