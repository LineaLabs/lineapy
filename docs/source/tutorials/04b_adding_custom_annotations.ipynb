{
 "cells": [
  {
   "cell_type": "markdown",
   "id": "40c705b1",
   "metadata": {},
   "source": [
    "<div class=\"alert alert-info\">\n",
    "\n",
    "If you encounter issues you cannot resolve, simply ask in our [Slack community](https://join.slack.com/t/lineacommunity/shared_invite/zt-18kizfn3b-1Qu_HDT3ahGudnAwoFAw9Q)'s `#support` channel. We are always happy and ready to help you!\n",
    "\n",
    "</div>"
   ]
  },
  {
   "cell_type": "markdown",
   "id": "a9d548f2",
   "metadata": {},
   "source": [
    "<div class=\"alert alert-info\">\n",
    "\n",
    "You can ignore `# NBVAL_*` comments in certain cell blocks. They are for passing unit tests only, which we do to make sure the examples are always functional as we update the codebase.\n",
    "\n",
    "</div>"
   ]
  },
  {
   "cell_type": "code",
   "execution_count": 1,
   "id": "91401518-703c-4bfe-bfc1-add0eca794b5",
   "metadata": {},
   "outputs": [],
   "source": [
    "from .sample_user_class import MyClass\n",
    "\n",
    "import lineapy\n",
    "lineapy.options.set(\"is_demo\", True)"
   ]
  },
  {
   "cell_type": "code",
   "execution_count": 2,
   "id": "6f2f01af-d2e5-4644-814a-f235d604b348",
   "metadata": {},
   "outputs": [],
   "source": [
    "a = MyClass()\n",
    "a.update_counter()\n",
    "\n",
    "art_no_annot = lineapy.save(a, \"notannotated\")"
   ]
  },
  {
   "cell_type": "code",
   "execution_count": 3,
   "id": "f0fcc7c0-742b-496f-aa11-29a01441a3fa",
   "metadata": {},
   "outputs": [
    {
     "name": "stdout",
     "output_type": "stream",
     "text": [
      "from .sample_user_class import MyClass\n",
      "\n",
      "a = MyClass()\n",
      "\n"
     ]
    }
   ],
   "source": [
    "print(art_no_annot.get_code())"
   ]
  },
  {
   "cell_type": "code",
   "execution_count": 4,
   "id": "15149d1d-92e5-46b2-bb7c-c9f39a98d80a",
   "metadata": {},
   "outputs": [
    {
     "name": "stdout",
     "output_type": "stream",
     "text": [
      "sample_user_class\n"
     ]
    }
   ],
   "source": [
    "# first, lets understand the module of the function you want to add\n",
    "# in this case the module is straightforward since it is being imported from our myclass.py\n",
    "\n",
    "print(a.update_counter.__self__.__module__)\n",
    "\n",
    "# This module name should be the first line of the annotation: \"module: myclass\"\n",
    "# Next is the list of annotations that we want to add. Refer to TODO:<annotation_specs link> in the docs\n",
    "# In this case, we want to annotate the update_counter class method that modifies the class attribute \"counter\"\n",
    "# Instead of fine tuning it to the attribute level, we say that the instance itself has been modified "
   ]
  },
  {
   "cell_type": "code",
   "execution_count": 5,
   "id": "a0673d80-d287-47fb-bc2e-45cb2d4c6629",
   "metadata": {},
   "outputs": [],
   "source": [
    "with open(\"usercode_annotation_sample.yaml\", \"w\") as f:\n",
    "    f.write(\"\"\"\n",
    "- module: sample_user_class\n",
    "  annotations:\n",
    "    - criteria:\n",
    "          class_instance: MyClass\n",
    "          class_method_name: update_counter\n",
    "      side_effects:\n",
    "        - mutated_value:\n",
    "            self_ref: SELF_REF\n",
    "\n",
    "    \"\"\")\n",
    "    f.flush()\n",
    "    f.close()"
   ]
  },
  {
   "cell_type": "code",
   "execution_count": 6,
   "id": "9c8f1953-1e81-4bcc-bc34-994b424363b9",
   "metadata": {},
   "outputs": [
    {
     "data": {
      "text/plain": [
       "'/Users/sangyoonpark/Projects/Linea/prod/lineapy/examples/tutorials'"
      ]
     },
     "execution_count": 6,
     "metadata": {},
     "output_type": "execute_result"
    }
   ],
   "source": [
    "# NBVAL_IGNORE_OUTPUT\n",
    "import os\n",
    "os.getcwd()"
   ]
  },
  {
   "cell_type": "code",
   "execution_count": 7,
   "id": "62c5da93-a171-4b4c-9b9b-8cbf108c36c9",
   "metadata": {},
   "outputs": [
    {
     "name": "stdout",
     "output_type": "stream",
     "text": [
      "Module specification: {\r\n",
      "    \"module\": \"sample_user_class\",\r\n",
      "    \"annotations\": [\r\n",
      "        {\r\n",
      "            \"criteria\": {\r\n",
      "                \"class_instance\": \"MyClass\",\r\n",
      "                \"class_method_name\": \"update_counter\"\r\n",
      "            },\r\n",
      "            \"side_effects\": [\r\n",
      "                {\r\n",
      "                    \"mutated_value\": {\r\n",
      "                        \"self_ref\": \"SELF_REF\"\r\n",
      "                    }\r\n",
      "                }\r\n",
      "            ]\r\n",
      "        }\r\n",
      "    ]\r\n",
      "}\r\n",
      "\r\n",
      "Creating annotation source usercode_annotation_sample at \u001b[35m/Users/sangyoonpark/.li\u001b[0m\r\n",
      "\u001b[35mneapy/custom-annotations/\u001b[0m\u001b[95musercode_annotation_sample.annotations.yaml\u001b[0m            \r\n",
      "\u001b[0m"
     ]
    }
   ],
   "source": [
    "# NBVAL_IGNORE_OUTPUT\n",
    "!lineapy annotate add --name \"usercode_annotation_sample\" \"./usercode_annotation_sample.yaml\"\n",
    "lineapy.reload()"
   ]
  },
  {
   "cell_type": "code",
   "execution_count": 8,
   "id": "acb7efbe-bd55-403c-8a5d-b5e5690ed014",
   "metadata": {},
   "outputs": [
    {
     "name": "stdout",
     "output_type": "stream",
     "text": [
      "usercode_annotation_sample\t/Users/sangyoonpark/.lineapy/custom-annotations/usercode_annotation_sample.annotations.yaml\r\n",
      "\u001b[0m"
     ]
    }
   ],
   "source": [
    "# NBVAL_SKIP\n",
    "!lineapy annotate list"
   ]
  },
  {
   "cell_type": "code",
   "execution_count": 9,
   "id": "3c45849d-ce52-4590-879e-6c9f3675de3b",
   "metadata": {},
   "outputs": [],
   "source": [
    "b = MyClass()\n",
    "b.update_counter()\n",
    "\n",
    "art_annot = lineapy.save(b, \"annotated\")"
   ]
  },
  {
   "cell_type": "code",
   "execution_count": 10,
   "id": "d4d40cd5-a24f-4335-b375-bc2db1003038",
   "metadata": {},
   "outputs": [
    {
     "name": "stdout",
     "output_type": "stream",
     "text": [
      "from .sample_user_class import MyClass\n",
      "\n",
      "b = MyClass()\n",
      "b.update_counter()\n",
      "\n"
     ]
    }
   ],
   "source": [
    "# The output here will NOT display the line pyperclip.copy\n",
    "# New annotations are reloaded at the start of a session. \n",
    "# Try restarting the kernel and rerun to see the updated output.\n",
    "\n",
    "print(art_annot.get_code())"
   ]
  },
  {
   "cell_type": "code",
   "execution_count": 11,
   "id": "af881176-279b-4530-8a00-8d9ee2ad7697",
   "metadata": {},
   "outputs": [
    {
     "name": "stdout",
     "output_type": "stream",
     "text": [
      "Deleted annotation source usercode_annotation_sample at \u001b[35m/Users/sangyoonpark/.lin\u001b[0m\r\n",
      "\u001b[35meapy/custom-annotations/\u001b[0m\u001b[95musercode_annotation_sample.annotations.yaml\u001b[0m             \r\n",
      "\u001b[0m"
     ]
    }
   ],
   "source": [
    "# NBVAL_IGNORE_OUTPUT\n",
    "!lineapy annotate delete --name \"usercode_annotation_sample\"\n",
    "os.unlink(\"usercode_annotation_sample.yaml\")"
   ]
  }
 ],
 "metadata": {
  "kernelspec": {
   "display_name": "Python 3 (ipykernel)",
   "language": "python",
   "name": "python3"
  },
  "language_info": {
   "codemirror_mode": {
    "name": "ipython",
    "version": 3
   },
   "file_extension": ".py",
   "mimetype": "text/x-python",
   "name": "python",
   "nbconvert_exporter": "python",
   "pygments_lexer": "ipython3",
   "version": "3.10.3"
  }
 },
 "nbformat": 4,
 "nbformat_minor": 5
}
