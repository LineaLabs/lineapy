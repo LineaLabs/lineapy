{
 "cells": [
  {
   "cell_type": "code",
   "execution_count": 27,
   "id": "04c879f6-5f83-4515-a47e-aeb9bd4c2312",
   "metadata": {},
   "outputs": [
    {
     "name": "stdout",
     "output_type": "stream",
     "text": [
      "The lineapy extension is already loaded. To reload it, use:\n",
      "  %reload_ext lineapy\n"
     ]
    }
   ],
   "source": [
    "%load_ext lineapy\n",
    "import os\n",
    "import lineapy"
   ]
  },
  {
   "cell_type": "code",
   "execution_count": 28,
   "id": "91401518-703c-4bfe-bfc1-add0eca794b5",
   "metadata": {},
   "outputs": [],
   "source": [
    "class MyClass():\n",
    "    def __init__(self):\n",
    "        self.counter = 0\n",
    "        \n",
    "    def update_counter(self):\n",
    "        self.counter += 10\n",
    "    \n"
   ]
  },
  {
   "cell_type": "code",
   "execution_count": 29,
   "id": "21cf4d61-0a32-4798-a3ad-b13976edb305",
   "metadata": {},
   "outputs": [],
   "source": [
    "a = MyClass()\n",
    "a.update_counter()\n",
    "\n",
    "art_no_annot = lineapy.save(a, \"notannotated\")"
   ]
  },
  {
   "cell_type": "code",
   "execution_count": 30,
   "id": "0fe5981a-366e-42b8-8a97-c8aa603a2059",
   "metadata": {},
   "outputs": [
    {
     "name": "stdout",
     "output_type": "stream",
     "text": [
      "class MyClass:\n",
      "    def __init__(self):\n",
      "        self.counter = 0\n",
      "\n",
      "    def update_counter(self):\n",
      "        self.counter += 10\n",
      "\n",
      "\n",
      "a = MyClass()\n",
      "\n"
     ]
    }
   ],
   "source": [
    "print(art_no_annot.get_code())"
   ]
  },
  {
   "cell_type": "code",
   "execution_count": 31,
   "id": "a0673d80-d287-47fb-bc2e-45cb2d4c6629",
   "metadata": {},
   "outputs": [],
   "source": [
    "with open(\"custom_annotation.yaml\", \"w\") as f:\n",
    "    f.write(\"\"\"\n",
    "- module: builtins\n",
    "  annotations:\n",
    "    - criteria:\n",
    "        class_instance: MyClass\n",
    "        class_method_name: update_counter\n",
    "      side_effects:\n",
    "        - mutated_value:\n",
    "            self_ref: SELF_REF\n",
    "    \n",
    "    \"\"\")\n"
   ]
  },
  {
   "cell_type": "code",
   "execution_count": 32,
   "id": "9c8f1953-1e81-4bcc-bc34-994b424363b9",
   "metadata": {},
   "outputs": [
    {
     "data": {
      "text/plain": [
       "'/Users/aubhro/Workspaces/linea/lineapy/examples/tutorials'"
      ]
     },
     "execution_count": 32,
     "metadata": {},
     "output_type": "execute_result"
    }
   ],
   "source": [
    "os.getcwd()"
   ]
  },
  {
   "cell_type": "code",
   "execution_count": 33,
   "id": "62c5da93-a171-4b4c-9b9b-8cbf108c36c9",
   "metadata": {},
   "outputs": [
    {
     "name": "stdout",
     "output_type": "stream",
     "text": [
      "Module specification: {\n",
      "    \"module\": \"builtins\",\n",
      "    \"annotations\": [\n",
      "        {\n",
      "            \"criteria\": {\n",
      "                \"class_instance\": \"MyClass\",\n",
      "                \"class_method_name\": \"update_counter\"\n",
      "            },\n",
      "            \"side_effects\": [\n",
      "                {\n",
      "                    \"mutated_value\": {\n",
      "                        \"self_ref\": \"SELF_REF\"\n",
      "                    }\n",
      "                }\n",
      "            ]\n",
      "        }\n",
      "    ]\n",
      "}\n",
      "\n",
      "Creating annotation source custom at /Users/aubhro/.lineapy/custom-annotations/custom.annotations.yaml\n",
      "\u001b[0m"
     ]
    }
   ],
   "source": [
    "!lineapy annotate add --name \"custom\" \"./custom_annotation.yaml\""
   ]
  },
  {
   "cell_type": "code",
   "execution_count": 34,
   "id": "acb7efbe-bd55-403c-8a5d-b5e5690ed014",
   "metadata": {},
   "outputs": [
    {
     "name": "stdout",
     "output_type": "stream",
     "text": [
      "custom\t/Users/aubhro/.lineapy/custom-annotations/custom.annotations.yaml\n",
      "\u001b[0m"
     ]
    }
   ],
   "source": [
    "!lineapy annotate list"
   ]
  },
  {
   "cell_type": "code",
   "execution_count": 35,
   "id": "3c45849d-ce52-4590-879e-6c9f3675de3b",
   "metadata": {},
   "outputs": [],
   "source": [
    "b = MyClass()\n",
    "b.update_counter()\n",
    "\n",
    "art_annot = lineapy.save(b, \"annotated\")"
   ]
  },
  {
   "cell_type": "code",
   "execution_count": 36,
   "id": "d4d40cd5-a24f-4335-b375-bc2db1003038",
   "metadata": {},
   "outputs": [
    {
     "name": "stdout",
     "output_type": "stream",
     "text": [
      "class MyClass:\n",
      "    def __init__(self):\n",
      "        self.counter = 0\n",
      "\n",
      "    def update_counter(self):\n",
      "        self.counter += 10\n",
      "\n",
      "\n",
      "b = MyClass()\n",
      "\n"
     ]
    }
   ],
   "source": [
    "print(art_annot.get_code())"
   ]
  },
  {
   "cell_type": "code",
   "execution_count": 37,
   "id": "af881176-279b-4530-8a00-8d9ee2ad7697",
   "metadata": {},
   "outputs": [
    {
     "name": "stdout",
     "output_type": "stream",
     "text": [
      "\u001b[0m"
     ]
    }
   ],
   "source": [
    "!lineapy annotate delete --name \"custom.annotations.yaml\""
   ]
  },
  {
   "cell_type": "code",
   "execution_count": 38,
   "id": "6b42ab05-c358-46b1-a6a7-988d5a6e4db3",
   "metadata": {},
   "outputs": [
    {
     "name": "stdout",
     "output_type": "stream",
     "text": [
      "\u001b[0m"
     ]
    }
   ],
   "source": [
    "!lineapy annotate list"
   ]
  },
  {
   "cell_type": "code",
   "execution_count": 39,
   "id": "9b96b78a-db84-477c-acd4-88419732f051",
   "metadata": {},
   "outputs": [],
   "source": [
    "os.unlink(\"custom_annotation.yaml\")"
   ]
  },
  {
   "cell_type": "code",
   "execution_count": null,
   "id": "d10c9832-303a-49a1-8c2d-31fc9972c625",
   "metadata": {},
   "outputs": [],
   "source": []
  }
 ],
 "metadata": {
  "kernelspec": {
   "display_name": "Python 3 (ipykernel)",
   "language": "python",
   "name": "python3"
  },
  "language_info": {
   "codemirror_mode": {
    "name": "ipython",
    "version": 3
   },
   "file_extension": ".py",
   "mimetype": "text/x-python",
   "name": "python",
   "nbconvert_exporter": "python",
   "pygments_lexer": "ipython3",
   "version": "3.9.12"
  }
 },
 "nbformat": 4,
 "nbformat_minor": 5
}
